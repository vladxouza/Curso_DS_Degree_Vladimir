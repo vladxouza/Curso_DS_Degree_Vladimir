{
 "cells": [
  {
   "cell_type": "code",
   "execution_count": 2,
   "id": "c5f3db54",
   "metadata": {},
   "outputs": [],
   "source": [
    "import pandas as pd\n",
    "import numpy as np"
   ]
  },
  {
   "cell_type": "code",
   "execution_count": 9,
   "id": "4a36ef5c",
   "metadata": {},
   "outputs": [],
   "source": [
    "pd.options.display.float_format = '{:,.2f}'.format\n"
   ]
  },
  {
   "cell_type": "markdown",
   "id": "3a67cefc",
   "metadata": {},
   "source": [
    "### Problema 1\n",
    "Vamos praticar gerar matrizes e fazer operações com as linhas e colunas:\n",
    "\n",
    "(a) Crie uma matriz A com as dimensões (5, 4) e elementos aleatórios variando entre 0 e 50, com o 50 incluso;\n",
    "\n",
    "__Dica:__ Utilize as funções `np.random.randint` e `np.reshape`\n",
    "\n",
    "(b) Retorne a média do vetor\n",
    "\n",
    "(c) Retorne os menores valores de cada coluna;\n",
    "\n",
    "(d) Retorne os maiores valores de cada linha."
   ]
  },
  {
   "cell_type": "code",
   "execution_count": 40,
   "id": "c41394ee",
   "metadata": {},
   "outputs": [
    {
     "name": "stdout",
     "output_type": "stream",
     "text": [
      "23.1\n",
      "    0   1   2   3\n",
      "0  20  30  33  38\n",
      "1  13  46  50  35\n",
      "2   3   8   5  14\n",
      "3   3   5   2  18\n",
      "4  49  35  12  43\n",
      "0     3\n",
      "1     5\n",
      "2     2\n",
      "3    14\n",
      "dtype: int32\n",
      "0    38\n",
      "1    50\n",
      "2    14\n",
      "3    18\n",
      "4    49\n",
      "dtype: int32\n"
     ]
    }
   ],
   "source": [
    "# A\n",
    "A = np.random.randint(0, 51, 20)\n",
    "\n",
    "array = np.reshape(A,[5,4])\n",
    "\n",
    "df = pd.DataFrame(A.reshape(5,4))\n",
    "# B\n",
    "print (array.mean())\n",
    "\n",
    "# C\n",
    "print (df)\n",
    "print (df.min(axis = 0))\n",
    "\n",
    "# D\n",
    "print (df.max(axis = 1))\n"
   ]
  },
  {
   "cell_type": "markdown",
   "id": "a6911298",
   "metadata": {},
   "source": [
    "### Problema 2\n",
    "\n",
    "Crie um objeto DataFrame que contenha os dados da tabela abaixo, os quais se referem ao peso, altura e idade de cinco pessoas:\n",
    "\n",
    "\n",
    "| Peso (kg) | Altura (cm) | Idade (anos) |\n",
    "|-----------|-------------|--------------|\n",
    "|  47 | 161\t| 31 |\n",
    "|  80 | 170\t| 21 |\n",
    "|  60 | 175\t| 16 |\n",
    "|  90 | 162\t| 28 |\n",
    "| 100 | 185\t| 23 |\n",
    "| 147 | 189 | 32 |\n",
    "\n",
    "Com base no DataFrame criado, realize o que for pedido nos itens abaixo:\n",
    "\n",
    "(a) Visualize apenas os dados da coluna que contém a altura das pessoas;\n",
    "\n",
    "(b) Obtenha a idade média das pessoas;\n",
    "\n",
    "(c) Obtenha os dados das pessoas que estão abaixo da altura média;\n",
    "\n",
    "(d) Crie um nova coluna no DataFrame que contenha o IMC (Índice de Massa Corporal) de cada pessoa;\n",
    "\n",
    "__Obs.:__ A fórmula para o IMC é dada por IMC = Peso/(Altura)² com o peso em kg e a altura em metros.\n",
    "\n",
    "(e) Remova a coluna que contém a idade das pessoas;\n",
    "\n",
    "(f) Crie uma nova coluna chamada Classificação, que contenha a classificação de cada indivíduo, de acordo com o seu IMC. Para isso, consulte a tabela abaixo.\n",
    "\n",
    "| IMC             | Classificação |\n",
    "|-----------------|---------------|\n",
    "Menor que 18,5    | Subpeso |\n",
    "Entre 18,5 e 24,9 | Normal |\n",
    "Entre 25,0 e 29,9 | Sobrepeso |\n",
    "Entre 30,0 e 39,9 | Obesidade Grau I |\n",
    "Maior que 40,0    | Obesidade Grau II |\n",
    "\n",
    "(g) Salve esses dados do DataFrame em um arquivo csv."
   ]
  },
  {
   "cell_type": "code",
   "execution_count": 87,
   "id": "268ccbbe",
   "metadata": {},
   "outputs": [
    {
     "name": "stdout",
     "output_type": "stream",
     "text": [
      "   Peso_kg  Altura_cm  Idade_anos\n",
      "0       47        161          31\n",
      "1       80        170          21\n",
      "2       60        175          16\n",
      "3       90        162          28\n",
      "4      100        185          23\n",
      "5      147        189          32\n",
      "0    161\n",
      "1    170\n",
      "2    175\n",
      "3    162\n",
      "4    185\n",
      "5    189\n",
      "Name: Altura_cm, dtype: int64\n",
      "25.166666666666668\n",
      "   Peso_kg  Altura_cm  Idade_anos\n",
      "0       47        161          31\n",
      "1       80        170          21\n",
      "3       90        162          28\n"
     ]
    },
    {
     "data": {
      "text/html": [
       "<div>\n",
       "<style scoped>\n",
       "    .dataframe tbody tr th:only-of-type {\n",
       "        vertical-align: middle;\n",
       "    }\n",
       "\n",
       "    .dataframe tbody tr th {\n",
       "        vertical-align: top;\n",
       "    }\n",
       "\n",
       "    .dataframe thead th {\n",
       "        text-align: right;\n",
       "    }\n",
       "</style>\n",
       "<table border=\"1\" class=\"dataframe\">\n",
       "  <thead>\n",
       "    <tr style=\"text-align: right;\">\n",
       "      <th></th>\n",
       "      <th>Peso_kg</th>\n",
       "      <th>Altura_cm</th>\n",
       "      <th>IMC</th>\n",
       "    </tr>\n",
       "  </thead>\n",
       "  <tbody>\n",
       "    <tr>\n",
       "      <th>0</th>\n",
       "      <td>47</td>\n",
       "      <td>161</td>\n",
       "      <td>18.13</td>\n",
       "    </tr>\n",
       "    <tr>\n",
       "      <th>2</th>\n",
       "      <td>60</td>\n",
       "      <td>175</td>\n",
       "      <td>19.59</td>\n",
       "    </tr>\n",
       "    <tr>\n",
       "      <th>1</th>\n",
       "      <td>80</td>\n",
       "      <td>170</td>\n",
       "      <td>27.68</td>\n",
       "    </tr>\n",
       "    <tr>\n",
       "      <th>4</th>\n",
       "      <td>100</td>\n",
       "      <td>185</td>\n",
       "      <td>29.22</td>\n",
       "    </tr>\n",
       "    <tr>\n",
       "      <th>3</th>\n",
       "      <td>90</td>\n",
       "      <td>162</td>\n",
       "      <td>34.29</td>\n",
       "    </tr>\n",
       "    <tr>\n",
       "      <th>5</th>\n",
       "      <td>147</td>\n",
       "      <td>189</td>\n",
       "      <td>41.15</td>\n",
       "    </tr>\n",
       "  </tbody>\n",
       "</table>\n",
       "</div>"
      ],
      "text/plain": [
       "   Peso_kg  Altura_cm   IMC\n",
       "0       47        161 18.13\n",
       "2       60        175 19.59\n",
       "1       80        170 27.68\n",
       "4      100        185 29.22\n",
       "3       90        162 34.29\n",
       "5      147        189 41.15"
      ]
     },
     "execution_count": 87,
     "metadata": {},
     "output_type": "execute_result"
    }
   ],
   "source": [
    "dicio = {'Peso_kg':[47,80,60,90,100,147],'Altura_cm':[161,170,175,162,185,189],'Idade_anos':[31,21,16,28,23,32]}\n",
    "df = pd.DataFrame(dicio)\n",
    "print(df)\n",
    "# A\n",
    "print (df.Altura_cm)\n",
    "\n",
    "# B\n",
    "print (df.Idade_anos.mean())\n",
    "\n",
    "# C\n",
    "print (df[df[\"Altura_cm\"] < df.Altura_cm.mean()])\n",
    "\n",
    "# D\n",
    "df['IMC'] = df.Peso_kg/((df.Altura_cm/100)**2)\n",
    "df\n",
    "\n",
    "# E\n",
    "df.drop('Idade_anos', axis = 1, inplace = True)\n",
    "\n",
    "\n",
    "# F\n",
    "IMC =  {'IMC_min':[0,18.5,25,30,40],\n",
    "        'IMC_max':[18.4,24.9,29.9,39.9,200],\n",
    "        'Classificacao':['Subpeso','Normal','Sobrepeso','Obesidade_Grau_I','Obesidade_Grau_II']}\n",
    "IMC = pd.DataFrame(IMC)\n",
    "df.sort_values(['IMC'],axis = 0, ascending = True, inplace = True)\n",
    "# df.merge(IMC, how = 'left', left_on = 'IMC', right_on = '')\n",
    "df"
   ]
  },
  {
   "cell_type": "markdown",
   "id": "0e9041a8",
   "metadata": {},
   "source": [
    "### Problema 3\n",
    "\n",
    "O arquivo avocado.xlsx consiste em um dataset que contém dados sobre vendas de abacates  em diversas regiões dos Estados Unidos. Essa dataset contém as seguintes colunas:\n",
    "\n",
    "| Coluna | Descrição |\n",
    "|--------|-----------|\n",
    "| Date | data da observação |\n",
    "| AveragePrice | preço médio de um único abacate |\n",
    "| year | ano |\n",
    "| region | cidade ou região da observação |\n",
    "| Total Volume | volume total de abacates vendidos |\n",
    "\n",
    "Além das informações acima, contidas no arquivo avocado.xlsx, o tipo do abacate (convencional ou orgânico) também seria uma informação importante para a sua análise. Suponhamos que você conseguiu essas informações para cada uma das observações do arquivo avocado.csv, na mesma ordem, e salvou-as no arquivo avocado_type.xlsx. Portanto, tudo o que você precisa é juntar esses dois arquivos em um mesmo DataFrame.\n",
    "\n",
    "Com o DataFrame criado, obtenha o que é solicitado nos itens elencados abaixo:\n",
    "\n",
    "\n"
   ]
  },
  {
   "cell_type": "code",
   "execution_count": null,
   "id": "d75d121e",
   "metadata": {},
   "outputs": [],
   "source": [
    "avocado = pd."
   ]
  },
  {
   "cell_type": "markdown",
   "id": "10d16294",
   "metadata": {},
   "source": [
    "(a) A quantidade de abacates do tipo convecional e do tipo orgânico."
   ]
  },
  {
   "cell_type": "code",
   "execution_count": null,
   "id": "14ca2feb",
   "metadata": {},
   "outputs": [],
   "source": []
  },
  {
   "cell_type": "markdown",
   "id": "58b8d5f2",
   "metadata": {},
   "source": [
    "\n",
    "(b) A quantidade de registros (linhas) de abacates vendidos para cada região ordenada da maior venda para a menor."
   ]
  },
  {
   "cell_type": "code",
   "execution_count": null,
   "id": "704b1308",
   "metadata": {},
   "outputs": [],
   "source": []
  },
  {
   "cell_type": "markdown",
   "id": "e676c9e4",
   "metadata": {},
   "source": [
    "(c) Para que todos os labels das colunas fiquem padronizados, renomeie aqueles que estão iniciando em letra minúscula para que iniciem em letra maiúscula, trocando espaço por _ e adicionando _ como separação de texto."
   ]
  },
  {
   "cell_type": "code",
   "execution_count": null,
   "id": "e6eb7fd4",
   "metadata": {},
   "outputs": [],
   "source": []
  },
  {
   "cell_type": "markdown",
   "id": "45fb0e66",
   "metadata": {},
   "source": [
    "(d) Essa dado possui duplicados? Se sim, remova-os do dataset."
   ]
  },
  {
   "cell_type": "code",
   "execution_count": null,
   "id": "f6ddc02a",
   "metadata": {},
   "outputs": [],
   "source": []
  },
  {
   "cell_type": "markdown",
   "id": "0f484a3c",
   "metadata": {},
   "source": [
    "(e) Retire dos dados a região 'TotalUS'"
   ]
  },
  {
   "cell_type": "code",
   "execution_count": 98,
   "id": "9e35b8e4",
   "metadata": {},
   "outputs": [],
   "source": []
  },
  {
   "cell_type": "markdown",
   "id": "91367a13",
   "metadata": {},
   "source": [
    "(g) Apresente as regiões que mais venderam abacate em todo o período em ordem decrescente."
   ]
  },
  {
   "cell_type": "code",
   "execution_count": null,
   "id": "8b0d4fb7",
   "metadata": {},
   "outputs": [],
   "source": []
  },
  {
   "cell_type": "markdown",
   "id": "6cc5df35",
   "metadata": {},
   "source": [
    "(h) Calcule o volume total de abacates vendidos para cada tipo e ano."
   ]
  },
  {
   "cell_type": "code",
   "execution_count": null,
   "id": "bc3b2aa8",
   "metadata": {},
   "outputs": [],
   "source": []
  },
  {
   "cell_type": "markdown",
   "id": "7c3d71b9",
   "metadata": {},
   "source": [
    "(f) existe alguma região que foi a maior responsável pela queda na produção de 2018?"
   ]
  },
  {
   "cell_type": "code",
   "execution_count": 113,
   "id": "49fdfb7d",
   "metadata": {},
   "outputs": [],
   "source": []
  },
  {
   "cell_type": "markdown",
   "id": "af47a0e8",
   "metadata": {},
   "source": [
    "(g) Qual cidade menos faturou com a venda de abacates?"
   ]
  },
  {
   "cell_type": "code",
   "execution_count": null,
   "id": "3761784a",
   "metadata": {},
   "outputs": [],
   "source": []
  },
  {
   "cell_type": "markdown",
   "id": "70de73df",
   "metadata": {},
   "source": [
    "### Problema 4\n",
    "\n",
    "Com base no dataset 'Video_Games_Sales.csv' responda:\n"
   ]
  },
  {
   "cell_type": "markdown",
   "id": "121c2716",
   "metadata": {},
   "source": [
    "\n",
    "(a) Quantos jogos existem em cada genero?\n"
   ]
  },
  {
   "cell_type": "code",
   "execution_count": null,
   "id": "403ee92a",
   "metadata": {},
   "outputs": [],
   "source": []
  },
  {
   "cell_type": "markdown",
   "id": "5f45c63c",
   "metadata": {},
   "source": [
    "(b) Temos duplicados nesses dados? E nulos?"
   ]
  },
  {
   "cell_type": "code",
   "execution_count": null,
   "id": "c19437c3",
   "metadata": {},
   "outputs": [],
   "source": []
  },
  {
   "cell_type": "markdown",
   "id": "d2be358c",
   "metadata": {},
   "source": [
    "(b) Quantos jogos de cada publisher receberam nota acima de 9 na avaliação dos usuarios?"
   ]
  },
  {
   "cell_type": "code",
   "execution_count": null,
   "id": "7df66316",
   "metadata": {},
   "outputs": [],
   "source": []
  },
  {
   "cell_type": "markdown",
   "id": "9da4e683",
   "metadata": {},
   "source": [
    "\n",
    "(c) Faça uma tabela que mostre o total vendido por ano por pais/globalmente de cada publisher? Você consegue observar algum padrão? Com se comportaram as vendas na América do Norte (NA) ao longo do tempo? O mesmo foi visto nos demais lugares? \n"
   ]
  },
  {
   "cell_type": "code",
   "execution_count": null,
   "id": "984598b0",
   "metadata": {},
   "outputs": [],
   "source": []
  },
  {
   "cell_type": "markdown",
   "id": "587015f7",
   "metadata": {},
   "source": [
    "\n",
    "(d) Qual foi jogo mais vendido na união européia? De que ano ele é e qual a editora?\n"
   ]
  },
  {
   "cell_type": "code",
   "execution_count": null,
   "id": "27d641fc",
   "metadata": {},
   "outputs": [],
   "source": []
  },
  {
   "cell_type": "markdown",
   "id": "215d1c33",
   "metadata": {},
   "source": [
    "\n",
    "(e) Quantos % os generos ['Racing', 'Sports', 'Shooter'] representam na base de dados? "
   ]
  },
  {
   "cell_type": "code",
   "execution_count": null,
   "id": "7156e461",
   "metadata": {},
   "outputs": [],
   "source": []
  },
  {
   "cell_type": "markdown",
   "id": "84126433",
   "metadata": {},
   "source": [
    "(f) Qual plataforma vendeu menos globalmente? obs: imprimir somente o nome"
   ]
  },
  {
   "cell_type": "code",
   "execution_count": null,
   "id": "3e1348d4",
   "metadata": {},
   "outputs": [],
   "source": []
  },
  {
   "cell_type": "markdown",
   "id": "6e8438cf",
   "metadata": {},
   "source": [
    "### Problema 5\n",
    "A pasta 'data/datasus' contém informações sobre casos de dengue e tabelas auxiliares. <br>\n",
    "\n",
    "| Tabela | Conteúdo |\n",
    "|--------|----------|\n",
    "| Dengue | Quantidade de casos por município |\n",
    "| Agua | Quantidade de residências em cada município por tipo o abastecimento de água |\n",
    "| InstalacoesSanitarias | Quantidade de residências em cada município por tipo de rede de esgoto |\n",
    "| Pib | PIB per capita de cada município |\n",
    "| Municipios | Relaciona o id_municipio com seu nome e estado |\n",
    "| Populacao | Quantidade de pessoas morando em áreas urbanas, rurais e população total por município |\n",
    "| Sexo | Quantidade de pessoas por sexo em cada município |\n",
    "\n",
    "(a) Calcular o número de casos de dengue por cada estado apresentando os dados em ordem decrescente.\n"
   ]
  },
  {
   "cell_type": "code",
   "execution_count": null,
   "id": "6731c8b8",
   "metadata": {},
   "outputs": [],
   "source": []
  },
  {
   "cell_type": "markdown",
   "id": "3c7cbb4e",
   "metadata": {},
   "source": [
    "(b) Utilizando o dataset InstalacoesSanitarias.csv, determine o número de pessoas que não possuem meio sanitário algum de descarte de dejetos por estado."
   ]
  },
  {
   "cell_type": "code",
   "execution_count": null,
   "id": "eca9c2cb",
   "metadata": {},
   "outputs": [],
   "source": []
  },
  {
   "cell_type": "markdown",
   "id": "be4886d4",
   "metadata": {},
   "source": [
    "(c) Crie uma coluna com a posição de ranking considerando o PIB. Os maiores PIB devem ter os menores valores de ranking."
   ]
  },
  {
   "cell_type": "code",
   "execution_count": null,
   "id": "16508a40",
   "metadata": {},
   "outputs": [],
   "source": []
  },
  {
   "cell_type": "markdown",
   "id": "9e1f355a",
   "metadata": {},
   "source": [
    "(d) Qual o PIB dos 5 municípios com mais casos de dengue e sua posição no ranking?"
   ]
  },
  {
   "cell_type": "code",
   "execution_count": null,
   "id": "61c84f99",
   "metadata": {},
   "outputs": [],
   "source": []
  }
 ],
 "metadata": {
  "kernelspec": {
   "display_name": "Python 3",
   "language": "python",
   "name": "python3"
  },
  "language_info": {
   "codemirror_mode": {
    "name": "ipython",
    "version": 3
   },
   "file_extension": ".py",
   "mimetype": "text/x-python",
   "name": "python",
   "nbconvert_exporter": "python",
   "pygments_lexer": "ipython3",
   "version": "3.8.8"
  }
 },
 "nbformat": 4,
 "nbformat_minor": 5
}
