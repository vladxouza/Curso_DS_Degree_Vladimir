{
 "cells": [
  {
   "cell_type": "markdown",
   "id": "f2d1f435-fb2b-4e75-a0e1-70a685d4bc6d",
   "metadata": {},
   "source": [
    "### PD AULA 2\n",
    "* exercicios questão d)\n",
    "\n",
    "    'Series' objects are mutable, thus they cannot be hashed\n",
    "        total_sold = {}\n",
    "        for row in range(0,9):\n",
    "            if df_sales.loc[row, ['product']] not in total_sold.keys():\n",
    "                total_sold[df_sales.loc[row, ['product']]] = df_sales.loc[row, ['qty']]\n",
    "            else:\n",
    "                df_sales.loc[row, ['product']] += df_sales.loc[row, ['qty']]\n",
    "\n",
    "        pq isso não funciona e dá esse erro. Os products n são str pq?"
   ]
  },
  {
   "cell_type": "markdown",
   "id": "9ef30731-3569-4cdd-aa06-cc9553730665",
   "metadata": {},
   "source": [
    "----------------"
   ]
  },
  {
   "cell_type": "markdown",
   "id": "3961ef92-5cd0-4ba7-8878-8058457907ec",
   "metadata": {},
   "source": [
    "### PD AULA 3\n",
    "- 1) pesquisar graus de liberdade"
   ]
  },
  {
   "cell_type": "markdown",
   "id": "f3239b37-3f92-4415-870b-4f1a507f4e57",
   "metadata": {},
   "source": [
    "- 2) exercicio 2. a)\n",
    "\n",
    "    df_german = pd.read_csv(\"data/german_credit.csv\") \n",
    "    df_german.drop(columns = 'Unnamed: 0', inplace = True) \n",
    "\n",
    "    df_german['Saving accounts'].fillna(df_german['Saving accounts'].mode() `[0]`, inplace = True) \n",
    "    \n",
    "    df_german['Checking account'].fillna(df_german['Checking account'].mode() `[0]` ,inplace = True) \n",
    "\n",
    "#### o que é esse [0]?"
   ]
  },
  {
   "cell_type": "code",
   "execution_count": 2,
   "id": "29438c1e-258e-4fa8-9efb-94b63066f37f",
   "metadata": {},
   "outputs": [],
   "source": [
    "import numpy as np\n"
   ]
  },
  {
   "cell_type": "markdown",
   "id": "fd470103-69b6-4452-b5b5-c6b19bbafaa0",
   "metadata": {},
   "source": [
    "como faço pra pegar um maximo de um sum num dataframe, por ex\n",
    "\n",
    "join3.groupby(['product_x'])[['qty']].sum().max()\n",
    "\n",
    "tem que somar e dps max mas como?"
   ]
  },
  {
   "cell_type": "code",
   "execution_count": 3,
   "id": "58eb16c9-31c1-4f80-a354-0fc146eff281",
   "metadata": {},
   "outputs": [
    {
     "data": {
      "text/plain": [
       "numpy.str_"
      ]
     },
     "execution_count": 3,
     "metadata": {},
     "output_type": "execute_result"
    }
   ],
   "source": [
    "arr = np.array(['a', 'b', np.nan])\n",
    "type(arr[2])"
   ]
  },
  {
   "cell_type": "code",
   "execution_count": null,
   "id": "0e7f3f5d-9664-4ebb-abe4-ee8fe5cebdb0",
   "metadata": {},
   "outputs": [],
   "source": []
  }
 ],
 "metadata": {
  "kernelspec": {
   "display_name": "Python 3",
   "language": "python",
   "name": "python3"
  },
  "language_info": {
   "codemirror_mode": {
    "name": "ipython",
    "version": 3
   },
   "file_extension": ".py",
   "mimetype": "text/x-python",
   "name": "python",
   "nbconvert_exporter": "python",
   "pygments_lexer": "ipython3",
   "version": "3.8.8"
  }
 },
 "nbformat": 4,
 "nbformat_minor": 5
}
