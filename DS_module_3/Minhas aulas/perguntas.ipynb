{
 "cells": [
  {
   "cell_type": "markdown",
   "id": "a45f684b-6955-4c2c-9988-9ef6243e9acc",
   "metadata": {},
   "source": [
    "questão reverse linked list:\n",
    "    como salvar "
   ]
  },
  {
   "cell_type": "code",
   "execution_count": 50,
   "id": "e3fda8f6-656a-49b2-84c0-1b5f1d491d6d",
   "metadata": {},
   "outputs": [
    {
     "data": {
      "text/plain": [
       "'12:12:12'"
      ]
     },
     "execution_count": 50,
     "metadata": {},
     "output_type": "execute_result"
    }
   ],
   "source": [
    "s = '12:12:12AM'\n",
    "s[0:8]\n"
   ]
  },
  {
   "cell_type": "code",
   "execution_count": 4,
   "id": "06468b3e-e7e3-4251-bf32-e0f01b4ef628",
   "metadata": {},
   "outputs": [
    {
     "data": {
      "text/plain": [
       "'12:12:12'"
      ]
     },
     "execution_count": 4,
     "metadata": {},
     "output_type": "execute_result"
    }
   ],
   "source": [
    "s2 = s.replace('AM', '')\n",
    "s2"
   ]
  },
  {
   "cell_type": "code",
   "execution_count": 5,
   "id": "49c0c74b-9951-41bd-8fa8-fac8e20a8fa9",
   "metadata": {},
   "outputs": [
    {
     "data": {
      "text/plain": [
       "['12', '12', '12']"
      ]
     },
     "execution_count": 5,
     "metadata": {},
     "output_type": "execute_result"
    }
   ],
   "source": [
    "s3 = s2.split(':')\n",
    "s3"
   ]
  },
  {
   "cell_type": "code",
   "execution_count": 7,
   "id": "8cc90543-e5e8-4b2c-9102-2676ed8437df",
   "metadata": {},
   "outputs": [
    {
     "data": {
      "text/plain": [
       "'12:12:12'"
      ]
     },
     "execution_count": 7,
     "metadata": {},
     "output_type": "execute_result"
    }
   ],
   "source": [
    "s4 = ':'.join(s3)\n",
    "s4"
   ]
  },
  {
   "cell_type": "code",
   "execution_count": null,
   "id": "6e047dc1-ccfd-45af-9a9c-64eb00f8f6a6",
   "metadata": {},
   "outputs": [],
   "source": [
    "if s == '12:00:00AM':\n",
    "        return '00:00:00'\n",
    "    elif s[8] == 'A':\n",
    "        new_s = s.replace('AM', '')\n",
    "        return new_s\n",
    "    else:\n",
    "        new_s = s.replace('PM', '')\n",
    "        list_time = new_s.split(':')\n",
    "        list_time[0] = str(int(list_time[0]) + 12)\n",
    "        return ':'.join(list_time)\n",
    "    "
   ]
  },
  {
   "cell_type": "code",
   "execution_count": 34,
   "id": "b8b0a263-5184-4244-9d09-2d3aa1516e85",
   "metadata": {},
   "outputs": [],
   "source": [
    "def staircase(n):\n",
    "    for i in range (1, n + 1):\n",
    "        l = ' '* (n - i) + '#' * i\n",
    "        print(l)\n",
    "        "
   ]
  },
  {
   "cell_type": "code",
   "execution_count": 37,
   "id": "9087a668-18d9-4814-bf8d-19e6e5fa401b",
   "metadata": {},
   "outputs": [
    {
     "name": "stdout",
     "output_type": "stream",
     "text": [
      "                        #\n",
      "                       ##\n",
      "                      ###\n",
      "                     ####\n",
      "                    #####\n",
      "                   ######\n",
      "                  #######\n",
      "                 ########\n",
      "                #########\n",
      "               ##########\n",
      "              ###########\n",
      "             ############\n",
      "            #############\n",
      "           ##############\n",
      "          ###############\n",
      "         ################\n",
      "        #################\n",
      "       ##################\n",
      "      ###################\n",
      "     ####################\n",
      "    #####################\n",
      "   ######################\n",
      "  #######################\n",
      " ########################\n",
      "#########################\n"
     ]
    }
   ],
   "source": [
    "staircase(25)\n"
   ]
  },
  {
   "cell_type": "code",
   "execution_count": 3,
   "id": "68fd4697-89dd-42ce-b445-5cb842a6b5b5",
   "metadata": {},
   "outputs": [
    {
     "data": {
      "text/plain": [
       "True"
      ]
     },
     "execution_count": 3,
     "metadata": {},
     "output_type": "execute_result"
    }
   ],
   "source": [
    "node1 = None\n",
    "\n",
    "node1 is None\n"
   ]
  },
  {
   "cell_type": "code",
   "execution_count": 2,
   "id": "ddd30433-53e7-4049-90fe-766b3b9d342e",
   "metadata": {},
   "outputs": [
    {
     "data": {
      "text/plain": [
       "False"
      ]
     },
     "execution_count": 2,
     "metadata": {},
     "output_type": "execute_result"
    }
   ],
   "source": [
    "3 == None"
   ]
  },
  {
   "cell_type": "code",
   "execution_count": 10,
   "id": "0155bfab-0126-4548-b289-b9343a1e65f1",
   "metadata": {},
   "outputs": [
    {
     "data": {
      "text/plain": [
       "True"
      ]
     },
     "execution_count": 10,
     "metadata": {},
     "output_type": "execute_result"
    }
   ],
   "source": [
    "isinstance(3, int)"
   ]
  },
  {
   "cell_type": "code",
   "execution_count": 12,
   "id": "88bd098d-f241-4112-830e-8a3b5da1c9d4",
   "metadata": {},
   "outputs": [
    {
     "name": "stdout",
     "output_type": "stream",
     "text": [
      "0\n"
     ]
    }
   ],
   "source": [
    "for i in range(1):\n",
    "    print (i)"
   ]
  },
  {
   "cell_type": "code",
   "execution_count": null,
   "id": "290af4e6-f1d3-4285-9c1c-41183dd45500",
   "metadata": {},
   "outputs": [],
   "source": [
    "def mergeLists(head1, head2):\n",
    "    new_list = SinglyLinkedList()\n",
    "    node1 = head1\n",
    "    node2 = head2\n",
    "    count1 = 0\n",
    "    count2 = 0\n",
    "    while node1 != None:\n",
    "        count1 += 1\n",
    "        node1 = node1.next\n",
    "    while node2 != None:\n",
    "        count2 += 1\n",
    "        node2 = node2.next\n",
    "\n",
    "    total_itens = count1 + count2\n",
    "    \n",
    "    node1 = head1\n",
    "    node2 = head2\n",
    "    \n",
    "    for itens in range(total_itens):\n",
    "        if itens == 0:\n",
    "            if node1 <= node2:\n",
    "                new_node = SinglyLinkedListNode() \n",
    "    "
   ]
  }
 ],
 "metadata": {
  "kernelspec": {
   "display_name": "Python 3",
   "language": "python",
   "name": "python3"
  },
  "language_info": {
   "codemirror_mode": {
    "name": "ipython",
    "version": 3
   },
   "file_extension": ".py",
   "mimetype": "text/x-python",
   "name": "python",
   "nbconvert_exporter": "python",
   "pygments_lexer": "ipython3",
   "version": "3.8.8"
  }
 },
 "nbformat": 4,
 "nbformat_minor": 5
}
