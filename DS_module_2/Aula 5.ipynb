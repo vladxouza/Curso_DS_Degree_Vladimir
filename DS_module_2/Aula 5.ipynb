{
 "cells": [
  {
   "cell_type": "markdown",
   "id": "25cb6de5-21c7-4625-b45d-6bc5cb90bb2b",
   "metadata": {},
   "source": [
    "## ENCAPSULAMENTO"
   ]
  },
  {
   "cell_type": "code",
   "execution_count": 10,
   "id": "77afca3b-8ca1-404f-89a2-90e9f1f28084",
   "metadata": {},
   "outputs": [],
   "source": [
    "class Pessoa:\n",
    "    def __init__(self, nome, idade, email, senha):\n",
    "        # argumentos\n",
    "        self.nome = nome\n",
    "        \n",
    "        # atributos privados recomendados\n",
    "        #usuario consegue acessar facilmente\n",
    "        #mas é recomendados que não faça\n",
    "        self._idade = idade\n",
    "        \n",
    "        # atributos totalmente privados\n",
    "        self.__senha = senha\n",
    "        self.__lista_amigos = []\n",
    "\n",
    "        self.email = email\n",
    "\n",
    "    def verifica_qte_max_amigos(self):\n",
    "        qte_maxima=2\n",
    "        return len(self.__lista_amigos)<qte_maxima\n",
    "\n",
    "    def adiciona_amigo(self, amigo):\n",
    "        if(amigo not in self.__lista_amigos and self.verifica_qte_max_amigos()):\n",
    "            self.__lista_amigos.append(amigo)\n",
    "            return True\n",
    "        return False\n",
    "\n",
    "    def printa_nome_amigos(self):\n",
    "        for amigo in self.__lista_amigos:\n",
    "            print(amigo.nome)"
   ]
  },
  {
   "cell_type": "code",
   "execution_count": 11,
   "id": "29ac6056-0b35-47ed-8375-b2f5d4b3c664",
   "metadata": {},
   "outputs": [],
   "source": [
    "livia = Pessoa(\n",
    "    nome = 'Livia',\n",
    "    idade = 24,\n",
    "    email = 'livia@gmail.com',\n",
    "    senha = '123456789'\n",
    ")\n",
    "\n",
    "luis = Pessoa(\n",
    "    nome = 'Luis',\n",
    "    idade = 25,\n",
    "    email = 'luis@gmail.com',\n",
    "    senha = '123456789'\n",
    ")\n",
    "\n",
    "luffy = Pessoa(\n",
    "    nome = 'Luffy',\n",
    "    idade = 19,\n",
    "    email = 'luffy@gmail.com',\n",
    "    senha = 'queroseroreidospiratas'\n",
    ")"
   ]
  },
  {
   "cell_type": "code",
   "execution_count": 12,
   "id": "e2224d32-ef5a-442e-8d4f-3ba9b44f247e",
   "metadata": {},
   "outputs": [
    {
     "data": {
      "text/plain": [
       "True"
      ]
     },
     "execution_count": 12,
     "metadata": {},
     "output_type": "execute_result"
    }
   ],
   "source": [
    "luis.adiciona_amigo(livia)\n",
    "luis.adiciona_amigo(luffy)"
   ]
  },
  {
   "cell_type": "code",
   "execution_count": 14,
   "id": "db9c1577-ac68-477b-9c67-e26fdebb3331",
   "metadata": {},
   "outputs": [
    {
     "ename": "AttributeError",
     "evalue": "'Pessoa' object has no attribute '__senha'",
     "output_type": "error",
     "traceback": [
      "\u001b[1;31m---------------------------------------------------------------------------\u001b[0m",
      "\u001b[1;31mAttributeError\u001b[0m                            Traceback (most recent call last)",
      "\u001b[1;32m<ipython-input-14-d3a28e1ce91c>\u001b[0m in \u001b[0;36m<module>\u001b[1;34m\u001b[0m\n\u001b[1;32m----> 1\u001b[1;33m \u001b[0mluis\u001b[0m\u001b[1;33m.\u001b[0m\u001b[0m__senha\u001b[0m\u001b[1;33m\u001b[0m\u001b[1;33m\u001b[0m\u001b[0m\n\u001b[0m",
      "\u001b[1;31mAttributeError\u001b[0m: 'Pessoa' object has no attribute '__senha'"
     ]
    }
   ],
   "source": [
    "luis.__senha"
   ]
  },
  {
   "cell_type": "code",
   "execution_count": 15,
   "id": "95fa9c54-450f-4c8f-bae8-f083a1ac4ce2",
   "metadata": {},
   "outputs": [
    {
     "data": {
      "text/plain": [
       "'123456789'"
      ]
     },
     "execution_count": 15,
     "metadata": {},
     "output_type": "execute_result"
    }
   ],
   "source": [
    "luis._Pessoa__senha"
   ]
  },
  {
   "cell_type": "code",
   "execution_count": null,
   "id": "40483f9e-c75b-4f9c-a862-c8fccb462f5d",
   "metadata": {},
   "outputs": [],
   "source": []
  }
 ],
 "metadata": {
  "kernelspec": {
   "display_name": "Python 3",
   "language": "python",
   "name": "python3"
  },
  "language_info": {
   "codemirror_mode": {
    "name": "ipython",
    "version": 3
   },
   "file_extension": ".py",
   "mimetype": "text/x-python",
   "name": "python",
   "nbconvert_exporter": "python",
   "pygments_lexer": "ipython3",
   "version": "3.8.8"
  }
 },
 "nbformat": 4,
 "nbformat_minor": 5
}
