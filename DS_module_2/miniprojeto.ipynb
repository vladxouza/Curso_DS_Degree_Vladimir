{
 "cells": [
  {
   "cell_type": "markdown",
   "id": "02a4c6e1-1810-4cac-b90b-e5e2b4ef3670",
   "metadata": {},
   "source": [
    "# MINI PROJETO"
   ]
  },
  {
   "cell_type": "code",
   "execution_count": 141,
   "id": "85f2aed7-0643-4246-a210-2a97288c8251",
   "metadata": {},
   "outputs": [],
   "source": [
    "# perguntar ao prof se mudasse o 'self' do construtos para outro nome\n",
    "# teria que mudar o self das func pro mesmo nome?\n",
    "\n",
    "class User:\n",
    "    def __init__(self, nome, apelido, data_nascimento, email):\n",
    "        '''\n",
    "        Cria o usuário\n",
    "        \n",
    "        Parâmetros\n",
    "        ----------\n",
    "        nome : str\n",
    "            Nome da pessoa\n",
    "        apelido : str\n",
    "            Apelido utilizado no sistema\n",
    "        data_nascimento: str\n",
    "            Data de nascimento da pessoa\n",
    "        email: str\n",
    "            Email da pessoa\n",
    "                \n",
    "        '''\n",
    "        #cria atributos\n",
    "        self.nome = nome\n",
    "        self.apelido = apelido\n",
    "        self.data_nascimento = data_nascimento\n",
    "        self.email = email\n",
    "        \n",
    "        #não passados na criação\n",
    "        \n",
    "        self.amigos = []\n",
    "        self.interesses = []\n",
    "        self.posts = []\n",
    "        \n",
    "        #cálculo de idade\n",
    "        \n",
    "        ano_nascimento = data_nascimento.split('/')[2]\n",
    "        self.idade = 2021 - int(ano_nascimento)\n",
    "        \n",
    "    def amizade(self, pessoa):\n",
    "        '''\n",
    "        adiciona uma pessoa na lista de amigos da outra\n",
    "        e vice-versa\n",
    "            \n",
    "        nome : User\n",
    "            nome de outro user a ser add como amigo\n",
    "        '''\n",
    "        if pessoa not in self.amigos:\n",
    "            self.amigos.append(pessoa)\n",
    "            print (f'{pessoa} adicionado a lista de amigos de {self}')\n",
    "        if self not in pessoa.amigos:\n",
    "            pessoa.amigos.append(self)\n",
    "            print (f'{self} adicionado a lista de amigos de {pessoa}')\n",
    "            \n",
    "    def add_interesse(self, interesse):\n",
    "        '''\n",
    "        adiciona um interesse a lista de interesses\n",
    "        \n",
    "        interesse : str\n",
    "            interesse a ser adicionado na lista\n",
    "        '''\n",
    "        \n",
    "        if interesse not in self.interesses:\n",
    "            self.interesses.append(interesse)\n",
    "            print (f'Interesse adicionado a lista de {self}')\n",
    "            \n",
    "    def postar(self, texto):\n",
    "        '''\n",
    "        posta um texto (print na tela) e o salva na lista de posts\n",
    "        \n",
    "        texto: str\n",
    "            texto do post     \n",
    "        \n",
    "        '''\n",
    "        \n",
    "        print(texto)\n",
    "        \n",
    "        self.posts.append(texto)\n",
    "    \n",
    "    def qtdd_amigos(self):\n",
    "        '''\n",
    "        informa total de amigos de self\n",
    "        '''\n",
    "        amigos_total = len(self.amigos)\n",
    "        print(amigos_total)\n",
    "        \n",
    "    def qtdd_posts(self):\n",
    "        '''\n",
    "        informa total de posts de self\n",
    "        '''\n",
    "        posts_total = len(self.posts)\n",
    "        print(posts_total)\n",
    "        \n",
    "    def procura_amigo (self, amigo):\n",
    "        '''\n",
    "        verifica se amigo consta na lista de self\n",
    "\n",
    "        amigo: User\n",
    "            nome de outro User a ser buscado\n",
    "        '''\n",
    "        if amigo in self.amigos:\n",
    "            print (f'{amigo} consta na lista de amigos de {self}')\n",
    "        else:\n",
    "            print (f'{amigo} não consta na lista de amigos de {self}')\n",
    "            \n",
    "    def procura_post(self, frase):\n",
    "        '''\n",
    "        procusa frase informada nos posts de self e printa quais achar\n",
    "        \n",
    "        frase : str\n",
    "            frase procurada\n",
    "        \n",
    "        \n",
    "        '''\n",
    "#         como fazer esse list comprehension?\n",
    "#         print(i) for i in self.posts if frase in i\n",
    "        \n",
    "        for i in self.posts:\n",
    "            if frase in i:\n",
    "                print (i)\n",
    "    \n",
    "    def posts_amigos(self):\n",
    "        '''\n",
    "        printa na tela todos os posts de todos os amigos\n",
    "        \n",
    "        '''\n",
    "        \n",
    "        for amigo in self.amigos:\n",
    "            for posts in amigo.posts:\n",
    "                print(f'{amigo}:{posts}')"
   ]
  },
  {
   "cell_type": "code",
   "execution_count": 142,
   "id": "fe1847d7-88d9-4e22-8d9d-dccb117f995d",
   "metadata": {},
   "outputs": [],
   "source": [
    "vladimir = User('Vladimir','xouza','29/07/1996','vladifilho@hotmail.com')"
   ]
  },
  {
   "cell_type": "code",
   "execution_count": 143,
   "id": "e84376ca-59ff-4920-ae5e-147fb9d13bba",
   "metadata": {},
   "outputs": [],
   "source": [
    "caroline = User('Caroline', 'carol', '20/02/1995', 'caroline_cchaves@hotmail.com')"
   ]
  },
  {
   "cell_type": "code",
   "execution_count": 144,
   "id": "57cab3cc-e4d0-4b0b-abf9-35ed23226eb7",
   "metadata": {},
   "outputs": [],
   "source": [
    "cleber = User('Cleber', 'cleber','30/02/1997', 'cleber@a.com')"
   ]
  },
  {
   "cell_type": "code",
   "execution_count": 145,
   "id": "6c1ed6f2-ce96-46dc-a281-0c8172311d9b",
   "metadata": {},
   "outputs": [
    {
     "name": "stdout",
     "output_type": "stream",
     "text": [
      "<__main__.User object at 0x000001CA4E9AAF70> adicionado a lista de amigos de <__main__.User object at 0x000001CA4E9ACAC0>\n",
      "<__main__.User object at 0x000001CA4E9ACAC0> adicionado a lista de amigos de <__main__.User object at 0x000001CA4E9AAF70>\n"
     ]
    }
   ],
   "source": [
    "vladimir.amizade(caroline)"
   ]
  },
  {
   "cell_type": "code",
   "execution_count": 146,
   "id": "614b177f-a938-4795-9a52-450816b3a572",
   "metadata": {},
   "outputs": [
    {
     "name": "stdout",
     "output_type": "stream",
     "text": [
      "<__main__.User object at 0x000001CA4E9BDA60> adicionado a lista de amigos de <__main__.User object at 0x000001CA4E9AAF70>\n",
      "<__main__.User object at 0x000001CA4E9AAF70> adicionado a lista de amigos de <__main__.User object at 0x000001CA4E9BDA60>\n"
     ]
    }
   ],
   "source": [
    "caroline.amizade(cleber)"
   ]
  },
  {
   "cell_type": "code",
   "execution_count": 147,
   "id": "9a2a12c5-45ea-455f-a2ad-4d297bf8d3c6",
   "metadata": {},
   "outputs": [
    {
     "name": "stdout",
     "output_type": "stream",
     "text": [
      "<__main__.User object at 0x000001CA4E9BDA60> adicionado a lista de amigos de <__main__.User object at 0x000001CA4E9ACAC0>\n",
      "<__main__.User object at 0x000001CA4E9ACAC0> adicionado a lista de amigos de <__main__.User object at 0x000001CA4E9BDA60>\n"
     ]
    }
   ],
   "source": [
    "vladimir.amizade(cleber)"
   ]
  },
  {
   "cell_type": "code",
   "execution_count": 148,
   "id": "9aee2698-5b63-4a27-b7ad-8c925360e55c",
   "metadata": {},
   "outputs": [
    {
     "data": {
      "text/plain": [
       "True"
      ]
     },
     "execution_count": 148,
     "metadata": {},
     "output_type": "execute_result"
    }
   ],
   "source": [
    "caroline in vladimir.amigos"
   ]
  },
  {
   "cell_type": "code",
   "execution_count": 149,
   "id": "86391b14-0f35-468a-ac8d-9fc28c4e64ee",
   "metadata": {},
   "outputs": [
    {
     "data": {
      "text/plain": [
       "True"
      ]
     },
     "execution_count": 149,
     "metadata": {},
     "output_type": "execute_result"
    }
   ],
   "source": [
    "vladimir in caroline.amigos"
   ]
  },
  {
   "cell_type": "code",
   "execution_count": 150,
   "id": "8fbd34c1-bc8e-40b0-bd51-6dad44e7456f",
   "metadata": {},
   "outputs": [
    {
     "name": "stdout",
     "output_type": "stream",
     "text": [
      "Interesse adicionado a lista de <__main__.User object at 0x000001CA4E9ACAC0>\n"
     ]
    }
   ],
   "source": [
    "vladimir.add_interesse('cozinhar')"
   ]
  },
  {
   "cell_type": "code",
   "execution_count": 151,
   "id": "09f53f52-3e34-44e5-aba0-9b30e9c85191",
   "metadata": {},
   "outputs": [
    {
     "data": {
      "text/plain": [
       "['cozinhar']"
      ]
     },
     "execution_count": 151,
     "metadata": {},
     "output_type": "execute_result"
    }
   ],
   "source": [
    "vladimir.interesses"
   ]
  },
  {
   "cell_type": "code",
   "execution_count": 152,
   "id": "1d486f86-f79b-443c-b670-783b2ef1d210",
   "metadata": {},
   "outputs": [
    {
     "name": "stdout",
     "output_type": "stream",
     "text": [
      "Bom dia a todos!!\n"
     ]
    }
   ],
   "source": [
    "vladimir.postar('Bom dia a todos!!')"
   ]
  },
  {
   "cell_type": "code",
   "execution_count": 153,
   "id": "5cd60ca8-a420-470c-bf75-eeca54e40f6d",
   "metadata": {},
   "outputs": [
    {
     "name": "stdout",
     "output_type": "stream",
     "text": [
      "muito Bom dia a todo mundo\n"
     ]
    }
   ],
   "source": [
    "vladimir.postar('muito Bom dia a todo mundo')"
   ]
  },
  {
   "cell_type": "code",
   "execution_count": 154,
   "id": "f10630e9-0192-4389-8514-898eaa5b323e",
   "metadata": {},
   "outputs": [
    {
     "name": "stdout",
     "output_type": "stream",
     "text": [
      "olá a todo mundo!!\n"
     ]
    }
   ],
   "source": [
    "caroline.postar('olá a todo mundo!!')"
   ]
  },
  {
   "cell_type": "code",
   "execution_count": 155,
   "id": "c664e4e6-f4c5-43a0-aa46-7d6001f874f1",
   "metadata": {},
   "outputs": [
    {
     "name": "stdout",
     "output_type": "stream",
     "text": [
      "boa tarde\n"
     ]
    }
   ],
   "source": [
    "caroline.postar('boa tarde')"
   ]
  },
  {
   "cell_type": "code",
   "execution_count": 156,
   "id": "07317958-0809-454b-9300-4be811439912",
   "metadata": {},
   "outputs": [
    {
     "name": "stdout",
     "output_type": "stream",
     "text": [
      "oie pessoal\n"
     ]
    }
   ],
   "source": [
    "cleber.postar('oie pessoal')"
   ]
  },
  {
   "cell_type": "code",
   "execution_count": 157,
   "id": "088472a8-18b2-459a-8515-14345fd4e748",
   "metadata": {},
   "outputs": [
    {
     "name": "stdout",
     "output_type": "stream",
     "text": [
      "boa noite!\n"
     ]
    }
   ],
   "source": [
    "cleber.postar('boa noite!')"
   ]
  },
  {
   "cell_type": "code",
   "execution_count": 158,
   "id": "cb16193d-bb9f-4c57-aed7-4c20edee869d",
   "metadata": {},
   "outputs": [
    {
     "data": {
      "text/plain": [
       "<bound method User.qtdd_amigos of <__main__.User object at 0x000001CA4E9ACAC0>>"
      ]
     },
     "execution_count": 158,
     "metadata": {},
     "output_type": "execute_result"
    }
   ],
   "source": [
    "vladimir.qtdd_amigos"
   ]
  },
  {
   "cell_type": "code",
   "execution_count": 159,
   "id": "617b174a-62c4-44ae-bdab-1ad397c42f73",
   "metadata": {},
   "outputs": [
    {
     "name": "stdout",
     "output_type": "stream",
     "text": [
      "<__main__.User object at 0x000001CA4E9AAF70> consta na lista de amigos de <__main__.User object at 0x000001CA4E9ACAC0>\n"
     ]
    }
   ],
   "source": [
    "vladimir.procura_amigo(caroline)"
   ]
  },
  {
   "cell_type": "code",
   "execution_count": 160,
   "id": "17d66dbc-c9aa-485a-83e0-8273e974d5c9",
   "metadata": {},
   "outputs": [
    {
     "name": "stdout",
     "output_type": "stream",
     "text": [
      "Bom dia a todos!!\n",
      "muito Bom dia a todo mundo\n"
     ]
    }
   ],
   "source": [
    "vladimir.procura_post('Bom dia')"
   ]
  },
  {
   "cell_type": "code",
   "execution_count": 161,
   "id": "4059df16-1e1b-476e-b22a-8ac856faab81",
   "metadata": {},
   "outputs": [
    {
     "name": "stdout",
     "output_type": "stream",
     "text": [
      "<__main__.User object at 0x000001CA4E9AAF70>:olá a todo mundo!!\n",
      "<__main__.User object at 0x000001CA4E9AAF70>:boa tarde\n",
      "<__main__.User object at 0x000001CA4E9BDA60>:oie pessoal\n",
      "<__main__.User object at 0x000001CA4E9BDA60>:boa noite!\n"
     ]
    }
   ],
   "source": [
    "vladimir.posts_amigos()"
   ]
  },
  {
   "cell_type": "code",
   "execution_count": null,
   "id": "8abaf309-5d3b-4f00-a750-f1ea768cf9f8",
   "metadata": {},
   "outputs": [],
   "source": []
  }
 ],
 "metadata": {
  "kernelspec": {
   "display_name": "Python 3",
   "language": "python",
   "name": "python3"
  },
  "language_info": {
   "codemirror_mode": {
    "name": "ipython",
    "version": 3
   },
   "file_extension": ".py",
   "mimetype": "text/x-python",
   "name": "python",
   "nbconvert_exporter": "python",
   "pygments_lexer": "ipython3",
   "version": "3.8.8"
  }
 },
 "nbformat": 4,
 "nbformat_minor": 5
}
