{
 "cells": [
  {
   "cell_type": "code",
   "execution_count": 5,
   "id": "760669db-2918-4a14-964e-158f46ca1614",
   "metadata": {},
   "outputs": [
    {
     "name": "stdout",
     "output_type": "stream",
     "text": [
      "['Luis', '73', 'n']\n",
      "['Livia', '73', 's']\n",
      "['Marcos', '91', 'n']\n",
      "['Claudia', '52', 'n']\n",
      "['Cleber', '33', 's']\n"
     ]
    }
   ],
   "source": [
    "import csv\n",
    "\n",
    "with open('pessoas.csv', 'r') as arquivo:\n",
    "    arquivo_csv = csv.reader(arquivo, delimiter =';')\n",
    "    for linha in arquivo_csv:\n",
    "        print(linha)"
   ]
  },
  {
   "cell_type": "code",
   "execution_count": null,
   "id": "828fef9f-b568-495d-9618-7d2e025f3949",
   "metadata": {},
   "outputs": [],
   "source": []
  }
 ],
 "metadata": {
  "kernelspec": {
   "display_name": "Python 3",
   "language": "python",
   "name": "python3"
  },
  "language_info": {
   "codemirror_mode": {
    "name": "ipython",
    "version": 3
   },
   "file_extension": ".py",
   "mimetype": "text/x-python",
   "name": "python",
   "nbconvert_exporter": "python",
   "pygments_lexer": "ipython3",
   "version": "3.8.8"
  }
 },
 "nbformat": 4,
 "nbformat_minor": 5
}
