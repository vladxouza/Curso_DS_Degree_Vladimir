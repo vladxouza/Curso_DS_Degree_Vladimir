{
 "cells": [
  {
   "cell_type": "markdown",
   "id": "b2f36158-e9a1-442d-9628-e6ec2245ecf6",
   "metadata": {},
   "source": [
    "## Exercícios"
   ]
  },
  {
   "cell_type": "markdown",
   "id": "57f784ab-e595-4ed9-a64b-8908d8f8fe26",
   "metadata": {},
   "source": [
    "## 1"
   ]
  },
  {
   "cell_type": "code",
   "execution_count": 43,
   "id": "5e9a2d9c-4de3-4fc3-8625-b66e5d9c448e",
   "metadata": {
    "tags": []
   },
   "outputs": [
    {
     "name": "stdout",
     "output_type": "stream",
     "text": [
      "verde\n"
     ]
    },
    {
     "data": {
      "text/plain": [
       "'o volume da bola é 33.49333333333333'"
      ]
     },
     "execution_count": 43,
     "metadata": {},
     "output_type": "execute_result"
    }
   ],
   "source": [
    "class Bola:\n",
    "    def __init__(self, cor, raio):\n",
    "        '''\n",
    "        cria uma bola\n",
    "        \n",
    "        Parâmetros:\n",
    "        \n",
    "        cor: str\n",
    "            cor da bola\n",
    "        \n",
    "        raio: float\n",
    "            raio da bola\n",
    "        '''\n",
    "        \n",
    "        self.cor = cor\n",
    "        self.raio = raio\n",
    "        \n",
    "    def __repr__(self):\n",
    "        return f'Raio: {self.raio}\\nCor: {self.cor}'\n",
    "        \n",
    "    def imprime_cor(self):\n",
    "        '''\n",
    "        imprime cor da bola\n",
    "        '''\n",
    "        return print (self.cor)\n",
    "    \n",
    "    def calcula_area(self):\n",
    "        '''\n",
    "        calcula area da bola\n",
    "        '''\n",
    "        pi = 3.14\n",
    "        area = (4 * pi * self.raio * self.raio)\n",
    "        \n",
    "        return (f'a area da bola é {area}')\n",
    "    \n",
    "    def calcula_volume(self):\n",
    "        '''\n",
    "        calcula volume da esfera\n",
    "        '''\n",
    "        pi = 3.14\n",
    "        volume = 4 * pi * (self.raio**3)/3\n",
    "        return (f'o volume da bola é {volume}')\n",
    "    \n",
    "bola1 = Bola('verde', 2)\n",
    "\n",
    "bola1.raio\n",
    "        \n",
    "bola1.cor\n",
    "\n",
    "bola1.imprime_cor()\n",
    "\n",
    "bola1.calcula_area()\n",
    "\n",
    "bola1.calcula_volume()\n",
    "\n",
    "\n",
    "\n",
    "\n",
    "\n",
    "\n"
   ]
  },
  {
   "cell_type": "code",
   "execution_count": 44,
   "id": "dfaf4ae6-b1dd-40f2-8a38-ac752c544dc5",
   "metadata": {},
   "outputs": [],
   "source": [
    "bola1 = Bola('verde', 2)"
   ]
  },
  {
   "cell_type": "code",
   "execution_count": 11,
   "id": "d379f62e-5d58-4a48-8434-65833a170e78",
   "metadata": {},
   "outputs": [
    {
     "data": {
      "text/plain": [
       "2"
      ]
     },
     "execution_count": 11,
     "metadata": {},
     "output_type": "execute_result"
    }
   ],
   "source": [
    "bola1.raio"
   ]
  },
  {
   "cell_type": "code",
   "execution_count": 45,
   "id": "d639e0d6-6713-4529-bc8e-348efb45e6a8",
   "metadata": {},
   "outputs": [
    {
     "data": {
      "text/plain": [
       "Raio: 2\n",
       "Cor: verde"
      ]
     },
     "execution_count": 45,
     "metadata": {},
     "output_type": "execute_result"
    }
   ],
   "source": [
    "bola1"
   ]
  },
  {
   "cell_type": "code",
   "execution_count": 12,
   "id": "2ff1142c-3202-45b1-bbdc-bc5cf10cf428",
   "metadata": {},
   "outputs": [
    {
     "data": {
      "text/plain": [
       "'verde'"
      ]
     },
     "execution_count": 12,
     "metadata": {},
     "output_type": "execute_result"
    }
   ],
   "source": [
    "bola1.cor"
   ]
  },
  {
   "cell_type": "code",
   "execution_count": 13,
   "id": "2aa72758-97f1-4687-b859-a3e7025f133a",
   "metadata": {},
   "outputs": [
    {
     "name": "stdout",
     "output_type": "stream",
     "text": [
      "verde\n"
     ]
    }
   ],
   "source": [
    "bola1.imprime_cor()"
   ]
  },
  {
   "cell_type": "code",
   "execution_count": 14,
   "id": "a2e35953-30a9-42cc-b43e-4ae0dea3edd1",
   "metadata": {},
   "outputs": [
    {
     "data": {
      "text/plain": [
       "'a area da bola é 50.24'"
      ]
     },
     "execution_count": 14,
     "metadata": {},
     "output_type": "execute_result"
    }
   ],
   "source": [
    "bola1.calcula_area()"
   ]
  },
  {
   "cell_type": "code",
   "execution_count": 8,
   "id": "7073f332-1ef8-4227-b3f2-834ca33c223d",
   "metadata": {},
   "outputs": [
    {
     "data": {
      "text/plain": [
       "'o volume da bola é 33.49333333333333'"
      ]
     },
     "execution_count": 8,
     "metadata": {},
     "output_type": "execute_result"
    }
   ],
   "source": [
    "bola1.calcula_volume()"
   ]
  },
  {
   "cell_type": "markdown",
   "id": "bd51c7f7-3956-417c-b8f2-8f34bfd66a90",
   "metadata": {},
   "source": [
    "## 2"
   ]
  },
  {
   "cell_type": "code",
   "execution_count": 47,
   "id": "07d24b7d-3bbf-416c-834f-3a938dac2423",
   "metadata": {},
   "outputs": [
    {
     "data": {
      "text/plain": [
       "6"
      ]
     },
     "execution_count": 47,
     "metadata": {},
     "output_type": "execute_result"
    }
   ],
   "source": [
    "class Retangulo:\n",
    "    def __init__(self, lado_a, lado_b):\n",
    "        '''\n",
    "        cria um retangulo\n",
    "        \n",
    "        parâmetros \n",
    "        lado_a: float\n",
    "        \n",
    "        lado_b: float\n",
    "        \n",
    "        '''\n",
    "        \n",
    "        self.lado_a = lado_a\n",
    "        self.lado_b = lado_b\n",
    "    \n",
    "    def __repr__(self):\n",
    "        return f'Lado 1: {self.lado_a}\\nLado 2: {self.lado_b}'\n",
    "    \n",
    "    def calcula_area(self):\n",
    "        area = self.lado_a * self.lado_b\n",
    "        \n",
    "        return area\n",
    "    \n",
    "ret1 = Retangulo(2,3)\n",
    "    \n",
    "ret1.calcula_area()\n",
    "    \n",
    "\n"
   ]
  },
  {
   "cell_type": "code",
   "execution_count": 21,
   "id": "b1f01ec8-f8ae-4e9b-a19a-5f95859ea154",
   "metadata": {},
   "outputs": [],
   "source": [
    "ret1 = Retangulo(2,3)"
   ]
  },
  {
   "cell_type": "code",
   "execution_count": 22,
   "id": "72ea1e7f-a9b9-4085-b8d0-235b4671bedc",
   "metadata": {},
   "outputs": [
    {
     "data": {
      "text/plain": [
       "6"
      ]
     },
     "execution_count": 22,
     "metadata": {},
     "output_type": "execute_result"
    }
   ],
   "source": [
    "ret1.calcula_area()"
   ]
  },
  {
   "cell_type": "code",
   "execution_count": 48,
   "id": "9f8d5188-6a87-454d-acfb-678e07e134b3",
   "metadata": {},
   "outputs": [
    {
     "data": {
      "text/plain": [
       "Lado 1: 2\n",
       "Lado 2: 3"
      ]
     },
     "execution_count": 48,
     "metadata": {},
     "output_type": "execute_result"
    }
   ],
   "source": [
    "ret1"
   ]
  },
  {
   "cell_type": "markdown",
   "id": "6f4a40c9-875f-45fa-b3aa-80abda45c23c",
   "metadata": {},
   "source": [
    "## 3"
   ]
  },
  {
   "cell_type": "code",
   "execution_count": 52,
   "id": "1cee3f91-e5c7-4dc8-af71-0189d7e70730",
   "metadata": {},
   "outputs": [],
   "source": [
    "class Funcionario:\n",
    "    def __init__(self, nome, email):\n",
    "        self.nome = nome\n",
    "        self.email = email\n",
    "        \n",
    "        self.horas_trabalhadas = {'jan': 100, 'fev': 120, 'mar': 150}\n",
    "        self.salario_hora = {'jan': 20, 'fev': 25, 'mar': 30}\n",
    "    \n",
    "    def __repr__(self):\n",
    "        return f'Nome: {self.nome}\\nEmail: {self.email}'\n",
    "    \n",
    "    def computar_hora_trabalhada(self):\n",
    "        mes = input('qual mes quer verificar o salario?')\n",
    "        salario = self.horas_trabalhadas[mes] * self.salario_hora[mes]\n",
    "            \n",
    "        print (f'no mês de {mes} você deverá receber {salario}')\n",
    "        "
   ]
  },
  {
   "cell_type": "code",
   "execution_count": 55,
   "id": "3eea9734-707d-4100-8548-e35052159da2",
   "metadata": {},
   "outputs": [],
   "source": [
    "vlad = Funcionario('vlad', 'a@a.com')"
   ]
  },
  {
   "cell_type": "code",
   "execution_count": 54,
   "id": "367d7bcf-93b5-4ad8-bb44-fa3d56b9a03e",
   "metadata": {},
   "outputs": [
    {
     "name": "stdin",
     "output_type": "stream",
     "text": [
      "qual mes quer verificar o salario? 1\n"
     ]
    },
    {
     "ename": "KeyError",
     "evalue": "'1'",
     "output_type": "error",
     "traceback": [
      "\u001b[1;31m---------------------------------------------------------------------------\u001b[0m",
      "\u001b[1;31mKeyError\u001b[0m                                  Traceback (most recent call last)",
      "\u001b[1;32m<ipython-input-54-47b84c81a7bc>\u001b[0m in \u001b[0;36m<module>\u001b[1;34m\u001b[0m\n\u001b[1;32m----> 1\u001b[1;33m \u001b[0mvlad\u001b[0m\u001b[1;33m.\u001b[0m\u001b[0mcomputar_hora_trabalhada\u001b[0m\u001b[1;33m(\u001b[0m\u001b[1;33m)\u001b[0m\u001b[1;33m\u001b[0m\u001b[1;33m\u001b[0m\u001b[0m\n\u001b[0m",
      "\u001b[1;32m<ipython-input-52-60c79ea80c7e>\u001b[0m in \u001b[0;36mcomputar_hora_trabalhada\u001b[1;34m(self)\u001b[0m\n\u001b[0;32m     12\u001b[0m     \u001b[1;32mdef\u001b[0m \u001b[0mcomputar_hora_trabalhada\u001b[0m\u001b[1;33m(\u001b[0m\u001b[0mself\u001b[0m\u001b[1;33m)\u001b[0m\u001b[1;33m:\u001b[0m\u001b[1;33m\u001b[0m\u001b[1;33m\u001b[0m\u001b[0m\n\u001b[0;32m     13\u001b[0m         \u001b[0mmes\u001b[0m \u001b[1;33m=\u001b[0m \u001b[0minput\u001b[0m\u001b[1;33m(\u001b[0m\u001b[1;34m'qual mes quer verificar o salario?'\u001b[0m\u001b[1;33m)\u001b[0m\u001b[1;33m\u001b[0m\u001b[1;33m\u001b[0m\u001b[0m\n\u001b[1;32m---> 14\u001b[1;33m         \u001b[0msalario\u001b[0m \u001b[1;33m=\u001b[0m \u001b[0mself\u001b[0m\u001b[1;33m.\u001b[0m\u001b[0mhoras_trabalhadas\u001b[0m\u001b[1;33m[\u001b[0m\u001b[0mmes\u001b[0m\u001b[1;33m]\u001b[0m \u001b[1;33m*\u001b[0m \u001b[0mself\u001b[0m\u001b[1;33m.\u001b[0m\u001b[0msalario_hora\u001b[0m\u001b[1;33m[\u001b[0m\u001b[0mmes\u001b[0m\u001b[1;33m]\u001b[0m\u001b[1;33m\u001b[0m\u001b[1;33m\u001b[0m\u001b[0m\n\u001b[0m\u001b[0;32m     15\u001b[0m \u001b[1;33m\u001b[0m\u001b[0m\n\u001b[0;32m     16\u001b[0m         \u001b[0mprint\u001b[0m \u001b[1;33m(\u001b[0m\u001b[1;34mf'no mês de {mes} você deverá receber {salario}'\u001b[0m\u001b[1;33m)\u001b[0m\u001b[1;33m\u001b[0m\u001b[1;33m\u001b[0m\u001b[0m\n",
      "\u001b[1;31mKeyError\u001b[0m: '1'"
     ]
    }
   ],
   "source": [
    "vlad.computar_hora_trabalhada()"
   ]
  },
  {
   "cell_type": "code",
   "execution_count": 56,
   "id": "98b2f870-90ec-4f82-ae17-e484b8168d38",
   "metadata": {},
   "outputs": [
    {
     "data": {
      "text/plain": [
       "Nome: vlad\n",
       "Email: a@a.com"
      ]
     },
     "execution_count": 56,
     "metadata": {},
     "output_type": "execute_result"
    }
   ],
   "source": [
    "vlad"
   ]
  },
  {
   "cell_type": "code",
   "execution_count": 9,
   "id": "a64a9d96-4978-4fdd-9753-9679cd8eb96f",
   "metadata": {},
   "outputs": [
    {
     "name": "stdout",
     "output_type": "stream",
     "text": [
      "no mês de jan você deverá receber 2000\n",
      "no mês de fev você deverá receber 3000\n",
      "no mês de mar você deverá receber 4500\n"
     ]
    }
   ],
   "source": [
    "horas_trabalhadas = {'jan': 100, 'fev': 120, 'mar': 150}\n",
    "salario_hora = {'jan': 20, 'fev': 25, 'mar': 30}\n",
    "\n",
    "for mes in horas_trabalhadas:\n",
    "    salario = horas_trabalhadas[mes] * salario_hora[mes]\n",
    "    print (f'no mês de {mes} você deverá receber {salario}')"
   ]
  },
  {
   "cell_type": "markdown",
   "id": "e04fd810-afb2-47b7-8305-1684c2a00a23",
   "metadata": {},
   "source": [
    "## 4"
   ]
  },
  {
   "cell_type": "code",
   "execution_count": 48,
   "id": "31cd48f4-54df-45dc-b4ff-e011c978bcca",
   "metadata": {},
   "outputs": [],
   "source": [
    "class Televisor:\n",
    "    def __init__(self, fabricante, modelo, volume = 50):\n",
    "        '''\n",
    "        fabricante: str\n",
    "            quem fez a tv\n",
    "\n",
    "        modelo: str\n",
    "            modelo da tv\n",
    "\n",
    "        volume: int\n",
    "            volume da tv. Volume base = 5\n",
    "\n",
    "        '''\n",
    "\n",
    "        self.fabricante = fabricante\n",
    "        self.modelo = modelo\n",
    "        self.volume = volume\n",
    "    \n",
    "    \n",
    "#     atributos não declarados no init\n",
    "\n",
    "        self.canal_atual = 'Globo'\n",
    "        self.lista_canais = ['Globo']\n",
    "    \n",
    "    def __repr__(self):\n",
    "        return f'Modelo: {self.fabricante} \\nFabricante: {self.fabricante}'\n",
    "        \n",
    "        \n",
    "        \n",
    "    def controla_volume(self):\n",
    "        a_d = input('''A' para aumentar, 'D' para diminuir o volume''')\n",
    "        if a_d == 'A':\n",
    "            if self.volume == 100:\n",
    "                raise ValueError ('Volume no máximo')\n",
    "            else:\n",
    "                self.volume += 5\n",
    "                \n",
    "        elif a_d == 'D':\n",
    "            if self.volume == 0:\n",
    "                raise ValueError ('Volume no mínimo')\n",
    "            else:\n",
    "                self.volume -= 5\n",
    "        print (f'O volume é {self.volume}')    \n",
    "    def muda_canal(self):\n",
    "\n",
    "        index = self.lista_canais.index(self.canal_atual)\n",
    "        \n",
    "        if self.lista_canais[index] == self.lista_canais[-1]:\n",
    "            self.canal_atual = self.lista_canais[0]\n",
    "            \n",
    "        else:\n",
    "            self.canal_atual = self.lista_canais[index + 1]\n",
    "        \n",
    "        print (f'O canal atual é {self.canal_atual}')\n",
    "    \n",
    "    def add_canal_lista(self, canal):\n",
    "        if canal not in self.lista_canais:\n",
    "            self.lista_canais.append(canal)\n",
    "            print(self.lista_canais)\n",
    "        else:\n",
    "            raise ValueError('Canal já está lista')\n"
   ]
  },
  {
   "cell_type": "code",
   "execution_count": 49,
   "id": "b2fa13b1-9b0d-4786-a48d-d2b637bc00a2",
   "metadata": {},
   "outputs": [],
   "source": [
    "tv = Televisor('LG', 'LG')"
   ]
  },
  {
   "cell_type": "code",
   "execution_count": 50,
   "id": "1c049824-1748-43fa-8f4b-ee62067ad8b4",
   "metadata": {},
   "outputs": [
    {
     "data": {
      "text/plain": [
       "50"
      ]
     },
     "execution_count": 50,
     "metadata": {},
     "output_type": "execute_result"
    }
   ],
   "source": [
    "tv.volume"
   ]
  },
  {
   "cell_type": "code",
   "execution_count": 51,
   "id": "d97742fe-fc39-4ca0-a3fd-10bfd7b314f6",
   "metadata": {},
   "outputs": [
    {
     "data": {
      "text/plain": [
       "['Globo']"
      ]
     },
     "execution_count": 51,
     "metadata": {},
     "output_type": "execute_result"
    }
   ],
   "source": [
    "tv.lista_canais"
   ]
  },
  {
   "cell_type": "code",
   "execution_count": 52,
   "id": "d6c74407-7123-4f55-b615-1c098a6aa76a",
   "metadata": {},
   "outputs": [
    {
     "name": "stdout",
     "output_type": "stream",
     "text": [
      "['Globo', 'SBT']\n"
     ]
    }
   ],
   "source": [
    "tv.add_canal_lista('SBT')\n"
   ]
  },
  {
   "cell_type": "code",
   "execution_count": 54,
   "id": "ba5c0393-e661-4227-a6ee-8f917aa1ece1",
   "metadata": {},
   "outputs": [
    {
     "name": "stdout",
     "output_type": "stream",
     "text": [
      "O canal atual é Globo\n"
     ]
    }
   ],
   "source": [
    "tv.muda_canal()"
   ]
  },
  {
   "cell_type": "code",
   "execution_count": 55,
   "id": "c288145d-ef02-4fad-9b8f-96058544f446",
   "metadata": {},
   "outputs": [
    {
     "name": "stdin",
     "output_type": "stream",
     "text": [
      "A' para aumentar, 'D' para diminuir o volume A\n"
     ]
    },
    {
     "name": "stdout",
     "output_type": "stream",
     "text": [
      "O volume é 55\n"
     ]
    }
   ],
   "source": [
    "tv.controla_volume()"
   ]
  },
  {
   "cell_type": "code",
   "execution_count": 9,
   "id": "ef728101-dc56-49b6-a851-02e816028e2e",
   "metadata": {},
   "outputs": [],
   "source": [
    "tv.volume = 100"
   ]
  },
  {
   "cell_type": "code",
   "execution_count": 40,
   "id": "0e1c7bf1-dce8-4c76-82b4-75d76e05d02d",
   "metadata": {},
   "outputs": [
    {
     "data": {
      "text/plain": [
       "Modelo: LG \n",
       "Fabricante: LG"
      ]
     },
     "execution_count": 40,
     "metadata": {},
     "output_type": "execute_result"
    }
   ],
   "source": [
    "tv"
   ]
  },
  {
   "cell_type": "markdown",
   "id": "e466341a-817e-4d49-86fb-aa9425a18cf8",
   "metadata": {},
   "source": [
    "## 5 ficou pendente"
   ]
  },
  {
   "cell_type": "code",
   "execution_count": 60,
   "id": "fc07810a-dd2c-4eee-90bc-f1470579ba74",
   "metadata": {},
   "outputs": [],
   "source": [
    "class ControleRemoto:\n",
    "    def __init__(self, TV):\n",
    "        \n",
    "        '''\n",
    "        Construtor\n",
    "        \n",
    "        Parametros\n",
    "        ----------\n",
    "        tv: Televisor\n",
    "            o controle que vai controlar a TV\n",
    "        '''\n",
    "        self.TV = TV\n",
    "        \n",
    "    def controle_volume(self):\n",
    "        '''\n",
    "        Aumenta ou diminui o volume\n",
    "        '''\n",
    "        a_d = input('''A' para aumentar, 'D' para diminuir o volume''')\n",
    "        if a_d == 'A':\n",
    "            if self.TV.volume == 100:\n",
    "                raise ValueError ('Volume no máximo')\n",
    "            else:\n",
    "                self.TV.volume += 5\n",
    "                print (f'O volume atual é: {self.TV.volume}')\n",
    "        elif a_d == 'D':\n",
    "            if self.TV.volume == 0:\n",
    "                raise ValueError ('Volume no mínimo')\n",
    "            else:\n",
    "                self.TV.volume -= 5\n",
    "                print (f'O volume atual é: {self.TV.volume}')\n",
    "                \n",
    "    def muda_canal(self):\n",
    "        '''\n",
    "        Troca o canal para o próximo da lista\n",
    "        '''\n",
    "        index = self.TV.lista_canais.index(self.canal_atual)\n",
    "        \n",
    "        if self.TV.lista_canais[index] == self.TV.lista_canais[-1]:\n",
    "            self.TV.canal_atual = self.TV.lista_canais[0]\n",
    "            \n",
    "        else:\n",
    "            self.TV.canal_atual = self.TV.lista_canais[index + 1]\n",
    "        \n",
    "        print (f'O canal atual é {self.TV.canal_atual}')\n",
    "        \n",
    "    def add_canal_lista(self, canal):\n",
    "        '''\n",
    "        Adiciona um canal a lista\n",
    "        \n",
    "        Parametros\n",
    "        --------\n",
    "        \n",
    "        canal: str\n",
    "            o canal a ser adicionado\n",
    "        \n",
    "        '''\n",
    "        if canal not in self.TV.lista_canais:\n",
    "            self.TV.lista_canais.append(canal)\n",
    "            print(self.TV.lista_canais)\n",
    "        else:\n",
    "            raise ValueError('Canal já está lista')\n",
    "        "
   ]
  },
  {
   "cell_type": "code",
   "execution_count": 61,
   "id": "1339afef-df29-418f-bad8-9547b0db417e",
   "metadata": {},
   "outputs": [],
   "source": [
    "controle = ControleRemoto(tv)"
   ]
  },
  {
   "cell_type": "code",
   "execution_count": 63,
   "id": "b4708320-f8ad-4cc3-a1e9-2b0c550b76f0",
   "metadata": {},
   "outputs": [
    {
     "name": "stdin",
     "output_type": "stream",
     "text": [
      "A' para aumentar, 'D' para diminuir o volume D\n"
     ]
    },
    {
     "name": "stdout",
     "output_type": "stream",
     "text": [
      "O volume atual é: 50\n"
     ]
    }
   ],
   "source": [
    "controle.controle_volume()"
   ]
  },
  {
   "cell_type": "code",
   "execution_count": 65,
   "id": "bd53926e-a71e-493d-ab42-b65361e63932",
   "metadata": {},
   "outputs": [
    {
     "data": {
      "text/plain": [
       "Modelo: LG \n",
       "Fabricante: LG"
      ]
     },
     "execution_count": 65,
     "metadata": {},
     "output_type": "execute_result"
    }
   ],
   "source": [
    "controle.TV"
   ]
  },
  {
   "cell_type": "markdown",
   "id": "04bbd847-00e0-4842-a2da-d2c46b2aa593",
   "metadata": {},
   "source": [
    "# 6"
   ]
  },
  {
   "cell_type": "code",
   "execution_count": 37,
   "id": "87126eca-5b01-4844-93d7-0e45b23bbf73",
   "metadata": {},
   "outputs": [],
   "source": [
    "import time"
   ]
  },
  {
   "cell_type": "code",
   "execution_count": 60,
   "id": "78014371-ddf5-4cb2-82b3-0dcce5555407",
   "metadata": {},
   "outputs": [],
   "source": [
    "import time\n",
    "class Cronometro:\n",
    "    def __init__(self, tempo):\n",
    "        self.tempo = tempo\n",
    "    def __repr__(self):\n",
    "        return f'Cronometro irá calcular {self.tempo} segundos'\n",
    "    def contador_tempo(self):\n",
    "        time.sleep(self.tempo)\n",
    "        print(f'passaram {self.tempo} segundos')"
   ]
  },
  {
   "cell_type": "code",
   "execution_count": 61,
   "id": "8f0f7c44-90f6-43da-8e44-2e89440405e2",
   "metadata": {},
   "outputs": [],
   "source": [
    "cronometro = Cronometro(5)"
   ]
  },
  {
   "cell_type": "code",
   "execution_count": 62,
   "id": "abdbf159-48f9-43b8-8bb3-8eda5d4a448c",
   "metadata": {},
   "outputs": [
    {
     "name": "stdout",
     "output_type": "stream",
     "text": [
      "passaram 5 segundos\n"
     ]
    }
   ],
   "source": [
    "cronometro.contador_tempo()"
   ]
  },
  {
   "cell_type": "code",
   "execution_count": 63,
   "id": "c9daeff3-a886-48dc-ba64-43131056ff66",
   "metadata": {},
   "outputs": [
    {
     "data": {
      "text/plain": [
       "Cronometro irá calcular 5 segundos"
      ]
     },
     "execution_count": 63,
     "metadata": {},
     "output_type": "execute_result"
    }
   ],
   "source": [
    "cronometro"
   ]
  },
  {
   "cell_type": "markdown",
   "id": "f20f1d64-5c40-465d-ad17-e0cf5b0693c5",
   "metadata": {},
   "source": [
    "## 7"
   ]
  },
  {
   "cell_type": "code",
   "execution_count": 51,
   "id": "fc78d820-2108-4c15-a85e-3141f212f2f0",
   "metadata": {},
   "outputs": [],
   "source": [
    "class Agenda:\n",
    "    def __init__(self, dono_agenda):\n",
    "        self.dono_agenda = dono_agenda\n",
    "        \n",
    "        self.dict_contatos = {}\n",
    "        \n",
    "    def add_contato(self, nome_contato, tel_contato):\n",
    "        \n",
    "        self.dict_contatos[nome_contato] = tel_contato\n",
    "        \n",
    "        print ('contato adicionado')\n",
    "        \n",
    "    def remover_contato(self, nome_contato):\n",
    "        \n",
    "        self.dict_contatos.pop(nome_contato)\n",
    "        \n",
    "        print('contato removido')\n",
    "        \n",
    "    def procurar_contato(self, nome_contato):\n",
    "        \n",
    "        if nome_contato in self.dict_contatos:\n",
    "            return f'{nome_contato}, tel {self.dict_contatos[nome_contato]}'\n",
    "        else:\n",
    "            print('nome não consta na agenda')\n",
    "            \n",
    "    def listar_contatos(self):\n",
    "        \n",
    "        return self.dict_contatos.keys()"
   ]
  },
  {
   "cell_type": "code",
   "execution_count": 53,
   "id": "2cf167d3-54d8-47b1-bc02-6947de8c3912",
   "metadata": {},
   "outputs": [],
   "source": [
    "agenda = Agenda('vlad')"
   ]
  },
  {
   "cell_type": "code",
   "execution_count": 54,
   "id": "82d1e912-afc2-4093-a269-c5d41f9347f9",
   "metadata": {},
   "outputs": [
    {
     "name": "stdout",
     "output_type": "stream",
     "text": [
      "contato adicionado\n"
     ]
    }
   ],
   "source": [
    "agenda.add_contato('Vlad', 99599595)"
   ]
  },
  {
   "cell_type": "code",
   "execution_count": 55,
   "id": "d994b83e-6478-429c-b0a2-ada2a345e0e1",
   "metadata": {},
   "outputs": [
    {
     "data": {
      "text/plain": [
       "dict_keys(['Vlad'])"
      ]
     },
     "execution_count": 55,
     "metadata": {},
     "output_type": "execute_result"
    }
   ],
   "source": [
    "agenda.listar_contatos()"
   ]
  },
  {
   "cell_type": "code",
   "execution_count": 56,
   "id": "5b6c54bd-a94d-4334-84f6-8b9b46af1ec6",
   "metadata": {},
   "outputs": [
    {
     "data": {
      "text/plain": [
       "'Vlad, tel 99599595'"
      ]
     },
     "execution_count": 56,
     "metadata": {},
     "output_type": "execute_result"
    }
   ],
   "source": [
    "agenda.procurar_contato('Vlad')"
   ]
  },
  {
   "cell_type": "code",
   "execution_count": 57,
   "id": "95e53b14-b7ad-4507-9c51-ed5e2a14e557",
   "metadata": {},
   "outputs": [
    {
     "name": "stdout",
     "output_type": "stream",
     "text": [
      "contato removido\n"
     ]
    }
   ],
   "source": [
    "agenda.remover_contato('Vlad')"
   ]
  },
  {
   "cell_type": "markdown",
   "id": "6264f350-b806-499e-9e69-2b71dfce8977",
   "metadata": {},
   "source": [
    "## 8"
   ]
  },
  {
   "cell_type": "code",
   "execution_count": 3,
   "id": "417f3f3c-1141-4e38-a5f2-3a7e1e4760ad",
   "metadata": {},
   "outputs": [],
   "source": [
    "class Cliente:\n",
    "    def __init__(self, nome, idade, email):\n",
    "        self.nome = nome\n",
    "        self.idade = idade\n",
    "        self.email = email\n",
    "    \n",
    "    def __repr__(self):\n",
    "        return f'Nome: {self.nome}\\n\\nIdade: {self.idade}\\n\\nEmail: {self.email}'\n",
    "    \n",
    "    def infos_cliente(self):\n",
    "        print (f'Nome: {self.nome}\\n\\nIdade: {self.idade}\\n\\nEmail: {self.email}')"
   ]
  },
  {
   "cell_type": "code",
   "execution_count": 84,
   "id": "cc13232c-5297-4e3c-b270-609a36d97261",
   "metadata": {},
   "outputs": [],
   "source": [
    "vlad = Cliente('Vladimir', 25, 'a@a.com')"
   ]
  },
  {
   "cell_type": "code",
   "execution_count": 85,
   "id": "ebc9ef9d-042d-43d9-aaf8-a0c9939254e8",
   "metadata": {},
   "outputs": [
    {
     "name": "stdout",
     "output_type": "stream",
     "text": [
      "Nome: Vladimir\n",
      "\n",
      "Idade: 25\n",
      "\n",
      "Email: a@a.com\n"
     ]
    }
   ],
   "source": [
    "vlad.infos_cliente()"
   ]
  },
  {
   "cell_type": "markdown",
   "id": "9432794b-666c-441b-90e5-4491c18a6889",
   "metadata": {},
   "source": [
    "## 9"
   ]
  },
  {
   "cell_type": "code",
   "execution_count": 100,
   "id": "1e760b2b-6c01-49cc-a44e-c770080e9d31",
   "metadata": {},
   "outputs": [],
   "source": [
    "class Sistema:\n",
    "    def __init__(self):\n",
    "        '''\n",
    "        sistema para controlar os clientes\n",
    "        \n",
    "        '''\n",
    "        self.lista_clientes = {}\n",
    "        \n",
    "    def add_cliente(self, nome, idade, email):\n",
    "        '''\n",
    "        adiciona 1 cliente ao sistema\n",
    "        ------------\n",
    "        parametros\n",
    "        \n",
    "        nome: str\n",
    "            nome do cliente\n",
    "            \n",
    "        idade: int\n",
    "            idade do cliente\n",
    "            \n",
    "        email: str\n",
    "            email do cliente\n",
    "        '''\n",
    "        \n",
    "        \n",
    "        nome = Cliente(nome, idade, email)\n",
    "        self.lista_clientes.update({email:nome})\n",
    "    \n",
    "    def alterar_cadastro(self,email_cadastrado, novo_nome, nova_idade, novo_email):\n",
    "        '''\n",
    "        altera o cadastro de um cliente baseado no email\n",
    "        ------------\n",
    "        parametros\n",
    "        \n",
    "        nome: str\n",
    "            nome do cliente\n",
    "            \n",
    "        idade: int\n",
    "            idade do cliente\n",
    "            \n",
    "        email: str\n",
    "            email do cliente\n",
    "        '''\n",
    "        \n",
    "        self.lista_clientes[email] = Cliente(novo_nome, nova_idade, novo_email)\n",
    "        print('Cadastro alterado')\n",
    "        \n",
    "    def mostrar_todos_clientes(self):\n",
    "        '''\n",
    "        mostra todos os clientes cadastrados\n",
    "        '''\n",
    "        for email in self.lista_clientes:\n",
    "            print(f'{self.lista_clientes[email]}\\n------------------\\n')\n",
    "        "
   ]
  },
  {
   "cell_type": "code",
   "execution_count": 101,
   "id": "4c8a5b26-e201-47ca-80d1-4fe913fbd320",
   "metadata": {},
   "outputs": [],
   "source": [
    "sistema = Sistema()"
   ]
  },
  {
   "cell_type": "code",
   "execution_count": 102,
   "id": "e56e77a7-e627-4d6c-918b-ab10946c3a3b",
   "metadata": {},
   "outputs": [],
   "source": [
    "sistema.add_cliente('Carol', 26, 'b@b.com')"
   ]
  },
  {
   "cell_type": "code",
   "execution_count": 103,
   "id": "91dddd42-5b22-4488-964a-7af58e2a4843",
   "metadata": {},
   "outputs": [],
   "source": [
    "sistema.add_cliente('Vladimir', 25, 'a@a.com')"
   ]
  },
  {
   "cell_type": "code",
   "execution_count": 105,
   "id": "e8d53a33-cfeb-4841-ac73-dbd5dd8e5240",
   "metadata": {},
   "outputs": [
    {
     "name": "stdout",
     "output_type": "stream",
     "text": [
      "Nome: Carol\n",
      "\n",
      "Idade: 26\n",
      "\n",
      "Email: b@b.com\n",
      "------------------\n",
      "\n",
      "Nome: Vladimir\n",
      "\n",
      "Idade: 25\n",
      "\n",
      "Email: a@a.com\n",
      "------------------\n",
      "\n"
     ]
    }
   ],
   "source": [
    "sistema.mostrar_todos_clientes()"
   ]
  },
  {
   "cell_type": "markdown",
   "id": "d12b34a0-9f62-40d2-8dfa-c4bd1e36f4b6",
   "metadata": {},
   "source": [
    "## 10"
   ]
  },
  {
   "cell_type": "code",
   "execution_count": 20,
   "id": "737ed232-b8d3-433c-b2b7-3d95740d5f44",
   "metadata": {},
   "outputs": [],
   "source": [
    "# usei a classe cliente criada no ex 8\n",
    "\n",
    "class ContaCorrente:\n",
    "    def __init__(self, cliente, saldo):\n",
    "        '''\n",
    "        INIT\n",
    "        ------\n",
    "        paramtetros\n",
    "        \n",
    "        cliente: Class Cliente\n",
    "            dono da conta\n",
    "        saldo: float\n",
    "            saldo da conta        \n",
    "        '''\n",
    "        self.cliente = cliente\n",
    "        self.saldo = saldo\n",
    "        \n",
    "    def deposito(self, valor):\n",
    "        self.saldo = self.saldo + valor\n",
    "        return self.saldo\n",
    "    \n",
    "    def saque(self, saque):\n",
    "        if (self.saldo - saque) < 0:\n",
    "            raise ValueError('Não pode sacar mais do que o saldo')\n",
    "        else:\n",
    "            self.saldo = self.saldo - saque\n",
    "            \n",
    "        return self.saldo\n",
    "    \n",
    "    def transferencia(self, contacorrente, valor):\n",
    "        '''\n",
    "        transfere dinheiro para outra conta\n",
    "        \n",
    "        parametros\n",
    "        -----------\n",
    "        contacorrente: class ContaCorrente\n",
    "            outro cliente que receberá o dinheiro\n",
    "        valor: float\n",
    "            valor a ser transferido\n",
    "        '''\n",
    "        if (self.saldo - valor) < 0:\n",
    "            raise ValueError('Não pode transferir mais que o saldo')\n",
    "        else:\n",
    "            self.saldo = self.saldo - valor\n",
    "            contacorrente.saldo = contacorrente.saldo + valor\n",
    "        \n",
    "        \n",
    "        \n",
    "        \n",
    "    "
   ]
  },
  {
   "cell_type": "code",
   "execution_count": 21,
   "id": "994c4d0d-7c94-4fb4-967b-bdcf5d54a973",
   "metadata": {},
   "outputs": [],
   "source": [
    "vlad = Cliente('Vladimir', 25, 'a@a.com')\n",
    "carol = Cliente('Carol', 26, 'b@b.com')"
   ]
  },
  {
   "cell_type": "code",
   "execution_count": 22,
   "id": "29c20c35-9862-42ef-a118-ca93dbc5043b",
   "metadata": {},
   "outputs": [],
   "source": [
    "cc_carol = ContaCorrente(carol, 500)\n",
    "cc_vlad = ContaCorrente(vlad, 1000)"
   ]
  },
  {
   "cell_type": "code",
   "execution_count": 23,
   "id": "c6e9cacc-daff-4466-9cde-7d8bb11b049e",
   "metadata": {},
   "outputs": [
    {
     "data": {
      "text/plain": [
       "200"
      ]
     },
     "execution_count": 23,
     "metadata": {},
     "output_type": "execute_result"
    }
   ],
   "source": [
    "cc_carol.saque(300)"
   ]
  },
  {
   "cell_type": "code",
   "execution_count": 24,
   "id": "f247a80d-5995-4cee-be23-15ce0b3c92c0",
   "metadata": {},
   "outputs": [
    {
     "data": {
      "text/plain": [
       "700"
      ]
     },
     "execution_count": 24,
     "metadata": {},
     "output_type": "execute_result"
    }
   ],
   "source": [
    "cc_carol.deposito(500)"
   ]
  },
  {
   "cell_type": "code",
   "execution_count": 28,
   "id": "8b42310e-2547-4b13-9df8-25f0b3a25935",
   "metadata": {},
   "outputs": [
    {
     "ename": "ValueError",
     "evalue": "Não pode transferir mais que o saldo",
     "output_type": "error",
     "traceback": [
      "\u001b[1;31m---------------------------------------------------------------------------\u001b[0m",
      "\u001b[1;31mValueError\u001b[0m                                Traceback (most recent call last)",
      "\u001b[1;32m<ipython-input-28-78f1c503bbf3>\u001b[0m in \u001b[0;36m<module>\u001b[1;34m\u001b[0m\n\u001b[1;32m----> 1\u001b[1;33m \u001b[0mcc_carol\u001b[0m\u001b[1;33m.\u001b[0m\u001b[0mtransferencia\u001b[0m\u001b[1;33m(\u001b[0m\u001b[0mcc_vlad\u001b[0m\u001b[1;33m,\u001b[0m \u001b[1;36m1000\u001b[0m\u001b[1;33m)\u001b[0m\u001b[1;33m\u001b[0m\u001b[1;33m\u001b[0m\u001b[0m\n\u001b[0m",
      "\u001b[1;32m<ipython-input-20-8bf2744fb5a6>\u001b[0m in \u001b[0;36mtransferencia\u001b[1;34m(self, contacorrente, valor)\u001b[0m\n\u001b[0;32m     38\u001b[0m         '''\n\u001b[0;32m     39\u001b[0m         \u001b[1;32mif\u001b[0m \u001b[1;33m(\u001b[0m\u001b[0mself\u001b[0m\u001b[1;33m.\u001b[0m\u001b[0msaldo\u001b[0m \u001b[1;33m-\u001b[0m \u001b[0mvalor\u001b[0m\u001b[1;33m)\u001b[0m \u001b[1;33m<\u001b[0m \u001b[1;36m0\u001b[0m\u001b[1;33m:\u001b[0m\u001b[1;33m\u001b[0m\u001b[1;33m\u001b[0m\u001b[0m\n\u001b[1;32m---> 40\u001b[1;33m             \u001b[1;32mraise\u001b[0m \u001b[0mValueError\u001b[0m\u001b[1;33m(\u001b[0m\u001b[1;34m'Não pode transferir mais que o saldo'\u001b[0m\u001b[1;33m)\u001b[0m\u001b[1;33m\u001b[0m\u001b[1;33m\u001b[0m\u001b[0m\n\u001b[0m\u001b[0;32m     41\u001b[0m         \u001b[1;32melse\u001b[0m\u001b[1;33m:\u001b[0m\u001b[1;33m\u001b[0m\u001b[1;33m\u001b[0m\u001b[0m\n\u001b[0;32m     42\u001b[0m             \u001b[0mself\u001b[0m\u001b[1;33m.\u001b[0m\u001b[0msaldo\u001b[0m \u001b[1;33m=\u001b[0m \u001b[0mself\u001b[0m\u001b[1;33m.\u001b[0m\u001b[0msaldo\u001b[0m \u001b[1;33m-\u001b[0m \u001b[0mvalor\u001b[0m\u001b[1;33m\u001b[0m\u001b[1;33m\u001b[0m\u001b[0m\n",
      "\u001b[1;31mValueError\u001b[0m: Não pode transferir mais que o saldo"
     ]
    }
   ],
   "source": [
    "cc_carol.transferencia(cc_vlad, 1000)"
   ]
  },
  {
   "cell_type": "code",
   "execution_count": 26,
   "id": "af241123-c83f-4fc8-8be6-9eb8401d4270",
   "metadata": {},
   "outputs": [
    {
     "data": {
      "text/plain": [
       "400"
      ]
     },
     "execution_count": 26,
     "metadata": {},
     "output_type": "execute_result"
    }
   ],
   "source": [
    "cc_carol.saldo"
   ]
  },
  {
   "cell_type": "code",
   "execution_count": 27,
   "id": "11859f12-94b9-4729-bad1-9a7a6ecbf671",
   "metadata": {},
   "outputs": [
    {
     "data": {
      "text/plain": [
       "1300"
      ]
     },
     "execution_count": 27,
     "metadata": {},
     "output_type": "execute_result"
    }
   ],
   "source": [
    "cc_vlad.saldo"
   ]
  },
  {
   "cell_type": "markdown",
   "id": "b140ca54-d957-433c-a52a-eb074d831f63",
   "metadata": {},
   "source": [
    "## 11\n"
   ]
  },
  {
   "cell_type": "code",
   "execution_count": 30,
   "id": "513553e9-5ec1-499a-84d9-9616c3c450de",
   "metadata": {},
   "outputs": [],
   "source": [
    "class Fracao:\n",
    "    def __init__(self, numerador, denominador):\n",
    "        if(denominador == 0):\n",
    "            raise ValueError('Tá doidão? Denominador 0????')\n",
    "            \n",
    "        self.numerador = numerador\n",
    "        self.denominador = denominador\n",
    "        \n",
    "    def __repr__(self):\n",
    "        return f'{self.numerador}/{self.denominador}'\n",
    "        \n",
    "    def valor(self):\n",
    "        return self.numerador/self.denominador\n",
    "    \n",
    "    def __add__(self, outro):\n",
    "        num = self.numerador*outro.denominador +\\\n",
    "        self.denominador*outro.numerador\n",
    "        \n",
    "        den = self.denominador*outro.denominador\n",
    "        \n",
    "        return Fracao(num, den)\n",
    "    \n",
    "    def __sub__(self, outro):\n",
    "        num = self.numerador*outro.denominador -\\\n",
    "        self.denominador*outro.numerador\n",
    "        \n",
    "        den = self.denominador*outro.denominador\n",
    "        \n",
    "        return Fracao(num, den)\n",
    "    \n",
    "    def __truediv__(self, outro):\n",
    "        num = self.numerador*outro.denominador\n",
    "        \n",
    "        den = self.denominador*outro.numerador\n",
    "        \n",
    "        return Fracao(num, den)\n",
    "    \n",
    "    def __eq__(self, outro):\n",
    "        return self.valor() == outro.valor()\n",
    "    \n",
    "    def __lt__(self, outro):\n",
    "        return self.valor() < outro.valor()\n",
    "    \n",
    "    def __le__(self, outro):\n",
    "        return self.valor() <= outro.valor()\n",
    "    \n",
    "    def __gt__(self, outro):\n",
    "        return self.valor() > outro.valor()  \n",
    "    \n",
    "    def __ge__(self, outro):\n",
    "        return self.valor() >= outro.valor()\n"
   ]
  },
  {
   "cell_type": "markdown",
   "id": "65d6a2e3-4752-4ae4-9b7c-cf119ead61c6",
   "metadata": {},
   "source": [
    "## 12"
   ]
  },
  {
   "cell_type": "code",
   "execution_count": 38,
   "id": "15143dd5-8491-4b24-b8e5-e63db5488aad",
   "metadata": {},
   "outputs": [],
   "source": [
    "class Data:\n",
    "    def __init__(self,dia, mes, ano):\n",
    "        if not isinstance(dia, int) or dia > 31 or dia <1:\n",
    "            raise ValueError('dia entre 1 e 31')\n",
    "        if not isinstance(mes, int) or mes > 12 or mes <1:\n",
    "            raise ValueError('mes entre 1 e 12')\n",
    "        if not isinstance(ano, int) or ano <0:\n",
    "            raise ValueError('ano tem que ser positivo')\n",
    "\n",
    "        self.dia = dia\n",
    "        self.mes = mes\n",
    "        self.ano = ano\n",
    "        \n",
    "    def __repr__(self):\n",
    "        return f'{self.dia:02d}/{self.mes:02d}/{self.ano:04d}'\n",
    "    \n",
    "    def data_para_contas(self):\n",
    "        return int(f'{self.ano:04d}{self.mes:02d}{self.dia:02d}')\n",
    "    \n",
    "    def __eq__(self, outra):\n",
    "        return self.data_para_contas()==outra.data_para_contas()\n",
    "    \n",
    "    def __lt__(self, outra):\n",
    "        return self.data_para_contas()<outra.data_para_contas()\n",
    "    \n",
    "    def __le__(self, outra):\n",
    "        return self.data_para_contas()<=outra.data_para_contas()\n",
    "    \n",
    "    def __gt__(self, outra):\n",
    "        return self.data_para_contas()>outra.data_para_contas()\n",
    "    \n",
    "    def __ge__(self, outra):\n",
    "        return self.data_para_contas()>=outra.data_para_contas()\n",
    "    "
   ]
  },
  {
   "cell_type": "code",
   "execution_count": 39,
   "id": "2893b3b2-a83d-4f4d-953e-08f1380bfd62",
   "metadata": {},
   "outputs": [],
   "source": [
    "data = Data(29,7,1996)"
   ]
  },
  {
   "cell_type": "code",
   "execution_count": 41,
   "id": "09abb14b-d35c-4e84-98ef-c0d6a32383c3",
   "metadata": {},
   "outputs": [
    {
     "data": {
      "text/plain": [
       "19960729"
      ]
     },
     "execution_count": 41,
     "metadata": {},
     "output_type": "execute_result"
    }
   ],
   "source": [
    "data.data_para_contas()"
   ]
  },
  {
   "cell_type": "markdown",
   "id": "8a8ae41c-eee3-4214-8b7e-ef2ee2c830a3",
   "metadata": {},
   "source": [
    "## 14"
   ]
  },
  {
   "cell_type": "code",
   "execution_count": 64,
   "id": "3c5c687c-1e59-49d4-abe9-7a5c078655d6",
   "metadata": {},
   "outputs": [],
   "source": [
    "class ContaVip(ContaCorrente):\n",
    "    def __init__(self, cliente, saldo=0, cheque_especial=0):\n",
    "        super().__init__(cliente, saldo)\n",
    "        self.cheque_especial = cheque_especial\n",
    "    \n",
    "    def saque(self, valor):\n",
    "        if((self.saldo + self.cheque_especial) - valor >= 0):\n",
    "            self.saldo = self.saldo - valor\n",
    "        else:\n",
    "            print('Sem saldo')\n",
    "            \n",
    "    def transferencia(self, outro, valor):\n",
    "        if((self.saldo+self.cheque_especial) - valor >= 0):\n",
    "            self.saldo = self.saldo - valor\n",
    "            outro.saldo = outro.saldo + valor\n",
    "        else:\n",
    "            print('Sem saldo') "
   ]
  },
  {
   "cell_type": "markdown",
   "id": "26fd52f0-2584-4a47-9444-f6cbf86e412c",
   "metadata": {},
   "source": [
    "## 15"
   ]
  },
  {
   "cell_type": "code",
   "execution_count": 65,
   "id": "98ed5a3d-ef59-4abf-a67b-960d9e0289df",
   "metadata": {},
   "outputs": [],
   "source": [
    "class Retangulo:\n",
    "    def __init__(self, lado_a, lado_b):\n",
    "        '''\n",
    "        cria um retangulo\n",
    "        \n",
    "        parâmetros \n",
    "        lado_a: float\n",
    "        \n",
    "        lado_b: float\n",
    "        \n",
    "        '''\n",
    "        \n",
    "        self.lado_a = lado_a\n",
    "        self.lado_b = lado_b\n",
    "    \n",
    "    def __repr__(self):\n",
    "        return f'Lado 1: {self.lado_a}\\nLado 2: {self.lado_b}'\n",
    "    \n",
    "    def calcula_area(self):\n",
    "        area = self.lado_a * self.lado_b\n",
    "        \n",
    "        return area\n",
    "    \n",
    "ret1 = Retangulo(2,3)\n",
    "    \n",
    "ret1.calcula_area()\n",
    "    \n",
    "class Quadrado(Retangulo):\n",
    "    def __init__ (self, lado):\n",
    "        '''\n",
    "        quadrado\n",
    "        \n",
    "        parametros\n",
    "        \n",
    "        lado:float\n",
    "            lado do quadrado. Todos são iguais\n",
    "        '''\n",
    "        super().__init__(lado_a = lado, lado_b = lado)\n",
    "#       informa que os lados que serão usados para metodos de Retangulo serão todos iguais\n",
    "        self.lado = lado"
   ]
  },
  {
   "cell_type": "code",
   "execution_count": 66,
   "id": "daab3f85-1c0b-444a-bab0-1f9bf8c40cca",
   "metadata": {},
   "outputs": [],
   "source": [
    "quad = Quadrado(3)"
   ]
  },
  {
   "cell_type": "code",
   "execution_count": 67,
   "id": "88a370e0-25c8-43c2-9053-c6a3bb6d0413",
   "metadata": {},
   "outputs": [
    {
     "data": {
      "text/plain": [
       "9"
      ]
     },
     "execution_count": 67,
     "metadata": {},
     "output_type": "execute_result"
    }
   ],
   "source": [
    "quad.calcula_area()"
   ]
  },
  {
   "cell_type": "code",
   "execution_count": null,
   "id": "2930e547-f4b8-4a41-bb34-6f3f61238035",
   "metadata": {},
   "outputs": [],
   "source": []
  }
 ],
 "metadata": {
  "kernelspec": {
   "display_name": "Python 3",
   "language": "python",
   "name": "python3"
  },
  "language_info": {
   "codemirror_mode": {
    "name": "ipython",
    "version": 3
   },
   "file_extension": ".py",
   "mimetype": "text/x-python",
   "name": "python",
   "nbconvert_exporter": "python",
   "pygments_lexer": "ipython3",
   "version": "3.8.8"
  }
 },
 "nbformat": 4,
 "nbformat_minor": 5
}
