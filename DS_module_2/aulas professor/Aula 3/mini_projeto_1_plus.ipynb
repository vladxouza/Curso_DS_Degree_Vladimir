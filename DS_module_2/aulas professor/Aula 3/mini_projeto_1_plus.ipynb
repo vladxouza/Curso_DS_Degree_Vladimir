{
 "cells": [
  {
   "cell_type": "markdown",
   "id": "driving-assignment",
   "metadata": {},
   "source": [
    "## Mini Projeto 1\n",
    "<br>\n",
    "Você trabalha em uma Rede Social e precisa criar uma estrutura que represente as pessoas que a usam em python (com Programação Orientado a Objetos).  \n",
    "<br>\n",
    "É necessário guardar informações das pessoas que utilizam essa rede social:\n",
    "\n",
    "* nome\n",
    "* apelido\n",
    "* data de nascimento\n",
    "* e-mail\n",
    "* amigos\n",
    "* lista de interesses\n",
    "* posts \n",
    "Adicional:\n",
    "* melhores amigos\n",
    "<br>\n",
    "\n",
    "E além disso, existem algumas funcionalidades que precisamos ter:\n",
    "* adicionar um amigo na lista de amigos\n",
    "* adicionar um interesse na lista interesses\n",
    "* postar \n",
    "* calcular a quantidade de amigos\n",
    "* calcular a quantidade de posts\n",
    "* dado um nome, verificar se existe um amigo ou melhor amigo com esse nome (e retornar esses amigos, se existirem)\n",
    "* dado uma palavra ou frase, trazer TODOS os posts com aquela palavra (procurar post)\n",
    "* ~~mostrar os posts dos amigos~~ \n",
    "Adicional:\n",
    "* transformar um amigo em melhor amigo\n",
    "* mostrar os posts \n",
    "     * melhores amigos primeiro \n",
    "     * amigos depois \n",
    "* desfazer amizade\n",
    "* bloquear (não permitir que a amizade com determinada pessoa seja efetuada)\n",
    "---\n",
    "Parâmetros de correção:\n",
    "* Documentação\n",
    "* Bom nomes de classe, atributos, métodos, etc.\n",
    "* Lógica\n",
    "--- \n",
    "É importante que você traga os testes que fez para testar as funcionalidades!"
   ]
  }
 ],
 "metadata": {
  "kernelspec": {
   "display_name": "Python 3",
   "language": "python",
   "name": "python3"
  },
  "language_info": {
   "codemirror_mode": {
    "name": "ipython",
    "version": 3
   },
   "file_extension": ".py",
   "mimetype": "text/x-python",
   "name": "python",
   "nbconvert_exporter": "python",
   "pygments_lexer": "ipython3",
   "version": "3.8.7"
  }
 },
 "nbformat": 4,
 "nbformat_minor": 5
}
