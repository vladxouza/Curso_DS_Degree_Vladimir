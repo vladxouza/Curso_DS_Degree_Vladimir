{
 "cells": [
  {
   "cell_type": "markdown",
   "id": "related-heating",
   "metadata": {},
   "source": [
    "# Aula 3: Dúvidas e exercícios\n",
    "Luis Uzai"
   ]
  },
  {
   "cell_type": "code",
   "execution_count": 21,
   "id": "artificial-driver",
   "metadata": {},
   "outputs": [
    {
     "data": {
      "text/plain": [
       "__main__.Pessoa"
      ]
     },
     "execution_count": 21,
     "metadata": {},
     "output_type": "execute_result"
    }
   ],
   "source": [
    "Pessoa"
   ]
  },
  {
   "cell_type": "code",
   "execution_count": null,
   "id": "killing-washington",
   "metadata": {},
   "outputs": [],
   "source": [
    "[] => posicao de memoria\n",
    "\n",
    "# self.lista_amigos => posicao de memoria\n",
    "# dentro construtor \n",
    "# luis\n",
    "def __init__(luis, nome, lista_amigos=[]):\n",
    "    luis.lista_amigos => posicao de memoria\n",
    "# livia \n",
    "def __init__(livia, nome, lista_amigos=[]):\n",
    "    livia.lista_amigos => posicao de memoria\n",
    "# diego \n",
    "def __init__(diego, nome, lista_amigos=[]):\n",
    "    diego.lista_amigos => posicao de memoria\n"
   ]
  },
  {
   "cell_type": "code",
   "execution_count": 29,
   "id": "aware-opening",
   "metadata": {},
   "outputs": [],
   "source": [
    "class Pessoa:\n",
    "    def __init__(self, nome, lista_amigos=[]):\n",
    "        self.nome = nome\n",
    "        self.lista_amigos = lista_amigos.copy()\n",
    "        self.lista_amigos = list(lista_amigos)\n",
    "        \n",
    "    def adicionar_nome_amigo(self, nome_amigo):\n",
    "        self.lista_amigos.append(nome_amigo)"
   ]
  },
  {
   "cell_type": "code",
   "execution_count": 30,
   "id": "olympic-fellow",
   "metadata": {},
   "outputs": [
    {
     "data": {
      "text/plain": [
       "[]"
      ]
     },
     "execution_count": 30,
     "metadata": {},
     "output_type": "execute_result"
    }
   ],
   "source": [
    "luis = Pessoa('Luis')\n",
    "luis.lista_amigos"
   ]
  },
  {
   "cell_type": "code",
   "execution_count": 31,
   "id": "spiritual-uncertainty",
   "metadata": {},
   "outputs": [
    {
     "data": {
      "text/plain": [
       "[]"
      ]
     },
     "execution_count": 31,
     "metadata": {},
     "output_type": "execute_result"
    }
   ],
   "source": [
    "livia = Pessoa('Livia')\n",
    "livia.lista_amigos"
   ]
  },
  {
   "cell_type": "code",
   "execution_count": 32,
   "id": "opponent-cancellation",
   "metadata": {},
   "outputs": [
    {
     "data": {
      "text/plain": [
       "['Livia']"
      ]
     },
     "execution_count": 32,
     "metadata": {},
     "output_type": "execute_result"
    }
   ],
   "source": [
    "luis.adicionar_nome_amigo(livia.nome)\n",
    "luis.lista_amigos"
   ]
  },
  {
   "cell_type": "code",
   "execution_count": 33,
   "id": "stuffed-exception",
   "metadata": {},
   "outputs": [
    {
     "data": {
      "text/plain": [
       "[]"
      ]
     },
     "execution_count": 33,
     "metadata": {},
     "output_type": "execute_result"
    }
   ],
   "source": [
    "livia.lista_amigos"
   ]
  },
  {
   "cell_type": "code",
   "execution_count": 34,
   "id": "exceptional-metro",
   "metadata": {},
   "outputs": [
    {
     "data": {
      "text/plain": [
       "[]"
      ]
     },
     "execution_count": 34,
     "metadata": {},
     "output_type": "execute_result"
    }
   ],
   "source": [
    "diego = Pessoa('Diego')\n",
    "diego.lista_amigos"
   ]
  },
  {
   "cell_type": "markdown",
   "id": "robust-participation",
   "metadata": {},
   "source": [
    "---"
   ]
  },
  {
   "cell_type": "code",
   "execution_count": null,
   "id": "sudden-vision",
   "metadata": {},
   "outputs": [],
   "source": [
    "class Pessoa:\n",
    "    def __init__(self, nome, lista_amigos=None):\n",
    "        self.nome = nome\n",
    "        if(lista_amigos is None):\n",
    "            self.lista_amigos = []\n",
    "        \n",
    "    def adicionar_nome_amigo(self, nome_amigo):\n",
    "        self.lista_amigos.append(nome_amigo)"
   ]
  },
  {
   "cell_type": "code",
   "execution_count": 36,
   "id": "diagnostic-respect",
   "metadata": {},
   "outputs": [
    {
     "name": "stdout",
     "output_type": "stream",
     "text": [
      "['Livia']\n",
      "[]\n"
     ]
    }
   ],
   "source": [
    "luis = Pessoa('Luis')\n",
    "livia = Pessoa('Livia')\n",
    "luis.adicionar_nome_amigo(livia.nome)\n",
    "print(luis.lista_amigos)\n",
    "print(livia.lista_amigos)"
   ]
  },
  {
   "cell_type": "code",
   "execution_count": 37,
   "id": "abstract-presentation",
   "metadata": {},
   "outputs": [],
   "source": [
    "class Pessoa:\n",
    "    def __init__(self, nome, lista_amigos=[]):\n",
    "        self.nome = nome\n",
    "        self.lista_amigos = lista_amigos\n",
    "        \n",
    "    def adicionar_nome_amigo(self, nome_amigo):\n",
    "        self.lista_amigos.append(nome_amigo)"
   ]
  },
  {
   "cell_type": "code",
   "execution_count": 38,
   "id": "secret-throat",
   "metadata": {},
   "outputs": [],
   "source": [
    "lista_nomes = ['Luis', 'Livia', 'Luffy']"
   ]
  },
  {
   "cell_type": "code",
   "execution_count": 39,
   "id": "bound-source",
   "metadata": {},
   "outputs": [
    {
     "name": "stdout",
     "output_type": "stream",
     "text": [
      "['Luis', 'Livia', 'Luffy']\n"
     ]
    }
   ],
   "source": [
    "luis = Pessoa('Luis')\n",
    "livia = Pessoa('Livia', lista_nomes)\n",
    "print(livia.lista_amigos)"
   ]
  },
  {
   "cell_type": "code",
   "execution_count": 40,
   "id": "sunset-hypothetical",
   "metadata": {},
   "outputs": [
    {
     "name": "stdout",
     "output_type": "stream",
     "text": [
      "['Luis', 'Livia', 'Luffy', 'Natalia']\n"
     ]
    }
   ],
   "source": [
    "livia.adicionar_nome_amigo('Natalia')\n",
    "print(livia.lista_amigos)"
   ]
  },
  {
   "cell_type": "code",
   "execution_count": 42,
   "id": "recognized-christianity",
   "metadata": {},
   "outputs": [],
   "source": [
    "lista_nomes.append('Alessandro')"
   ]
  },
  {
   "cell_type": "code",
   "execution_count": 43,
   "id": "abandoned-pharmaceutical",
   "metadata": {},
   "outputs": [
    {
     "name": "stdout",
     "output_type": "stream",
     "text": [
      "['Luis', 'Livia', 'Luffy', 'Natalia', 'Alessandro']\n"
     ]
    }
   ],
   "source": [
    "print(livia.lista_amigos)"
   ]
  },
  {
   "cell_type": "markdown",
   "id": "freelance-making",
   "metadata": {},
   "source": [
    "---"
   ]
  },
  {
   "cell_type": "code",
   "execution_count": null,
   "id": "elegant-number",
   "metadata": {},
   "outputs": [],
   "source": [
    "class Pessoa:\n",
    "    def __init__(self, nome):\n",
    "        \n",
    "        # \n",
    "        self.nome = nome\n",
    "        \n",
    "        self.lista_amigos = []\n",
    "        \n",
    "        \n",
    "    def adicionar_nome_amigo(self, nome_amigo):\n",
    "        self.lista_amigos.append(nome_amigo)"
   ]
  },
  {
   "cell_type": "markdown",
   "id": "confused-reform",
   "metadata": {},
   "source": [
    "---"
   ]
  },
  {
   "cell_type": "markdown",
   "id": "systematic-consortium",
   "metadata": {},
   "source": [
    "Vaga Cientista\n",
    "* python avançado\n",
    "* machine learning\n",
    "* deep learning\n",
    "* visualização de dados\n",
    "* html\n",
    "* css\n",
    "* javascript\n",
    "* office avançado\n",
    "* windows avançado\n",
    "* brigadista\n",
    "* C#\n",
    "* C++"
   ]
  },
  {
   "cell_type": "markdown",
   "id": "furnished-trace",
   "metadata": {},
   "source": [
    "Vaga Cientista\n",
    "* python avançado\n",
    "* machine learning\n",
    "* deep learning\n",
    "* visualização de dados\n",
    "* estatística\n",
    "* banco de dados\n"
   ]
  },
  {
   "cell_type": "code",
   "execution_count": 47,
   "id": "abstract-constant",
   "metadata": {},
   "outputs": [],
   "source": [
    "class Pessoa:\n",
    "    def __init__(self, nome):\n",
    "        self.nome = nome\n",
    "        self.lista_amigos = []\n",
    "        \n",
    "        \n",
    "    def adicionar_nome_amigo(self, nome_amigo):\n",
    "        self.lista_amigos.append(nome_amigo)\n",
    "        \n",
    "    def quantidade_amigos(self):\n",
    "        print(len(self.lista_amigos))\n",
    "        return len(self.lista_amigos)\n",
    "    \n",
    "    def printa_quantidade_amigos(self):\n",
    "        '''\n",
    "        printar a quantidade de amigos\n",
    "        '''\n",
    "        print(len(self.lista_amigos))\n",
    "    \n",
    "    def procura_amigo(self, nome_amigo):\n",
    "        "
   ]
  },
  {
   "cell_type": "code",
   "execution_count": 48,
   "id": "future-lodging",
   "metadata": {},
   "outputs": [],
   "source": [
    "luis = Pessoa('Luis')\n",
    "livia = Pessoa('Livia')\n",
    "luis.adicionar_nome_amigo(livia.nome)"
   ]
  },
  {
   "cell_type": "code",
   "execution_count": null,
   "id": "demonstrated-spyware",
   "metadata": {},
   "outputs": [],
   "source": [
    "Luis"
   ]
  },
  {
   "cell_type": "code",
   "execution_count": null,
   "id": "cloudy-approach",
   "metadata": {},
   "outputs": [],
   "source": [
    "nome_amigo = input('Amigo que quer procurar:')\n",
    "luis.procura_amigo(nome_amigo)"
   ]
  },
  {
   "cell_type": "markdown",
   "id": "subjective-hopkins",
   "metadata": {},
   "source": [
    "----"
   ]
  },
  {
   "cell_type": "markdown",
   "id": "touched-aluminum",
   "metadata": {},
   "source": [
    "1. Crie uma classe Bola cujos atributos são cor e raio. Crie um método que imprime a cor da bola. Crie um método para calcular a área dessa bola. Crie um método para calcular o volume da bola. Crie um objeto dessa classe e calcule a área e o volume, imprimindo ambos em seguida. \n",
    "    Obs.:\n",
    "\n",
    "    Área da esfera = 4 * 3.14 * r * r;\n",
    "\n",
    "    Volume da esfera = 4 * 3.14 * r * r * r/3"
   ]
  },
  {
   "cell_type": "code",
   "execution_count": 3,
   "id": "certified-channel",
   "metadata": {},
   "outputs": [],
   "source": [
    "PI = 3.14\n",
    "\n",
    "class Bola:\n",
    "    def __init__(self, cor, raio):\n",
    "        '''\n",
    "        Cria uma bola\n",
    "        \n",
    "        Parâmetros\n",
    "        ----------\n",
    "        cor : str\n",
    "            cor da bola\n",
    "        raio : float\n",
    "            raio da bola\n",
    "        '''\n",
    "        self.cor = cor\n",
    "        self.raio = raio\n",
    "        self.area = self.calcula_area()\n",
    "        self.volume = self.calcula_volume()\n",
    "        \n",
    "    def imprime_cor(self):\n",
    "        '''\n",
    "        imprime a cor da bola\n",
    "        '''\n",
    "        print(f'A cor da bola é: {self.cor}')\n",
    "        \n",
    "    def calcula_area(self):\n",
    "        '''\n",
    "        Calcula área da bola\n",
    "        '''\n",
    "        area = 4*Bola.PI*self.raio**2\n",
    "        return area\n",
    "        \n",
    "    def calcula_volume(self):\n",
    "        '''\n",
    "        Calcula volume da bola\n",
    "        4 * 3.14 * r * r * r/3\n",
    "        '''\n",
    "        volume = 4*Bola.PI*self.raio**3/3\n",
    "        return volume"
   ]
  },
  {
   "cell_type": "code",
   "execution_count": 2,
   "id": "prepared-librarian",
   "metadata": {},
   "outputs": [
    {
     "data": {
      "text/plain": [
       "3.14"
      ]
     },
     "execution_count": 2,
     "metadata": {},
     "output_type": "execute_result"
    }
   ],
   "source": [
    "PI"
   ]
  },
  {
   "cell_type": "code",
   "execution_count": 26,
   "id": "solar-index",
   "metadata": {},
   "outputs": [
    {
     "name": "stdout",
     "output_type": "stream",
     "text": [
      "A cor da bola é: vermelha\n"
     ]
    }
   ],
   "source": [
    "bola1 = Bola(\n",
    "    cor='vermelha',\n",
    "    raio = 2\n",
    ")\n",
    "bola1.imprime_cor()"
   ]
  },
  {
   "cell_type": "code",
   "execution_count": 27,
   "id": "disturbed-botswana",
   "metadata": {},
   "outputs": [
    {
     "data": {
      "text/plain": [
       "33.49333333333333"
      ]
     },
     "execution_count": 27,
     "metadata": {},
     "output_type": "execute_result"
    }
   ],
   "source": [
    "bola1.calcula_volume()"
   ]
  },
  {
   "cell_type": "code",
   "execution_count": 28,
   "id": "disabled-hypothetical",
   "metadata": {},
   "outputs": [
    {
     "data": {
      "text/plain": [
       "50.24"
      ]
     },
     "execution_count": 28,
     "metadata": {},
     "output_type": "execute_result"
    }
   ],
   "source": [
    "bola1.calcula_area()"
   ]
  },
  {
   "cell_type": "code",
   "execution_count": 29,
   "id": "accepting-syndication",
   "metadata": {},
   "outputs": [
    {
     "data": {
      "text/plain": [
       "33.49333333333333"
      ]
     },
     "execution_count": 29,
     "metadata": {},
     "output_type": "execute_result"
    }
   ],
   "source": [
    "bola1.volume"
   ]
  },
  {
   "cell_type": "code",
   "execution_count": 30,
   "id": "administrative-brush",
   "metadata": {},
   "outputs": [
    {
     "data": {
      "text/plain": [
       "50.24"
      ]
     },
     "execution_count": 30,
     "metadata": {},
     "output_type": "execute_result"
    }
   ],
   "source": [
    "bola1.area"
   ]
  },
  {
   "cell_type": "markdown",
   "id": "informative-return",
   "metadata": {},
   "source": [
    "---"
   ]
  },
  {
   "cell_type": "markdown",
   "id": "latin-bristol",
   "metadata": {},
   "source": [
    "3. Crie uma classe Funcionario cujos atributos são nome e e-mail. Guarde as horas trabalhadas em um dicionário cujas chaves são o mês em questão e, em outro dicionário, guarde o salário por hora relativo ao mês em questão. Crie um método que retorna o salário mensal do funcionário."
   ]
  },
  {
   "cell_type": "code",
   "execution_count": 20,
   "id": "described-mailman",
   "metadata": {},
   "outputs": [],
   "source": [
    "class Funcionario:\n",
    "    def __init__(self, nome, email):\n",
    "        '''\n",
    "        Cria um funcionário\n",
    "        \n",
    "        Parâmetros\n",
    "        ----------\n",
    "        nome : str\n",
    "            nome do funcionário\n",
    "        email : str\n",
    "            email do funcionário\n",
    "        '''\n",
    "        self.nome = nome \n",
    "        self.email = email\n",
    "        \n",
    "        # horas trabalhadas no mes do funcionario\n",
    "        self.horas_trabalhadas = {}\n",
    "        \n",
    "        # valor da hora naquele mes\n",
    "        self.salario_hora = {}\n",
    "    def lancar_horas_mes(self, mes, quantidade_horas):\n",
    "        '''\n",
    "        Lança as horas do mês\n",
    "        \n",
    "        Parâmetros\n",
    "        ----------\n",
    "        mes : str\n",
    "            mes vigente, exemplo: \"10/2021\"\n",
    "        quantidade_horas : int\n",
    "            quantidade de horas trabalhadas naquele mês\n",
    "        '''\n",
    "        self.horas_trabalhadas[mes] = quantidade_horas\n",
    "        \n",
    "    def define_salario_hora_mes(self, mes, valor_salario_hora):\n",
    "        '''\n",
    "        Define o valor da hora naquele mês (para o salário)\n",
    "        \n",
    "        Parâmetros\n",
    "        ----------\n",
    "        mes : str\n",
    "            mes vigente, exemplo: \"10/2021\"\n",
    "        valor_salario_hora : float\n",
    "            valor da hora no mês vigente\n",
    "        '''\n",
    "        self.salario_hora[mes] = valor_salario_hora\n",
    "        \n",
    "    def calcula_salario_mes(self, mes):\n",
    "        '''\n",
    "        Calcula o salário para o mês vigente\n",
    "        \n",
    "        Parâmetros\n",
    "        ----------\n",
    "        mes : str\n",
    "            mes vigente, exemplo: \"10/2021\"\n",
    "            \n",
    "        Retorno:\n",
    "        --------\n",
    "        out : float\n",
    "            Salário no mês vigente\n",
    "            Retorna 0 se não trabalhou no mês, \n",
    "            ou se o mês não está cadastrado.\n",
    "        '''\n",
    "        if(mes in self.salario_hora \n",
    "           and mes in self.horas_trabalhadas):\n",
    "            return self.salario_hora[mes]*self.horas_trabalhadas[mes]\n",
    "        \n",
    "        print('Salário ou hora não cadastrada.')\n",
    "        return 0"
   ]
  },
  {
   "cell_type": "code",
   "execution_count": 24,
   "id": "finished-design",
   "metadata": {},
   "outputs": [],
   "source": [
    "luis = Funcionario(nome='Luis', email='luisuzai13@gmail.com')\n",
    "luis.lancar_horas_mes('10/2021', 120)"
   ]
  },
  {
   "cell_type": "code",
   "execution_count": 25,
   "id": "pacific-patient",
   "metadata": {},
   "outputs": [],
   "source": [
    "luis.define_salario_hora_mes('10/2021', 80)"
   ]
  },
  {
   "cell_type": "code",
   "execution_count": 27,
   "id": "boring-cancer",
   "metadata": {},
   "outputs": [
    {
     "name": "stdout",
     "output_type": "stream",
     "text": [
      "Salário ou hora não cadastrada.\n"
     ]
    }
   ],
   "source": [
    "luis.calcula_salario_mes('12/2021')"
   ]
  }
 ],
 "metadata": {
  "kernelspec": {
   "display_name": "Python 3",
   "language": "python",
   "name": "python3"
  },
  "language_info": {
   "codemirror_mode": {
    "name": "ipython",
    "version": 3
   },
   "file_extension": ".py",
   "mimetype": "text/x-python",
   "name": "python",
   "nbconvert_exporter": "python",
   "pygments_lexer": "ipython3",
   "version": "3.8.7"
  }
 },
 "nbformat": 4,
 "nbformat_minor": 5
}
