{
 "cells": [
  {
   "cell_type": "markdown",
   "id": "motivated-priest",
   "metadata": {},
   "source": [
    "# Encapsulamento\n",
    "Exercícios da lista: 8, 9, 10, 12, 13."
   ]
  },
  {
   "cell_type": "markdown",
   "id": "becoming-southeast",
   "metadata": {},
   "source": [
    "11. Crie uma classe Fração cujos atributos são numerador (número de cima) e denominador (número de baixo).\n",
    "\n",
    "    Implemente os métodos de adição, subtração, multiplicação, divisão que retornam objetos do tipo Fração.\n",
    "\n",
    "    Implemente também o método _ repr _.\n",
    "\n",
    "    Implemente métodos para comparação: igualdade (==) e desigualdades (!=, <=, >=, < e >)."
   ]
  },
  {
   "cell_type": "code",
   "execution_count": 1,
   "id": "sudden-consent",
   "metadata": {},
   "outputs": [],
   "source": [
    "%load_ext autoreload\n",
    "%autoreload 2"
   ]
  },
  {
   "cell_type": "code",
   "execution_count": 12,
   "id": "fleet-nutrition",
   "metadata": {},
   "outputs": [],
   "source": [
    "class Fracao:\n",
    "    def __init__(self, numerador, denominador):\n",
    "        if(denominador == 0):\n",
    "            raise ValueError('Denominador não pode ser 0.')\n",
    "            \n",
    "        self.numerador = numerador\n",
    "        self.denominador = denominador\n",
    "        \n",
    "    def valor(self):\n",
    "        return self.numerador/self.denominador\n",
    "        \n",
    "    def __repr__(self):\n",
    "        return f'{self.numerador}/{self.denominador}'\n",
    "    \n",
    "    def __add__(self, other):\n",
    "        num = self.numerador*other.denominador +\\\n",
    "        self.denominador*other.numerador\n",
    "        \n",
    "        den = self.denominador*other.denominador\n",
    "        \n",
    "        return Fracao(num, den)\n",
    "    \n",
    "    def __sub__(self, other):\n",
    "        num = self.numerador*other.denominador -\\\n",
    "        self.denominador*other.numerador\n",
    "        \n",
    "        den = self.denominador*other.denominador\n",
    "        \n",
    "        return Fracao(num, den)\n",
    "    \n",
    "    def __mul__(self, other):\n",
    "        num = self.numerador * other.numerador\n",
    "        den = self.denominador * other.denominador\n",
    "        \n",
    "        return Fracao(num, den)\n",
    "    \n",
    "    def __truediv__(self, other):\n",
    "        num = self.numerador*other.denominador\n",
    "        den = self.denominador*other.numerador\n",
    "        \n",
    "        return Fracao(num, den)\n",
    "    \n",
    "    def __eq__(self, other):\n",
    "        return self.valor() == other.valor()\n",
    "    \n",
    "    def __lt__(self, other):\n",
    "        return self.valor() < other.valor()\n",
    "    \n",
    "    def __le__(self, other):\n",
    "        return self.valor() <= other.valor()\n",
    "    \n",
    "    def __gt__(self, other):\n",
    "        return self.valor() > other.valor()  \n",
    "    \n",
    "    def __ge__(self, other):\n",
    "        return self.valor() >= other.valor()"
   ]
  },
  {
   "cell_type": "code",
   "execution_count": 3,
   "id": "metropolitan-basketball",
   "metadata": {},
   "outputs": [],
   "source": [
    "fracao1 = Fracao(1, 2)\n",
    "fracao2 = Fracao(5, 2)\n",
    "fracao3 = Fracao(1, 2)"
   ]
  },
  {
   "cell_type": "code",
   "execution_count": 4,
   "id": "sweet-mechanics",
   "metadata": {},
   "outputs": [
    {
     "data": {
      "text/plain": [
       "28/8"
      ]
     },
     "execution_count": 4,
     "metadata": {},
     "output_type": "execute_result"
    }
   ],
   "source": [
    "fracao1 + fracao2 + fracao3"
   ]
  },
  {
   "cell_type": "code",
   "execution_count": 5,
   "id": "changed-reminder",
   "metadata": {},
   "outputs": [],
   "source": [
    "fracao4 = fracao1 - fracao2"
   ]
  },
  {
   "cell_type": "code",
   "execution_count": 6,
   "id": "personal-rapid",
   "metadata": {},
   "outputs": [
    {
     "data": {
      "text/plain": [
       "5/8"
      ]
     },
     "execution_count": 6,
     "metadata": {},
     "output_type": "execute_result"
    }
   ],
   "source": [
    "fracao1 * fracao2*fracao3"
   ]
  },
  {
   "cell_type": "code",
   "execution_count": 7,
   "id": "olive-lobby",
   "metadata": {},
   "outputs": [
    {
     "data": {
      "text/plain": [
       "2/10"
      ]
     },
     "execution_count": 7,
     "metadata": {},
     "output_type": "execute_result"
    }
   ],
   "source": [
    "fracao1/fracao2"
   ]
  },
  {
   "cell_type": "code",
   "execution_count": 8,
   "id": "correct-direction",
   "metadata": {},
   "outputs": [
    {
     "data": {
      "text/plain": [
       "True"
      ]
     },
     "execution_count": 8,
     "metadata": {},
     "output_type": "execute_result"
    }
   ],
   "source": [
    "fracao1 == fracao3"
   ]
  },
  {
   "cell_type": "code",
   "execution_count": 9,
   "id": "dimensional-thumb",
   "metadata": {},
   "outputs": [
    {
     "data": {
      "text/plain": [
       "False"
      ]
     },
     "execution_count": 9,
     "metadata": {},
     "output_type": "execute_result"
    }
   ],
   "source": [
    "fracao1 < fracao3"
   ]
  },
  {
   "cell_type": "code",
   "execution_count": 10,
   "id": "provincial-confidence",
   "metadata": {},
   "outputs": [
    {
     "data": {
      "text/plain": [
       "True"
      ]
     },
     "execution_count": 10,
     "metadata": {},
     "output_type": "execute_result"
    }
   ],
   "source": [
    "fracao1 <= fracao3"
   ]
  },
  {
   "cell_type": "code",
   "execution_count": 13,
   "id": "another-present",
   "metadata": {},
   "outputs": [
    {
     "data": {
      "text/plain": [
       "False"
      ]
     },
     "execution_count": 13,
     "metadata": {},
     "output_type": "execute_result"
    }
   ],
   "source": [
    "fracao1 > fracao3"
   ]
  },
  {
   "cell_type": "code",
   "execution_count": 14,
   "id": "liquid-gravity",
   "metadata": {},
   "outputs": [
    {
     "data": {
      "text/plain": [
       "True"
      ]
     },
     "execution_count": 14,
     "metadata": {},
     "output_type": "execute_result"
    }
   ],
   "source": [
    "fracao1 >= fracao3"
   ]
  },
  {
   "cell_type": "markdown",
   "id": "disabled-dodge",
   "metadata": {},
   "source": [
    "## Encapsulamento"
   ]
  },
  {
   "cell_type": "code",
   "execution_count": 16,
   "id": "attended-punch",
   "metadata": {},
   "outputs": [],
   "source": [
    "class Pessoa:\n",
    "    def __init__(self, nome, idade, email, senha):\n",
    "        # argumentos\n",
    "        self.nome = nome\n",
    "        self.idade = idade\n",
    "        \n",
    "        self.senha = senha\n",
    "        self.lista_amigos = []\n",
    "        \n",
    "        self.email = email\n",
    "        \n",
    "    def verifica_qte_max_amigos(self):\n",
    "        qte_maxima=2\n",
    "        return len(self.lista_amigos)<qte_maxima\n",
    "    \n",
    "    def adiciona_amigo(self, amigo):\n",
    "        if(amigo not in self.lista_amigos and self.verifica_qte_max_amigos()):\n",
    "            self.lista_amigos.append(amigo)\n",
    "            return True\n",
    "        return False\n",
    "    \n",
    "    def printa_nome_amigos(self):\n",
    "        for amigo in self.lista_amigos:\n",
    "            print(amigo.nome)"
   ]
  },
  {
   "cell_type": "code",
   "execution_count": 18,
   "id": "processed-national",
   "metadata": {},
   "outputs": [],
   "source": [
    "luis = Pessoa(\n",
    "    nome='Luis',\n",
    "    idade=25,\n",
    "    email='luisuzai13@gmail.com',\n",
    "    senha='12345678'\n",
    ")\n",
    "\n",
    "livia = Pessoa(\n",
    "    nome='Livia',\n",
    "    idade=24,\n",
    "    email='livia@gmail.com',\n",
    "    senha='12345678'\n",
    ")\n",
    "\n",
    "luffy = Pessoa(\n",
    "    nome='Luffy',\n",
    "    idade=19,\n",
    "    email='luffy@gmail.com',\n",
    "    senha='queroseroreidospiratas'\n",
    ")"
   ]
  },
  {
   "cell_type": "code",
   "execution_count": 20,
   "id": "brief-helicopter",
   "metadata": {},
   "outputs": [
    {
     "data": {
      "text/plain": [
       "True"
      ]
     },
     "execution_count": 20,
     "metadata": {},
     "output_type": "execute_result"
    }
   ],
   "source": [
    "luis.adiciona_amigo(livia)\n",
    "luis.adiciona_amigo(luffy)"
   ]
  },
  {
   "cell_type": "code",
   "execution_count": 23,
   "id": "boring-bulletin",
   "metadata": {},
   "outputs": [],
   "source": [
    "luis.lista_amigos[0].senha = 'livialinda'"
   ]
  },
  {
   "cell_type": "code",
   "execution_count": 25,
   "id": "respective-relation",
   "metadata": {},
   "outputs": [],
   "source": [
    "livia.idade = 'OI, SEU PAI TEM BOI'"
   ]
  },
  {
   "cell_type": "code",
   "execution_count": 26,
   "id": "eight-attraction",
   "metadata": {},
   "outputs": [
    {
     "name": "stdout",
     "output_type": "stream",
     "text": [
      "Livia\n",
      "Luffy\n"
     ]
    }
   ],
   "source": [
    "luis.printa_nome_amigos()"
   ]
  },
  {
   "cell_type": "markdown",
   "id": "smart-playing",
   "metadata": {},
   "source": [
    "----"
   ]
  },
  {
   "cell_type": "markdown",
   "id": "understood-willow",
   "metadata": {},
   "source": [
    "## Encapsulamento\n",
    "Cada classe deve conter todas as informações necessárias para seu funcionamento bem como todos os métodos necessários para alterar essas informações. Idealmente, apenas objetos da própria classe poderão alterar seus atributos, e objetos de outras classes irão interagir com eles através de métodos.  \n",
    "Existe para: \n",
    "* garantir segurança do objeto e o seu bom funcionamento\n",
    "* proteger as informações"
   ]
  },
  {
   "cell_type": "code",
   "execution_count": 91,
   "id": "dress-grave",
   "metadata": {},
   "outputs": [],
   "source": [
    "class Pessoa:\n",
    "    def __init__(self, nome, idade, email, senha):\n",
    "        # argumentos\n",
    "        self.nome = nome\n",
    "        \n",
    "        # atributos privados recomendados\n",
    "        # o usuário consegue acessar facilmente\n",
    "        # mas é recomendado que não faça nada equivocadamente        \n",
    "        self._idade = idade\n",
    "        self._email = email\n",
    "        \n",
    "        # atributos totalmente privados \n",
    "        self.__senha = senha\n",
    "        self.__lista_amigos = []\n",
    "        \n",
    "    def __verifica_qte_max_amigos(self):\n",
    "        qte_maxima=2\n",
    "        return len(self.__lista_amigos)<qte_maxima\n",
    "    \n",
    "    def adiciona_amigo(self, amigo):\n",
    "        if(amigo not in self.__lista_amigos and self.__verifica_qte_max_amigos()):\n",
    "            self.__lista_amigos.append(amigo)\n",
    "            return True\n",
    "        return False\n",
    "\n",
    "    def mostra_senha(self):\n",
    "        # tenho total liberdade dentro da classe\n",
    "        # mas fora (no objeto) não consigo acessar o valor\n",
    "        # direto\n",
    "        print(self.__senha)\n",
    "    \n",
    "    def printa_nome_amigos(self):\n",
    "        for amigo in self.__lista_amigos:\n",
    "            print(amigo.nome)\n",
    "            \n",
    "    @staticmethod\n",
    "    def mostra_info(pessoa):\n",
    "        representacao = f'{pessoa.nome}\\n{pessoa._email}'\n",
    "        print(representacao)\n",
    "\n",
    "    \n",
    "    @property\n",
    "    def email(self):\n",
    "        return self._email\n",
    "    \n",
    "    @property\n",
    "    def idade(self):\n",
    "        return self._idade\n",
    "    \n",
    "    @idade.setter\n",
    "    def idade(self, valor):\n",
    "        if not isinstance(valor, int) and valor<0:\n",
    "            raise ValueError('A idade precisa ser um inteiro >= 0')        \n",
    "        self._idade = valor"
   ]
  },
  {
   "cell_type": "code",
   "execution_count": 88,
   "id": "conservative-citizenship",
   "metadata": {},
   "outputs": [],
   "source": [
    "luis = Pessoa(\n",
    "    nome='Luis',\n",
    "    idade=25,\n",
    "    email='luisuzai13@gmail.com',\n",
    "    senha='12345678'\n",
    ")\n",
    "\n",
    "livia = Pessoa(\n",
    "    nome='Livia',\n",
    "    idade=24,\n",
    "    email='livia@gmail.com',\n",
    "    senha='12345678'\n",
    ")\n",
    "\n",
    "luffy = Pessoa(\n",
    "    nome='Luffy',\n",
    "    idade=19,\n",
    "    email='luffy@gmail.com',\n",
    "    senha='queroseroreidospiratas'\n",
    ")"
   ]
  },
  {
   "cell_type": "code",
   "execution_count": 89,
   "id": "favorite-burden",
   "metadata": {},
   "outputs": [
    {
     "name": "stdout",
     "output_type": "stream",
     "text": [
      "12345678\n"
     ]
    }
   ],
   "source": [
    "luis.mostra_senha()"
   ]
  },
  {
   "cell_type": "code",
   "execution_count": 90,
   "id": "skilled-welcome",
   "metadata": {},
   "outputs": [
    {
     "ename": "AttributeError",
     "evalue": "'Pessoa' object has no attribute '__senha'",
     "output_type": "error",
     "traceback": [
      "\u001b[1;31m---------------------------------------------------------------------------\u001b[0m",
      "\u001b[1;31mAttributeError\u001b[0m                            Traceback (most recent call last)",
      "\u001b[1;32m<ipython-input-90-d3a28e1ce91c>\u001b[0m in \u001b[0;36m<module>\u001b[1;34m\u001b[0m\n\u001b[1;32m----> 1\u001b[1;33m \u001b[0mluis\u001b[0m\u001b[1;33m.\u001b[0m\u001b[0m__senha\u001b[0m\u001b[1;33m\u001b[0m\u001b[1;33m\u001b[0m\u001b[0m\n\u001b[0m",
      "\u001b[1;31mAttributeError\u001b[0m: 'Pessoa' object has no attribute '__senha'"
     ]
    }
   ],
   "source": [
    "luis.__senha"
   ]
  },
  {
   "cell_type": "code",
   "execution_count": 79,
   "id": "included-little",
   "metadata": {},
   "outputs": [
    {
     "data": {
      "text/plain": [
       "25"
      ]
     },
     "execution_count": 79,
     "metadata": {},
     "output_type": "execute_result"
    }
   ],
   "source": [
    "luis.idade"
   ]
  },
  {
   "cell_type": "code",
   "execution_count": 80,
   "id": "smoking-adoption",
   "metadata": {},
   "outputs": [
    {
     "ename": "AttributeError",
     "evalue": "'Pessoa' object has no attribute 'senha'",
     "output_type": "error",
     "traceback": [
      "\u001b[1;31m---------------------------------------------------------------------------\u001b[0m",
      "\u001b[1;31mAttributeError\u001b[0m                            Traceback (most recent call last)",
      "\u001b[1;32m<ipython-input-80-31791ce75427>\u001b[0m in \u001b[0;36m<module>\u001b[1;34m\u001b[0m\n\u001b[1;32m----> 1\u001b[1;33m \u001b[0mluis\u001b[0m\u001b[1;33m.\u001b[0m\u001b[0msenha\u001b[0m\u001b[1;33m\u001b[0m\u001b[1;33m\u001b[0m\u001b[0m\n\u001b[0m",
      "\u001b[1;31mAttributeError\u001b[0m: 'Pessoa' object has no attribute 'senha'"
     ]
    }
   ],
   "source": [
    "luis.senha"
   ]
  },
  {
   "cell_type": "code",
   "execution_count": 81,
   "id": "aggressive-cloud",
   "metadata": {},
   "outputs": [
    {
     "data": {
      "text/plain": [
       "1"
      ]
     },
     "execution_count": 81,
     "metadata": {},
     "output_type": "execute_result"
    }
   ],
   "source": [
    "luis.idade = 1\n",
    "luis.idade"
   ]
  },
  {
   "cell_type": "code",
   "execution_count": 82,
   "id": "latest-aaron",
   "metadata": {},
   "outputs": [
    {
     "data": {
      "text/plain": [
       "-5"
      ]
     },
     "execution_count": 82,
     "metadata": {},
     "output_type": "execute_result"
    }
   ],
   "source": [
    "luis.idade = -5\n",
    "luis.idade"
   ]
  },
  {
   "cell_type": "code",
   "execution_count": 83,
   "id": "documented-milwaukee",
   "metadata": {},
   "outputs": [
    {
     "name": "stdout",
     "output_type": "stream",
     "text": [
      "Luis\n",
      "luisuzai13@gmail.com\n"
     ]
    }
   ],
   "source": [
    "Pessoa.mostra_info(luis)"
   ]
  },
  {
   "cell_type": "code",
   "execution_count": 84,
   "id": "leading-grocery",
   "metadata": {},
   "outputs": [
    {
     "name": "stdout",
     "output_type": "stream",
     "text": [
      "Livia\n",
      "livia@gmail.com\n"
     ]
    }
   ],
   "source": [
    "luis.mostra_info(livia)"
   ]
  },
  {
   "cell_type": "code",
   "execution_count": 85,
   "id": "impaired-giant",
   "metadata": {},
   "outputs": [
    {
     "data": {
      "text/plain": [
       "True"
      ]
     },
     "execution_count": 85,
     "metadata": {},
     "output_type": "execute_result"
    }
   ],
   "source": [
    "luis.adiciona_amigo(livia)\n",
    "luis.adiciona_amigo(luffy)"
   ]
  },
  {
   "cell_type": "code",
   "execution_count": 86,
   "id": "present-builder",
   "metadata": {},
   "outputs": [
    {
     "name": "stdout",
     "output_type": "stream",
     "text": [
      "Livia\n",
      "Luffy\n"
     ]
    }
   ],
   "source": [
    "luis.printa_nome_amigos()"
   ]
  },
  {
   "cell_type": "code",
   "execution_count": 37,
   "id": "critical-funds",
   "metadata": {},
   "outputs": [
    {
     "data": {
      "text/plain": [
       "'luis@gmail.com'"
      ]
     },
     "execution_count": 37,
     "metadata": {},
     "output_type": "execute_result"
    }
   ],
   "source": [
    "luis._email = 'luis@gmail.com'\n",
    "luis._email"
   ]
  },
  {
   "cell_type": "code",
   "execution_count": 38,
   "id": "tracked-influence",
   "metadata": {},
   "outputs": [
    {
     "ename": "AttributeError",
     "evalue": "'Pessoa' object has no attribute '__senha'",
     "output_type": "error",
     "traceback": [
      "\u001b[1;31m---------------------------------------------------------------------------\u001b[0m",
      "\u001b[1;31mAttributeError\u001b[0m                            Traceback (most recent call last)",
      "\u001b[1;32m<ipython-input-38-d3a28e1ce91c>\u001b[0m in \u001b[0;36m<module>\u001b[1;34m\u001b[0m\n\u001b[1;32m----> 1\u001b[1;33m \u001b[0mluis\u001b[0m\u001b[1;33m.\u001b[0m\u001b[0m__senha\u001b[0m\u001b[1;33m\u001b[0m\u001b[1;33m\u001b[0m\u001b[0m\n\u001b[0m",
      "\u001b[1;31mAttributeError\u001b[0m: 'Pessoa' object has no attribute '__senha'"
     ]
    }
   ],
   "source": [
    "luis.__senha"
   ]
  },
  {
   "cell_type": "code",
   "execution_count": 41,
   "id": "changed-vulnerability",
   "metadata": {},
   "outputs": [
    {
     "data": {
      "text/plain": [
       "'onepieceehlegal'"
      ]
     },
     "execution_count": 41,
     "metadata": {},
     "output_type": "execute_result"
    }
   ],
   "source": [
    "luis._Pessoa__senha = 'onepieceehlegal'\n",
    "luis._Pessoa__senha"
   ]
  }
 ],
 "metadata": {
  "kernelspec": {
   "display_name": "Python 3",
   "language": "python",
   "name": "python3"
  },
  "language_info": {
   "codemirror_mode": {
    "name": "ipython",
    "version": 3
   },
   "file_extension": ".py",
   "mimetype": "text/x-python",
   "name": "python",
   "nbconvert_exporter": "python",
   "pygments_lexer": "ipython3",
   "version": "3.8.7"
  }
 },
 "nbformat": 4,
 "nbformat_minor": 5
}
