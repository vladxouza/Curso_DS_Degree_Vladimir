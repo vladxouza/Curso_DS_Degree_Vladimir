{
 "cells": [
  {
   "cell_type": "markdown",
   "id": "civilian-estimate",
   "metadata": {},
   "source": [
    "# POO - Aula 2\n",
    "Luis Uzai"
   ]
  },
  {
   "cell_type": "markdown",
   "id": "handled-crash",
   "metadata": {},
   "source": [
    "## Boas práticas: \n",
    "* https://numpydoc.readthedocs.io/en/latest/format.html\n",
    "* https://sphinxcontrib-napoleon.readthedocs.io/en/latest/example_numpy.html#example-numpy\n",
    "* https://www.python.org/dev/peps/pep-0008/\n",
    "\n",
    "__nome de arquivo ```.py```__: substantivo e singular\n",
    "* convenção de nomes: letras minúsculas e sem \"_\"\n",
    "    > exemplo: ```contacorrente.py, agencia.py, main.py```  \n",
    "    \n",
    "__nome de classes__:  substantivo e singular\n",
    "* representa um conceito\n",
    "* convenção de nomes: upper CamelCase\n",
    "    > exemplo: ```ContaCorrente, Pedido, Pessoa, Carro, Animal```  \n",
    "    \n",
    "__nome de atributo__: substantivo ou verbos \n",
    "* representa estado\n",
    "* convenção de nomes: minúscula separado por \"_\" (snake case)\n",
    "    > exemplo: ```nome, id, telefone, preco, eh_ativo, idade, cor```\n",
    "    \n",
    "__nome de métodos__: verbo no imperativo afirmativo (2ª pessoa do singular) ou infinitivo\n",
    "* representa ações e configurações\n",
    "* convenção de nomes: minúscula separado por \"_\" (snake case)\n",
    "    > exemplo: ```retirar, salvar_em_arquivo, alugar, embaralhar```  \n",
    "    > &emsp; &emsp;&emsp;&emsp;```retira, salva_em_arquivo, aluga, embaralha```"
   ]
  },
  {
   "cell_type": "code",
   "execution_count": null,
   "id": "fabulous-bride",
   "metadata": {},
   "outputs": [],
   "source": [
    "class Pessoa:\n",
    "    '''\n",
    "    \n",
    "    '''"
   ]
  },
  {
   "cell_type": "markdown",
   "id": "fitting-ballet",
   "metadata": {},
   "source": [
    "---"
   ]
  },
  {
   "cell_type": "code",
   "execution_count": 27,
   "id": "induced-bailey",
   "metadata": {},
   "outputs": [
    {
     "data": {
      "text/plain": [
       "'minha string'"
      ]
     },
     "execution_count": 27,
     "metadata": {},
     "output_type": "execute_result"
    }
   ],
   "source": [
    "nome = 'minha string'\n",
    "nome.lower()"
   ]
  },
  {
   "cell_type": "code",
   "execution_count": null,
   "id": "sunset-allocation",
   "metadata": {},
   "outputs": [],
   "source": [
    "class nossa_string:\n",
    "    def __init__(self, texto):\n",
    "        self.texto = texto\n",
    "    def lower(self):\n",
    "        for caractere in texto:\n",
    "            "
   ]
  },
  {
   "cell_type": "code",
   "execution_count": null,
   "id": "horizontal-recovery",
   "metadata": {},
   "outputs": [],
   "source": [
    "class Pessoa:\n",
    "    def __init__(self ----):\n",
    "        self.amigos = []\n",
    "        \n",
    "    def adiciona_amigo(self, amigo):\n",
    "        self.amigos.append(amigo)\n",
    "        amigo.amigos.append(self)\n",
    "        \n",
    "luis\n",
    "joao\n",
    "matheus\n",
    "joyce\n",
    "\n",
    "luis.adiciona_amigo(joao)\n",
    "luis.amigos[0].nome\n",
    "joao.amigos[0].nome"
   ]
  },
  {
   "cell_type": "code",
   "execution_count": 304,
   "id": "mechanical-underwear",
   "metadata": {},
   "outputs": [],
   "source": [
    "import random\n",
    "class Pessoa:\n",
    "    def __init__(self, nome_pessoa, cor_olhos, cor_cabelo, data_nascimento):\n",
    "        '''\n",
    "        Cria uma representação da Pessoa\n",
    "        \n",
    "        Parâmetros\n",
    "        ----------\n",
    "        nome_pessoa : str\n",
    "            Nome da pessoa \n",
    "        cor_olhos : str\n",
    "            Cor dos olhos \n",
    "        cor_cabelo : str\n",
    "            Cor do cabelo\n",
    "        data_nascimento : str\n",
    "            Data de nascimento da pessoa\n",
    "        '''\n",
    "        # criando os meus atributos\n",
    "        self.nome = nome_pessoa\n",
    "        self.cor_olhos = cor_olhos\n",
    "        self.cor_cabelo = cor_cabelo\n",
    "        self.data_nascimento = data_nascimento\n",
    "        \n",
    "        \n",
    "        # atributos que não são passados na criação\n",
    "        # pois não são necessários valores prévios\n",
    "        self.conjuge = None\n",
    "        self.filhos = []\n",
    "        \n",
    "        # calcula a idade e guarda em um atributo        \n",
    "        ano_nascimento = data_nascimento.split('/')[2]\n",
    "        self.idade = 2021 - int(ano_nascimento)\n",
    "        \n",
    "    def casar(self, pessoa):\n",
    "        '''\n",
    "        Casa self com a pessoa passada por parâmetro\n",
    "        \n",
    "        Parâmetros\n",
    "        ----------\n",
    "        pessoa : Pessoa\n",
    "            pessoa da qual o self vai casar\n",
    "        Retorno\n",
    "        ----------\n",
    "        out : Bool\n",
    "            True se deu certo, False se não deu\n",
    "        '''\n",
    "        if(self.conjuge is None and pessoa.conjuge is None):\n",
    "            self.conjuge = pessoa\n",
    "            pessoa.conjuge = self\n",
    "            return True\n",
    "        return False\n",
    "        # redundante\n",
    "#         else: \n",
    "#             return False\n",
    "    def cegonha(self, nome):\n",
    "        '''\n",
    "        Gera um filho(a) para self, \n",
    "        e se existir, para o conjuge também\n",
    "        \n",
    "        Parâmetros \n",
    "        ----------\n",
    "        nome : str\n",
    "            nome dado ao filho(a)\n",
    "        \n",
    "        Retorna\n",
    "        -------\n",
    "        out : Pessoa\n",
    "            retorna o filho \n",
    "        '''\n",
    "        # se o conjuge for vazio, \n",
    "        # criar um filho só de self\n",
    "        if(self.conjuge is None):\n",
    "            filho = Pessoa(\n",
    "                nome_pessoa=nome,\n",
    "                cor_cabelo=self.cor_cabelo,\n",
    "                cor_olhos=self.cor_olhos,\n",
    "                data_nascimento='08/11/2021'\n",
    "            )\n",
    "            self.filhos.append(filho)\n",
    "            return filho\n",
    "        \n",
    "        # se aleatorio=1, caracteristicas de self\n",
    "        aleatorio = random.randint(1,2)\n",
    "        if(aleatorio==1):\n",
    "            filho = Pessoa(\n",
    "                nome_pessoa=nome,\n",
    "                cor_cabelo=self.cor_cabelo,\n",
    "                cor_olhos=self.cor_olhos,\n",
    "                data_nascimento='08/11/2021'\n",
    "            )\n",
    "            # adicionando na lista de filhos de self e conjuge\n",
    "            self.filhos.append(filho)\n",
    "            self.conjuge.filhos.append(filho)\n",
    "            return filho\n",
    "        \n",
    "        # se aleatorio=2, caracteristicas de self.conjuge\n",
    "        elif(aleatorio==2):\n",
    "            filho = Pessoa(\n",
    "                nome_pessoa=nome,\n",
    "                cor_cabelo=self.conjuge.cor_cabelo,\n",
    "                cor_olhos=self.conjuge.cor_olhos,\n",
    "                data_nascimento='08/11/2021'\n",
    "            )\n",
    "            # adicionando na lista de filhos de self e conjuge\n",
    "            self.filhos.append(filho)\n",
    "            self.conjuge.filhos.append(filho)\n",
    "            return filho\n",
    "        \n",
    "    def mostra_nomes_filhos(self):\n",
    "        '''\n",
    "        mostra o nome dos filhos de self\n",
    "        '''\n",
    "        print(f'Filhos de {self.nome}:')\n",
    "        for filho in self.filhos:\n",
    "            print(filho.nome)\n"
   ]
  },
  {
   "cell_type": "code",
   "execution_count": 318,
   "id": "federal-billion",
   "metadata": {},
   "outputs": [],
   "source": [
    "nome_pessoa = 'Luis'\n",
    "luis = Pessoa(\n",
    "    nome_pessoa=nome_pessoa,\n",
    "    cor_olhos='preto',\n",
    "    cor_cabelo='preto',\n",
    "    data_nascimento='30/08/1996'\n",
    "    \n",
    ")\n",
    "# é igual a de cima\n",
    "livia = Pessoa(\n",
    "    'Livia',\n",
    "    'castanho',\n",
    "    'castanho',\n",
    "    '25/01/1997'\n",
    ")"
   ]
  },
  {
   "cell_type": "markdown",
   "id": "typical-marks",
   "metadata": {},
   "source": [
    "informações do Luis"
   ]
  },
  {
   "cell_type": "code",
   "execution_count": 326,
   "id": "interim-photography",
   "metadata": {},
   "outputs": [
    {
     "data": {
      "text/plain": [
       "7"
      ]
     },
     "execution_count": 326,
     "metadata": {},
     "output_type": "execute_result"
    }
   ],
   "source": [
    "luis.idade"
   ]
  },
  {
   "cell_type": "code",
   "execution_count": 320,
   "id": "modular-player",
   "metadata": {},
   "outputs": [
    {
     "data": {
      "text/plain": [
       "'Luis'"
      ]
     },
     "execution_count": 320,
     "metadata": {},
     "output_type": "execute_result"
    }
   ],
   "source": [
    "luis.nome"
   ]
  },
  {
   "cell_type": "code",
   "execution_count": 321,
   "id": "useful-painting",
   "metadata": {},
   "outputs": [
    {
     "data": {
      "text/plain": [
       "'preto'"
      ]
     },
     "execution_count": 321,
     "metadata": {},
     "output_type": "execute_result"
    }
   ],
   "source": [
    "luis.cor_cabelo"
   ]
  },
  {
   "cell_type": "code",
   "execution_count": 322,
   "id": "connected-technician",
   "metadata": {},
   "outputs": [
    {
     "data": {
      "text/plain": [
       "'preto'"
      ]
     },
     "execution_count": 322,
     "metadata": {},
     "output_type": "execute_result"
    }
   ],
   "source": [
    "luis.cor_olhos"
   ]
  },
  {
   "cell_type": "markdown",
   "id": "according-consultation",
   "metadata": {},
   "source": [
    "informações da Livia"
   ]
  },
  {
   "cell_type": "code",
   "execution_count": 323,
   "id": "incorporated-custom",
   "metadata": {},
   "outputs": [
    {
     "data": {
      "text/plain": [
       "'castanho'"
      ]
     },
     "execution_count": 323,
     "metadata": {},
     "output_type": "execute_result"
    }
   ],
   "source": [
    "livia.cor_cabelo"
   ]
  },
  {
   "cell_type": "code",
   "execution_count": 324,
   "id": "amber-messaging",
   "metadata": {},
   "outputs": [
    {
     "data": {
      "text/plain": [
       "24"
      ]
     },
     "execution_count": 324,
     "metadata": {},
     "output_type": "execute_result"
    }
   ],
   "source": [
    "livia.idade"
   ]
  },
  {
   "cell_type": "markdown",
   "id": "realistic-clerk",
   "metadata": {},
   "source": [
    "Casar Luis e Livia"
   ]
  },
  {
   "cell_type": "code",
   "execution_count": 309,
   "id": "fatal-airfare",
   "metadata": {},
   "outputs": [
    {
     "data": {
      "text/plain": [
       "True"
      ]
     },
     "execution_count": 309,
     "metadata": {},
     "output_type": "execute_result"
    }
   ],
   "source": [
    "luis.casar(pessoa=livia)"
   ]
  },
  {
   "cell_type": "code",
   "execution_count": 259,
   "id": "signed-edmonton",
   "metadata": {},
   "outputs": [
    {
     "data": {
      "text/plain": [
       "<__main__.Pessoa at 0x240dcaf7d30>"
      ]
     },
     "execution_count": 259,
     "metadata": {},
     "output_type": "execute_result"
    }
   ],
   "source": [
    "livia"
   ]
  },
  {
   "cell_type": "code",
   "execution_count": 260,
   "id": "impossible-professional",
   "metadata": {},
   "outputs": [
    {
     "data": {
      "text/plain": [
       "<__main__.Pessoa at 0x240dcaf7d30>"
      ]
     },
     "execution_count": 260,
     "metadata": {},
     "output_type": "execute_result"
    }
   ],
   "source": [
    "luis.conjuge"
   ]
  },
  {
   "cell_type": "code",
   "execution_count": 261,
   "id": "swiss-swimming",
   "metadata": {},
   "outputs": [
    {
     "data": {
      "text/plain": [
       "True"
      ]
     },
     "execution_count": 261,
     "metadata": {},
     "output_type": "execute_result"
    }
   ],
   "source": [
    "luis.conjuge == livia"
   ]
  },
  {
   "cell_type": "code",
   "execution_count": 262,
   "id": "paperback-poetry",
   "metadata": {},
   "outputs": [
    {
     "data": {
      "text/plain": [
       "True"
      ]
     },
     "execution_count": 262,
     "metadata": {},
     "output_type": "execute_result"
    }
   ],
   "source": [
    "luis.conjuge is livia"
   ]
  },
  {
   "cell_type": "code",
   "execution_count": 263,
   "id": "assisted-mexican",
   "metadata": {},
   "outputs": [
    {
     "data": {
      "text/plain": [
       "'Luis'"
      ]
     },
     "execution_count": 263,
     "metadata": {},
     "output_type": "execute_result"
    }
   ],
   "source": [
    "livia.conjuge.nome"
   ]
  },
  {
   "cell_type": "code",
   "execution_count": 297,
   "id": "alike-compensation",
   "metadata": {},
   "outputs": [
    {
     "data": {
      "text/plain": [
       "True"
      ]
     },
     "execution_count": 297,
     "metadata": {},
     "output_type": "execute_result"
    }
   ],
   "source": [
    "livia.casar(luis)"
   ]
  },
  {
   "cell_type": "markdown",
   "id": "silver-birth",
   "metadata": {},
   "source": [
    "Filho (a)"
   ]
  },
  {
   "cell_type": "code",
   "execution_count": 310,
   "id": "broke-flight",
   "metadata": {},
   "outputs": [],
   "source": [
    "helena = luis.cegonha('Helena')\n",
    "pedro = livia.cegonha('Pedro')"
   ]
  },
  {
   "cell_type": "code",
   "execution_count": 312,
   "id": "automated-musician",
   "metadata": {},
   "outputs": [
    {
     "data": {
      "text/plain": [
       "'Helena'"
      ]
     },
     "execution_count": 312,
     "metadata": {},
     "output_type": "execute_result"
    }
   ],
   "source": [
    "helena.nome"
   ]
  },
  {
   "cell_type": "code",
   "execution_count": 313,
   "id": "caring-gentleman",
   "metadata": {},
   "outputs": [
    {
     "data": {
      "text/plain": [
       "0"
      ]
     },
     "execution_count": 313,
     "metadata": {},
     "output_type": "execute_result"
    }
   ],
   "source": [
    "helena.idade"
   ]
  },
  {
   "cell_type": "code",
   "execution_count": 314,
   "id": "quarterly-coordination",
   "metadata": {},
   "outputs": [
    {
     "data": {
      "text/plain": [
       "'Helena'"
      ]
     },
     "execution_count": 314,
     "metadata": {},
     "output_type": "execute_result"
    }
   ],
   "source": [
    "luis.filhos[0].nome"
   ]
  },
  {
   "cell_type": "code",
   "execution_count": 317,
   "id": "overall-battle",
   "metadata": {},
   "outputs": [
    {
     "data": {
      "text/plain": [
       "<__main__.Pessoa at 0x240dcaf5dc0>"
      ]
     },
     "execution_count": 317,
     "metadata": {},
     "output_type": "execute_result"
    }
   ],
   "source": [
    "helena"
   ]
  },
  {
   "cell_type": "code",
   "execution_count": 316,
   "id": "dense-pilot",
   "metadata": {},
   "outputs": [
    {
     "data": {
      "text/plain": [
       "<__main__.Pessoa at 0x240dcaf5dc0>"
      ]
     },
     "execution_count": 316,
     "metadata": {},
     "output_type": "execute_result"
    }
   ],
   "source": [
    "livia.filhos[0]"
   ]
  },
  {
   "cell_type": "code",
   "execution_count": 300,
   "id": "compatible-license",
   "metadata": {},
   "outputs": [
    {
     "data": {
      "text/plain": [
       "[<__main__.Pessoa at 0x240dca438e0>, <__main__.Pessoa at 0x240dca43fd0>]"
      ]
     },
     "execution_count": 300,
     "metadata": {},
     "output_type": "execute_result"
    }
   ],
   "source": [
    "livia.filhos"
   ]
  },
  {
   "cell_type": "markdown",
   "id": "oriental-french",
   "metadata": {},
   "source": [
    "Será que a lista é realmente igual?"
   ]
  },
  {
   "cell_type": "code",
   "execution_count": 301,
   "id": "analyzed-equilibrium",
   "metadata": {},
   "outputs": [
    {
     "data": {
      "text/plain": [
       "True"
      ]
     },
     "execution_count": 301,
     "metadata": {},
     "output_type": "execute_result"
    }
   ],
   "source": [
    "livia.filhos[0] is luis.filhos[0]"
   ]
  },
  {
   "cell_type": "code",
   "execution_count": 302,
   "id": "removed-feature",
   "metadata": {},
   "outputs": [
    {
     "data": {
      "text/plain": [
       "True"
      ]
     },
     "execution_count": 302,
     "metadata": {},
     "output_type": "execute_result"
    }
   ],
   "source": [
    "livia.filhos[1] is luis.filhos[1]"
   ]
  },
  {
   "cell_type": "markdown",
   "id": "olympic-genome",
   "metadata": {},
   "source": [
    "Mostra o nome dos filhos de luis:"
   ]
  },
  {
   "cell_type": "code",
   "execution_count": 311,
   "id": "parliamentary-joint",
   "metadata": {},
   "outputs": [
    {
     "name": "stdout",
     "output_type": "stream",
     "text": [
      "Filhos de Luis:\n",
      "Helena\n",
      "Pedro\n"
     ]
    }
   ],
   "source": [
    "luis.mostra_nomes_filhos()"
   ]
  },
  {
   "cell_type": "code",
   "execution_count": null,
   "id": "accompanied-guyana",
   "metadata": {},
   "outputs": [],
   "source": []
  }
 ],
 "metadata": {
  "kernelspec": {
   "display_name": "Python 3",
   "language": "python",
   "name": "python3"
  },
  "language_info": {
   "codemirror_mode": {
    "name": "ipython",
    "version": 3
   },
   "file_extension": ".py",
   "mimetype": "text/x-python",
   "name": "python",
   "nbconvert_exporter": "python",
   "pygments_lexer": "ipython3",
   "version": "3.8.7"
  }
 },
 "nbformat": 4,
 "nbformat_minor": 5
}
