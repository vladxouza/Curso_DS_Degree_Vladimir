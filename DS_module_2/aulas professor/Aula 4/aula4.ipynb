{
 "cells": [
  {
   "cell_type": "markdown",
   "id": "cleared-vacuum",
   "metadata": {},
   "source": [
    "# Métodos Mágicos (Dunder Methods)  ou sobrecarga de operadores\n",
    "Luis Uzai"
   ]
  },
  {
   "cell_type": "markdown",
   "id": "directed-basics",
   "metadata": {},
   "source": [
    "Referências:\n",
    "* https://docs.python.org/pt-br/3/reference/datamodel.html#specialnames\n",
    "* https://docs.python.org/3/reference/datamodel.html#specialnames"
   ]
  },
  {
   "cell_type": "code",
   "execution_count": 3,
   "id": "diagnostic-expense",
   "metadata": {},
   "outputs": [],
   "source": [
    "class Relogio:\n",
    "    def __init__(self, hora, minuto, segundo):\n",
    "        # verificação de tipos\n",
    "        if not isinstance(hora, int):\n",
    "            raise TypeError(\"A hora tem que ser inteiro.\")\n",
    "        if not isinstance(minuto, int):\n",
    "            raise TypeError(\"O minuto tem que ser inteiro.\")\n",
    "        if not isinstance(segundo, int):\n",
    "            raise TypeError(\"O segundo tem que ser inteiro.\")            \n",
    "        \n",
    "        # verificação de intervalos\n",
    "        if hora < 0 or hora > 23 :\n",
    "            raise ValueError(\"A hora tem que estar entre 0-23\")\n",
    "        if minuto < 0 or minuto > 59 :\n",
    "            raise ValueError(\"O minuto tem que estar entre 0-59\")\n",
    "        if segundo < 0 or segundo > 59 :\n",
    "            raise ValueError(\"O segundo tem que estar entre 0-59\")\n",
    "        \n",
    "        self.hora = hora\n",
    "        self.minuto = minuto\n",
    "        self.segundo = segundo\n",
    "    \n",
    "    def __repr__(self):\n",
    "        return f'{self.hora:02d}:{self.minuto:02d}:{self.segundo:02d}'\n",
    "            \n",
    "    def __str__(self):\n",
    "        return f'A hora atual: {self.hora:02d}:{self.minuto:02d}:{self.segundo:02d}'\n",
    "            \n",
    "    def __add__(self, other):    \n",
    "        minuto = 0\n",
    "        hora = 0\n",
    "        \n",
    "        segundo = self.segundo + other.segundo      \n",
    "        if(segundo>59):\n",
    "            segundo = segundo - 60\n",
    "            minuto = 1\n",
    "            \n",
    "        minuto = self.minuto + other.minuto + minuto         \n",
    "        if(minuto>59):\n",
    "            minuto = minuto - 60\n",
    "            hora = 1\n",
    "        \n",
    "        hora = self.hora + other.hora + hora\n",
    "        if(hora>23):\n",
    "            hora = hora - 24\n",
    "            \n",
    "        soma = Relogio(hora, minuto, segundo)\n",
    "        return soma  \n",
    "            \n",
    "    def __sub__(self, other):\n",
    "        pass\n",
    "        # fica como desafio\n",
    "    \n",
    "    def __lt__(self, other):\n",
    "        if(self.hora < other.hora):\n",
    "            return True\n",
    "        \n",
    "        elif(self.hora == other.hora):            \n",
    "            if(self.minuto < other.minuto):\n",
    "                return True\n",
    "            elif(self.minuto == other.minuto):\n",
    "                if(self.segundo < other.segundo):\n",
    "                    return True                \n",
    "        return False\n",
    "    \n",
    "    # retorna o tamanho do seu objeto quando o len(obj)\n",
    "    # é chamado\n",
    "    def __len__(self):\n",
    "        pass"
   ]
  },
  {
   "cell_type": "code",
   "execution_count": 131,
   "id": "enabling-marking",
   "metadata": {},
   "outputs": [
    {
     "name": "stdout",
     "output_type": "stream",
     "text": [
      "A hora atual: 01:44:55\n"
     ]
    },
    {
     "data": {
      "text/plain": [
       "01:44:55"
      ]
     },
     "execution_count": 131,
     "metadata": {},
     "output_type": "execute_result"
    }
   ],
   "source": [
    "relogio1 = Relogio(1, 44, 55)\n",
    "print(relogio1)\n",
    "relogio1"
   ]
  },
  {
   "cell_type": "code",
   "execution_count": 124,
   "id": "approximate-relaxation",
   "metadata": {},
   "outputs": [
    {
     "name": "stdout",
     "output_type": "stream",
     "text": [
      "A hora atual: 23:00:00\n"
     ]
    },
    {
     "data": {
      "text/plain": [
       "23:00:00"
      ]
     },
     "execution_count": 124,
     "metadata": {},
     "output_type": "execute_result"
    }
   ],
   "source": [
    "relogio2 = Relogio(23, 0, 0)\n",
    "print(relogio2)\n",
    "relogio2"
   ]
  },
  {
   "cell_type": "code",
   "execution_count": 129,
   "id": "exact-savings",
   "metadata": {},
   "outputs": [
    {
     "data": {
      "text/plain": [
       "00:44:55"
      ]
     },
     "execution_count": 129,
     "metadata": {},
     "output_type": "execute_result"
    }
   ],
   "source": [
    "relogio1 + relogio2"
   ]
  },
  {
   "cell_type": "code",
   "execution_count": 126,
   "id": "union-centre",
   "metadata": {},
   "outputs": [
    {
     "data": {
      "text/plain": [
       "02:44:55"
      ]
     },
     "execution_count": 126,
     "metadata": {},
     "output_type": "execute_result"
    }
   ],
   "source": [
    "relogio1 - relogio2"
   ]
  },
  {
   "cell_type": "code",
   "execution_count": 133,
   "id": "illegal-killing",
   "metadata": {},
   "outputs": [
    {
     "data": {
      "text/plain": [
       "True"
      ]
     },
     "execution_count": 133,
     "metadata": {},
     "output_type": "execute_result"
    }
   ],
   "source": [
    "relogio1<relogio2"
   ]
  },
  {
   "cell_type": "markdown",
   "id": "backed-innocent",
   "metadata": {},
   "source": [
    "Os métodos a seguir podem ser definidos para emular objetos numéricos. Métodos correspondentes a operações que não são suportadas pelo tipo particular de número implementado (por exemplo, operações bit a bit para números não inteiros) devem ser deixados indefinidos.\n",
    "```python\n",
    "object.__add__(self, other)\n",
    "object.__sub__(self, other)\n",
    "object.__mul__(self, other)\n",
    "object.__matmul__(self, other)\n",
    "object.__truediv__(self, other)\n",
    "object.__floordiv__(self, other)\n",
    "object.__mod__(self, other)\n",
    "object.__divmod__(self, other)\n",
    "object.__pow__(self, other[, modulo])\n",
    "object.__lshift__(self, other)\n",
    "object.__rshift__(self, other)\n",
    "object.__and__(self, other)\n",
    "object.__xor__(self, other)\n",
    "object.__or__(self, other)\n",
    "```\n",
    "Esses métodos são chamados para implementar as operações aritméticas binárias ```(+, -, *, @, /, //, %, divmod(), pow(), **, <<, >>, &, ^, |)```. Por exemplo, para avaliar a expressão x + y, onde x é uma instância de uma classe que tem um método ```__add__()```, ```x.__add__(y)``` é chamado. Por exemplo:\n",
    "\n",
    "* ```x+y``` chama: \n",
    "    ```python\n",
    "    x.__add__(y)\n",
    "    ```\n",
    "* ```x-y``` chama:\n",
    "    ```python\n",
    "    x.__sub__(y)\n",
    "    ```\n",
    "* ```x*y``` chama: \n",
    "    ```python\n",
    "    x.__mul__(y)\n",
    "    ```\n",
    "* ```x@y``` chama: \n",
    "    ```python\n",
    "    x.__matmul__(y)\n",
    "    ```\n",
    "* ```x/y``` chama: \n",
    "    ```python\n",
    "    x.__truediv__(y)\n",
    "    ```\n",
    "* ```x//y``` chama: \n",
    "    ```python\n",
    "    x.__floordiv__(y)\n",
    "    ```  \n",
    "* ```x%y``` chama: \n",
    "    ```python\n",
    "    x.__mod__(y)\n",
    "    ```\n",
    "* ```x**y``` chama: \n",
    "    ```python\n",
    "    x.__pow__(y)\n",
    "    ```  \n",
    "* ```x&y``` chama: \n",
    "    ```python\n",
    "    x.__and__(y)\n",
    "    ```  \n",
    "* e ```x|y``` chama: \n",
    "    ```python\n",
    "    x.__or__(y)\n",
    "    ```  \n",
    "\n",
    "__Referência__: https://docs.python.org/pt-br/3/reference/datamodel.html#emulating-numeric-types  \n"
   ]
  },
  {
   "cell_type": "markdown",
   "id": "prostate-hayes",
   "metadata": {},
   "source": [
    "---"
   ]
  },
  {
   "cell_type": "markdown",
   "id": "proved-onion",
   "metadata": {},
   "source": [
    "\n",
    "```python\n",
    "object.__lt__(self, other)\n",
    "object.__le__(self, other)\n",
    "object.__eq__(self, other)\n",
    "object.__ne__(self, other)\n",
    "object.__gt__(self, other)\n",
    "object.__ge__(self, other)\n",
    "```\n",
    "Esses são os chamados métodos de \"comparação rica\". A correspondência entre os símbolos do operador e os nomes dos métodos é a seguinte: \n",
    "* ```x<y``` chama: \n",
    "    ```python\n",
    "    x.__lt__(y)\n",
    "    ```\n",
    "* ```x<=y``` chama:\n",
    "    ```python\n",
    "    x.__le__(y)\n",
    "    ```\n",
    "* ```x==y``` chama: \n",
    "    ```python\n",
    "    x.__eq__(y)\n",
    "    ```\n",
    "* ```x!=y``` chama: \n",
    "    ```python\n",
    "    x.__ne__(y)\n",
    "    ```\n",
    "* ```x>y``` chama: \n",
    "    ```python\n",
    "    x.__gt__(y)\n",
    "    ```\n",
    "* e ```x>=y``` chama: \n",
    "    ```python\n",
    "    x.__ge__(y)\n",
    "    ```  \n",
    "    \n",
    "__Referência__: https://docs.python.org/pt-br/3/reference/datamodel.html#basic-customization"
   ]
  },
  {
   "cell_type": "markdown",
   "id": "mysterious-ambassador",
   "metadata": {},
   "source": [
    "----"
   ]
  },
  {
   "cell_type": "markdown",
   "id": "sustainable-bryan",
   "metadata": {},
   "source": [
    "__Outra Referência__: https://docs.python.org/pt-br/3/reference/datamodel.html#emulating-container-types"
   ]
  }
 ],
 "metadata": {
  "kernelspec": {
   "display_name": "Python 3",
   "language": "python",
   "name": "python3"
  },
  "language_info": {
   "codemirror_mode": {
    "name": "ipython",
    "version": 3
   },
   "file_extension": ".py",
   "mimetype": "text/x-python",
   "name": "python",
   "nbconvert_exporter": "python",
   "pygments_lexer": "ipython3",
   "version": "3.8.7"
  }
 },
 "nbformat": 4,
 "nbformat_minor": 5
}
