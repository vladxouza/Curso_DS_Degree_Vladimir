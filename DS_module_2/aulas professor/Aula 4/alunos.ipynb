{
 "cells": [
  {
   "cell_type": "markdown",
   "id": "still-elder",
   "metadata": {},
   "source": [
    "# Métodos Mágicos (Dunder Methods)  ou sobrecarga de operadores\n",
    "Luis Uzai"
   ]
  },
  {
   "cell_type": "code",
   "execution_count": 1,
   "id": "sticky-offer",
   "metadata": {},
   "outputs": [],
   "source": [
    "primeiro_nome = 'Luis'\n",
    "sobrenome = 'Uzai'"
   ]
  },
  {
   "cell_type": "code",
   "execution_count": 3,
   "id": "expensive-ending",
   "metadata": {},
   "outputs": [
    {
     "data": {
      "text/plain": [
       "'Luis Uzai'"
      ]
     },
     "execution_count": 3,
     "metadata": {},
     "output_type": "execute_result"
    }
   ],
   "source": [
    "primeiro_nome + ' ' + sobrenome"
   ]
  },
  {
   "cell_type": "code",
   "execution_count": 4,
   "id": "moral-genetics",
   "metadata": {},
   "outputs": [],
   "source": [
    "lista1 = [1, 2, 3, 4]\n",
    "lista2 = [4, 5, 6, 7]"
   ]
  },
  {
   "cell_type": "code",
   "execution_count": 5,
   "id": "smoking-kernel",
   "metadata": {},
   "outputs": [
    {
     "data": {
      "text/plain": [
       "[1, 2, 3, 4, 4, 5, 6, 7]"
      ]
     },
     "execution_count": 5,
     "metadata": {},
     "output_type": "execute_result"
    }
   ],
   "source": [
    "lista1 + lista2"
   ]
  },
  {
   "cell_type": "code",
   "execution_count": 12,
   "id": "organized-bernard",
   "metadata": {},
   "outputs": [
    {
     "data": {
      "text/plain": [
       "[1, 2, 3, 4, 1, 2, 3, 4]"
      ]
     },
     "execution_count": 12,
     "metadata": {},
     "output_type": "execute_result"
    }
   ],
   "source": [
    "lista1 * 2"
   ]
  },
  {
   "cell_type": "code",
   "execution_count": 6,
   "id": "baking-praise",
   "metadata": {},
   "outputs": [
    {
     "data": {
      "text/plain": [
       "6"
      ]
     },
     "execution_count": 6,
     "metadata": {},
     "output_type": "execute_result"
    }
   ],
   "source": [
    "4 + 2"
   ]
  },
  {
   "cell_type": "code",
   "execution_count": 10,
   "id": "actual-essex",
   "metadata": {},
   "outputs": [
    {
     "data": {
      "text/plain": [
       "16"
      ]
     },
     "execution_count": 10,
     "metadata": {},
     "output_type": "execute_result"
    }
   ],
   "source": [
    "4 * 4"
   ]
  },
  {
   "cell_type": "code",
   "execution_count": 7,
   "id": "owned-judges",
   "metadata": {},
   "outputs": [],
   "source": [
    "class Relogio:\n",
    "    def __init__(self):\n",
    "        pass"
   ]
  },
  {
   "cell_type": "code",
   "execution_count": 9,
   "id": "technical-folks",
   "metadata": {},
   "outputs": [
    {
     "data": {
      "text/plain": [
       "<__main__.Relogio at 0x1877ee930a0>"
      ]
     },
     "execution_count": 9,
     "metadata": {},
     "output_type": "execute_result"
    }
   ],
   "source": [
    "relogio1 = Relogio()\n",
    "relogio1"
   ]
  },
  {
   "cell_type": "markdown",
   "id": "internal-amendment",
   "metadata": {},
   "source": [
    "---"
   ]
  },
  {
   "cell_type": "code",
   "execution_count": 178,
   "id": "julian-court",
   "metadata": {},
   "outputs": [],
   "source": [
    "class Relogio:\n",
    "    def __init__(self, hora, minuto, segundo):\n",
    "        '''\n",
    "        docstring bonitinha\n",
    "        '''        \n",
    "        # verificação dos tipos\n",
    "        if not isinstance(hora, int):\n",
    "            raise TypeError('Hora precisa ser do tipo inteiro.') \n",
    "        if not isinstance(minuto, int):\n",
    "            raise TypeError('Minuto precisa ser do tipo inteiro.') \n",
    "        if not isinstance(segundo, int):\n",
    "            raise TypeError('Segundo precisa ser do tipo inteiro.') \n",
    "        \n",
    "        # definindo os intervalos\n",
    "        if hora < 0 or hora > 23:\n",
    "            raise ValueError('Hora precisa estar no intervalo de 0-23')\n",
    "        if minuto < 0 or minuto > 59:\n",
    "            raise ValueError('Minuto precisa estar no intervalo de 0-59')\n",
    "        if segundo < 0 or segundo > 59:\n",
    "            raise ValueError('Segundo precisa estar no intervalo de 0-59')\n",
    "            \n",
    "        # finalmente criando os atributos\n",
    "        self.hora = hora\n",
    "        self.minuto = minuto\n",
    "        self.segundo = segundo\n",
    "        \n",
    "    # representa os objetos da sua classe como string\n",
    "    def __repr__(self):\n",
    "        return f'{self.hora:02d}:{self.minuto:02d}:{self.segundo:02d}'\n",
    "    \n",
    "    # representa os objetos da sua classe\n",
    "    # sempre que str(obj) é chamado\n",
    "    def __str__(self):\n",
    "        return f'{self.hora:02d}:{self.minuto:02d}:{self.segundo:02d}'\n",
    "            \n",
    "#     def __eq__(self):\n",
    "#         return self.hora == \n",
    "    \n",
    "    def __add__(self, other):    \n",
    "        minuto = 0\n",
    "        hora = 0\n",
    "        \n",
    "        segundo = self.segundo + other.segundo      \n",
    "        if(segundo>59):\n",
    "            segundo = segundo - 60\n",
    "            minuto = 1\n",
    "            \n",
    "        minuto = self.minuto + other.minuto + minuto         \n",
    "        if(minuto>59):\n",
    "            minuto = minuto - 60\n",
    "            hora = 1\n",
    "        \n",
    "        hora = self.hora + other.hora + hora\n",
    "        if(hora>23):\n",
    "            hora = hora - 24\n",
    "            \n",
    "        soma = Relogio(hora, minuto, segundo)\n",
    "        return soma\n",
    "    \n",
    "        \n",
    "    def __lt__(self, other):\n",
    "        if self.hora < other.hora:\n",
    "            return True\n",
    "        elif self.hora == other.hora:\n",
    "            if self.minuto < other.minuto:\n",
    "                return True\n",
    "            elif self.minuto == other.minuto:\n",
    "                if self.segundo < other.segundo:\n",
    "                    return True\n",
    "        return False"
   ]
  },
  {
   "cell_type": "code",
   "execution_count": 192,
   "id": "behavioral-commander",
   "metadata": {},
   "outputs": [],
   "source": [
    "relogio1 = Relogio(\n",
    "    hora=20,\n",
    "    minuto=59,\n",
    "    segundo=30\n",
    ")\n",
    "\n",
    "relogio2 = Relogio(\n",
    "    hora=20,\n",
    "    minuto=59,\n",
    "    segundo=30\n",
    ")"
   ]
  },
  {
   "cell_type": "markdown",
   "id": "stunning-taiwan",
   "metadata": {},
   "source": [
    "* ```x+y``` chama: \n",
    "    ```python\n",
    "    x.__add__(y)\n",
    "    ```"
   ]
  },
  {
   "cell_type": "code",
   "execution_count": 180,
   "id": "interior-greensboro",
   "metadata": {},
   "outputs": [
    {
     "data": {
      "text/plain": [
       "03:31:29"
      ]
     },
     "execution_count": 180,
     "metadata": {},
     "output_type": "execute_result"
    }
   ],
   "source": [
    "relogio1 + relogio2"
   ]
  },
  {
   "cell_type": "code",
   "execution_count": 193,
   "id": "governmental-finland",
   "metadata": {},
   "outputs": [
    {
     "data": {
      "text/plain": [
       "20:59:30"
      ]
     },
     "execution_count": 193,
     "metadata": {},
     "output_type": "execute_result"
    }
   ],
   "source": [
    "relogio1"
   ]
  },
  {
   "cell_type": "code",
   "execution_count": 194,
   "id": "center-maker",
   "metadata": {},
   "outputs": [
    {
     "data": {
      "text/plain": [
       "20:59:30"
      ]
     },
     "execution_count": 194,
     "metadata": {},
     "output_type": "execute_result"
    }
   ],
   "source": [
    "relogio2"
   ]
  },
  {
   "cell_type": "code",
   "execution_count": 196,
   "id": "regulated-contrast",
   "metadata": {},
   "outputs": [
    {
     "data": {
      "text/plain": [
       "False"
      ]
     },
     "execution_count": 196,
     "metadata": {},
     "output_type": "execute_result"
    }
   ],
   "source": [
    "relogio1 <= relogio2"
   ]
  },
  {
   "cell_type": "markdown",
   "id": "awful-logging",
   "metadata": {},
   "source": [
    "lista com os objetos representados:"
   ]
  },
  {
   "cell_type": "code",
   "execution_count": 69,
   "id": "promising-integration",
   "metadata": {},
   "outputs": [
    {
     "data": {
      "text/plain": [
       "2"
      ]
     },
     "execution_count": 69,
     "metadata": {},
     "output_type": "execute_result"
    }
   ],
   "source": [
    "lista_relogios = [relogio1, relogio2]\n",
    "lista_relogios"
   ]
  }
 ],
 "metadata": {
  "kernelspec": {
   "display_name": "Python 3",
   "language": "python",
   "name": "python3"
  },
  "language_info": {
   "codemirror_mode": {
    "name": "ipython",
    "version": 3
   },
   "file_extension": ".py",
   "mimetype": "text/x-python",
   "name": "python",
   "nbconvert_exporter": "python",
   "pygments_lexer": "ipython3",
   "version": "3.8.7"
  }
 },
 "nbformat": 4,
 "nbformat_minor": 5
}
