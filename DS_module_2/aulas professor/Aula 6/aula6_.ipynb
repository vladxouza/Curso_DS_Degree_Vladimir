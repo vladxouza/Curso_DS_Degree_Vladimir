{
 "cells": [
  {
   "cell_type": "markdown",
   "id": "miniature-gardening",
   "metadata": {},
   "source": [
    "# Herança"
   ]
  },
  {
   "cell_type": "code",
   "execution_count": 78,
   "id": "billion-pattern",
   "metadata": {},
   "outputs": [],
   "source": [
    "class Animal:\n",
    "    def __init__(self, nome, idade):\n",
    "        self.nome = nome\n",
    "        if(not isinstance(idade, int) or idade<0):\n",
    "            raise ValueError('A idade precisar ser int e maior que 0.')\n",
    "        self.__idade = idade\n",
    "\n",
    "    def __verifica_idade(self):\n",
    "        return self.idade <= 2\n",
    "    \n",
    "    def fala(self):\n",
    "        if(self.__verifica_idade()):\n",
    "            print(f'{self.nome} faz barulho e chora.')\n",
    "        else:            \n",
    "            print(f'{self.nome} faz barulho')\n",
    "           \n",
    "    @property\n",
    "    def idade(self):\n",
    "        return self.__idade\n",
    "    \n",
    "    @idade.setter\n",
    "    def idade(self, valor):\n",
    "        if(not isinstance(valor, int) or valor<0):\n",
    "            raise ValueError('A idade precisar ser int e maior que 0.')\n",
    "        self.__idade = valor\n",
    "\n",
    "animal1 = Animal('Totó', 1)\n",
    "animal1.fala()"
   ]
  },
  {
   "cell_type": "code",
   "execution_count": 85,
   "id": "statistical-federation",
   "metadata": {},
   "outputs": [],
   "source": [
    "class Cachorro(Animal):\n",
    "    def __init__(self, nome, idade, raca):        \n",
    "#         Animal.__init__(self, nome, idade)\n",
    "        super().__init__(nome, idade)     \n",
    "        self.raca = raca    \n",
    "        \n",
    "    def __verifica_idade(self):\n",
    "        return self.idade <= 2\n",
    "    \n",
    "    def fala(self):\n",
    "        if(self.__verifica_idade()):\n",
    "            print(f'{self.nome} faz au au e chora.')\n",
    "        else:            \n",
    "            print(f'{self.nome} faz au au')\n",
    "        "
   ]
  },
  {
   "cell_type": "code",
   "execution_count": 87,
   "id": "defined-spider",
   "metadata": {},
   "outputs": [
    {
     "name": "stdout",
     "output_type": "stream",
     "text": [
      "Joselito faz au au e chora.\n"
     ]
    }
   ],
   "source": [
    "cachorro1 = Cachorro('Joselito', 2, 'vira-lata')\n",
    "cachorro1.fala()"
   ]
  },
  {
   "cell_type": "code",
   "execution_count": 76,
   "id": "welcome-length",
   "metadata": {},
   "outputs": [
    {
     "data": {
      "text/plain": [
       "True"
      ]
     },
     "execution_count": 76,
     "metadata": {},
     "output_type": "execute_result"
    }
   ],
   "source": [
    "isinstance(cachorro1, Animal)"
   ]
  },
  {
   "cell_type": "code",
   "execution_count": 37,
   "id": "alien-monster",
   "metadata": {},
   "outputs": [
    {
     "name": "stdout",
     "output_type": "stream",
     "text": [
      "Joselito faz barulho\n"
     ]
    }
   ],
   "source": [
    "cachorro1.fala()"
   ]
  },
  {
   "cell_type": "code",
   "execution_count": 19,
   "id": "weird-bonus",
   "metadata": {},
   "outputs": [
    {
     "data": {
      "text/plain": [
       "'Joselito'"
      ]
     },
     "execution_count": 19,
     "metadata": {},
     "output_type": "execute_result"
    }
   ],
   "source": [
    "cachorro1.nome"
   ]
  },
  {
   "cell_type": "code",
   "execution_count": 93,
   "id": "major-aquarium",
   "metadata": {},
   "outputs": [],
   "source": []
  },
  {
   "cell_type": "code",
   "execution_count": 93,
   "id": "alpha-rider",
   "metadata": {},
   "outputs": [],
   "source": [
    " class Gato(Animal):\n",
    "    def __init__(self, nome, idade, raca, cor):\n",
    "        super().__init__(nome, idade)       \n",
    "        \n",
    "        self.raca = raca\n",
    "        self.cor = cor\n",
    "        \n",
    "    def __verifica_idade(self):\n",
    "        return self.idade <= 2\n",
    "    \n",
    "    def fala(self):\n",
    "        if(self.__verifica_idade()):\n",
    "            print(f'{self.nome} faz miau e chora.')\n",
    "        else:            \n",
    "            print(f'{self.nome} faz miau')        "
   ]
  },
  {
   "cell_type": "code",
   "execution_count": 98,
   "id": "double-indianapolis",
   "metadata": {},
   "outputs": [
    {
     "name": "stdout",
     "output_type": "stream",
     "text": [
      "Garfield faz miau\n"
     ]
    }
   ],
   "source": [
    "gatinho = Gato(\n",
    "    nome='Garfield',\n",
    "    idade=3,\n",
    "    raca='siamês',\n",
    "    cor='preto'\n",
    ")\n",
    "gatinho.fala()"
   ]
  },
  {
   "cell_type": "code",
   "execution_count": 99,
   "id": "vital-constitution",
   "metadata": {},
   "outputs": [
    {
     "name": "stdout",
     "output_type": "stream",
     "text": [
      "Joselito faz au au e chora.\n"
     ]
    }
   ],
   "source": [
    "cachorro1.fala()"
   ]
  },
  {
   "cell_type": "code",
   "execution_count": 105,
   "id": "welsh-bradford",
   "metadata": {},
   "outputs": [
    {
     "data": {
      "text/plain": [
       "False"
      ]
     },
     "execution_count": 105,
     "metadata": {},
     "output_type": "execute_result"
    }
   ],
   "source": [
    "isinstance(gatinho, Cachorro)"
   ]
  },
  {
   "cell_type": "markdown",
   "id": "korean-yugoslavia",
   "metadata": {},
   "source": [
    "---"
   ]
  },
  {
   "cell_type": "code",
   "execution_count": 116,
   "id": "pressing-stereo",
   "metadata": {},
   "outputs": [],
   "source": [
    "class Retangulo:\n",
    "    def __init__(self, lado_a, lado_b):\n",
    "        self.lado_a = lado_a\n",
    "        self.lado_b = lado_b\n",
    "        \n",
    "    def area(self):\n",
    "        return self.lado_a*self.lado_b\n",
    "\n",
    "    \n",
    "class Quadrado(Retangulo):\n",
    "    def __init__(self, lado):\n",
    "        cor='cinza'\n",
    "        super().__init__(  \n",
    "            lado_a=lado, \n",
    "            lado_b=lado\n",
    "        )"
   ]
  },
  {
   "cell_type": "code",
   "execution_count": 121,
   "id": "reflected-expansion",
   "metadata": {},
   "outputs": [
    {
     "data": {
      "text/plain": [
       "16"
      ]
     },
     "execution_count": 121,
     "metadata": {},
     "output_type": "execute_result"
    }
   ],
   "source": [
    "quadrado1 = Quadrado(4)\n",
    "quadrado1.area()"
   ]
  },
  {
   "cell_type": "markdown",
   "id": "greatest-victory",
   "metadata": {},
   "source": [
    "Faça uma classe ContaVip que difere da ContaCorrente por ter cheque especial (novo atributo) e é filha da classe ContaCorrente. Você precisa implementar os métodos para saque, transferência ou depósito?"
   ]
  },
  {
   "cell_type": "code",
   "execution_count": 133,
   "id": "hundred-fundamental",
   "metadata": {},
   "outputs": [],
   "source": [
    "class Cliente:\n",
    "    def __init__(self, nome, idade, email):\n",
    "        self.nome = nome\n",
    "        self.idade = idade\n",
    "        self.email = email\n",
    "    def __repr__(self):\n",
    "        texto  = \"Nome: {}\\nIdade: {}\\nE-mail: {}\".format(\n",
    "            self.nome,\n",
    "            self.idade,\n",
    "            self.email\n",
    "        )\n",
    "        return texto\n",
    "\n",
    "    \n",
    "class ContaCorrente:\n",
    "    def __init__(self, cliente, saldo=0):\n",
    "        self.cliente = cliente\n",
    "        self.__saldo = saldo\n",
    "    \n",
    "    @property\n",
    "    def saldo(self):\n",
    "        return self.__saldo\n",
    "        \n",
    "    def __repr__(self):\n",
    "        texto = self.cliente.__repr__() + \"Saldo: {}\".format(\n",
    "            self.__saldo\n",
    "        )\n",
    "        \n",
    "    def saque(self, valor):\n",
    "        if self.__saldo - valor >= 0:\n",
    "            self.__saldo -= valor\n",
    "        else:\n",
    "            print('Saldo insuficiente.')\n",
    "            \n",
    "    def deposito(self, valor):\n",
    "        self.__saldo += valor\n",
    "        \n",
    "    def transferencia(self, other, valor):\n",
    "        if self.__saldo - valor >= 0:\n",
    "            self.__saldo -= valor\n",
    "            other.__saldo += valor\n",
    "        else:\n",
    "            print('Saldo insuficiente.')"
   ]
  },
  {
   "cell_type": "code",
   "execution_count": 187,
   "id": "aging-documentation",
   "metadata": {},
   "outputs": [],
   "source": [
    "class ContaVip(ContaCorrente):\n",
    "    def __init__(self, cliente, saldo=0, cheque_especial=0):\n",
    "        super().__init__(cliente, saldo)\n",
    "        self.cheque_especial = cheque_especial\n",
    "    \n",
    "    def saque(self, valor):\n",
    "        if((self.saldo + self.cheque_especial) - valor >= 0):\n",
    "            self.deposito(-valor)\n",
    "        else:\n",
    "            print('Saldo insuficiente.')\n",
    "            \n",
    "    def transferencia(self, other, valor):\n",
    "        if((self.saldo+self.cheque_especial) - valor >= 0):\n",
    "            self.deposito(-valor)\n",
    "            other.deposito(valor)\n",
    "        else:\n",
    "            print('Saldo insuficiente.') "
   ]
  },
  {
   "cell_type": "code",
   "execution_count": 188,
   "id": "curious-designation",
   "metadata": {},
   "outputs": [],
   "source": [
    "luis = Cliente(\n",
    "    nome='Luis',\n",
    "    idade=25,\n",
    "    email='luisuzai13@gmail.com'\n",
    ")\n",
    "livia = Cliente(\n",
    "    nome='Livia',\n",
    "    idade=25,\n",
    "    email='livia@gmail.com'\n",
    ")\n",
    "\n",
    "conta_luis = ContaCorrente(luis, saldo=450)\n",
    "conta_livia = ContaVip(livia)\n",
    "\n",
    "conta_luis.saque(300)"
   ]
  },
  {
   "cell_type": "code",
   "execution_count": 189,
   "id": "quality-scratch",
   "metadata": {},
   "outputs": [],
   "source": [
    "conta_luis.transferencia(conta_livia, 50)\n",
    "conta_luis.transferencia(conta_livia, 50)"
   ]
  },
  {
   "cell_type": "code",
   "execution_count": 190,
   "id": "useful-personality",
   "metadata": {},
   "outputs": [
    {
     "data": {
      "text/plain": [
       "50"
      ]
     },
     "execution_count": 190,
     "metadata": {},
     "output_type": "execute_result"
    }
   ],
   "source": [
    "conta_luis.saldo"
   ]
  },
  {
   "cell_type": "code",
   "execution_count": 191,
   "id": "optical-brief",
   "metadata": {},
   "outputs": [],
   "source": [
    "conta_luis.deposito(15)"
   ]
  },
  {
   "cell_type": "code",
   "execution_count": 192,
   "id": "declared-judges",
   "metadata": {},
   "outputs": [
    {
     "data": {
      "text/plain": [
       "65"
      ]
     },
     "execution_count": 192,
     "metadata": {},
     "output_type": "execute_result"
    }
   ],
   "source": [
    "conta_luis.saldo"
   ]
  },
  {
   "cell_type": "code",
   "execution_count": 193,
   "id": "ordered-voice",
   "metadata": {},
   "outputs": [
    {
     "data": {
      "text/plain": [
       "5600"
      ]
     },
     "execution_count": 193,
     "metadata": {},
     "output_type": "execute_result"
    }
   ],
   "source": [
    "conta_livia.saldo"
   ]
  },
  {
   "cell_type": "code",
   "execution_count": 194,
   "id": "comprehensive-forest",
   "metadata": {},
   "outputs": [],
   "source": [
    "conta_livia.transferencia(conta_luis, 5700)"
   ]
  },
  {
   "cell_type": "code",
   "execution_count": 195,
   "id": "simplified-purple",
   "metadata": {},
   "outputs": [
    {
     "data": {
      "text/plain": [
       "-100"
      ]
     },
     "execution_count": 195,
     "metadata": {},
     "output_type": "execute_result"
    }
   ],
   "source": [
    "conta_livia.saldo"
   ]
  },
  {
   "cell_type": "code",
   "execution_count": null,
   "id": "fantastic-posting",
   "metadata": {},
   "outputs": [],
   "source": []
  }
 ],
 "metadata": {
  "kernelspec": {
   "display_name": "Python 3",
   "language": "python",
   "name": "python3"
  },
  "language_info": {
   "codemirror_mode": {
    "name": "ipython",
    "version": 3
   },
   "file_extension": ".py",
   "mimetype": "text/x-python",
   "name": "python",
   "nbconvert_exporter": "python",
   "pygments_lexer": "ipython3",
   "version": "3.8.7"
  }
 },
 "nbformat": 4,
 "nbformat_minor": 5
}
