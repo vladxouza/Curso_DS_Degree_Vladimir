{
 "cells": [
  {
   "cell_type": "markdown",
   "source": "## TRABALHO GRUPO 3  - PROJ2\n----\n * Airton Carneiro\n * Isabela Azevedo\n * João Pedro do Nascimento Sandolin\n * Leonardo Hiraiwa\n * Matheus Fanali Giraldes\n",
   "metadata": {
    "tags": [],
    "cell_id": "00010-ea00db82-aa62-48a0-b411-4442892522e4",
    "deepnote_cell_type": "markdown"
   }
  },
  {
   "cell_type": "markdown",
   "source": "# Organizando uma eleição\n(créditos ao professor Rafael)",
   "metadata": {
    "tags": [],
    "cell_id": "00002-a736358c-a8f4-4230-b27c-9084345543f0",
    "deepnote_cell_type": "markdown"
   }
  },
  {
   "cell_type": "markdown",
   "source": "O último ano foi extremamente desafiador para você. Além de estarmos vivendo uma pandemia que aumentou nossa preocupação com a nossa própria vida e com nossos entes queridos e estarmos obrigados a passar mais tempo em casa para garantir nossa segurança, você se matriculou em um curso de programação e ciência de dados para mudar de rumo em sua carreira!\n\nO _timing_ pareceu ideal: mais tempo em casa, mais tempo para estudar. Porém, você esbarrou em algumas dificuldades. O condomínio está em reforma, e você passa o dia ao som de marretadas no piso. Durante a noite, no horário da sua aula online, seus vizinhos - um casal passando por dificuldades na relação - costumam discutir em voz alta. A discussão deles frequentemente acorda o bebê do outro vizinho e todos os cachorros do andar no prédio. Deixar para estudar no final de semana não ajuda, pois o filho adolescente da família do apartamento logo acima do seu costuma trazer os colegas de banda para ensaiar. \n\nA situação se tornou insustentável, e o síndico - que é o mesmo senhorzinho desde que você se mudou para esse condomínio, há mais de 10 anos - não toma atitudes e não gosta de ser perturbado. Chegou a hora de organizar uma eleição para um novo síndico, e você tomou a iniciativa de montar um sistema eletrônico para auxiliar na votação.",
   "metadata": {
    "tags": [],
    "cell_id": "00003-d32f7d30-2376-4bf8-ae62-fbad2abb9efa",
    "deepnote_cell_type": "markdown"
   }
  },
  {
   "cell_type": "markdown",
   "source": "## Entidades envolvidas\n\nPodemos imaginar as seguintes entidades envolvidas na eleição:\n\n* **Morador**: representa cada uma das pessoas que moram no prédio. Possui um nome, um Apartamento e é capaz de depositar um voto em um Candidato em uma Urna.\n* **Candidato**: é um tipo especial de Morador. Possui tudo o que o morador possui, mas também possui um número que será usado para representá-lo na Urna e uma contagem individual de votos.\n* **Apartamento**: representa cada uma das unidades do prédio. Possui uma lista de moradores e um status indicando se ele já votou ou não. Cada apartamento tem direito a exatamente 1 voto. Se a sua filha já votou, você não pode mais votar!\n* **Urna**: coleciona votos. Ela possui uma coleção de candidatos e uma coleção de moradores (lembrando que o candidato também conta como morador!). Ela armazena a quantidade de votos de cada candidato e é capaz de incrementar essa quantidade ao receber um voto novo. Ela também possui uma coleção de apartamentos e é capaz de determinar quais apartamentos já votaram (mas não qual apartamento votou em cada candidato - o voto é secreto). Quando o último apartamento votar, ela publica os resultados e declara o vencedor.\n\nVamos pensar juntos em meios de implementar cada uma das classes.",
   "metadata": {
    "tags": [],
    "cell_id": "00004-7af92225-5d66-42ce-a736-8e5df1ca3bc2",
    "deepnote_cell_type": "markdown"
   }
  },
  {
   "cell_type": "markdown",
   "source": "### Morador\n\nA classe mais básica de nossa eleição, representando cada uma das pessoas que habitam no condomínio. O morador obrigatoriamente possui um nome e um Apartamento.\n\nSeu construtor pode ou não receber uma string contendo o nome, e pode ou não receber um objeto Apartamento. Caso ele não receba um nome, deverá solicitar a digitação de um através do input. Caso ele não receba um objeto Apartamento, deverá pedir por input o número do apartamento e criar o objeto.\n\nO nome e apartamento digitados ou recebidos deverão se tornar atributos do objeto.\n\nNosso objeto também deverá possuir um método para votar. Ele deverá receber um objeto Urna e pode receber um número inteiro correspondente ao número de um candidato ou, caso não receba, irá ler o número pelo teclado. Ela deverá primeiro verificar se o seu apartamento já votou, e caso não tenha, ela irá chamar o método de acrescentar voto na Urna, informando o número de seu candidato e passando seu objeto apartamento. Caso contrário, ela exibirá uma mensagem alertando que esse apartamento já votou.",
   "metadata": {
    "tags": [],
    "cell_id": "00005-627fdb60-b1d9-464f-bf2c-757fbe551aa9",
    "deepnote_cell_type": "markdown"
   }
  },
  {
   "cell_type": "code",
   "metadata": {
    "tags": [],
    "cell_id": "00006-23554dd4-de84-4673-bb9d-2160a6df8fec",
    "deepnote_to_be_reexecuted": false,
    "source_hash": "6547e45f",
    "execution_start": 1637901619948,
    "execution_millis": 1,
    "deepnote_cell_type": "code"
   },
   "source": "class Morador():\n    '''\n    Cria uma representação da entidade\n    Morador de nosso condomínio\n    ''' \n    def __init__(self, idade, apartamento=None, nome=None):\n        '''\n        Construtor\n\n        Parâmetros\n        -----------\n        nome: str (opcional)\n            Nome associado a pessoa\n        idade: int\n            idade da pessoa\n        apartamento: obj Apartamento\n            Apartamento da pessoa\n        \n        ''' \n        # se nome não for informado, solicitar via Input\n        if nome == None:\n            nome = input('Digite o nome do morador:')\n            if nome == '':\n                raise TypeError(\"O nome não pode ser vazio.\")\n\n        # se o apartamento não for informado, solicitar via Input\n        if apartamento == None:\n            numero_apto = input('Digite o número do apartamento: ')\n            if numero_apto not in [apt.numero_apto for apt in Apartamento.lista_condominio]:\n                apartamento = Apartamento(numero_apto)\n            else:\n                for apt in Apartamento.lista_condominio:\n                    if apt.numero == numero_apt:\n                        apartamento = apt\n\n        # verificação de tipos\n        if not isinstance(nome, str):\n            raise TypeError(\"O nome deve ser uma string.\")\n        if not isinstance(idade, int):\n            raise TypeError(\"A idade deve ser um número inteiro.\")\n        if not isinstance(apartamento, Apartamento):\n            raise TypeError(\"Digite um apartamento válido.\")\n                \n        # criando atributos\n        self.nome = nome.title()\n        self.idade = idade\n        self.apartamento = apartamento\n\n        # atributo não passados no construtor    \n        self.voto = False # False se não votou, ou True se já votou\n        \n        # verificando duplicidade de moradores a partir do nome\n        if self.nome not in [morador.nome for morador in self.apartamento.moradores]:\n            self.apartamento.moradores.append(self)\n        else:\n            raise AttributeError(\"Morador já está no apartamento!\")\n\n    #================================================================================================================\n    ## Métodos mágicos\n    \n    def __repr__ (self):\n        return f'{self.nome}'\n\n    #================================================================================================================\n    ## Métodos públicos\n    \n    def votar(self, urna, num_candidato=None):\n        '''\n        Método para votar\n\n        Parâmetros\n        ----------\n        urna: obj Urna\n        num_candidato: int (opcional)\n        '''\n        # Executa o método 'receber_voto' da classe Urna\n        urna.receber_voto(self.apartamento, num_candidato)\n        ",
   "execution_count": null,
   "outputs": []
  },
  {
   "cell_type": "markdown",
   "source": "### Candidato\n\nObjetos da classe Candidato são, necessariamente, moradores. Eles possuem as mesmas informações e as mesmas ações que um morador. O que isso significa em programação orientada a objeto?\n\nEle possui outros dois atributos: o seu número que será usado para identificá-lo na Urna e sua contagem de votos. Ambos devem ser inicializados com valor 0. \n\nEle deve oferecer métodos para que seu número seja configurado (quando cadastrarmos o candidato na Urna, ela irá fornecer um número para ele), bem como para que sua contagem de votos seja atualizada (ao final da votação, a Urna irá atualizar a contagem de todos os candidatos).",
   "metadata": {
    "tags": [],
    "cell_id": "00007-44afbce8-29b3-4631-a0db-2a192df91374",
    "deepnote_cell_type": "markdown"
   }
  },
  {
   "cell_type": "code",
   "metadata": {
    "tags": [],
    "cell_id": "00003-aa43eb3d-09d1-4de8-8da1-bd7d615f236b",
    "deepnote_to_be_reexecuted": false,
    "source_hash": "367bd6f6",
    "execution_start": 1637901619992,
    "execution_millis": 26,
    "deepnote_cell_type": "code"
   },
   "source": "class Candidato(Morador):\n    '''\n    Cria uma representação da entidade\n    Candidato de nosso condomínio\n    '''\n\n    def __init__(self, idade, apartamento, nome=None):\n        '''\n        Construtor\n\n        Parâmetros\n        ----------\n        nome: str (opcional)\n                Nome associado a pessoa\n        idade: int\n                idade da pessoa\n        apartamento: obj Apartamento\n                Apartamento da pessoa\n        '''\n    \n        super().__init__(idade, apartamento, nome)\n\n        # atribui o número da cédula ao candidato\n        self.__numero = 0\n\n        self.__contagem_votos = 0\n        \n        for morador_apt in apartamento.moradores:\n            if isinstance(morador_apt, Candidato) and morador_apt is not self:\n                raise TypeError('Já existe um candidato no apartamento')\n            \n        # verificando duplicidade de moradores a partir do nome\n        if self.nome not in [morador.nome for morador in self.apartamento.moradores]:\n            self.apartamento.moradores.append(self)\n\n    #================================================================================================================\n    ## 'Getters'\n    \n    @property\n    def numero(self):\n        # atributo privado pois o usuário não deve mudar o número do candidato\n        return self.__numero\n    \n    #----------------------------------------------------------------------------------------------------------------\n    \n    @property\n    def contagem_votos(self):\n        # atributo privado pois o usuário não deve mudar a contagem de votos\n        return self.__contagem_votos\n    \n    #================================================================================================================ \n    ## Métodos mágicos\n    \n    def __repr__ (self):\n        return f'{self.nome} possui o número {self.numero}' \n    \n    #================================================================================================================\n    ## Métodos privados\n\n    def _cadastrar_numero(self, numero):\n        # cadastra o número do candidato\n        # será utilizado apenas pela urna\n        self.__numero = numero\n\n    #------------------------------------------------------------------------------------------------------------------\n    \n    def _atualizar_contagem(self):      \n        # Atualiza a contagem de votos\n        # será utilizado apenas pela urna\n        self.__contagem_votos += 1 \n        \n    #------------------------------------------------------------------------------------------------------------------\n    \n    def _zerar_contagem_votos(self):\n        # zera a contagem de votos do candidato\n        # será utilizado apenas pela urna\n        self.__contagem_votos = 0\n    ",
   "execution_count": null,
   "outputs": []
  },
  {
   "cell_type": "markdown",
   "source": "### Apartamento\n\nObjetos da classe Apartamento irão agregar objetos Morador. Isso significa que um de seus atributos será uma lista de moradores. Quando um Apartamento é criado, sua lista começará vazia. O Apartamento deve oferecer métodos para adicionar moradores novos (recebe um objeto Morador e adiciona à lista) e para visualizar seus moradores.\n\nCada apartamento tem direito a exatamente um voto na eleição para síndico. Portanto, cada objeto também deve ter um atributo indicando se aquele apartamento já votou ou não. A classe deve fornecer meios para que a esse atributo possa ser atualizado, pois quando um morador votar, a urna irá alterar esse atributo registrando que o apartamento já votou.",
   "metadata": {
    "tags": [],
    "cell_id": "00009-490644a3-6c91-4a5f-bd19-8fadf7e29b89",
    "deepnote_cell_type": "markdown"
   }
  },
  {
   "cell_type": "code",
   "metadata": {
    "tags": [],
    "cell_id": "00005-0195eda9-01d3-486c-aede-41e5dcdccd85",
    "deepnote_to_be_reexecuted": false,
    "source_hash": "6879bfea",
    "execution_start": 1637901620026,
    "execution_millis": 35,
    "deepnote_cell_type": "code"
   },
   "source": "class Apartamento():\n    '''\n    Cria uma representação da entidade\n    Apartamento\n    '''\n    lista_condominio = []\n    def __init__(self, numero_apto):\n        '''\n        Construtor\n\n        Parâmetro\n        ---------\n        numero_apto: int\n            número do apartamento\n        '''\n\n        self.numero_apto = numero_apto\n        if self.numero_apto not in [apt.numero_apto for apt in self.lista_condominio]:\n            # como apartamento é novo, definir com nenhum morador\n            self.moradores = []\n            # e que ninguém ainda votou\n            self.__voto = False\n\n            self.lista_condominio.append(self)\n        else:\n            raise AttributeError('Apartamento já existe.')\n    #========================================================================================================\n    ## 'Getters'\n    \n    @property\n    def voto(self):\n        return self.__voto\n    \n    #========================================================================================================\n    ## Métodos mágicos\n    \n    def __repr__(self):\n        return f'Apartamento {self.numero_apto}'\n\n    #========================================================================================================\n    ## Métodos privados\n    \n    def _votar(self):\n        '''\n        Altera o atributo '__voto' do apartamento para True, indicando que o apartamento efetuou o voto\n        '''\n        self.__voto = True\n     \n    #--------------------------------------------------------------------------------------------------------\n    \n    def _finalizar_votacao(self):\n        self.__voto = False    \n    \n    #========================================================================================================\n    ## Métodos públicos\n    \n    # Não será criada uma função para adicionar moradores ao apartamento\n    # isso será feito no instanciamento dos moradores\n    \n    def vizualizar_moradores(self):\n        '''\n        Imprime a lista de moradores \n        caso exista um candidato no apartamento, informa seu nome\n        '''\n        print(f'Apartamento {self.numero_apto}\\nMoradores: {self.moradores}')\n        \n        for morador in self.moradores:\n            if isinstance(morador, Candidato):\n                print(f'Candidato: {morador.nome}')\n                break\n",
   "execution_count": null,
   "outputs": []
  },
  {
   "cell_type": "markdown",
   "source": "### Urna\nA classe mais complexa do projeto. Ela é responsável por boa parte da lógica da nossa eleição.\n\nSeu construtor deverá criar como atributos uma coleção de apartamentos e outra de candidatos - escolha a estrutura de dados que julgar mais adequada.\n\nA classe deve fornecer métodos que permitam o cadastro de apartamentos (recebendo como parâmetro objetos Apartamento já existentes) e candidatos (idem). Ao receber um candidato para cadastro, ela deverá gerar um número **único** para representar esse candidato na eleição e irá ajustar esse atributo diretamente no objeto candidato.\n\nEla também deve ter um método para receber um voto, que deve receber um objeto apartamento e o número de um candidato. Ela deve atualizar a contagem de voto do candidato cujo número foi recebido, e marcar aquele apartamento como já votado. Se o apartamento que votou era o último que ainda podia votar, a urna deve imediatamente imprimir os resultados.\n\nBole uma maneira que a urna possa sinalizar para o programa principal se ela já encerrou a votação ou não.",
   "metadata": {
    "tags": [],
    "cell_id": "00011-078d6908-9aca-4aa8-b449-36a914967073",
    "deepnote_cell_type": "markdown"
   }
  },
  {
   "cell_type": "code",
   "metadata": {
    "tags": [],
    "cell_id": "00004-6a6e6536-8a82-4814-ba35-971e77cfd1f1",
    "deepnote_to_be_reexecuted": false,
    "source_hash": "47cb6094",
    "execution_start": 1637901620075,
    "execution_millis": 111,
    "deepnote_cell_type": "code"
   },
   "source": "class Urna():\n    '''\n    Cria uma representação da entidade\n    Urna da nossa eleição\n    '''\n    numero_votacao = [0]\n    \n    def __init__(self, apartamentos=None, candidatos=None):\n        '''\n        Construtor\n\n        Parâmetros\n        ----------\n        apartamentos: list\n        lista de objetos do tipo 'Apartamento'\n\n        candidatos:list\n        lista de objetos do tipo 'Candidatos'\n        '''\n        self.numero_votacao[0] += 1\n        \n        if apartamentos is None:\n            # apartamento vazio\n            apartamentos = []\n        else:\n            for apartamento in apartamentos:\n                # verifica apartamentos\n                if not isinstance(apartamento, Apartamento):\n                    raise TypeError('Argumento \"apartamentos\" deve receber apenas objetos do tipo \"Apartamento\"')\n    \n        # Cria o atributo 'apartamento' como um dicionário com duas chaves:\n        ## 'obj': lista de objetos do tipo apartamentos\n        ## 'status_voto': lista de booleanos. False se não votou, True se votou (inicializa todos como False)\n        self.apartamentos = {chave:valor for chave,valor in \\\n        list(zip(['obj','status_voto'], (apartamentos, [False]*len(apartamentos))))}\n        \n        self.candidatos = []\n        if candidatos is not None:\n            for candidato in candidatos:\n                # verifica candidatos\n                if not isinstance(candidato, Candidato):\n                    raise TypeError('Argumento \"candidatos\" deve receber apenas objetos do tipo \"Candidato\"')\n                self.cadastrar_candidato(candidato)\n                \n        for candidatos in self.candidatos:\n            candidato._zerar_contagem_votos()\n    #========================================================================================================\n    ## Métodos mágicos\n    \n    def __repr__(self):\n        return f'Urna da {self.numero_votacao[0]}ª votação do condomínio'\n    \n    #================================================================================================================\n    ## Métodos Privados:\n    \n    def __verificar_numero(self, numero):\n        # verifica um número, retorna True se nenhum candidato possiu o número False caso contrário\n        for candidato in self.candidatos:\n            # verifica se numero aleatório é igual ao de algum candidato\n            if numero == candidato.numero:\n                return False\n        return True\n        \n        \n    #-----------------------------------------------------------------------------------------------------------------\n    \n    def __gerar_numero_candidato(self):\n        # Gera um número aleatório, ao qual nenhum candidato está associado\n        while True:\n            numero = random.randint(1, 100)\n            if self.__verificar_numero(numero): # verifica se já existe um candidato com este número\n                return numero\n            \n        \n    #-----------------------------------------------------------------------------------------------------------------\n    \n    def __fazer_grafico_votacao(self, parcial=False):\n        candidatos = [candidato.nome for candidato in self.candidatos ]\n        votos = [candidato.contagem_votos for candidato in self.candidatos ]\n        plt.bar(candidatos, votos)\n        if parcial:\n            txt_parcial = 'parcial'\n        else:\n            txt_parcial = ''\n        plt.title(f'Resultado {txt_parcial} das eleições')\n        plt.xlabel('Candidatos')\n        plt.ylabel('Votos')\n        \n    #================================================================================================================\n    ## Métodos públicos:\n    \n    def cadastrar_apartamento(self, apartamento):\n        '''\n        Cadastrar apartamento na Urna\n\n        Parâmetros\n        ----------\n        apartamento: obj Apartamento\n            Apartamento da pessoa\n        '''\n        if apartamento not in self.apartamentos['obj'] and isinstance(apartamento, Apartamento):\n            self.apartamentos['obj'].append(apartamento)\n            self.apartamentos['status_voto'].append(False)    \n            #self.apartamentos_pendente.append(apartamento)\n            print(f'Apartamento {apartamento} cadastrado na urna.')\n        else:\n            print('Apartamento já está cadastrado!')\n\n    #-----------------------------------------------------------------------------------------------------------------\n\n    def cadastrar_candidato(self, candidato):\n        '''\n        Cadastra um candidato na urna\n\n        Parâmetro\n        ---------\n        candidato: obj Candidato\n            candidato à ser cadastrado na urna\n        '''\n        if candidato not in self.candidatos and isinstance(candidato, Candidato):\n            candidato._cadastrar_numero(self.__gerar_numero_candidato())\n            candidato._zerar_contagem_votos()\n            self.candidatos.append(candidato)\n            print(f'Candidato {candidato.nome} cadastrado na urna. Seu número é {candidato.numero}')\n        else:\n            print('Candidato já está cadastrado!')\n\n    #-----------------------------------------------------------------------------------------------------------------   \n\n    def receber_voto(self, apartamento, nro_candidato=None):\n        '''\n        Verifica se o apartamento votou e atribui um voto\n\n        Parâmetros\n        ----------\n        apartamento : obj Apartamento\n            Apartamento da pessoa\n        '''\n        # Verificando se a eleição já foi finalizada\n        if all(self.apartamentos['status_voto']):\n            print(\"Não é mais permitido votar! Eleição já foi finalizada.\")\n            return\n            \n        # Realiza uma dupla verificação para determinar se apartamento já votou \n        if (apartamento.voto) or (self.apartamentos['status_voto'][self.apartamentos['obj'].index(apartamento)]):\n            print(\"Apartamento já votou\")\n            return\n        \n        # pede para o usuário digitar um número caso não tenha escolhido o candidato\n        if nro_candidato is None:\n            for candidato in self.candidatos:\n                #Apresenta lista de candidatos com os números\n                print(f\"Nome:{candidato.nome}\\tNúmero:{candidato.numero}\") \n            nro_candidato = int(input(\"Digite o número do seu candidato: \"))\n            while (self.__verificar_numero(nro_candidato)):\n                nro_candidato = int(input(\"Número inválido! Digite novamente o número do seu candidato: \"))\n               \n        apartamento._votar()\n        self.apartamentos['status_voto'][self.apartamentos['obj'].index(apartamento)] = True\n\n        for candidato in self.candidatos:\n            if candidato.numero == nro_candidato:\n                candidato._atualizar_contagem()\n\n        if all(self.apartamentos['status_voto']):\n            print(\"Votação finalizada!\")\n            self.__fazer_grafico_votacao()\n            \n            for apt in self.apartamentos['obj']:\n                apt._finalizar_votacao()\n    #-----------------------------------------------------------------------------------------------------------------\n\n    def mostrar_votacao_parcial(self):\n        print(f\"Resultado parcial: ({self.apartamentos['status_voto'].count(True)/len(self.apartamentos['status_voto'])*100:.02f}% concluído)\")\n        \n        self.__fazer_grafico_votacao(parcial=True)\n        \n        print(f\"Restam {self.apartamentos['status_voto'].count(False)} votos\")\n        ",
   "execution_count": null,
   "outputs": []
  },
  {
   "cell_type": "markdown",
   "source": "## O programa principal\n\nSeu programa principal terá 3 etapas - fique à vontade para modularizar essas etapas com o auxílio de funções, ou mesmo utilizar outras classes se julgar necessário.\n\n* Cadastro: o programa deverá ler informações sobre cada pessoa e ir criando os objetos Morador/Candidato e Apartamento correspondentes. Lembre-se de sempre perguntar se a próxima pessoa a ser lida é ou não candidata para decidir a melhor forma de instanciá-la no sistema.\n\n* Configuração: o programa deverá utilizar as informações obtidasna etapa anterior para criar uma urna.\n\n* Votação: o programa ficará em loop permitindo que diferentes moradores votem (ou tentem votar). Nessa etapa, o programa deve ser capaz de identificar qual o morador votando e utilizar os métodos criados previamente para realizar o voto. Quando a classe Urna informar que a votação acabou, o loop deve ser encerrado.",
   "metadata": {
    "tags": [],
    "cell_id": "00013-216922c7-be13-4da8-bf84-8c904ab24a1f",
    "deepnote_cell_type": "markdown"
   }
  },
  {
   "cell_type": "markdown",
   "source": "## Dicas\n\n* Métodos mágicos: no mínimo uma _representação imprimível_ dos objetos de cada classe seria desejável para facilitar a sua vida. No caso de um morador, podemos imprimir seu nome e número do apartamento. No caso de um candidato, poderíamos incluir o número da urna. No caso do apartamento, seria legal imprimir todos os moradores. E no caso da urna, podemos ter dois casos: antes da votação acabar, apenas a lista de apartamentos que já votou deveria ser impressa. Após o término da votação, ela deveria imprimir quantos votos cada candidato recebeu e qual deles venceu.\n\n* Arquivos e testes: note que vocês sempre foram orientados a passar dados por parâmetros **ou** digitá-los. Se você bolar um esquema inteligente com arquivos em formato padronizado (como CSV) e organizar direitinho seu programa principal, você consegue gerar um único arquivo com todos os moradores e suas respectivas informações (número do apartamento, se é ou não candidato e em quem gostaria de votar) e automatizar completamente as etapas do seu programa.\n\n* Segurança adicional: atualmente, cada apartamento armazena a informação se já votou ou não. Mas e se o apartamento pudesse alterar essa informação e enganar a urna? Você pode colocar uma camada redundante de segurança fazendo com que a urna TAMBÉM controle quais apartamentos já votaram. Mesmo que o apartamento diga que não votou, se a urna está registrando que ele votou, então um hipotético segundo voto deve ser recusado. Veja se consegue pensar em outras possíveis falhas de segurança em potencial no programa. Lembre-se sempre de pensar do ponto de vista de uma classe e \"desconfiar\" das outras.\n\n* Criatividade: os enunciados trazem o **mínimo** que você precisa fazer para que o seu programa funcione como foi planejado. Isso não impede que você crie outros métodos, acrescente informações que possam ser úteis e até mesmo crie outras classes para modelar melhor outros fatores que poderiam ser considerados na organização da sua eleição.\n",
   "metadata": {
    "tags": [],
    "cell_id": "00015-6759e093-f081-4c89-9295-f20c0476dec5",
    "deepnote_cell_type": "markdown"
   }
  },
  {
   "cell_type": "markdown",
   "source": "# CADASTROS\n____",
   "metadata": {
    "tags": [],
    "cell_id": "00019-827e2cd6-31af-4879-80eb-d70d1f8f136b",
    "deepnote_cell_type": "markdown"
   }
  },
  {
   "cell_type": "code",
   "metadata": {
    "tags": [],
    "cell_id": "00028-3910c341-5cee-4889-b24d-19e8be0da6d2",
    "deepnote_to_be_reexecuted": false,
    "source_hash": "4bf0a547",
    "execution_start": 1637901620199,
    "execution_millis": 2952,
    "deepnote_cell_type": "code"
   },
   "source": "import csv\nimport random\nimport matplotlib.pyplot as plt",
   "execution_count": null,
   "outputs": []
  },
  {
   "cell_type": "markdown",
   "source": "## Cadastrando Moradores e Candidatos\nSerão cadastrados:\n* 7 apartamentos\n- Apt 100 (3 moradores)\n- Apt 101 (2 moradores sendo 1 candidato)\n- Apt 102 (1 morador)\n- Apt 103 (1 morador)\n- Apt 201 (2 moradores e 1 candidato)\n- Apt 202 (1 morador que é candidato)\n- Apt 203 (1 morador)",
   "metadata": {
    "tags": [],
    "cell_id": "00029-8acb8f58-dcc8-4270-8d8f-42272aa6a974",
    "deepnote_cell_type": "markdown"
   }
  },
  {
   "cell_type": "code",
   "metadata": {
    "tags": [],
    "cell_id": "00027-b1402cd6-577d-452a-8add-ee7115c8a804",
    "deepnote_to_be_reexecuted": false,
    "source_hash": "4a467c21",
    "execution_start": 1637901623169,
    "execution_millis": 148,
    "deepnote_output_heights": [
     null,
     328.359375
    ],
    "deepnote_cell_type": "code"
   },
   "source": "print('REALIZANDO O CADASTRO DE MORADORES E CANDIDATOS')\n\n# lista contendo os apartamentos, moradores e candidatos\nmain_lista_aptos = []\nmain_lista_moradores = []\nmain_lista_candidatos = []\n# Abre o arquivo\nwith open('media/bd_moradores_candidatos.csv',\"r\") as arquivo:\n    # variável temporária que armazena o número do apt\n    # serve para garantir que não criará outra instância\n    # de apartamento\n    ultimo_nr_apt = 0\n    for linha in arquivo:\n        # atribui os valores às variáveis\n        nr_apt, nm_morador, idade, bool_ehCandidato = linha.rstrip(\"\\n\").split(',')\n\n        if ultimo_nr_apt != nr_apt:\n            # instanciando apartamento\n            apartamento = Apartamento(int(nr_apt))\n            # armazenando na lista\n            main_lista_aptos.append(apartamento)\n            # recebendo novo valor para o número do apartamento\n            ultimo_nr_apt = nr_apt\n\n            print(f'\\nCriando apartamento nr. {nr_apt}')\n\n        # instanciando candidato\n        if bool_ehCandidato == 'S':\n            main_lista_candidatos.append(Candidato(idade=int(idade), apartamento=apartamento, nome=nm_morador))\n            \n            print(f'Candidato {nm_morador} cadastrado no apartamento')\n        # instanciando morador\n        else:\n            main_lista_moradores.append(Morador(idade=int(idade), apartamento=apartamento, nome=nm_morador))\n\n            print(f'Morador {nm_morador} cadastrado ao apartamento')\n\n\n",
   "execution_count": null,
   "outputs": [
    {
     "name": "stdout",
     "text": "REALIZANDO O CADASTRO DE MORADORES E CANDIDATOS\n\nCriando apartamento nr. 100\nMorador João de Barro cadastrado ao apartamento\nMorador Joana de Barro cadastrado ao apartamento\nMorador Joãozinho de Barro cadastrado ao apartamento\n\nCriando apartamento nr. 101\nCandidato Terezinha de Jesus cadastrado no apartamento\nMorador Jesus da Terezinha cadastrado ao apartamento\n\nCriando apartamento nr. 102\nMorador Adamastor Pitaco cadastrado ao apartamento\n\nCriando apartamento nr. 103\nMorador Espanta cadastrado ao apartamento\n\nCriando apartamento nr. 201\nCandidato Machado de Assis cadastrado no apartamento\nMorador Elvira Fonseca cadastrado ao apartamento\n\nCriando apartamento nr. 202\nCandidato Cora Coralina cadastrado no apartamento\n\nCriando apartamento nr. 203\nMorador Eça de Queiroz cadastrado ao apartamento\n",
     "output_type": "stream"
    }
   ]
  },
  {
   "cell_type": "markdown",
   "source": "#### Testando cadastrar um apartamento já existente",
   "metadata": {
    "tags": [],
    "cell_id": "00031-c8257479-bab0-4255-a3da-cf12d2f16f14",
    "deepnote_cell_type": "markdown"
   }
  },
  {
   "cell_type": "code",
   "metadata": {
    "tags": [],
    "cell_id": "00031-4657c952-d13e-49ab-9072-1817cf80df3f",
    "deepnote_to_be_reexecuted": false,
    "source_hash": "173272e2",
    "execution_start": 1637901623385,
    "execution_millis": 43,
    "deepnote_output_heights": [
     251.5625
    ],
    "deepnote_cell_type": "code"
   },
   "source": "_ = Apartamento(nr_apt)",
   "execution_count": null,
   "outputs": []
  },
  {
   "cell_type": "markdown",
   "source": "#### Testando cadastrar um morador já existente",
   "metadata": {
    "tags": [],
    "cell_id": "00032-1aea0c93-92d6-419e-a94c-dad88ec1008a",
    "deepnote_to_be_reexecuted": false,
    "source_hash": "70dbb00a",
    "execution_start": 1637882438317,
    "execution_millis": 5,
    "deepnote_cell_type": "markdown"
   }
  },
  {
   "cell_type": "code",
   "metadata": {
    "tags": [],
    "cell_id": "00034-67e7bbae-f194-4818-90cb-f4b1281f5f96",
    "deepnote_to_be_reexecuted": false,
    "source_hash": "7c985a97",
    "execution_start": 1637901623429,
    "execution_millis": 873,
    "deepnote_cell_type": "code"
   },
   "source": "_ = Morador(idade=int(idade), apartamento=apartamento, nome=nm_morador)",
   "execution_count": null,
   "outputs": [
    {
     "output_type": "error",
     "ename": "AttributeError",
     "evalue": "Morador já está no apartamento!",
     "traceback": [
      "\u001b[0;31m---------------------------------------------------------------------------\u001b[0m",
      "\u001b[0;31mAttributeError\u001b[0m                            Traceback (most recent call last)",
      "\u001b[0;32m<ipython-input-8-c785484bf2b0>\u001b[0m in \u001b[0;36m<module>\u001b[0;34m\u001b[0m\n\u001b[0;32m----> 1\u001b[0;31m \u001b[0m_\u001b[0m \u001b[0;34m=\u001b[0m \u001b[0mMorador\u001b[0m\u001b[0;34m(\u001b[0m\u001b[0midade\u001b[0m\u001b[0;34m=\u001b[0m\u001b[0mint\u001b[0m\u001b[0;34m(\u001b[0m\u001b[0midade\u001b[0m\u001b[0;34m)\u001b[0m\u001b[0;34m,\u001b[0m \u001b[0mapartamento\u001b[0m\u001b[0;34m=\u001b[0m\u001b[0mapartamento\u001b[0m\u001b[0;34m,\u001b[0m \u001b[0mnome\u001b[0m\u001b[0;34m=\u001b[0m\u001b[0mnm_morador\u001b[0m\u001b[0;34m)\u001b[0m\u001b[0;34m\u001b[0m\u001b[0;34m\u001b[0m\u001b[0m\n\u001b[0m",
      "\u001b[0;32m<ipython-input-1-72f1e1847d20>\u001b[0m in \u001b[0;36m__init__\u001b[0;34m(self, idade, apartamento, nome)\u001b[0m\n\u001b[1;32m     54\u001b[0m             \u001b[0mself\u001b[0m\u001b[0;34m.\u001b[0m\u001b[0mapartamento\u001b[0m\u001b[0;34m.\u001b[0m\u001b[0mmoradores\u001b[0m\u001b[0;34m.\u001b[0m\u001b[0mappend\u001b[0m\u001b[0;34m(\u001b[0m\u001b[0mself\u001b[0m\u001b[0;34m)\u001b[0m\u001b[0;34m\u001b[0m\u001b[0;34m\u001b[0m\u001b[0m\n\u001b[1;32m     55\u001b[0m         \u001b[0;32melse\u001b[0m\u001b[0;34m:\u001b[0m\u001b[0;34m\u001b[0m\u001b[0;34m\u001b[0m\u001b[0m\n\u001b[0;32m---> 56\u001b[0;31m             \u001b[0;32mraise\u001b[0m \u001b[0mAttributeError\u001b[0m\u001b[0;34m(\u001b[0m\u001b[0;34m\"Morador já está no apartamento!\"\u001b[0m\u001b[0;34m)\u001b[0m\u001b[0;34m\u001b[0m\u001b[0;34m\u001b[0m\u001b[0m\n\u001b[0m\u001b[1;32m     57\u001b[0m \u001b[0;34m\u001b[0m\u001b[0m\n\u001b[1;32m     58\u001b[0m     \u001b[0;31m#================================================================================================================\u001b[0m\u001b[0;34m\u001b[0m\u001b[0;34m\u001b[0m\u001b[0;34m\u001b[0m\u001b[0m\n",
      "\u001b[0;31mAttributeError\u001b[0m: Morador já está no apartamento!"
     ]
    }
   ]
  },
  {
   "cell_type": "markdown",
   "source": "## Realizando os votos",
   "metadata": {
    "tags": [],
    "cell_id": "00033-81ff7419-4ded-4ed2-99cf-57ac5542f48d",
    "deepnote_cell_type": "markdown"
   }
  },
  {
   "cell_type": "code",
   "metadata": {
    "tags": [],
    "cell_id": "00050-16943e1b-327f-4b0a-8aa1-f76ffb3990f9",
    "deepnote_to_be_reexecuted": false,
    "source_hash": "8e8090d6",
    "execution_start": 1637901650524,
    "execution_millis": 1,
    "deepnote_output_heights": [
     21.1875
    ],
    "deepnote_cell_type": "code"
   },
   "source": "def escolher_aleatoriamento_nro_canditato_para_votar():\n    '''\n    Método que retorna o número aleatoriamente de um dos candidatos\n\n    Retorno: Número do candidato (int)\n    '''\n    nros_candidatos = [candidato.numero for candidato in main_lista_candidatos]\n    return nros_candidatos[random.randint(0, len(nros_candidatos)-1)]",
   "execution_count": null,
   "outputs": []
  },
  {
   "cell_type": "markdown",
   "source": "#### Cadastrando apartamentos e moradores na urna",
   "metadata": {
    "tags": [],
    "cell_id": "00038-5819fa8d-a288-4e83-8db2-e3ace2a48d47",
    "deepnote_cell_type": "markdown"
   }
  },
  {
   "cell_type": "code",
   "metadata": {
    "tags": [],
    "cell_id": "00037-3428980e-034e-4476-835b-837b4c92a5c7",
    "deepnote_to_be_reexecuted": false,
    "source_hash": "a1f3db3b",
    "execution_start": 1637901654171,
    "execution_millis": 16,
    "deepnote_output_heights": [
     21.1875
    ],
    "deepnote_cell_type": "code"
   },
   "source": "urna = Urna(main_lista_aptos, main_lista_candidatos)",
   "execution_count": null,
   "outputs": [
    {
     "name": "stdout",
     "text": "Candidato Terezinha De Jesus cadastrado na urna. Seu número é 41\nCandidato Machado De Assis cadastrado na urna. Seu número é 12\nCandidato Cora Coralina cadastrado na urna. Seu número é 22\n",
     "output_type": "stream"
    }
   ]
  },
  {
   "cell_type": "markdown",
   "source": "#### Testando cadastrar o mesmo apartamento na urna",
   "metadata": {
    "tags": [],
    "cell_id": "00038-d8216fc9-7563-41e6-808c-72e33db72787",
    "deepnote_cell_type": "markdown"
   }
  },
  {
   "cell_type": "code",
   "metadata": {
    "tags": [],
    "cell_id": "00039-3c9d51eb-dee7-4300-88b5-39cd9b2582e5",
    "deepnote_to_be_reexecuted": false,
    "source_hash": "13f64192",
    "execution_start": 1637901658623,
    "execution_millis": 4,
    "deepnote_cell_type": "code"
   },
   "source": "urna.cadastrar_apartamento(main_lista_aptos[0])",
   "execution_count": null,
   "outputs": [
    {
     "name": "stdout",
     "text": "Apartamento já está cadastrado!\n",
     "output_type": "stream"
    }
   ]
  },
  {
   "cell_type": "markdown",
   "source": "#### Testando cadastrar o mesmo candidato na urna",
   "metadata": {
    "tags": [],
    "cell_id": "00040-d29e4081-3cad-4006-b9d3-e7e8920e60da",
    "deepnote_cell_type": "markdown"
   }
  },
  {
   "cell_type": "code",
   "metadata": {
    "tags": [],
    "cell_id": "00041-83634874-b2f2-4d05-9a12-e911c7584317",
    "deepnote_to_be_reexecuted": false,
    "source_hash": "c9d9a54e",
    "execution_start": 1637901667782,
    "execution_millis": 7,
    "deepnote_cell_type": "code"
   },
   "source": "urna.cadastrar_candidato(main_lista_candidatos[0])",
   "execution_count": null,
   "outputs": [
    {
     "name": "stdout",
     "text": "Candidato já está cadastrado!\n",
     "output_type": "stream"
    }
   ]
  },
  {
   "cell_type": "markdown",
   "source": "#### Listando os candidatos que estão na urna",
   "metadata": {
    "tags": [],
    "cell_id": "00042-acda85a3-040f-4898-b8c8-94bedb830e3a",
    "deepnote_cell_type": "markdown"
   }
  },
  {
   "cell_type": "code",
   "metadata": {
    "tags": [],
    "cell_id": "00043-40976c93-ebdc-4e91-a56e-f983c1cbbdf8",
    "deepnote_to_be_reexecuted": false,
    "source_hash": "2ffa4734",
    "execution_start": 1637901671818,
    "execution_millis": 3,
    "deepnote_output_heights": [
     59.59375
    ],
    "deepnote_cell_type": "code"
   },
   "source": "# realizando o unpacking da lista para imprimir cada candidato em uma linha (\\n) em uma list comprehension\nprint(*(candidato_da_urna for candidato_da_urna in urna.candidatos), sep='\\n')",
   "execution_count": null,
   "outputs": [
    {
     "name": "stdout",
     "text": "Terezinha De Jesus possui o número 41\nMachado De Assis possui o número 12\nCora Coralina possui o número 22\n",
     "output_type": "stream"
    }
   ]
  },
  {
   "cell_type": "markdown",
   "source": "#### Realizando voto pela classe Morador",
   "metadata": {
    "tags": [],
    "cell_id": "00044-748ee823-e900-4498-919a-38f7d8679934",
    "deepnote_cell_type": "markdown"
   }
  },
  {
   "cell_type": "code",
   "metadata": {
    "tags": [],
    "cell_id": "00045-6b073812-9b5a-4444-a561-0e844d74d7e2",
    "deepnote_to_be_reexecuted": false,
    "source_hash": "3b76146c",
    "execution_start": 1637901675882,
    "execution_millis": 12,
    "deepnote_output_heights": [
     405.15625
    ],
    "deepnote_cell_type": "code"
   },
   "source": "# Realizando o voto através da instância do morador\nmain_lista_moradores[0].votar(urna, escolher_aleatoriamento_nro_canditato_para_votar())",
   "execution_count": null,
   "outputs": []
  },
  {
   "cell_type": "markdown",
   "source": "#### Realizando voto pela classe Urna",
   "metadata": {
    "tags": [],
    "cell_id": "00046-529b9273-ebbf-43d5-bae1-04d94ebb8f08",
    "deepnote_cell_type": "markdown"
   }
  },
  {
   "cell_type": "code",
   "metadata": {
    "tags": [],
    "cell_id": "00047-2661269d-e121-4f6a-8afe-72df9decaf0f",
    "deepnote_to_be_reexecuted": false,
    "source_hash": "4ea28d5a",
    "execution_start": 1637901681332,
    "execution_millis": 7,
    "deepnote_output_heights": [
     117.1875
    ],
    "deepnote_cell_type": "code"
   },
   "source": "urna.receber_voto(main_lista_aptos[1], escolher_aleatoriamento_nro_canditato_para_votar())\nurna.receber_voto(main_lista_aptos[2], escolher_aleatoriamento_nro_canditato_para_votar())",
   "execution_count": null,
   "outputs": []
  },
  {
   "cell_type": "markdown",
   "source": "#### Exibindo a parcial da votação",
   "metadata": {
    "tags": [],
    "cell_id": "00049-a6483724-ce34-4049-b457-d535ddda5574",
    "deepnote_cell_type": "markdown"
   }
  },
  {
   "cell_type": "code",
   "metadata": {
    "tags": [],
    "cell_id": "00050-c47ee538-f977-4cf6-995f-7f61bfb92058",
    "deepnote_to_be_reexecuted": false,
    "source_hash": "d7f30e3a",
    "execution_start": 1637901686092,
    "execution_millis": 734,
    "deepnote_output_heights": [
     null,
     280
    ],
    "deepnote_cell_type": "code"
   },
   "source": "urna.mostrar_votacao_parcial()",
   "execution_count": null,
   "outputs": [
    {
     "name": "stdout",
     "text": "Resultado parcial: (42.86% concluído)\nRestam 4 votos\n",
     "output_type": "stream"
    },
    {
     "data": {
      "text/plain": "<Figure size 432x288 with 1 Axes>",
      "image/png": "[encoded data removed]"
     },
     "metadata": {
      "needs_background": "light",
      "image/png": {
       "width": 392,
       "height": 278
      }
     },
     "output_type": "display_data"
    }
   ]
  },
  {
   "cell_type": "markdown",
   "source": "#### Testando fazer uma pessoa votar quando alguém do mesmo apartamento já votou",
   "metadata": {
    "tags": [],
    "cell_id": "00046-2faaf417-a3cc-4645-8ee2-151ef482760c",
    "deepnote_cell_type": "markdown"
   }
  },
  {
   "cell_type": "code",
   "metadata": {
    "tags": [],
    "cell_id": "00047-b5d6fe65-e12f-4b09-90be-54e4d0d551e3",
    "deepnote_to_be_reexecuted": false,
    "source_hash": "f61f854",
    "execution_start": 1637901691336,
    "execution_millis": 18,
    "deepnote_cell_type": "code"
   },
   "source": "main_lista_moradores[1].votar(urna, escolher_aleatoriamento_nro_canditato_para_votar())",
   "execution_count": null,
   "outputs": [
    {
     "name": "stdout",
     "text": "Apartamento já votou\n",
     "output_type": "stream"
    }
   ]
  },
  {
   "cell_type": "markdown",
   "source": "#### Computando voto manual",
   "metadata": {
    "tags": [],
    "cell_id": "00042-a81c4fc4-7d1d-4813-a336-d8a61e711556",
    "deepnote_cell_type": "markdown"
   }
  },
  {
   "cell_type": "code",
   "metadata": {
    "tags": [],
    "cell_id": "00042-44c097e6-7498-4ebf-b01d-13640775db63",
    "deepnote_to_be_reexecuted": false,
    "source_hash": "b3194892",
    "execution_start": 1637901697419,
    "execution_millis": 5003,
    "deepnote_output_heights": [
     21.1875
    ],
    "deepnote_cell_type": "code"
   },
   "source": "urna.receber_voto(main_lista_aptos[3])",
   "execution_count": null,
   "outputs": [
    {
     "name": "stdout",
     "text": "Nome:Terezinha De Jesus\tNúmero:41\nNome:Machado De Assis\tNúmero:12\nNome:Cora Coralina\tNúmero:22\n",
     "output_type": "stream"
    }
   ]
  },
  {
   "cell_type": "markdown",
   "source": "### Computando os votos dos apartamentos que ainda não votaram e a URNA reconhecendo que não tem mais ninguém para votar e anunciando o vencedor",
   "metadata": {
    "tags": [],
    "cell_id": "00043-8b88f2c3-56ce-48c8-ac06-c55ea0f45b91",
    "deepnote_cell_type": "markdown"
   }
  },
  {
   "cell_type": "code",
   "metadata": {
    "tags": [],
    "cell_id": "00043-a3b03bae-9a29-4ad9-a03b-f1272071f28e",
    "deepnote_to_be_reexecuted": false,
    "source_hash": "6ff0a05a",
    "execution_start": 1637901705316,
    "execution_millis": 449,
    "deepnote_output_heights": [
     null,
     280
    ],
    "deepnote_cell_type": "code"
   },
   "source": "for apt in [apartamento for count,apartamento in enumerate(urna.apartamentos['obj']) if urna.apartamentos['status_voto'][count] is False]:\n    nr_candidato = escolher_aleatoriamento_nro_canditato_para_votar()\n    urna.receber_voto(apt, nr_candidato)",
   "execution_count": null,
   "outputs": [
    {
     "name": "stdout",
     "text": "Votação finalizada!\n",
     "output_type": "stream"
    },
    {
     "data": {
      "text/plain": "<Figure size 432x288 with 1 Axes>",
      "image/png": "[encoded data removed]"
     },
     "metadata": {
      "needs_background": "light",
      "image/png": {
       "width": 386,
       "height": 278
      }
     },
     "output_type": "display_data"
    }
   ]
  },
  {
   "cell_type": "code",
   "metadata": {
    "tags": [],
    "cell_id": "00043-0876f7e8-d48f-4aab-97d2-d3ef78cc389f",
    "deepnote_to_be_reexecuted": false,
    "source_hash": "27ad9148",
    "execution_start": 1637901711349,
    "execution_millis": 13,
    "deepnote_output_heights": [
     155.5
    ],
    "deepnote_cell_type": "code"
   },
   "source": "# implementar tentativa de voto quando votação já foi finalizada\nurna.receber_voto(main_lista_aptos[0], escolher_aleatoriamento_nro_canditato_para_votar())",
   "execution_count": null,
   "outputs": [
    {
     "name": "stdout",
     "text": "Não é mais permitido votar! Eleição já foi finalizada.\n",
     "output_type": "stream"
    }
   ]
  },
  {
   "cell_type": "markdown",
   "source": "<a style='text-decoration:none;line-height:16px;display:flex;color:#5B5B62;padding:10px;justify-content:end;' href='https://deepnote.com?utm_source=created-in-deepnote-cell&projectId=3100c8ab-d3d4-499c-acd3-56b86fb248b1' target=\"_blank\">\n<img alt='Created in deepnote.com' style='display:inline;max-height:16px;margin:0px;margin-right:7.5px;' src='data:image/svg+xml;base64,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' > </img>\nCreated in <span style='font-weight:600;margin-left:4px;'>Deepnote</span></a>",
   "metadata": {
    "tags": [],
    "created_in_deepnote_cell": true,
    "deepnote_cell_type": "markdown"
   }
  }
 ],
 "nbformat": 4,
 "nbformat_minor": 2,
 "metadata": {
  "deepnoteSessionId": "dea8a0f5-35e3-4468-94eb-804ff5fc7baa",
  "kernelspec": {
   "display_name": "Python 3",
   "language": "python",
   "name": "python3"
  },
  "language_info": {
   "codemirror_mode": {
    "name": "ipython",
    "version": 3
   },
   "file_extension": ".py",
   "mimetype": "text/x-python",
   "name": "python",
   "nbconvert_exporter": "python",
   "pygments_lexer": "ipython3",
   "version": "3.7.5"
  },
  "deepnote_execution_queue": [],
  "deepnote_notebook_id": "0f460af1-1872-4aa4-804e-36716dbf15fd",
  "deepnote": {
   "is_reactive": false
  }
 }
}