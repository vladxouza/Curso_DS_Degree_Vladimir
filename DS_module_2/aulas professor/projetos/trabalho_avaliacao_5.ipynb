{
 "cells": [
  {
   "cell_type": "markdown",
   "source": "# Organizando uma eleição\n(créditos ao professor Rafael)",
   "metadata": {
    "id": "EQKLRt_Kaqqp",
    "cell_id": "00000-806bc3bd-46e2-4ddf-a9ab-502a868aff34",
    "deepnote_cell_type": "markdown"
   }
  },
  {
   "cell_type": "markdown",
   "source": "O último ano foi extremamente desafiador para você. Além de estarmos vivendo uma pandemia que aumentou nossa preocupação com a nossa própria vida e com nossos entes queridos e estarmos obrigados a passar mais tempo em casa para garantir nossa segurança, você se matriculou em um curso de programação e ciência de dados para mudar de rumo em sua carreira!\n\nO _timing_ pareceu ideal: mais tempo em casa, mais tempo para estudar. Porém, você esbarrou em algumas dificuldades. O condomínio está em reforma, e você passa o dia ao som de marretadas no piso. Durante a noite, no horário da sua aula online, seus vizinhos - um casal passando por dificuldades na relação - costumam discutir em voz alta. A discussão deles frequentemente acorda o bebê do outro vizinho e todos os cachorros do andar no prédio. Deixar para estudar no final de semana não ajuda, pois o filho adolescente da família do apartamento logo acima do seu costuma trazer os colegas de banda para ensaiar. \n\nA situação se tornou insustentável, e o síndico - que é o mesmo senhorzinho desde que você se mudou para esse condomínio, há mais de 10 anos - não toma atitudes e não gosta de ser perturbado. Chegou a hora de organizar uma eleição para um novo síndico, e você tomou a iniciativa de montar um sistema eletrônico para auxiliar na votação.",
   "metadata": {
    "id": "FH4e_nMZaqqt",
    "cell_id": "00001-73f54a70-01d3-4c86-81c1-1040c8c6be70",
    "deepnote_cell_type": "markdown"
   }
  },
  {
   "cell_type": "markdown",
   "source": "## Entidades envolvidas\n\nPodemos imaginar as seguintes entidades envolvidas na eleição:\n\n* **Morador**: representa cada uma das pessoas que moram no prédio. Possui um nome, um Apartamento e é capaz de depositar um voto em um Candidato em uma Urna.\n* **Candidato**: é um tipo especial de Morador. Possui tudo o que o morador possui, mas também possui um número que será usado para representá-lo na Urna e uma contagem individual de votos.\n* **Apartamento**: representa cada uma das unidades do prédio. Possui uma lista de moradores e um status indicando se ele já votou ou não. Cada apartamento tem direito a exatamente 1 voto. Se a sua filha já votou, você não pode mais votar!\n* **Urna**: coleciona votos. Ela possui uma coleção de candidatos e uma coleção de moradores (lembrando que o candidato também conta como morador!). Ela armazena a quantidade de votos de cada candidato e é capaz de incrementar essa quantidade ao receber um voto novo. Ela também possui uma coleção de apartamentos e é capaz de determinar quais apartamentos já votaram (mas não qual apartamento votou em cada candidato - o voto é secreto). Quando o último apartamento votar, ela publica os resultados e declara o vencedor.\n\nVamos pensar juntos em meios de implementar cada uma das classes.",
   "metadata": {
    "id": "WCYyJ59Caqqv",
    "cell_id": "00002-9448b74b-c751-4dd0-a9bb-fe11cc1626b8",
    "deepnote_cell_type": "markdown"
   }
  },
  {
   "cell_type": "markdown",
   "source": "### Morador\n\nA classe mais básica de nossa eleição, representando cada uma das pessoas que habitam no condomínio. O morador obrigatoriamente possui um nome e um Apartamento.\n\nSeu construtor pode ou não receber uma string contendo o nome, e pode ou não receber um objeto Apartamento. Caso ele não receba um nome, deverá solicitar a digitação de um através do input. Caso ele não receba um objeto Apartamento, deverá pedir por input o número do apartamento e criar o objeto.\n\nO nome e apartamento digitados ou recebidos deverão se tornar atributos do objeto.\n\nNosso objeto também deverá possuir um método para votar. Ele deverá receber um objeto Urna e pode receber um número inteiro correspondente ao número de um candidato ou, caso não receba, irá ler o número pelo teclado. Ela deverá primeiro verificar se o seu apartamento já votou, e caso não tenha, ela irá chamar o método de acrescentar voto na Urna, informando o número de seu candidato e passando seu objeto apartamento. Caso contrário, ela exibirá uma mensagem alertando que esse apartamento já votou.",
   "metadata": {
    "id": "dl8QuE0iaqqv",
    "cell_id": "00003-3b00cdfb-8224-4eaf-a5c3-c54cee1f84a5",
    "deepnote_cell_type": "markdown"
   }
  },
  {
   "cell_type": "code",
   "metadata": {
    "id": "qemjQ-Pmaqqw",
    "cell_id": "00004-16198ee4-256d-468f-9c63-bd8aa9b0e6ea",
    "deepnote_to_be_reexecuted": false,
    "source_hash": "c545e81d",
    "execution_start": 1637959769491,
    "execution_millis": 1,
    "deepnote_cell_type": "code"
   },
   "source": "class Morador:\n\n    '''\n    Cria uma classe que representa\n    um morador de um condomínio\n    '''\n\n    # Método construtor, com nome e apt como parâmetros\n    # opcionais, que podem ser pedidos por input\n    \n    def __init__(self, nome='', apartamento=None):\n        '''\n        Construtor\n\n        Parâmetros:\n        -----------\n        nome: str : opcional\n            nome do condômino\n        apt: Apartamento : opcional\n            objeto Apartamento onde o Morador reside\n        '''\n\n        # Obedecendo os critérios de projeto,\n        # ambos os parâmetros são opcionais\n        # e no caso de não serem fornecidos na\n        # criação do objeto, são pedidos por input\n\n        # input opcional e definição do nome do Morador\n\n        # Se o nome não foi passado na definição\n        #self.nome = nome\n        #self.apartamento = apartamento\n        if nome == '':\n            # é pedido o nome, do tipo str, que é checado\n            self.nome = str(input(\"Digite o nome do morador:\"))\n        else:\n            # caso o nome tenha sido passado, testa o tipo da variável nome\n            if isinstance(nome, str):\n                # Atribuindo o valor passado\n                self.nome = nome\n            else:\n                # Caso contrário, dispara um erro\n                raise ValueError(\"O nome deve ser do tipo string.\")\n\n        # input opcional e definição do Apartamento\n\n        # Se o apartamento não foi passado na definição\n        if apartamento == None:\n            # é pedido o número do apartamento, do tipo int, que é checado\n            n_apartamento = int(input(\"Digite o número do apartamento:\"))\n            # com o número de todos os apartamentos instanciados\n            for instancia in Apartamento.instances:\n                if n_apartamento == instancia.numero_apt:\n                    # e, se ele existe, a instância é atribuída ao Morador\n                    self.apartamento = instancia\n\n\n            if self.apartamento == None:\n                # caso contrário, dispara um erro\n                raise ValueError('Este apartamento não existe.')\n        else:\n            if isinstance(apartamento, Apartamento):\n                # e caso ele tenha sido passado na definição, é atribuído, caso seja do tipo Apartamento\n                self.apartamento = apartamento\n            else:\n                # caso contrário, levanta um erro\n                raise TypeError('Apartamento precisa ser do tipo Apartamento.')\n\n    # Define o método de voto\n    def votar(self, urna, numero_candidato=0):\n\n        '''\n        Caso o número do candidato não tenha sido definido\n        na chamada do método, pede o número do candidato\n        depois de checar se o apartamento onde reside o Morador\n        ainda não possui voto, chama o método \"concluir_voto\"\n        e devolve uma mensagem de sucesso\n\n        Parâmetros\n        ----------\n\n        urna: obj\n            urna que receberá o voto\n\n        numero_candidato : int\n            número do candidato que receberá o voto\n        '''\n\n        # checa se a urna de votação está criada\n        if not isinstance(urna, Urna):\n            raise TypeError(\"Urna precisa ser do tipo Urna\")\n\n        # Caso o número do candidato não tenha sido passado, pede o\n        # o número do candidato pelo input, checando o tipo int\n        if numero_candidato == 0:\n            numero_candidato = int(input('Digite o número do candidato em que deseja votar:'))\n        \n        # números de candidatos iniciam a partir do número 10, portanto:\n        if numero_candidato < 10:\n            raise ValueError(\"Este não é um número de candidato válido\")\n\n        # lista auxiliar que receberá o ID dos candidatos\n        lista_numero = []\n        for candidato in urna.candidato:\n            lista_numero.append(candidato.numero_id)\n        \n        # verificação se o voto do Morador é em um candidato válido e existente\n        numero_candidato_maior = max(lista_numero)\n        if numero_candidato > numero_candidato_maior:\n            raise ValueError(\"Esse número de candidato não está cadastrado.\")\n\n        if self.apartamento.ja_votou == 1:\n            print(f'O Apartamento {self.apartamento.numero_apt} já votou.')\n\n        if self.apartamento.ja_votou == 0:\n            urna.receber_voto(self.apartamento, numero_candidato)\n      ",
   "execution_count": 1,
   "outputs": []
  },
  {
   "cell_type": "markdown",
   "source": "### Candidato\n\nObjetos da classe Candidato são, necessariamente, moradores. Eles possuem as mesmas informações e as mesmas ações que um morador. O que isso significa em programação orientada a objeto?\n\nEle possui outros dois atributos: o seu número que será usado para identificá-lo na Urna e sua contagem de votos. Ambos devem ser inicializados com valor 0. \n\nEle deve oferecer métodos para que seu número seja configurado (quando cadastrarmos o candidato na Urna, ela irá fornecer um número para ele), bem como para que sua contagem de votos seja atualizada (ao final da votação, a Urna irá atualizar a contagem de todos os candidatos).",
   "metadata": {
    "id": "sHcvqR_Iaqqx",
    "cell_id": "00005-f2b1d239-8f60-46bb-af7b-5666758ce671",
    "deepnote_cell_type": "markdown"
   }
  },
  {
   "cell_type": "code",
   "metadata": {
    "id": "XZV0vYZ9aqqy",
    "cell_id": "00006-0de3ef50-5e32-4c25-a4a6-71331285155f",
    "deepnote_to_be_reexecuted": false,
    "source_hash": "b007a480",
    "execution_start": 1637959769492,
    "execution_millis": 22,
    "deepnote_cell_type": "code"
   },
   "source": "class Candidato(Morador):\n\n    '''\n    Cria uma classe que representa\n    um candidato à eleição do condomínio\n    '''\n\n    # lista de instâncias de Candidatos \n    # que será alimentada\n    instances = []\n\n    def __init__(self, nome, apartamento):\n\n        '''\n        Construtor\n\n        Parâmetros:\n        -----------\n        nome: str\n            nome do condômino, herdado da classe Morador\n        apt: Apartamento : opcional\n           objeto Apartamento, herdado da classe Morador\n        '''\n\n        # trazer a herança da classe Morador\n        super().__init__(nome, apartamento)\n\n        # definimos um ID que será o número que irá\n        # representá-lo na Urna\n        self.numero_id = 0\n\n        # contagem individual dos votos do Candidato\n        self.contagem_votos = 0\n\n        # inclui o Candidato à lista de instâncias\n        # criada na classe Candidato\n        Candidato.instances.append(self)\n\n    def cadastrar_candidato(self, morador):\n\n        '''\n        Cadastra um candidato \n        (necessariamente morador)\n\n        Parâmetros\n        ----------\n\n        morador: obj\n            Objeto morador que será cadastrado \n            como um candidato à eleição\n        '''\n\n        # herda o nome a apartamento do objeto morador \n        # que está sendo cadastrado como candidato\n        self.nome = morador.nome\n        self.apartamento = morador.apartamento\n\n    def cadastrar_urna(self, Urna):\n\n        '''\n        Cadastra o candidato na urna\n\n        Parâmetros\n        ----------\n\n        Urna: obj\n            urna que receberá o candidato\n        '''\n        \n        Urna.cadastrar_candidato(self)\n\n    def atualizar_votos(self, Urna):\n\n        '''\n        Atualiza a contagem dos votos recebidos pelo candidato\n    \n        Parâmetros\n        ----------\n\n        Urna: obj\n            urna que armazenará os votos do candidato\n        '''\n\n        self.contagem_votos = Urna.dic_numero_voto[numero_id]",
   "execution_count": 2,
   "outputs": []
  },
  {
   "cell_type": "markdown",
   "source": "### Apartamento\n\nObjetos da classe Apartamento irão agregar objetos Morador. Isso significa que um de seus atributos será uma lista de moradores. Quando um Apartamento é criado, sua lista começará vazia. O Apartamento deve oferecer métodos para adicionar moradores novos (recebe um objeto Morador e adiciona à lista) e para visualizar seus moradores.\n\nCada apartamento tem direito a exatamente um voto na eleição para síndico. Portanto, cada objeto também deve ter um atributo indicando se aquele apartamento já votou ou não. A classe deve fornecer meios para que a esse atributo possa ser atualizado, pois quando um morador votar, a urna irá alterar esse atributo registrando que o apartamento já votou.",
   "metadata": {
    "id": "6CmHC02laqqz",
    "cell_id": "00007-6a2f9037-4e10-4f22-9907-153a2f0cffcd",
    "deepnote_cell_type": "markdown"
   }
  },
  {
   "cell_type": "code",
   "metadata": {
    "id": "qjqSLNAhaqq3",
    "cell_id": "00008-9d8bd1e4-1ef3-4dd5-89ea-f8b27469409c",
    "deepnote_to_be_reexecuted": false,
    "source_hash": "3295bb7b",
    "execution_start": 1637959769528,
    "execution_millis": 2,
    "allow_embed": "code",
    "deepnote_cell_type": "code"
   },
   "source": "class Apartamento:\n\n    '''\n    Cria uma classe que representa cada\n    apartamento de um condomínio\n    '''\n\n    # Cria uma lista de objetos instanciados para\n    # a checagem e definição do número do Apartamentos\n    instances = []\n    lista_numeros_apt = []\n\n    def __init__(self, numero_apt=0):\n\n        '''\n        Construtor\n\n        Parâmetros:\n        -----------\n        numero_apt: int\n            número do Apartamento\n        lista_moradores: list - []\n            lista com os moradores do apartamento (inicia vazia)\n        ja_votou: bool\n            indica se o apartamento já votou na eleição (inicia False)\n        '''\n\n        # verifica se o número do apartamento já existe entre\n        # as instâncias declaradas. Se sim, levanta um erro,\n        # indicando todos os apartamentos que já existem\n        if numero_apt in Apartamento.lista_numeros_apt:\n            raise ValueError(f'Os seguintes apartamentos {Apartamento.lista_numeros_apt} já existem!')\n\n        self.numero_apt = numero_apt\n\n        # Em caso de novo número, junta o\n        # numero_apt à lista de apartamentos\n        # e o self à lista de instâncias\n        Apartamento.lista_numeros_apt.append(int(numero_apt))\n        Apartamento.instances.append(self)\n\n        # Além disso, inicializamos a lista de moradores\n        # e o booleano ja_votou\n        self.lista_moradores = []\n        self.ja_votou = False\n\n    def adicionar_morador(self, morador):\n\n        '''\n        Adiciona o morador à\n        lista de moradores do apartamento\n\n        '''\n\n        # Testa se o novo Morador é do tipo Morador\n        if not isinstance(morador, Morador):\n            raise TypeError(\"Residente a ser adicionado deve ser do tipo Morador\")\n\n        # Testa se o morador a ser adicionado\n        # já é morador de outro apartamento\n        for instancia in Apartamento.instances:\n            if morador in instancia.lista_moradores:\n                raise ValueError(\"Morador já é morador de outro apartamento\")\n\n        # Passando nos dois testes, o morador é acrescentado à lista de moradores\n        self.lista_moradores.append(morador)\n\n    def visualizar_moradores(self):\n\n        '''\n        Retorna a lista\n        de moradores do apartamento\n        '''\n        \n        return print(lista_moradores)\n\n    # def __repr__(self):\n    # return f'{self.numero_apt}'",
   "execution_count": 3,
   "outputs": []
  },
  {
   "cell_type": "markdown",
   "source": "### Urna\nA classe mais complexa do projeto. Ela é responsável por boa parte da lógica da nossa eleição.\n\nSeu construtor deverá criar como atributos uma coleção de apartamentos e outra de candidatos - escolha a estrutura de dados que julgar mais adequada.\n\nA classe deve fornecer métodos que permitam o cadastro de apartamentos (recebendo como parâmetro objetos Apartamento já existentes) e candidatos (idem). Ao receber um candidato para cadastro, ela deverá gerar um número **único** para representar esse candidato na eleição e irá ajustar esse atributo diretamente no objeto candidato.\n\nEla também deve ter um método para receber um voto, que deve receber um objeto apartamento e o número de um candidato. Ela deve atualizar a contagem de voto do candidato cujo número foi recebido, e marcar aquele apartamento como já votado. Se o apartamento que votou era o último que ainda podia votar, a urna deve imediatamente imprimir os resultados.\n\nBole uma maneira que a urna possa sinalizar para o programa principal se ela já encerrou a votação ou não.",
   "metadata": {
    "id": "JxsWRLDHaqq5",
    "cell_id": "00009-80f475c0-72a5-4ce2-82e7-05e5e0b602e3",
    "deepnote_cell_type": "markdown"
   }
  },
  {
   "cell_type": "code",
   "metadata": {
    "id": "Wn7AggSIaqq5",
    "cell_id": "00010-5882494b-3f1d-4695-bef6-a95c0f96800c",
    "deepnote_to_be_reexecuted": false,
    "source_hash": "cae85dc7",
    "execution_start": 1637959769539,
    "execution_millis": 23,
    "deepnote_output_heights": [
     78.34375
    ],
    "deepnote_cell_type": "code"
   },
   "source": "class Urna:\n\n    '''\n    Cria uma clase que representa a urna que recebe\n    e armazena os votos da eleição\n    '''\n\n    def __init__(self):\n\n        '''\n        Construtor\n\n        Parâmetros\n        ----------\n\n        apartamentos: list\n            lista de apartamentos que serão cadastrados na urna\n\n        candidato: list\n            lista de candidatos que serão cadastrados na urna     \n        '''\n\n        # recebe a lista de apartamentos e de candidatos\n        self.apartamento = Apartamento.instances\n        self.candidato = Candidato.instances\n\n        # cria um dicionário vazio que receberá como chave\n        # o candidato e como valor o número do candidato\n        dicionario_candidatos = {}\n\n        # cria um dicionário vazio que receberá como chave o número \n        # do candidato e como valor a quantidade de votos\n        dicionario_numero_voto = {}\n\n        numero_candidato = 10\n        # o primeiro candidato receberá o número 10 (escolha de projeto)\n\n        # percorre a lista de candidatos\n        for candidato_pre_proc in self.candidato:\n\n            # aumenta o contador para o próximo candidato receber o próximo número\n            numero_candidato = numero_candidato + 1\n\n            # adiciona o número do candidato no dicionário de candidatos\n            dicionario_candidatos[candidato_pre_proc] = numero_candidato\n\n            # determina o ID do candidato (como sendo o numero_candidato)\n            candidato_pre_proc.numero_id = numero_candidato\n\n            # inicia a contagem dos votos para tal candidato\n            dicionario_numero_voto[numero_candidato] = 0\n\n        self.dic_candidatos = dicionario_candidatos\n        self.dic_numero_voto = dicionario_numero_voto\n\n        self.dicionario_apartamentos = {}\n        for apartamento_preproc in self.apartamento:\n            self.dicionario_apartamentos[apartamento_preproc] = False\n\n    def cadastrar_apartamento(self, apartamento_cadastro):\n\n        '''\n        Cadastra o apartamento na urna\n\n        Parâmetros\n        ----------\n\n        apartamento: Apartamento\n            objeto apartamento que será cadastrado na urna\n        '''\n\n        # checa se o apartamento é da classe Apartamento\n        if not isinstance(apartamento_cadastro, Apartamento):\n            raise TypeError(\"O apartamento tem que ser do tipo Apartamento\")\n\n        # verifica se o apartamento já existe\n        if apartamento_cadastro in self.apartamento:\n            raise ValueError(\"O apartamento já está inscrito.\")\n\n        self.apartamento.append(apartamento_cadastro)\n        self.dicionario_apartamentos[apartamento_cadastro] = False\n\n    def cadastrar_candidato(self, candidato_cadastro):\n\n        '''\n        Cadastra o candidato na urna\n\n        Parâmetros\n        ----------\n\n        candidato: Candidato\n            candidato que será cadastrado na urna\n        '''\n\n        # antes de acrescentar o candidato na lista, \n        # checa se o candidato é do tipo Candidato\n        if isinstance(candidato_cadastro, Candidato):\n            self.candidato.append(candidato_cadastro)\n        else:\n            raise TypeError(\"O candidato tem que ser do tipo Candidato\")\n        \n        # verifica se o candidato já existe\n        if candidato_cadastro in self.candidato:\n            raise ValueError(\"O candidato já está inscrito.\")\n\n        # define um contador novo para o candidato\n        # a partir da posição do último\n        contador_novo = dic_candidatos[self.candidato[-1]] + 1\n\n        # atrela o candidato ao contador\n        self.dic_candidatos[candidato_cadastro] = contador_novo\n\n        # inicia a contagem dos votos do novo candidato com zero\n        self.dic_numero_voto[contador_novo] = 0\n\n        # define o ID do novo candidato\n        candidato_cadastro.numero_id = contador_novo\n\n        # append o candidato na lista de candidatos\n        self.candidato.append(candidato_cadastro)\n\n    def receber_voto(self, apartamento_novo, numero_candidato):\n\n        '''\n        Cadastra o voto na urna\n\n        Parâmetros\n        ----------\n\n        apartamento_novo = int\n            número do apartamento a votar\n\n        numero_candidato = int\n            número do candidato a receber voto\n        '''\n\n        # segunda checagem se o apartamento já votou\n        if self.dicionario_apartamentos[apartamento_novo] == True:\n            raise ValueError(\"O apartamento está mentindo. Eles já votaram. Fraude eleitoral!!!\")\n        apartamento_novo.ja_votou = True\n        self.dicionario_apartamentos[apartamento_novo] = True\n\n        self.dic_numero_voto[numero_candidato] = self.dic_numero_voto[numero_candidato] + 1\n\n        # validação se todos os apartamentos já votaram:\n        valida_votos_apt = 0\n        for apart in self.apartamento:\n            if apart.ja_votou == False:\n                valida_votos_apt = valida_votos_apt + 1\n\n        if valida_votos_apt > 0:\n            return print(f'Faltam os votos de {valida_votos_apt} apartamentos.')\n\n        if valida_votos_apt == 0:\n            for candidato_inscrito in self.candidato:\n                candidato_inscrito.atualizar_votos\n\n                return print(self.dic_numero_voto)",
   "execution_count": 4,
   "outputs": []
  },
  {
   "cell_type": "markdown",
   "source": "## O programa principal\n\nSeu programa principal terá 3 etapas - fique à vontade para modularizar essas etapas com o auxílio de funções, ou mesmo utilizar outras classes se julgar necessário.\n\n* Cadastro: o programa deverá ler informações sobre cada pessoa e ir criando os objetos Morador/Candidato e Apartamento correspondentes. Lembre-se de sempre perguntar se a próxima pessoa a ser lida é ou não candidata para decidir a melhor forma de instanciá-la no sistema.\n\n* Configuração: o programa deverá utilizar as informações obtidasna etapa anterior para criar uma urna.\n\n* Votação: o programa ficará em loop permitindo que diferentes moradores votem (ou tentem votar). Nessa etapa, o programa deve ser capaz de identificar qual o morador votando e utilizar os métodos criados previamente para realizar o voto. Quando a classe Urna informar que a votação acabou, o loop deve ser encerrado.",
   "metadata": {
    "id": "4QAv1xR9aqq6",
    "cell_id": "00011-eb36bedd-6ea5-4774-8bbb-bab348a88884",
    "deepnote_cell_type": "markdown"
   }
  },
  {
   "cell_type": "code",
   "metadata": {
    "id": "2oGozFQUaqq7",
    "cell_id": "00012-e650f206-e980-4b4b-890c-af4a311b76f0",
    "deepnote_to_be_reexecuted": false,
    "source_hash": "1b0ead1c",
    "execution_start": 1637959769572,
    "execution_millis": 440938,
    "deepnote_output_heights": [
     460.171875
    ],
    "deepnote_cell_type": "code"
   },
   "source": "quant_apartamento = int(input('Digite a quantidade de Apartamentos para cadastro:'))\n\n\ncont_apt = 1\nwhile cont_apt < quant_apartamento + 1:\n\n    apartamento = input(f'Digite o número do {cont_apt}º Apartamento:')\n    globals()['apartamento%s' % apartamento] = Apartamento(apartamento)\n    cont_apt += 1\nprint(Apartamento.lista_numeros_apt)\n\nquant_morador = int(input('Digite a quantidade de moradores para cadastro:'))\n\ncont_morador = 0\nwhile cont_morador < quant_morador:\n    candidato = input(f'O morador {cont_morador} é um candidato. Digite s ou n:')\n    # globals()['morador%s' % quant_morador] = Morador()\n\n    if candidato == 's':\n        globals()['morador%s' % cont_morador] = Morador()\n        globals()['candidato%s' % cont_morador] = Candidato(str(globals()['morador%s' % cont_morador].nome),\n                                                             globals()['apartamento%s' % (globals()['morador%s' % cont_morador].apartamento)])\n    else:\n        globals()['morador%s' % cont_morador] = Morador()\n    cont_morador += 1\n\nurna = Urna()\n\n\n\n\n\nprint(candidato0.nome)\nprint(candidato0.apartamento)\nprint(morador0.nome)\nprint(apartamento1.numero_apt)\nprint(candidato1.nome)\nprint(candidato1.apartamento)\nprint(morador1.nome)\nprint(apartamento2.numero_apt)\n\n",
   "execution_count": 5,
   "outputs": [
    {
     "output_type": "error",
     "ename": "KeyboardInterrupt",
     "evalue": "Interrupted by user",
     "traceback": [
      "\u001b[0;31m---------------------------------------------------------------------------\u001b[0m",
      "\u001b[0;31mKeyboardInterrupt\u001b[0m                         Traceback (most recent call last)",
      "\u001b[0;32m<ipython-input-5-1a782a4612bb>\u001b[0m in \u001b[0;36m<module>\u001b[0;34m\u001b[0m\n\u001b[0;32m----> 1\u001b[0;31m \u001b[0mquant_apartamento\u001b[0m \u001b[0;34m=\u001b[0m \u001b[0mint\u001b[0m\u001b[0;34m(\u001b[0m\u001b[0minput\u001b[0m\u001b[0;34m(\u001b[0m\u001b[0;34m'Digite a quantidade de Apartamentos para cadastro:'\u001b[0m\u001b[0;34m)\u001b[0m\u001b[0;34m)\u001b[0m\u001b[0;34m\u001b[0m\u001b[0;34m\u001b[0m\u001b[0m\n\u001b[0m\u001b[1;32m      2\u001b[0m \u001b[0;34m\u001b[0m\u001b[0m\n\u001b[1;32m      3\u001b[0m \u001b[0;34m\u001b[0m\u001b[0m\n\u001b[1;32m      4\u001b[0m \u001b[0mcont_apt\u001b[0m \u001b[0;34m=\u001b[0m \u001b[0;36m1\u001b[0m\u001b[0;34m\u001b[0m\u001b[0;34m\u001b[0m\u001b[0m\n\u001b[1;32m      5\u001b[0m \u001b[0;32mwhile\u001b[0m \u001b[0mcont_apt\u001b[0m \u001b[0;34m<\u001b[0m \u001b[0mquant_apartamento\u001b[0m \u001b[0;34m+\u001b[0m \u001b[0;36m1\u001b[0m\u001b[0;34m:\u001b[0m\u001b[0;34m\u001b[0m\u001b[0;34m\u001b[0m\u001b[0m\n",
      "\u001b[0;32m/shared-libs/python3.7/py-core/lib/python3.7/site-packages/ipykernel/kernelbase.py\u001b[0m in \u001b[0;36mraw_input\u001b[0;34m(self, prompt)\u001b[0m\n\u001b[1;32m    849\u001b[0m             \u001b[0mself\u001b[0m\u001b[0;34m.\u001b[0m\u001b[0m_parent_ident\u001b[0m\u001b[0;34m,\u001b[0m\u001b[0;34m\u001b[0m\u001b[0;34m\u001b[0m\u001b[0m\n\u001b[1;32m    850\u001b[0m             \u001b[0mself\u001b[0m\u001b[0;34m.\u001b[0m\u001b[0m_parent_header\u001b[0m\u001b[0;34m,\u001b[0m\u001b[0;34m\u001b[0m\u001b[0;34m\u001b[0m\u001b[0m\n\u001b[0;32m--> 851\u001b[0;31m             \u001b[0mpassword\u001b[0m\u001b[0;34m=\u001b[0m\u001b[0;32mFalse\u001b[0m\u001b[0;34m,\u001b[0m\u001b[0;34m\u001b[0m\u001b[0;34m\u001b[0m\u001b[0m\n\u001b[0m\u001b[1;32m    852\u001b[0m         )\n\u001b[1;32m    853\u001b[0m \u001b[0;34m\u001b[0m\u001b[0m\n",
      "\u001b[0;32m/shared-libs/python3.7/py-core/lib/python3.7/site-packages/ipykernel/kernelbase.py\u001b[0m in \u001b[0;36m_input_request\u001b[0;34m(self, prompt, ident, parent, password)\u001b[0m\n\u001b[1;32m    890\u001b[0m             \u001b[0;32mexcept\u001b[0m \u001b[0mKeyboardInterrupt\u001b[0m\u001b[0;34m:\u001b[0m\u001b[0;34m\u001b[0m\u001b[0;34m\u001b[0m\u001b[0m\n\u001b[1;32m    891\u001b[0m                 \u001b[0;31m# re-raise KeyboardInterrupt, to truncate traceback\u001b[0m\u001b[0;34m\u001b[0m\u001b[0;34m\u001b[0m\u001b[0;34m\u001b[0m\u001b[0m\n\u001b[0;32m--> 892\u001b[0;31m                 \u001b[0;32mraise\u001b[0m \u001b[0mKeyboardInterrupt\u001b[0m\u001b[0;34m(\u001b[0m\u001b[0;34m\"Interrupted by user\"\u001b[0m\u001b[0;34m)\u001b[0m \u001b[0;32mfrom\u001b[0m \u001b[0;32mNone\u001b[0m\u001b[0;34m\u001b[0m\u001b[0;34m\u001b[0m\u001b[0m\n\u001b[0m\u001b[1;32m    893\u001b[0m             \u001b[0;32mexcept\u001b[0m \u001b[0mException\u001b[0m \u001b[0;32mas\u001b[0m \u001b[0me\u001b[0m\u001b[0;34m:\u001b[0m\u001b[0;34m\u001b[0m\u001b[0;34m\u001b[0m\u001b[0m\n\u001b[1;32m    894\u001b[0m                 \u001b[0mself\u001b[0m\u001b[0;34m.\u001b[0m\u001b[0mlog\u001b[0m\u001b[0;34m.\u001b[0m\u001b[0mwarning\u001b[0m\u001b[0;34m(\u001b[0m\u001b[0;34m\"Invalid Message:\"\u001b[0m\u001b[0;34m,\u001b[0m \u001b[0mexc_info\u001b[0m\u001b[0;34m=\u001b[0m\u001b[0;32mTrue\u001b[0m\u001b[0;34m)\u001b[0m\u001b[0;34m\u001b[0m\u001b[0;34m\u001b[0m\u001b[0m\n",
      "\u001b[0;31mKeyboardInterrupt\u001b[0m: Interrupted by user"
     ]
    }
   ]
  },
  {
   "cell_type": "markdown",
   "source": "## Dicas\n\n* Métodos mágicos: no mínimo uma _representação imprimível_ dos objetos de cada classe seria desejável para facilitar a sua vida. No caso de um morador, podemos imprimir seu nome e número do apartamento. No caso de um candidato, poderíamos incluir o número da urna. No caso do apartamento, seria legal imprimir todos os moradores. E no caso da urna, podemos ter dois casos: antes da votação acabar, apenas a lista de apartamentos que já votou deveria ser impressa. Após o término da votação, ela deveria imprimir quantos votos cada candidato recebeu e qual deles venceu.\n\n* Arquivos e testes: note que vocês sempre foram orientados a passar dados por parâmetros **ou** digitá-los. Se você bolar um esquema inteligente com arquivos em formato padronizado (como CSV) e organizar direitinho seu programa principal, você consegue gerar um único arquivo com todos os moradores e suas respectivas informações (número do apartamento, se é ou não candidato e em quem gostaria de votar) e automatizar completamente as etapas do seu programa.\n\n* Segurança adicional: atualmente, cada apartamento armazena a informação se já votou ou não. Mas e se o apartamento pudesse alterar essa informação e enganar a urna? Você pode colocar uma camada redundante de segurança fazendo com que a urna TAMBÉM controle quais apartamentos já votaram. Mesmo que o apartamento diga que não votou, se a urna está registrando que ele votou, então um hipotético segundo voto deve ser recusado. Veja se consegue pensar em outras possíveis falhas de segurança em potencial no programa. Lembre-se sempre de pensar do ponto de vista de uma classe e \"desconfiar\" das outras.\n\n* Criatividade: os enunciados trazem o **mínimo** que você precisa fazer para que o seu programa funcione como foi planejado. Isso não impede que você crie outros métodos, acrescente informações que possam ser úteis e até mesmo crie outras classes para modelar melhor outros fatores que poderiam ser considerados na organização da sua eleição.\n",
   "metadata": {
    "id": "8uaGKGfWaqq7",
    "cell_id": "00013-076ba143-5d2a-42a4-85f7-79224bf2c710",
    "deepnote_cell_type": "markdown"
   }
  },
  {
   "cell_type": "markdown",
   "source": "## Bônus: representação visual dos votos\n\nA função abaixo gera um gráfico de barras mostrando quantos votos cada candidato teve! Cole-a em sua classe Urna e faça os devidos ajustes para que ela use os atributos da Urna ao invés dos parâmetros utilizados. \n\nO programinha na célula seguinte apenas ilustra o funcionamento da função.\n",
   "metadata": {
    "id": "kkQk1eXiaqq7",
    "cell_id": "00014-00601ed0-bbd6-40f2-9735-5c8a7d6f80fa",
    "deepnote_cell_type": "markdown"
   }
  },
  {
   "cell_type": "code",
   "metadata": {
    "id": "PQXXAdJlaqq7",
    "cell_id": "00015-5a65ab47-b5a2-453a-83b3-4212969c2f58",
    "deepnote_to_be_reexecuted": true,
    "source_hash": "df6285fd",
    "execution_start": 1637886843499,
    "execution_millis": 605,
    "deepnote_cell_type": "code"
   },
   "source": "import matplotlib.pyplot as plt\n\ndef graficoVotos(candidatos, votos):\n    plt.bar(candidatos, votos)\n    plt.title('Resultado das eleições')\n    plt.xlabel('Candidatos')\n    plt.ylabel('Votos')\n    ",
   "outputs": [],
   "execution_count": null
  },
  {
   "cell_type": "code",
   "metadata": {
    "id": "6SeHMqADaqq8",
    "outputId": "f04121b3-0ebf-43be-e77b-2d820f5381ac",
    "cell_id": "00016-ad030994-cb8c-4fe9-999f-fb8885f5fe97",
    "deepnote_to_be_reexecuted": true,
    "source_hash": "27e753ee",
    "deepnote_output_heights": [
     279.984375
    ],
    "execution_start": 1637886844110,
    "execution_millis": 416,
    "deepnote_cell_type": "code"
   },
   "source": "candidatos = ['Python', 'JavaScript', 'HTML']\nvotos = [8, 3, 4]\n\ngraficoVotos(candidatos, votos)",
   "outputs": [
    {
     "data": {
      "text/plain": "<Figure size 432x288 with 1 Axes>",
      "image/png": "[encoded data removed]"
     },
     "metadata": {
      "needs_background": "light",
      "image/png": {
       "width": 376,
       "height": 278
      }
     },
     "output_type": "display_data"
    }
   ],
   "execution_count": null
  },
  {
   "cell_type": "code",
   "metadata": {
    "id": "0BXxIRelaqq-",
    "cell_id": "00017-486a9808-ad85-4ec5-8103-0bd5e0bedec2",
    "deepnote_to_be_reexecuted": true,
    "source_hash": "b623e53d",
    "execution_start": 1637886844535,
    "execution_millis": 8,
    "deepnote_cell_type": "code"
   },
   "source": "",
   "outputs": [],
   "execution_count": null
  },
  {
   "cell_type": "markdown",
   "source": "<a style='text-decoration:none;line-height:16px;display:flex;color:#5B5B62;padding:10px;justify-content:end;' href='https://deepnote.com?utm_source=created-in-deepnote-cell&projectId=a76c7d86-be6b-425a-abac-8cff1c93ac70' target=\"_blank\">\n<img alt='Created in deepnote.com' style='display:inline;max-height:16px;margin:0px;margin-right:7.5px;' src='data:image/svg+xml;base64,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' > </img>\nCreated in <span style='font-weight:600;margin-left:4px;'>Deepnote</span></a>",
   "metadata": {
    "tags": [],
    "created_in_deepnote_cell": true,
    "deepnote_cell_type": "markdown"
   }
  }
 ],
 "nbformat": 4,
 "nbformat_minor": 0,
 "metadata": {
  "kernelspec": {
   "display_name": "Python 3",
   "language": "python",
   "name": "python3"
  },
  "language_info": {
   "codemirror_mode": {
    "name": "ipython",
    "version": 3
   },
   "file_extension": ".py",
   "mimetype": "text/x-python",
   "name": "python",
   "nbconvert_exporter": "python",
   "pygments_lexer": "ipython3",
   "version": "3.8.7"
  },
  "colab": {
   "name": "Grupo 5 - Projeto 2.ipynb",
   "provenance": []
  },
  "deepnote_notebook_id": "4ee9b7b3-92ee-4a99-9d72-0f074aafd2f0",
  "deepnote": {},
  "deepnote_execution_queue": []
 }
}