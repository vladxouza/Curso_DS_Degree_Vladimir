{
 "cells": [
  {
   "cell_type": "markdown",
   "id": "characteristic-wholesale",
   "metadata": {},
   "source": [
    "# Programação Orientada a Objetos\n",
    "\n",
    "__Luis Uzai__  \n",
    "E-mail: luisuzai13@gmail.com  \n",
    "WhatsApp: (14) 9987493-90\n",
    "  \n",
    "Introdução a um dos mais utilizados paradigmas da programação<br><br>\n",
    "<div>\n",
    "<img src=\"https://2.bp.blogspot.com/-2D4L7sKDbC4/Vt2_j1wWxgI/AAAAAAAAAfI/R4liNaN-rMY/s1600/charge%2B1.jpg\" width=\"500\"/>\n",
    "</div>   \n",
    "  "
   ]
  },
  {
   "cell_type": "markdown",
   "id": "matched-details",
   "metadata": {},
   "source": [
    "## Mas o que é a POO?\n",
    "__DESAFIO__  \n",
    "<br>\n",
    "Imagine que você trabalha em uma Rede Social (Facebook, por exemplo) e você precisa criar uma estrutura das pessoas que usam a rede em python.  \n",
    "<br>\n",
    "É necessário guardar informações das pessoas que utilizam essa rede social:\n",
    "* nome\n",
    "* apelido\n",
    "* idade\n",
    "* e-mail\n",
    "* nome dos amigos\n",
    "* lista de interesses\n",
    "* posts\n",
    "\n",
    "E além disso, existem algumas funcionalidades que a aplicação precisa ter:\n",
    "* adicionar um amigo na lista de nome de amigos\n",
    "* adicionar um interesse na lista interesses\n",
    "* postar\n",
    "* calcular a quantidade de amigos\n",
    "* calcular a quantidade de posts\n",
    "* dado um nome, verificar se existe uma pessoa com esse nome na sua lista de amizade\n",
    "* dado uma palavra ou frase, trazer TODOS os posts com aquela palavra ou frase\n",
    "  \n",
    "  \n",
    "__O desafio é tentar fazer isso com a limitação de utilizar somente o que aprendemos até agora.__"
   ]
  },
  {
   "cell_type": "markdown",
   "id": "headed-escape",
   "metadata": {},
   "source": [
    "---  \n",
    " "
   ]
  },
  {
   "cell_type": "markdown",
   "id": "figured-comfort",
   "metadata": {},
   "source": [
    "## Entendendo conceitos  \n",
    "Na programação orientada a objetos (POO) buscaremos uma nova perpectiva sobre os problemas que queremos resolver com programação, aproximando eles da vida real através da <strong>abstração</strong>, e assim conseguindo reduzir, simplificar e reutilizar código de maneira eficiente. <br>"
   ]
  },
  {
   "cell_type": "markdown",
   "id": "general-singing",
   "metadata": {},
   "source": [
    "### Definição de um objeto\n",
    "<br>\n",
    "\n",
    "> “Coisa material ou abstrata que pode ser percebida pelos sentidos e descrita através de suas características, comportamentos e estados atuais.” \n",
    "\n",
    "<br>\n",
    "\n",
    "&emsp; Ou seja, são objetos materiais (pessoa, carro, animal, computador) e imateriais (conta corrente, venda, sistema) que iremos descrever em código através de suas características, que chamaremos de atributos (que por sua vez recebem estados), e seus comportamentos e ações, que chamaremos de métodos.  \n",
    "\n",
    "<br>\n",
    "\n",
    "&emsp; Uma boa prática é sempre se perguntar: \n",
    "* ao tentar representar o que queremos, é difícil encaixar em uma variável, dicionário, tupla, etc?\n",
    "* o código está muito complexo e difícil de ler? \n",
    "* estou repetindo muitas coisas e não consigo resolver com métodos/funções?\n",
    "\n",
    "\n",
    "Geralmente, se a resposta for sim para as perguntas anteriores, e seu código não está utilizando POO, você consegue melhorá-lo com POO."
   ]
  },
  {
   "cell_type": "markdown",
   "id": "involved-leeds",
   "metadata": {},
   "source": [
    "### Atributos\n",
    "\n",
    "&emsp; Atributos são parecidos com variáveis dentro de objetos, e para melhor compreensão podemos usar uma conta corrente como exemplo:\n",
    "<br>\n",
    "&emsp; Uma conta corrente contém características (atributos): saldo, titular e limite. E podemos aplicar estados como ```R$500,00``` para o saldo, ```Jon Snow``` para o titular, ```R$300,00``` para o limite do cartão de crédito. "
   ]
  },
  {
   "cell_type": "markdown",
   "id": "still-anderson",
   "metadata": {},
   "source": [
    "### Métodos\n",
    "\n",
    "&emsp; Os métodos, por sua vez, são parecidos com funções, porém, dentro de objetos.Vamos usar o mesmo exemplo para explicar o conceito. <br>\n",
    "&emsp; Uma conta corrente pode sacar ou depositar dinheiro, além de receber alterações no seu limite de crédito, saldo, etc. Estas ações também serão vistas como métodos no objeto conta corrente."
   ]
  },
  {
   "cell_type": "markdown",
   "id": "scheduled-chosen",
   "metadata": {},
   "source": [
    "---"
   ]
  },
  {
   "cell_type": "markdown",
   "id": "discrete-doctrine",
   "metadata": {},
   "source": [
    "&emsp; A ideia é nunca começar um projeto do nada (já programando), e sim, ter uma organização e molde prévio. Então o que temos que fazer e que ajuda bastante? \n",
    "* entenda o máximo que puder sobre domínio (sobre o problema que está resolvendo)\n",
    "* defina o que é o seu objeto, quais informações você precisa guardar sobre ele e quais ações ele vai ter (nosso exemplo acima é uma ideia disso e as vezes isso não está sempre 100% especificado pra nós)\n",
    "* verifique se, dado o problema, você precisa separá-lo em mais de um objeto (separar responsabilidades é sempre um bom hábito, ou seja, evite ao máximo colocar funções em um objeto que não pertençam a ele)\n",
    "<br>\n",
    "\n",
    "&emsp;<i>* lembrando que são apenas alguns pontos e depende muito de onde trabalhamos, qual projeto estamos, etc </i>"
   ]
  },
  {
   "cell_type": "markdown",
   "id": "liquid-marker",
   "metadata": {},
   "source": [
    "---"
   ]
  },
  {
   "cell_type": "markdown",
   "id": "close-understanding",
   "metadata": {},
   "source": [
    "### Classe\n",
    "E como representar tudo o que vimos em python? Tudo o que faremos, é dentro da estrutura que se chama ```classe``` ou ```class``` para os mais próximos. Vamos criar a ```Pessoa``` de nossa rede social, seguindo os requisitos dados anteriormente:\n",
    "```python\n",
    "class Pessoa:\n",
    "    '''\n",
    "    Cria uma representação da entidade Pessoa de nossa Rede Social \n",
    "    totalmente vazia: sem atributos ou métodos\n",
    "    '''\n",
    "```\n",
    "__Conceitos__\n",
    "* __instância de uma classe__: representação da classe como um objeto; que é única (tem suas próprias características individuais) e dinâmica (pode executar suas funções de maneira individual). Ex: eu, como indivíduo, sou único e tenho minhas características individuais, mas sou uma pessoa.\n",
    "* __construtor__: função que constrói o objeto, recebendo parâmetros e executando configurações necessárias para inicialização. Acontece no momento da instância\n",
    "* __self__: SEMPRE o primeiro parâmetro dos métodos da classe, que representa o objeto dentro da própria classe (ficará claro nos exemplos)\n",
    "\n",
    "```python\n",
    "# Nossa classe\n",
    "class Pessoa:\n",
    "    '''\n",
    "    Cria uma representação da entidade Pessoa de nossa Rede Social \n",
    "    '''\n",
    "    # nosso contrutor, que recebe como parâmetros as informações necessárias\n",
    "    # para criar a nossa classe.\n",
    "    # É legal notar que ele tem uma característica prória, que é começar\n",
    "    # e terminar com \"__\"\n",
    "    def __init__(self, nome, idade, email, lista_interesses=[], apelido=''):\n",
    "        # mas a dúvida que fica é: como guardamos esses valores na classe?\n",
    "        # e a resposta é que utilizamos o \"self\":\n",
    "        self.nome = nome\n",
    "        self.apelido = apelido\n",
    "        self.idade = idade\n",
    "        self.email = email\n",
    "        self.lista_interesses = lista_interesses\n",
    "\n",
    "        # atributos não vindos do contrutor\n",
    "        self.lista_nome_amigos = []\n",
    "        self.posts = []\n",
    "\n",
    "    # exemplo de um método  \n",
    "    # coloquei o nome do primeiro parâmetro \"qualquer_coisa\", só para\n",
    "    # mostrar que mesmo não chamando de self, o primeiro parâmetro\n",
    "    # sempre representa o objeto, independente do nome\n",
    "    def adicionar_amigo(qualquer_coisa, nome_amigo):\n",
    "        qualquer_coisa.lista_nome_amigos.append(nome_amigo)\n",
    "```"
   ]
  },
  {
   "cell_type": "code",
   "execution_count": 5,
   "id": "frank-thickness",
   "metadata": {},
   "outputs": [],
   "source": [
    "class Pessoa:\n",
    "    '''\n",
    "    Cria uma representação da entidade \n",
    "    Pessoa de nossa Rede Social totalmente vazia\n",
    "    '''"
   ]
  },
  {
   "cell_type": "code",
   "execution_count": 19,
   "id": "hungarian-reviewer",
   "metadata": {},
   "outputs": [
    {
     "data": {
      "text/plain": [
       "<__main__.Pessoa at 0x1d6e7eb9160>"
      ]
     },
     "execution_count": 19,
     "metadata": {},
     "output_type": "execute_result"
    }
   ],
   "source": [
    "# cria a Livia (pessoa)\n",
    "livia = Pessoa()\n",
    "livia"
   ]
  },
  {
   "cell_type": "code",
   "execution_count": 20,
   "id": "coral-shame",
   "metadata": {},
   "outputs": [
    {
     "name": "stdout",
     "output_type": "stream",
     "text": [
      "<__main__.Pessoa object at 0x000001D6E7EB9130>\n"
     ]
    }
   ],
   "source": [
    "luis = Pessoa()\n",
    "print(luis)"
   ]
  },
  {
   "cell_type": "code",
   "execution_count": 21,
   "id": "external-romantic",
   "metadata": {},
   "outputs": [
    {
     "data": {
      "text/plain": [
       "False"
      ]
     },
     "execution_count": 21,
     "metadata": {},
     "output_type": "execute_result"
    }
   ],
   "source": [
    "livia == luis "
   ]
  },
  {
   "cell_type": "markdown",
   "id": "studied-seating",
   "metadata": {},
   "source": [
    "---"
   ]
  },
  {
   "cell_type": "markdown",
   "id": "signal-recovery",
   "metadata": {},
   "source": [
    "nome\n",
    "apelido\n",
    "idade\n",
    "e-mail\n",
    "nome dos amigos\n",
    "lista de interesses\n",
    "posts"
   ]
  },
  {
   "cell_type": "code",
   "execution_count": 55,
   "id": "negative-bouquet",
   "metadata": {},
   "outputs": [],
   "source": [
    "class Pessoa:\n",
    "    '''\n",
    "    Cria uma representação da entidade \n",
    "    Pessoa de nossa Rede Social \n",
    "    '''\n",
    "    # Método construtor da classe\n",
    "    # onde, passamos parâmetros \n",
    "    # e definimos os primeiros atributos\n",
    "    def __init__(self, nome, idade, email, lista_interesse=[], apelido=None):\n",
    "        '''\n",
    "        Contrutor\n",
    "        \n",
    "        Parâmetros\n",
    "        ----------\n",
    "        nome : str\n",
    "            Nome associado a pessoa\n",
    "        idade : int\n",
    "            Idade associado a pessoa\n",
    "        email : str\n",
    "            email associado a pessoa\n",
    "        lista_interesses : list, opcional\n",
    "            lista de interesses da pessoa\n",
    "        apelido : str, opcional\n",
    "            Apelido da pessoa\n",
    "        '''\n",
    "#         print(self)\n",
    "#         print('chamou o init')\n",
    "        \n",
    "        # criando os atributos\n",
    "        self.nome = nome\n",
    "        self.idade = idade\n",
    "        self.email = email\n",
    "        \n",
    "        # lembrando que o self.apelido_pessoa != apelido,\n",
    "        # estamos apenas associando o valor de apelido \n",
    "        # ao nosso atributo\n",
    "        self.apelido_pessoa = apelido\n",
    "        \n",
    "        # exemplo de atributo criado\n",
    "        # que não foi passada como argumento no\n",
    "        # construtor\n",
    "        self.quantidade_amigos = 0\n",
    "        self.quantidade_posts = 0\n",
    "        \n",
    "        # um bom hábito, é criar o atributo\n",
    "        # mesmo não tendo o valor passado por \n",
    "        # parâmetro do construtor\n",
    "        self.lista_interesse = lista_interesse\n",
    "        self.apelido = apelido"
   ]
  },
  {
   "cell_type": "code",
   "execution_count": 56,
   "id": "built-strain",
   "metadata": {},
   "outputs": [],
   "source": [
    "luis = Pessoa(\n",
    "    nome='Luis',\n",
    "    apelido='Uzai',\n",
    "    idade=None,\n",
    "    email='luisuzai13@gmail.com'\n",
    ")"
   ]
  },
  {
   "cell_type": "code",
   "execution_count": 57,
   "id": "vital-arrival",
   "metadata": {},
   "outputs": [
    {
     "data": {
      "text/plain": [
       "[]"
      ]
     },
     "execution_count": 57,
     "metadata": {},
     "output_type": "execute_result"
    }
   ],
   "source": [
    "luis.lista_interesse"
   ]
  },
  {
   "cell_type": "code",
   "execution_count": 40,
   "id": "robust-penetration",
   "metadata": {},
   "outputs": [
    {
     "name": "stdout",
     "output_type": "stream",
     "text": [
      "<__main__.Pessoa object at 0x000001D6E7E9D460>\n"
     ]
    }
   ],
   "source": [
    "print(luis)"
   ]
  },
  {
   "cell_type": "markdown",
   "id": "falling-series",
   "metadata": {},
   "source": [
    "boas práticas: \n",
    "* https://numpydoc.readthedocs.io/en/latest/format.html\n",
    "* https://sphinxcontrib-napoleon.readthedocs.io/en/latest/example_numpy.html#example-numpy\n",
    "* https://www.python.org/dev/peps/pep-0008/\n",
    "\n",
    "__nome de arquivo ```.py```__: substantivo e singular\n",
    "* convenção de nomes: letras minúsculas e sem \"_\"\n",
    "    > exemplo: ```contacorrente.py, agencia.py, main.py```  \n",
    "    \n",
    "__nome de classes__:  substantivo e singular\n",
    "* representa um conceito\n",
    "* convenção de nomes: upper CamelCase\n",
    "    > exemplo: ```ContaCorrente, Pedido, Pessoa, Carro, Animal```  \n",
    "    \n",
    "__nome de atributo__: substantivo ou verbos \n",
    "* representa estado\n",
    "* convenção de nomes: minúscula separado por \"_\" (snake case)\n",
    "    > exemplo: ```nome, id, telefone, preco, is_ativo, idade, cor```\n",
    "    \n",
    "__nome de métodos__: verbo no imperativo afirmativo (2ª pessoa do singular) ou infinitivo\n",
    "* representa ações e configurações\n",
    "* convenção de nomes: minúscula separado por \"_\" (snake case)\n",
    "    > exemplo: ```retirar, salvar_em_arquivo, alugar, embaralhar```  \n",
    "    > &emsp; &emsp;&emsp;&emsp;```retira, salva_em_arquivo, aluga, embaralha```"
   ]
  },
  {
   "cell_type": "code",
   "execution_count": null,
   "id": "sustainable-limitation",
   "metadata": {},
   "outputs": [],
   "source": []
  }
 ],
 "metadata": {
  "kernelspec": {
   "display_name": "Python 3",
   "language": "python",
   "name": "python3"
  },
  "language_info": {
   "codemirror_mode": {
    "name": "ipython",
    "version": 3
   },
   "file_extension": ".py",
   "mimetype": "text/x-python",
   "name": "python",
   "nbconvert_exporter": "python",
   "pygments_lexer": "ipython3",
   "version": "3.8.7"
  }
 },
 "nbformat": 4,
 "nbformat_minor": 5
}
