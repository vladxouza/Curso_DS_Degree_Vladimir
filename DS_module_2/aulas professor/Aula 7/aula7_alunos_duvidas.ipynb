{
 "cells": [
  {
   "cell_type": "markdown",
   "id": "selected-symphony",
   "metadata": {},
   "source": [
    "# Aula 7\n",
    "Luis Uzai"
   ]
  },
  {
   "cell_type": "code",
   "execution_count": 86,
   "id": "rational-worship",
   "metadata": {},
   "outputs": [],
   "source": [
    "class Cliente:\n",
    "    def __init__(self, nome, idade, email):\n",
    "        self._nome = nome\n",
    "        self.idade = idade\n",
    "        self.email = email\n",
    "        \n",
    "    def __repr__(self):\n",
    "        texto  = \"Nome: {}\\nIdade: {}\\nE-mail: {}\".format(\n",
    "            self.nome,\n",
    "            self.idade,\n",
    "            self.email\n",
    "        )\n",
    "        return texto"
   ]
  },
  {
   "cell_type": "code",
   "execution_count": 87,
   "id": "american-diversity",
   "metadata": {},
   "outputs": [],
   "source": [
    "luis = Cliente(\n",
    "    nome='Luis',\n",
    "    idade=25,\n",
    "    email='luisuzai@gmail.com'\n",
    ")\n",
    "\n",
    "livia = Cliente(\n",
    "    nome='livia',\n",
    "    idade=25,\n",
    "    email='livia@gmail.com'\n",
    ")"
   ]
  },
  {
   "cell_type": "markdown",
   "id": "peaceful-absorption",
   "metadata": {},
   "source": [
    "---"
   ]
  },
  {
   "cell_type": "markdown",
   "id": "veterinary-unknown",
   "metadata": {},
   "source": [
    "Coletor de lixos em python:"
   ]
  },
  {
   "cell_type": "code",
   "execution_count": 55,
   "id": "olive-europe",
   "metadata": {},
   "outputs": [
    {
     "data": {
      "text/plain": [
       "6130"
      ]
     },
     "execution_count": 55,
     "metadata": {},
     "output_type": "execute_result"
    }
   ],
   "source": [
    "import gc\n",
    "gc.collect()"
   ]
  },
  {
   "cell_type": "markdown",
   "id": "defined-trace",
   "metadata": {},
   "source": [
    "---"
   ]
  },
  {
   "cell_type": "code",
   "execution_count": 77,
   "id": "extraordinary-highway",
   "metadata": {},
   "outputs": [],
   "source": [
    "class Sistema:\n",
    "    def __init__(self):\n",
    "        self.clientes = []\n",
    "    \n",
    "    def cadastra_cliente(self, nome, idade, email):\n",
    "        cliente = Cliente(\n",
    "            nome=nome,\n",
    "            idade=idade,\n",
    "            email=email\n",
    "        )           \n",
    "        self.clientes.append(cliente)"
   ]
  },
  {
   "cell_type": "code",
   "execution_count": 78,
   "id": "royal-thanks",
   "metadata": {},
   "outputs": [],
   "source": [
    "sistema1 = Sistema()\n",
    "sistema1.cadastra_cliente('Luis', 25, 'luisuzai@gmail.com')\n",
    "sistema1.cadastra_cliente('Luis', 25, 'luisuzai@gmail.com')"
   ]
  },
  {
   "cell_type": "code",
   "execution_count": 79,
   "id": "mature-george",
   "metadata": {},
   "outputs": [
    {
     "data": {
      "text/plain": [
       "[<__main__.Cliente at 0x1f3620c2730>, <__main__.Cliente at 0x1f3620c28b0>]"
      ]
     },
     "execution_count": 79,
     "metadata": {},
     "output_type": "execute_result"
    }
   ],
   "source": [
    "sistema1.clientes"
   ]
  },
  {
   "cell_type": "code",
   "execution_count": 70,
   "id": "functional-plasma",
   "metadata": {},
   "outputs": [
    {
     "data": {
      "text/plain": [
       "'Luis'"
      ]
     },
     "execution_count": 70,
     "metadata": {},
     "output_type": "execute_result"
    }
   ],
   "source": [
    "sistema1.clientes[0].nome"
   ]
  },
  {
   "cell_type": "code",
   "execution_count": 71,
   "id": "minute-integration",
   "metadata": {},
   "outputs": [],
   "source": [
    "sistema1.clientes[0].nome = 'Luis Uzai'"
   ]
  },
  {
   "cell_type": "code",
   "execution_count": 72,
   "id": "white-illustration",
   "metadata": {},
   "outputs": [
    {
     "data": {
      "text/plain": [
       "'Luis Uzai'"
      ]
     },
     "execution_count": 72,
     "metadata": {},
     "output_type": "execute_result"
    }
   ],
   "source": [
    "sistema1.clientes[0].nome"
   ]
  },
  {
   "cell_type": "code",
   "execution_count": 73,
   "id": "grateful-export",
   "metadata": {},
   "outputs": [],
   "source": [
    "luis = sistema1.clientes[0]"
   ]
  },
  {
   "cell_type": "code",
   "execution_count": 74,
   "id": "trying-minutes",
   "metadata": {},
   "outputs": [],
   "source": [
    "luis.nome = 'Luis'"
   ]
  },
  {
   "cell_type": "code",
   "execution_count": 75,
   "id": "aquatic-packet",
   "metadata": {},
   "outputs": [
    {
     "data": {
      "text/plain": [
       "'Luis'"
      ]
     },
     "execution_count": 75,
     "metadata": {},
     "output_type": "execute_result"
    }
   ],
   "source": [
    "luis.nome"
   ]
  },
  {
   "cell_type": "code",
   "execution_count": 76,
   "id": "found-opening",
   "metadata": {},
   "outputs": [
    {
     "data": {
      "text/plain": [
       "'Luis'"
      ]
     },
     "execution_count": 76,
     "metadata": {},
     "output_type": "execute_result"
    }
   ],
   "source": [
    "sistema1.clientes[0].nome"
   ]
  },
  {
   "cell_type": "markdown",
   "id": "smart-program",
   "metadata": {},
   "source": [
    "---"
   ]
  },
  {
   "cell_type": "code",
   "execution_count": 54,
   "id": "divided-irrigation",
   "metadata": {},
   "outputs": [],
   "source": [
    "def cria_cliente(nome, idade, email):\n",
    "    cliente = Cliente(\n",
    "        nome=nome,\n",
    "        idade=idade,\n",
    "        email=email\n",
    "    )\n",
    "    return cliente\n",
    "\n",
    "luis = cria_cliente('luis', 25, 'luisuzai@gmail.com')"
   ]
  }
 ],
 "metadata": {
  "kernelspec": {
   "display_name": "Python 3",
   "language": "python",
   "name": "python3"
  },
  "language_info": {
   "codemirror_mode": {
    "name": "ipython",
    "version": 3
   },
   "file_extension": ".py",
   "mimetype": "text/x-python",
   "name": "python",
   "nbconvert_exporter": "python",
   "pygments_lexer": "ipython3",
   "version": "3.8.7"
  }
 },
 "nbformat": 4,
 "nbformat_minor": 5
}
