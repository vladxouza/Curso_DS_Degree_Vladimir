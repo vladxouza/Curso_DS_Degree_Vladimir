{
 "cells": [
  {
   "cell_type": "markdown",
   "id": "israeli-christopher",
   "metadata": {},
   "source": [
    "# Aula 8 \n",
    "Luis"
   ]
  },
  {
   "cell_type": "markdown",
   "id": "black-multimedia",
   "metadata": {},
   "source": [
    "Como ler um csv?"
   ]
  },
  {
   "cell_type": "code",
   "execution_count": 1,
   "id": "emerging-mississippi",
   "metadata": {},
   "outputs": [],
   "source": [
    "import csv\n",
    "\n",
    "nome_pessoas = []\n",
    "nr_apartamentos = []\n",
    "bool_candidatos = []\n",
    "\n",
    "with open('pessoas.csv', 'r') as file:\n",
    "    reader = csv.reader(file, delimiter=';')\n",
    "    # cada linha vai ser uma lista correspondente \n",
    "    # a linha do csv\n",
    "    for linha in reader:\n",
    "        nome_pessoas.append(linha[0])\n",
    "        nr_apartamentos.append(int(linha[1]))\n",
    "        if(linha[2]=='s'):\n",
    "            bool_candidatos.append(True)\n",
    "        else:\n",
    "            bool_candidatos.append(False)       "
   ]
  },
  {
   "cell_type": "code",
   "execution_count": 2,
   "id": "retired-crazy",
   "metadata": {},
   "outputs": [
    {
     "name": "stdout",
     "output_type": "stream",
     "text": [
      "['Luís', 'Livia', 'Marcio', 'Claudia', 'Gabriel']\n",
      "[73, 73, 52, 52, 52]\n",
      "[False, True, False, True, False]\n"
     ]
    }
   ],
   "source": [
    "print(nome_pessoas)\n",
    "print(nr_apartamentos)\n",
    "print(bool_candidatos)"
   ]
  },
  {
   "cell_type": "code",
   "execution_count": 3,
   "id": "dental-interest",
   "metadata": {},
   "outputs": [
    {
     "name": "stdout",
     "output_type": "stream",
     "text": [
      "Luís\n",
      "73\n",
      "False\n",
      "\n",
      "Livia\n",
      "73\n",
      "True\n",
      "\n",
      "Marcio\n",
      "52\n",
      "False\n",
      "\n",
      "Claudia\n",
      "52\n",
      "True\n",
      "\n",
      "Gabriel\n",
      "52\n",
      "False\n",
      "\n"
     ]
    }
   ],
   "source": [
    "# instancia as classes:\n",
    "for index in range(len(nome_pessoas)):\n",
    "    print(nome_pessoas[index])\n",
    "    print(nr_apartamentos[index])\n",
    "    print(bool_candidatos[index])\n",
    "    print()"
   ]
  },
  {
   "cell_type": "code",
   "execution_count": null,
   "id": "extensive-submission",
   "metadata": {},
   "outputs": [],
   "source": []
  }
 ],
 "metadata": {
  "kernelspec": {
   "display_name": "Python 3",
   "language": "python",
   "name": "python3"
  },
  "language_info": {
   "codemirror_mode": {
    "name": "ipython",
    "version": 3
   },
   "file_extension": ".py",
   "mimetype": "text/x-python",
   "name": "python",
   "nbconvert_exporter": "python",
   "pygments_lexer": "ipython3",
   "version": "3.8.7"
  }
 },
 "nbformat": 4,
 "nbformat_minor": 5
}
