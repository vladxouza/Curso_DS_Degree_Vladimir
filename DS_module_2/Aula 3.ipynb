{
 "cells": [
  {
   "cell_type": "markdown",
   "id": "9178ca4e-aec7-4051-90f0-417426ccb9d1",
   "metadata": {},
   "source": [
    "# DUVIDAS E EXERCICIOS\n"
   ]
  },
  {
   "cell_type": "markdown",
   "id": "19480602-3a4f-480a-bb33-5425aec496a8",
   "metadata": {},
   "source": [
    "TENDO O NOME DA PESSOA COMO VOLTAR AO OBJETO"
   ]
  },
  {
   "cell_type": "markdown",
   "id": "4805d860-676f-4bc6-a08f-93e4be2852cf",
   "metadata": {},
   "source": [
    "---"
   ]
  },
  {
   "cell_type": "code",
   "execution_count": 8,
   "id": "add271ed-4a38-46c8-aba4-2c5c7dd4924c",
   "metadata": {},
   "outputs": [],
   "source": [
    "class Bola:\n",
    "    def __init__(self, cor, raio):\n",
    "        '''\n",
    "        cria uma bola\n",
    "        \n",
    "        Parâmetro\n",
    "        \n",
    "        cor: str\n",
    "            cor da bola\n",
    "        raio: float\n",
    "            raio da bola\n",
    "        '''\n",
    "        self.cor = cor\n",
    "        self.raio = raio\n",
    "        \n",
    "    def imprime_cor(self):\n",
    "        '''\n",
    "        imprime a cor da bola\n",
    "        \n",
    "        '''\n",
    "        return print(self.cor)\n",
    "    \n",
    "    def calcula_area(self):\n",
    "        '''\n",
    "        calcula área da bola\n",
    "        \n",
    "        '''\n",
    "        \n",
    "        pi = 3.14\n",
    "        area = 4 * pi * self.raio * self.raio\n",
    "        \n",
    "        return area"
   ]
  },
  {
   "cell_type": "code",
   "execution_count": 9,
   "id": "4d932e40-db1a-4548-abe1-aa7b12d2a4b0",
   "metadata": {},
   "outputs": [
    {
     "data": {
      "text/plain": [
       "2"
      ]
     },
     "execution_count": 9,
     "metadata": {},
     "output_type": "execute_result"
    }
   ],
   "source": [
    "bola1 = Bola(\n",
    "    cor = 'vermelha',\n",
    "    raio = 2\n",
    ")\n",
    "bola1.raio"
   ]
  },
  {
   "cell_type": "code",
   "execution_count": 10,
   "id": "25890f28-dbec-4769-807d-bfb3ab6a73d4",
   "metadata": {},
   "outputs": [
    {
     "name": "stdout",
     "output_type": "stream",
     "text": [
      "vermelha\n"
     ]
    }
   ],
   "source": [
    "bola1.imprime_cor()"
   ]
  },
  {
   "cell_type": "code",
   "execution_count": 11,
   "id": "e2ff7c56-b9a3-4aa2-b237-e840e00a27b7",
   "metadata": {},
   "outputs": [
    {
     "data": {
      "text/plain": [
       "50.24"
      ]
     },
     "execution_count": 11,
     "metadata": {},
     "output_type": "execute_result"
    }
   ],
   "source": [
    "bola1.calcula_area()"
   ]
  },
  {
   "cell_type": "code",
   "execution_count": null,
   "id": "8b0bab15-992f-4bc9-82c0-6a7ae6fedcc3",
   "metadata": {},
   "outputs": [],
   "source": []
  }
 ],
 "metadata": {
  "kernelspec": {
   "display_name": "Python 3",
   "language": "python",
   "name": "python3"
  },
  "language_info": {
   "codemirror_mode": {
    "name": "ipython",
    "version": 3
   },
   "file_extension": ".py",
   "mimetype": "text/x-python",
   "name": "python",
   "nbconvert_exporter": "python",
   "pygments_lexer": "ipython3",
   "version": "3.8.8"
  }
 },
 "nbformat": 4,
 "nbformat_minor": 5
}
