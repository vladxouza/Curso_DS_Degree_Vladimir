{
 "cells": [
  {
   "cell_type": "markdown",
   "id": "f0b999ed-0ca5-4b94-a1f4-a14ab900ec63",
   "metadata": {},
   "source": [
    "* tem como colocar um objeto de outra classe como atributo de uma outra classe?\n",
    "\n",
    "* quando usa o nome da classe maiusculo para chamar um metodo ou uma lista? ex: Urna.nome_morador\n",
    "\n",
    "* os nomes das coisas dentro de uma classe quais são?"
   ]
  },
  {
   "cell_type": "markdown",
   "id": "3cdae90b-abd1-4cae-9e96-6a5c7568b1b6",
   "metadata": {},
   "source": []
  }
 ],
 "metadata": {
  "kernelspec": {
   "display_name": "Python 3",
   "language": "python",
   "name": "python3"
  },
  "language_info": {
   "codemirror_mode": {
    "name": "ipython",
    "version": 3
   },
   "file_extension": ".py",
   "mimetype": "text/x-python",
   "name": "python",
   "nbconvert_exporter": "python",
   "pygments_lexer": "ipython3",
   "version": "3.8.8"
  }
 },
 "nbformat": 4,
 "nbformat_minor": 5
}
