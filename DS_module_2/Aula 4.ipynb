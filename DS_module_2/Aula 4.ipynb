{
 "cells": [
  {
   "cell_type": "markdown",
   "id": "d3cd04bd-9380-4122-90fb-1be5a28c9417",
   "metadata": {},
   "source": [
    "# METODOS MAGICOS"
   ]
  },
  {
   "cell_type": "code",
   "execution_count": 1,
   "id": "e6eeade4-a9a3-44c2-ae52-bba359159bf9",
   "metadata": {},
   "outputs": [],
   "source": [
    "class Relogio:\n",
    "    def __init__(self):\n",
    "        pass\n"
   ]
  },
  {
   "cell_type": "code",
   "execution_count": 3,
   "id": "a7b29b36-7915-4de4-bf4c-0338e5518afe",
   "metadata": {},
   "outputs": [
    {
     "data": {
      "text/plain": [
       "<__main__.Relogio at 0x153f6d40340>"
      ]
     },
     "execution_count": 3,
     "metadata": {},
     "output_type": "execute_result"
    }
   ],
   "source": [
    "relogio1 = Relogio()\n",
    "relogio1"
   ]
  },
  {
   "cell_type": "code",
   "execution_count": 4,
   "id": "d536deec-7b67-4695-be05-a363e8053dba",
   "metadata": {},
   "outputs": [],
   "source": [
    "# aqui não tem um limitador pros atributos, embaixo tem com limitadores\n",
    "class Relogio:\n",
    "    def __init__(self, hora, minuto, segundo):\n",
    "        self.hora = hora\n",
    "        self.minuto = minuto\n",
    "        self.segundo = segundo\n",
    "        \n"
   ]
  },
  {
   "cell_type": "code",
   "execution_count": 37,
   "id": "9b0f6020-2858-4674-bafc-092a9006a6b1",
   "metadata": {},
   "outputs": [],
   "source": [
    "relogio1 = Relogio(\n",
    "    hora = 2,\n",
    "    minuto = 35,\n",
    "    segundo = 51\n",
    ")\n",
    "relogio2 = Relogio(22,35,55)\n",
    "    hora = 22,\n",
    "    minuto = 35,\n",
    "    segundo = 51\n",
    ")"
   ]
  },
  {
   "cell_type": "code",
   "execution_count": 38,
   "id": "7e528151-130d-41b8-a336-4af1930c872d",
   "metadata": {},
   "outputs": [],
   "source": [
    "relogio3 = relogio1 + relogio2"
   ]
  },
  {
   "cell_type": "code",
   "execution_count": 39,
   "id": "66ab156e-4676-438e-9970-f2599670010f",
   "metadata": {},
   "outputs": [
    {
     "data": {
      "text/plain": [
       "1:11:42"
      ]
     },
     "execution_count": 39,
     "metadata": {},
     "output_type": "execute_result"
    }
   ],
   "source": [
    "relogio3"
   ]
  },
  {
   "cell_type": "code",
   "execution_count": 31,
   "id": "9b5c9ff5-34b7-4534-9d2a-9d7b9f475c04",
   "metadata": {},
   "outputs": [],
   "source": [
    "class Relogio:\n",
    "    def __init__(self, hora, minuto, segundo):\n",
    "        '''\n",
    "        SEMPRE COLOCAR DOCSTRING NAS CLASS\n",
    "        '''\n",
    "        self.hora = hora\n",
    "        self.minuto = minuto\n",
    "        self.segundo = segundo\n",
    "        \n",
    "        if not isinstance(hora,int):\n",
    "            raise TypeError ('A hora precisa ser do tipo inteiro')\n",
    "        if not isinstance(minuto,int):\n",
    "            raise TypeError ('O minuto precisa ser do tipo inteiro')\n",
    "        if not isinstance(segundo,int):\n",
    "            raise TypeError ('O segundo precisa ser do tipo inteiro')\n",
    "        \n",
    "        if hora < 0 or hora > 23:\n",
    "            raise ValueError ('Hora precisa estar entre 0-23')\n",
    "        if minuto < 0 or minuto > 59:\n",
    "            raise ValueError ('Hora precisa estar entre 0-59')\n",
    "        if segundo < 0 or segundo > 59:\n",
    "            raise ValueError ('Hora precisa estar entre 0-59')\n",
    "        \n",
    "        self.hora = hora\n",
    "        self.minuto = minuto\n",
    "        self.segundo = segundo\n",
    "\n",
    "#        mostra em string o objeto para facilitar a leitura\n",
    "    def __repr__(self):\n",
    "        return f'{self.hora}:{self.minuto}:{self.segundo}'\n",
    "\n",
    "# serve para o print esse. Retorna em forma de string. Pouco usado, repr é mais usado\n",
    "        \n",
    "    def __str__(self):\n",
    "        return f'{self.hora:02d}:{self.minuto:02d}:{self.segundo:02d}'\n",
    "            \n",
    "    def __add__(self, other):\n",
    "        segundos = self.segundo + other.segundo\n",
    "        \n",
    "        minutos = self.minuto + other.minuto\n",
    "        \n",
    "        horas = self.hora + other.hora\n",
    "        \n",
    "        if segundos > 59:\n",
    "            segundos -= 60\n",
    "            minutos += 1\n",
    "        \n",
    "        if minutos > 59:\n",
    "            minutos -= 60\n",
    "            horas += 1\n",
    "        \n",
    "        if horas > 23:\n",
    "            horas -= 24\n",
    "        \n",
    "        soma = Relogio(horas, minutos, segundos)\n",
    "        \n",
    "        return soma\n",
    "    def __sub__(self):\n",
    "        pass"
   ]
  },
  {
   "cell_type": "code",
   "execution_count": null,
   "id": "f3067b09-15e3-4e8b-8f6a-d8865e98d372",
   "metadata": {},
   "outputs": [],
   "source": []
  }
 ],
 "metadata": {
  "kernelspec": {
   "display_name": "Python 3",
   "language": "python",
   "name": "python3"
  },
  "language_info": {
   "codemirror_mode": {
    "name": "ipython",
    "version": 3
   },
   "file_extension": ".py",
   "mimetype": "text/x-python",
   "name": "python",
   "nbconvert_exporter": "python",
   "pygments_lexer": "ipython3",
   "version": "3.8.8"
  }
 },
 "nbformat": 4,
 "nbformat_minor": 5
}
