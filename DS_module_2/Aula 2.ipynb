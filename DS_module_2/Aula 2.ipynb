{
 "cells": [
  {
   "cell_type": "code",
   "execution_count": null,
   "id": "a77a71aa",
   "metadata": {},
   "outputs": [],
   "source": []
  },
  {
   "cell_type": "code",
   "execution_count": 1,
   "id": "c524e4fc",
   "metadata": {},
   "outputs": [],
   "source": [
    "import random\n",
    "class Pessoa:\n",
    "    def __init__(self, nome, cor_olhos, cor_cabelo, data_nascimento):\n",
    "        #criando atributos\n",
    "        '''\n",
    "        Parâmetros\n",
    "        ---------\n",
    "        nome_pessoa : str\n",
    "            Nome da pesoa\n",
    "        cor_olhos : str\n",
    "            Cor dos olhos\n",
    "        cor_cabelo : str\n",
    "            Cor do cabelo\n",
    "        data_nascimento : str\n",
    "            Data de nascimento\n",
    "        \n",
    "        '''\n",
    "        \n",
    "        self.nome = nome\n",
    "        self.cor_olhos = cor_olhos\n",
    "        self.cor_cabelo = cor_cabelo\n",
    "        self.data_nascimento = data_nascimento\n",
    "        \n",
    "        # atributos que não são passados na criação\n",
    "        # pois não são necessários valores prévio\n",
    "        self.conjuge = None\n",
    "        self.filhos = []\n",
    "        \n",
    "        ano_nascimento = int(data_nascimento.split('/')[2])\n",
    "        self.idade = 2021 - ano_nascimento\n",
    "    \n",
    "    def casar(self, pessoa):\n",
    "        '''\n",
    "        Casar self com a pessoa passada por parâmetro\n",
    "        \n",
    "        Parametros\n",
    "        ------------\n",
    "        pessoa : Pessoa\n",
    "        '''\n",
    "        if(self.conjuge is None):\n",
    "            if(pessoa.conjuge is None):\n",
    "                self.conjuge = pessoa\n",
    "                pessoa.conjuge = self\n",
    "                return True\n",
    "        return False\n",
    "    \n",
    "    def cegonha(self, nome):\n",
    "        ''''''\n",
    "        \n",
    "        if(self.conjuge is None):\n",
    "            filho = Pessoa(\n",
    "                nome_pessoa = nome,\n",
    "                cor_cabelo=self.cor_cabelo,\n",
    "                cor_olhos=self.cor_olhos,\n",
    "                data_nascimento='08/11/2021'\n",
    "            )\n",
    "            print(filho.nome)\n",
    "            self.filhos.append(filho)\n",
    "            return filho"
   ]
  },
  {
   "cell_type": "code",
   "execution_count": 10,
   "id": "01cdd638",
   "metadata": {},
   "outputs": [],
   "source": [
    "luis = Pessoa(\n",
    "    nome = 'Luis',\n",
    "    cor_olhos = 'preto',\n",
    "    cor_cabelo = 'preto',\n",
    "    data_nascimento = '30/08/1996'\n",
    ")"
   ]
  },
  {
   "cell_type": "code",
   "execution_count": 11,
   "id": "06585f8c",
   "metadata": {},
   "outputs": [
    {
     "data": {
      "text/plain": [
       "'preto'"
      ]
     },
     "execution_count": 11,
     "metadata": {},
     "output_type": "execute_result"
    }
   ],
   "source": [
    "luis.cor_olhos"
   ]
  },
  {
   "cell_type": "code",
   "execution_count": 12,
   "id": "a22c0b73",
   "metadata": {
    "scrolled": true
   },
   "outputs": [
    {
     "data": {
      "text/plain": [
       "24"
      ]
     },
     "execution_count": 12,
     "metadata": {},
     "output_type": "execute_result"
    }
   ],
   "source": [
    "luis.idade"
   ]
  },
  {
   "cell_type": "code",
   "execution_count": 19,
   "id": "829bb937",
   "metadata": {},
   "outputs": [],
   "source": [
    "livia = Pessoa(\n",
    "    nome = 'Livia',\n",
    "    cor_olhos = 'preto',\n",
    "    cor_cabelo = 'preto',\n",
    "    data_nascimento = '25/01/1997')"
   ]
  },
  {
   "cell_type": "code",
   "execution_count": 18,
   "id": "a46bc1e7",
   "metadata": {},
   "outputs": [
    {
     "data": {
      "text/plain": [
       "24"
      ]
     },
     "execution_count": 18,
     "metadata": {},
     "output_type": "execute_result"
    }
   ],
   "source": [
    "luis.conjuge.idade"
   ]
  },
  {
   "cell_type": "code",
   "execution_count": 25,
   "id": "58790909",
   "metadata": {},
   "outputs": [],
   "source": [
    "helena = luis.cegonha('Helena')"
   ]
  },
  {
   "cell_type": "code",
   "execution_count": 26,
   "id": "2fefff0f",
   "metadata": {},
   "outputs": [
    {
     "data": {
      "text/plain": [
       "[]"
      ]
     },
     "execution_count": 26,
     "metadata": {},
     "output_type": "execute_result"
    }
   ],
   "source": [
    "luis.filhos"
   ]
  },
  {
   "cell_type": "code",
   "execution_count": null,
   "id": "fdf20656",
   "metadata": {},
   "outputs": [],
   "source": []
  }
 ],
 "metadata": {
  "kernelspec": {
   "display_name": "Python 3",
   "language": "python",
   "name": "python3"
  },
  "language_info": {
   "codemirror_mode": {
    "name": "ipython",
    "version": 3
   },
   "file_extension": ".py",
   "mimetype": "text/x-python",
   "name": "python",
   "nbconvert_exporter": "python",
   "pygments_lexer": "ipython3",
   "version": "3.8.8"
  }
 },
 "nbformat": 4,
 "nbformat_minor": 5
}
