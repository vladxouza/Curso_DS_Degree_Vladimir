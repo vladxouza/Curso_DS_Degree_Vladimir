{
 "cells": [
  {
   "cell_type": "code",
   "execution_count": 1,
   "id": "78dd3eab-e92a-48ca-9fba-1208764f506a",
   "metadata": {},
   "outputs": [],
   "source": [
    "import conta"
   ]
  },
  {
   "cell_type": "code",
   "execution_count": null,
   "id": "61bf1391-ef45-4a39-821d-74fc13445b05",
   "metadata": {},
   "outputs": [],
   "source": [
    "conta."
   ]
  }
 ],
 "metadata": {
  "kernelspec": {
   "display_name": "Python 3",
   "language": "python",
   "name": "python3"
  },
  "language_info": {
   "codemirror_mode": {
    "name": "ipython",
    "version": 3
   },
   "file_extension": ".py",
   "mimetype": "text/x-python",
   "name": "python",
   "nbconvert_exporter": "python",
   "pygments_lexer": "ipython3",
   "version": "3.8.8"
  }
 },
 "nbformat": 4,
 "nbformat_minor": 5
}
