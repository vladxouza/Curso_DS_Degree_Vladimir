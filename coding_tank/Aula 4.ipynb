{
 "cells": [
  {
   "cell_type": "markdown",
   "id": "b3cfdb02",
   "metadata": {},
   "source": [
    "# ainda lista"
   ]
  },
  {
   "cell_type": "code",
   "execution_count": 3,
   "id": "a20ecacf",
   "metadata": {},
   "outputs": [],
   "source": [
    "# para quando tem um input e vc quer transformar ele numa lista, usando separadores\n",
    "\n",
    "lista = 'sol,sopa,ervilha'.split (',')"
   ]
  },
  {
   "cell_type": "code",
   "execution_count": 4,
   "id": "d6b7c18c",
   "metadata": {},
   "outputs": [
    {
     "data": {
      "text/plain": [
       "['sol', 'sopa', 'ervilha']"
      ]
     },
     "execution_count": 4,
     "metadata": {},
     "output_type": "execute_result"
    }
   ],
   "source": [
    "lista"
   ]
  },
  {
   "cell_type": "code",
   "execution_count": 5,
   "id": "408cb8dd",
   "metadata": {},
   "outputs": [
    {
     "name": "stdout",
     "output_type": "stream",
     "text": [
      "De um numerop\n",
      "Deu ruim\n",
      "De um numeroa\n",
      "Deu ruim\n",
      "De um numero35\n"
     ]
    }
   ],
   "source": [
    "# para minha pergunta dos exercicios se da para impedir o user da dar certo valor\n",
    "\n",
    "flag = True\n",
    "while flag:\n",
    "    try:\n",
    "        valor = int(input('De um numero'))\n",
    "        flag = False\n",
    "    except:\n",
    "        print ('Deu ruim')"
   ]
  },
  {
   "cell_type": "markdown",
   "id": "0c9d4fe5",
   "metadata": {},
   "source": [
    "### Exercicio"
   ]
  },
  {
   "cell_type": "code",
   "execution_count": 6,
   "id": "04147831",
   "metadata": {},
   "outputs": [],
   "source": [
    "lista = [\"sopa\", \"ervilha\", \"sarau\", \"sol\", \"brioche\", \"senso\"]"
   ]
  },
  {
   "cell_type": "code",
   "execution_count": 14,
   "id": "b6bf762c",
   "metadata": {},
   "outputs": [
    {
     "name": "stdout",
     "output_type": "stream",
     "text": [
      "['sarau', 'senso', 'sol', 'sopa']\n",
      "['sopa', 'sarau', 'sol', 'senso']\n"
     ]
    }
   ],
   "source": [
    "n = 0\n",
    "lista_nova = []\n",
    "while n < len(lista):\n",
    "    if lista[n][0] == \"s\":\n",
    "        lista_nova.append(lista[n])\n",
    "    n += 1\n",
    "\n",
    "#  para modificar a lista e ordenar ela, tem que usar lista_nova.sort()\n",
    "# usando sorted() a lista 'lista_nova' é rearranjada só para o print\n",
    "    \n",
    "print (sorted(lista_nova))\n",
    "print (lista_nova)"
   ]
  },
  {
   "cell_type": "code",
   "execution_count": 15,
   "id": "995ee9c6",
   "metadata": {},
   "outputs": [
    {
     "data": {
      "text/plain": [
       "5"
      ]
     },
     "execution_count": 15,
     "metadata": {},
     "output_type": "execute_result"
    }
   ],
   "source": [
    "nova_lista = [1 ,2, 3, 4, 5, 6]\n",
    "\n",
    "nova_lista.index (6)\n",
    "\n",
    "# devolve a posição do elemento entre parenteses na lista"
   ]
  },
  {
   "cell_type": "code",
   "execution_count": 16,
   "id": "d1910fd6",
   "metadata": {},
   "outputs": [],
   "source": [
    "# max() e min() falam o maior e menor valor\n",
    "\n",
    "# sum() soma todos os itens da lista"
   ]
  },
  {
   "cell_type": "markdown",
   "id": "604a0339",
   "metadata": {},
   "source": [
    "# FOR\n"
   ]
  },
  {
   "cell_type": "code",
   "execution_count": 20,
   "id": "ceb8eadd",
   "metadata": {},
   "outputs": [
    {
     "name": "stdout",
     "output_type": "stream",
     "text": [
      "6\n",
      "3.14\n",
      "7\n",
      "9\n",
      "10\n"
     ]
    }
   ],
   "source": [
    "lista = [6, 3.14, 7, 9, 10]\n",
    "\n",
    "\n",
    "# esse \"item\" é o que?\n",
    "for item in lista:\n",
    "    print (item)"
   ]
  },
  {
   "cell_type": "code",
   "execution_count": 23,
   "id": "dfc0ec52",
   "metadata": {},
   "outputs": [
    {
     "name": "stdout",
     "output_type": "stream",
     "text": [
      "[8, 9, 18, 7]\n",
      "[-10, -15]\n"
     ]
    }
   ],
   "source": [
    "numero = [8, -10, 9, -15, 18, 7, 0]\n",
    "\n",
    "positivos = []\n",
    "negativos = []\n",
    "\n",
    "# o for pode criar uma variável para ele. Nesse caso, 'item'\n",
    "\n",
    "for item in numero:\n",
    "    if item < 0:\n",
    "        negativos.append(item)\n",
    "    elif item > 0:\n",
    "        positivos.append(item)\n",
    "    else:\n",
    "        pass\n",
    "        \n",
    "print (positivos)\n",
    "print (negativos)"
   ]
  },
  {
   "cell_type": "code",
   "execution_count": 25,
   "id": "662e88a9",
   "metadata": {},
   "outputs": [
    {
     "name": "stdout",
     "output_type": "stream",
     "text": [
      "[16, -20, 18, -30, 36, 14, 0]\n"
     ]
    }
   ],
   "source": [
    "# dobrar os numeros de uma maneira enxuta. \n",
    "\n",
    "numero = [8, -10, 9, -15, 18, 7, 0]\n",
    "\n",
    "numeros_dobrados = [numero * 2 for numero in numero]\n",
    "\n",
    "print (numeros_dobrados)"
   ]
  },
  {
   "cell_type": "markdown",
   "id": "c254197f",
   "metadata": {},
   "source": [
    "# RANGE"
   ]
  },
  {
   "cell_type": "code",
   "execution_count": 3,
   "id": "24fe27be",
   "metadata": {},
   "outputs": [
    {
     "data": {
      "text/plain": [
       "[0, 1, 2, 3, 4, 5, 6, 7, 8, 9]"
      ]
     },
     "execution_count": 3,
     "metadata": {},
     "output_type": "execute_result"
    }
   ],
   "source": [
    "# com um valor só, range considera 0 como o primeiro\n",
    "\n",
    "list (range(10))"
   ]
  },
  {
   "cell_type": "code",
   "execution_count": 27,
   "id": "9e54122d",
   "metadata": {},
   "outputs": [
    {
     "data": {
      "text/plain": [
       "[1, 2, 3, 4, 5, 6, 7, 8, 9]"
      ]
     },
     "execution_count": 27,
     "metadata": {},
     "output_type": "execute_result"
    }
   ],
   "source": [
    "# se define  dois, fala o inicio e fim do range\n",
    "list (range(1,10))"
   ]
  },
  {
   "cell_type": "code",
   "execution_count": 29,
   "id": "467b592b",
   "metadata": {},
   "outputs": [
    {
     "data": {
      "text/plain": [
       "[1, 3, 5, 7, 9]"
      ]
     },
     "execution_count": 29,
     "metadata": {},
     "output_type": "execute_result"
    }
   ],
   "source": [
    "# se colocar 3 parametros, o ultimo vai definir pula de qual em qual\n",
    "list(range(1, 10, 2))"
   ]
  },
  {
   "cell_type": "code",
   "execution_count": 2,
   "id": "7cdcb172",
   "metadata": {},
   "outputs": [
    {
     "name": "stdout",
     "output_type": "stream",
     "text": [
      "5\n",
      "65\n",
      "11\n"
     ]
    }
   ],
   "source": [
    "lista = ['oi', 5, 65, 11, 118, 99]\n",
    "\n",
    "for i in range (1, 4):\n",
    "    print (lista[i])"
   ]
  },
  {
   "cell_type": "code",
   "execution_count": 33,
   "id": "e7029e08",
   "metadata": {},
   "outputs": [
    {
     "name": "stdout",
     "output_type": "stream",
     "text": [
      "index 0 e item oi\n",
      "index 1 e item 5\n",
      "index 2 e item 65\n",
      "index 3 e item 11\n",
      "index 4 e item 118\n",
      "index 5 e item 99\n"
     ]
    }
   ],
   "source": [
    "# numa lista dá pra trazer o indice e o item na lista ao mesmo tempo usando o for\n",
    "\n",
    "for index, item in enumerate(lista):\n",
    "    print(f'index {index} e item {item}')"
   ]
  },
  {
   "cell_type": "code",
   "execution_count": null,
   "id": "98850b1c",
   "metadata": {},
   "outputs": [],
   "source": []
  }
 ],
 "metadata": {
  "kernelspec": {
   "display_name": "Python 3",
   "language": "python",
   "name": "python3"
  },
  "language_info": {
   "codemirror_mode": {
    "name": "ipython",
    "version": 3
   },
   "file_extension": ".py",
   "mimetype": "text/x-python",
   "name": "python",
   "nbconvert_exporter": "python",
   "pygments_lexer": "ipython3",
   "version": "3.8.8"
  }
 },
 "nbformat": 4,
 "nbformat_minor": 5
}
