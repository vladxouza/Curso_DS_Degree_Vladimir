{
 "cells": [
  {
   "cell_type": "markdown",
   "metadata": {},
   "source": [
    "# Aula 1 - Tipos de dados, input/output, operadores matemáticos\n",
    "\n",
    "Na aula de hoje, vamos explorar os seguintes tópicos em Python:\n",
    "\n",
    "- 1) Tipos de variáveis;\n",
    "- 2) Comentários;\n",
    "- 3) Saída (output);\n",
    "- 4) Entrada (input);\n",
    "- 5) Operadores Matemáticos;\n",
    "\n",
    "_______\n",
    "\n",
    "### Objetivos\n",
    "\n",
    "Apresentar aos alunos os tipos básicos de dados do Python, e em que situação cada um deve ser utilizado (com exemplos), ou seja, o que cada tipo de dado representa; Apresentar o conceito de comentários, e explicar em que situações eles são úteis; Detalhar o  `print()` para o output de dados em termos de exibição; Explicar conceitualmente sobre a entrada de dados, e apresentar o `input()`: é especialmente importante frisar a necessidade de conversão dos dados numéricos; Por fim, apresentar as operações matemáticas em Python.\n",
    "\n",
    "### Habilidades a serem desenvolvidas\n",
    "Ao final da aula o aluno deve:\n",
    "\n",
    "- Saber dos diferentes tipos de dados em Python, e em que situação utilizar cada um;\n",
    "- Saber definir comentários em meio ao código;\n",
    "- Saber fazer a saída de dados através do print;\n",
    "- Saber fazer a entrada de dados através do input:\n",
    "    - Saber converter entre diferentes tipos de dados;\n",
    "    - Fazer as conversões necessárias na entrada de dados.\n",
    "- Conhecer as operações matemáticas e seus símbolos em Python."
   ]
  },
  {
   "cell_type": "markdown",
   "metadata": {},
   "source": [
    "____\n",
    "____\n",
    "____"
   ]
  },
  {
   "cell_type": "markdown",
   "metadata": {},
   "source": [
    "## 1) Tipos de variáveis\n",
    "\n",
    "Em python, temos 4 **tipos** principais de dados básicos"
   ]
  },
  {
   "cell_type": "markdown",
   "metadata": {},
   "source": [
    "~ Tipo **inteiros** (int): são números inteiros, isto é, sem casas decimais.\n",
    "\n",
    "- Ex:\n",
    "    - 1 \n",
    "    - 456\n",
    "    - 124023\n",
    "    - 0\n",
    "    - -2 (números to tipo int podem ser negativos!)\n",
    "\n",
    "No Jupyter, números inteiros são destacados em cor verde clara"
   ]
  },
  {
   "cell_type": "markdown",
   "metadata": {},
   "source": [
    "Exemplo: a idade de uma pessoa em anos, número de filhos de uma pessoa, etc."
   ]
  },
  {
   "cell_type": "code",
   "execution_count": 1,
   "metadata": {},
   "outputs": [],
   "source": [
    "x = 42"
   ]
  },
  {
   "cell_type": "code",
   "execution_count": 2,
   "metadata": {},
   "outputs": [
    {
     "data": {
      "text/plain": [
       "int"
      ]
     },
     "execution_count": 2,
     "metadata": {},
     "output_type": "execute_result"
    }
   ],
   "source": [
    "type(x)"
   ]
  },
  {
   "cell_type": "markdown",
   "metadata": {},
   "source": [
    "~ Tipo **float** (float): são números com casas decimais (**em python usamos ponto ao invés de vírgula para indicar cadas decimais!**)\n",
    "\n",
    "- Ex:\n",
    "    - 3.1415\n",
    "    - 1.78\n",
    "    - 10.0 (essa é a representação float de um número inteiro, 10) \n",
    "    - -42.73 (números do tipo float podem ser negativos!)\n",
    "\n",
    "No Jupyter, números float também são destacados em cor verde clara"
   ]
  },
  {
   "cell_type": "markdown",
   "metadata": {},
   "source": [
    "Exemplo: a altura de uma pessoa em metros"
   ]
  },
  {
   "cell_type": "code",
   "execution_count": 3,
   "metadata": {},
   "outputs": [
    {
     "data": {
      "text/plain": [
       "float"
      ]
     },
     "execution_count": 3,
     "metadata": {},
     "output_type": "execute_result"
    }
   ],
   "source": [
    "pi_simplificado = 3.14\n",
    "\n",
    "altura = 1.63\n",
    "\n",
    "type(altura)"
   ]
  },
  {
   "cell_type": "markdown",
   "metadata": {},
   "source": [
    "~ Tipo **string** (str): são textos, que devem ser indicados entre aspas duplas \" \" ou aspas simples ' ' \n",
    "\n",
    "- Ex:\n",
    "    - \"Olá, mundo!\" (para strings, podemos usar pontuação e acentuação sem problemas!)\n",
    "    - \"Nos encontramos às 9h30 amanhã?\" (strings podem conter numeros!)\n",
    "    - \"100\" (neste caso, é uma string que representa um numero inteiro)\n",
    "    - \"3.1415\" (neste caso, é uma string que representa um numero float)\n",
    "\n",
    "No Jupyter, strings são destacadas em cor vermelha"
   ]
  },
  {
   "cell_type": "markdown",
   "metadata": {},
   "source": [
    "Exemplo: uma frase de despedida e um encontro marcado"
   ]
  },
  {
   "cell_type": "code",
   "execution_count": 6,
   "metadata": {},
   "outputs": [
    {
     "data": {
      "text/plain": [
       "str"
      ]
     },
     "execution_count": 6,
     "metadata": {},
     "output_type": "execute_result"
    }
   ],
   "source": [
    "frase = 'oi, tudo bem?'\n",
    "frase2 = \"ola, como vai?\"\n",
    "type(frase2)"
   ]
  },
  {
   "cell_type": "markdown",
   "metadata": {},
   "source": [
    "~ Tipo **booleanos** (bool): Verdadeiro (True) ou Falso (False)\n",
    "\n",
    "- Únicos dois valores possíveis: **True** ou **False**\n",
    "\n",
    "Vamos entender a enorme importância deste tipo de dado mais a frente no curso (operações lógicas, estruturas condicionais, etc.)\n",
    "\n",
    "No Jupyter, bools são destacados em cor verde escuro"
   ]
  },
  {
   "cell_type": "code",
   "execution_count": 7,
   "metadata": {},
   "outputs": [
    {
     "data": {
      "text/plain": [
       "bool"
      ]
     },
     "execution_count": 7,
     "metadata": {},
     "output_type": "execute_result"
    }
   ],
   "source": [
    "verdadeiro = True\n",
    "falso = False\n",
    "type(verdadeiro)"
   ]
  },
  {
   "cell_type": "markdown",
   "metadata": {},
   "source": [
    "____\n",
    "____\n",
    "____"
   ]
  },
  {
   "cell_type": "markdown",
   "metadata": {},
   "source": [
    "## 2) Comentários\n",
    "\n",
    "São utilizados para melhor explicar um trecho de código.\n",
    "\n",
    "Os comentários não são executados pelo Python. \n",
    "\n",
    "Tudo o que está comentado é ignorado, serve apenas para guiar o usuário.\n",
    "\n",
    "É indicado com o uso da #, e em cor azul marinho no Jupyter\n",
    "\n",
    "- Atalho: CTRL + / : A LINHA VIRA UM COMENTÁRIO"
   ]
  },
  {
   "cell_type": "code",
   "execution_count": 8,
   "metadata": {},
   "outputs": [],
   "source": [
    "# askdhkjfhekjrf\n",
    "\n",
    "# dadk\n",
    "# asdkjrhfe\n",
    "# aksjdhk\n",
    "\n",
    "# variavel = 1\n",
    "variavel = 2"
   ]
  },
  {
   "cell_type": "markdown",
   "metadata": {},
   "source": [
    "Embora você possa fazer comentários de várias linhas apenas colocando o # na frente de cada linha:"
   ]
  },
  {
   "cell_type": "code",
   "execution_count": null,
   "metadata": {},
   "outputs": [],
   "source": [
    "# dadk\n",
    "# asdkjrhfe\n",
    "# aksjdhk"
   ]
  },
  {
   "cell_type": "markdown",
   "metadata": {},
   "source": [
    "Também é possível fazer comentários de várias linhas utilizando três aspas:"
   ]
  },
  {
   "cell_type": "code",
   "execution_count": null,
   "metadata": {},
   "outputs": [],
   "source": [
    "'''\n",
    "Autor: Fernanda\n",
    "Versão: 1.0\n",
    "Título: Meu primeiro código\n",
    "'''"
   ]
  },
  {
   "cell_type": "markdown",
   "metadata": {},
   "source": [
    "Note que estes \"comentários\" feitos com 3 aspas na verdade são strings de muitas linhas: mas o Python irá ignorá-las caso elas não sejam atribuídas a uma variável, funcionando, assim, como comentário.\n",
    "\n",
    "De qualquer forma, o modo acima, com um # em casa linha é preferível!"
   ]
  },
  {
   "cell_type": "markdown",
   "metadata": {},
   "source": [
    "____\n",
    "____\n",
    "____"
   ]
  },
  {
   "cell_type": "markdown",
   "metadata": {},
   "source": [
    "## 3) Saída (output)\n",
    "\n",
    "É como o computador **apresenta dados de saída** para um usuário.\n",
    "\n",
    "Utilizamos a função print() para exibir o conteúdo na tela"
   ]
  },
  {
   "cell_type": "code",
   "execution_count": 9,
   "metadata": {},
   "outputs": [
    {
     "name": "stdout",
     "output_type": "stream",
     "text": [
      "20\n"
     ]
    }
   ],
   "source": [
    "variavel_teste = 20\n",
    "print(variavel_teste)"
   ]
  },
  {
   "cell_type": "markdown",
   "metadata": {},
   "source": [
    "Podemos imprimir diversas strings ou diversas variáveis em sequência, utilizando vírgula para separá-las dentro do print:"
   ]
  },
  {
   "cell_type": "code",
   "execution_count": 10,
   "metadata": {},
   "outputs": [
    {
     "name": "stdout",
     "output_type": "stream",
     "text": [
      "A Fernanda tem 20 anos\n"
     ]
    }
   ],
   "source": [
    "print('A Fernanda tem', variavel_teste, 'anos')"
   ]
  },
  {
   "cell_type": "code",
   "execution_count": 25,
   "metadata": {},
   "outputs": [
    {
     "name": "stdout",
     "output_type": "stream",
     "text": [
      "A Fernanda tem 10.0 anos\n"
     ]
    }
   ],
   "source": [
    "print(f'A Fernanda tem {variavel_teste/2} anos')"
   ]
  },
  {
   "cell_type": "code",
   "execution_count": 19,
   "metadata": {},
   "outputs": [
    {
     "name": "stdout",
     "output_type": "stream",
     "text": [
      "Meu nome é Fernanda\n"
     ]
    }
   ],
   "source": [
    "nome = 'Fernanda'\n",
    "\n",
    "print(f'Meu nome é {nome}')"
   ]
  },
  {
   "cell_type": "markdown",
   "metadata": {},
   "source": [
    "Um caractere especial do print é o \"\\n\", que serve para fazer a quebra de linha:"
   ]
  },
  {
   "cell_type": "code",
   "execution_count": 23,
   "metadata": {},
   "outputs": [
    {
     "name": "stdout",
     "output_type": "stream",
     "text": [
      "oi\n",
      " Fernanda \n",
      "\n",
      "\n",
      "\n",
      "olá\n"
     ]
    }
   ],
   "source": [
    "print('oi\\n', nome, '\\n\\n\\n')\n",
    "print('olá')"
   ]
  },
  {
   "cell_type": "markdown",
   "metadata": {},
   "source": [
    "____\n",
    "____\n",
    "___"
   ]
  },
  {
   "cell_type": "markdown",
   "metadata": {},
   "source": [
    "## 4) Entrada (input)\n",
    "\n",
    "É como o computador **coleta dados de entrada** de um usuário através do teclado.\n",
    "\n",
    "Utilizamos a função input() para receber os dados do usuário, que deve digitá-los\n",
    "\n",
    "Opcionalmente, podemos colocar uma frase de instrução ao usuário na função input, dentro dos parênteses"
   ]
  },
  {
   "cell_type": "code",
   "execution_count": 33,
   "metadata": {},
   "outputs": [
    {
     "name": "stdout",
     "output_type": "stream",
     "text": [
      "Qual o seu nome?\n",
      "20\n"
     ]
    },
    {
     "data": {
      "text/plain": [
       "int"
      ]
     },
     "execution_count": 33,
     "metadata": {},
     "output_type": "execute_result"
    }
   ],
   "source": [
    "entrada = int(input('Qual o seu nome?\\n'))\n",
    "\n",
    "type(entrada)"
   ]
  },
  {
   "cell_type": "markdown",
   "metadata": {},
   "source": [
    "__IMPORTANTE: a função input() toma o que o usuário digitou como uma string! Se o usuário digitar algum número, e algum cálculo for feito com esse número, o número deve ser transformado em int ou float!__\n",
    "\n",
    "A melhor forma de fazer isso, é já transformar o resultado da função input em float.\n",
    "\n",
    "Fazemos isso com uma espécie de sanduíche, colocando a função input() dentro da função float(), que transforma uma string em um float!\n",
    "\n",
    "OBS: é melhor transformar o input em float ao invés de int, pois o float é um tipo numérico mais genérico, apesar de ocupar (um pouco) mais memória"
   ]
  },
  {
   "cell_type": "code",
   "execution_count": 34,
   "metadata": {},
   "outputs": [
    {
     "name": "stdout",
     "output_type": "stream",
     "text": [
      "Qual a sua altura?1.63\n",
      "1.63\n"
     ]
    }
   ],
   "source": [
    "ex_float = float(input('Qual a sua altura?'))\n",
    "\n",
    "print(ex_float)"
   ]
  },
  {
   "cell_type": "code",
   "execution_count": null,
   "metadata": {},
   "outputs": [],
   "source": []
  },
  {
   "cell_type": "code",
   "execution_count": null,
   "metadata": {},
   "outputs": [],
   "source": []
  },
  {
   "cell_type": "markdown",
   "metadata": {},
   "source": [
    "____\n",
    "____\n",
    "____"
   ]
  },
  {
   "cell_type": "markdown",
   "metadata": {},
   "source": [
    "## 5) Operadores Matemáticos\n",
    "\n",
    "Em Python, temos as principais operações matemáticas, com os respectivos símbolos:\n",
    "\n",
    "- soma: (+)\n",
    "\n",
    "- subtração: (-)\n",
    "\n",
    "- multiplicação: (*)\n",
    "\n",
    "- divisão: (/)\n",
    "\n",
    "- potência: (**)\n",
    "\n",
    "Além disso, temos duas operações especiais:\n",
    "\n",
    "- divisão inteira: (//) retorna a parte inteira da divisão entre dois números\n",
    "\n",
    "- resto da divisão: (%) se lê \"mod\", e retorna o resto da divisão entre dois números"
   ]
  },
  {
   "cell_type": "code",
   "execution_count": 35,
   "metadata": {},
   "outputs": [
    {
     "name": "stdout",
     "output_type": "stream",
     "text": [
      "59\n"
     ]
    }
   ],
   "source": [
    "soma = 2 + 57\n",
    "print(soma)"
   ]
  },
  {
   "cell_type": "code",
   "execution_count": 36,
   "metadata": {},
   "outputs": [
    {
     "name": "stdout",
     "output_type": "stream",
     "text": [
      "-55\n"
     ]
    }
   ],
   "source": [
    "subtracao = 2 - 57\n",
    "print(subtracao)"
   ]
  },
  {
   "cell_type": "code",
   "execution_count": 37,
   "metadata": {},
   "outputs": [
    {
     "name": "stdout",
     "output_type": "stream",
     "text": [
      "114\n"
     ]
    }
   ],
   "source": [
    "mult = 2 * 57\n",
    "print(mult)"
   ]
  },
  {
   "cell_type": "code",
   "execution_count": 38,
   "metadata": {},
   "outputs": [
    {
     "name": "stdout",
     "output_type": "stream",
     "text": [
      "28.5\n"
     ]
    }
   ],
   "source": [
    "div = 57/2\n",
    "print(div)"
   ]
  },
  {
   "cell_type": "code",
   "execution_count": 39,
   "metadata": {},
   "outputs": [
    {
     "name": "stdout",
     "output_type": "stream",
     "text": [
      "28\n"
     ]
    }
   ],
   "source": [
    "div_int = 57//2\n",
    "print(div_int)"
   ]
  },
  {
   "cell_type": "code",
   "execution_count": 41,
   "metadata": {},
   "outputs": [
    {
     "name": "stdout",
     "output_type": "stream",
     "text": [
      "1\n"
     ]
    }
   ],
   "source": [
    "resto = 57 % 2\n",
    "print(resto)"
   ]
  },
  {
   "cell_type": "code",
   "execution_count": 42,
   "metadata": {},
   "outputs": [
    {
     "data": {
      "text/plain": [
       "True"
      ]
     },
     "execution_count": 42,
     "metadata": {},
     "output_type": "execute_result"
    }
   ],
   "source": [
    "valor = 2\n",
    "2 % 2 == 0"
   ]
  },
  {
   "cell_type": "code",
   "execution_count": 40,
   "metadata": {},
   "outputs": [
    {
     "name": "stdout",
     "output_type": "stream",
     "text": [
      "8\n"
     ]
    }
   ],
   "source": [
    "potencia = 2 ** 3\n",
    "print(potencia)"
   ]
  },
  {
   "cell_type": "markdown",
   "metadata": {},
   "source": [
    "OBS: o principal uso do operador resto da divisão (%) é para avaliar se um número é par ou impar:\n",
    "\n",
    "- se o resto da divisão de um número por 2 **É ZERO**, ele é par;\n",
    "- se o resto da divisão de um número por 2 **É UM**, ele é ímpar;\n"
   ]
  }
 ],
 "metadata": {
  "interpreter": {
   "hash": "11c851559701e68bbc663c5f03306f1f228ac5428e7c3f244cb4f8b513484fe1"
  },
  "kernelspec": {
   "display_name": "Python 3 (ipykernel)",
   "language": "python",
   "name": "python3"
  },
  "language_info": {
   "codemirror_mode": {
    "name": "ipython",
    "version": 3
   },
   "file_extension": ".py",
   "mimetype": "text/x-python",
   "name": "python",
   "nbconvert_exporter": "python",
   "pygments_lexer": "ipython3",
   "version": "3.9.6"
  }
 },
 "nbformat": 4,
 "nbformat_minor": 4
}
