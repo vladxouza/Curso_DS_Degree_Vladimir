{
 "cells": [
  {
   "cell_type": "markdown",
   "id": "8d0bbb44",
   "metadata": {},
   "source": [
    "# FUNÇÕES"
   ]
  },
  {
   "cell_type": "code",
   "execution_count": 1,
   "id": "8fc83cb1",
   "metadata": {},
   "outputs": [],
   "source": [
    "# o def faz a função existir e dentro dos parenteses ficam os parametros\n",
    "\n",
    "def imprimeOi():\n",
    "    print ('oi')"
   ]
  },
  {
   "cell_type": "code",
   "execution_count": 3,
   "id": "8064f1b7",
   "metadata": {},
   "outputs": [
    {
     "name": "stdout",
     "output_type": "stream",
     "text": [
      "oi\n"
     ]
    }
   ],
   "source": [
    "imprimeOi()"
   ]
  },
  {
   "cell_type": "code",
   "execution_count": 5,
   "id": "0e1a988c",
   "metadata": {},
   "outputs": [],
   "source": [
    "# colocando um parametro no parenteses\n",
    "\n",
    "def imprimeNome(nome):\n",
    "    print(f'Seu nome é {nome}')"
   ]
  },
  {
   "cell_type": "code",
   "execution_count": 6,
   "id": "2121d1b5",
   "metadata": {},
   "outputs": [
    {
     "name": "stdout",
     "output_type": "stream",
     "text": [
      "Seu nome é Vladimir\n"
     ]
    }
   ],
   "source": [
    "imprimeNome('Vladimir')"
   ]
  },
  {
   "cell_type": "markdown",
   "id": "9bd7f3c1",
   "metadata": {},
   "source": [
    "### exercicio"
   ]
  },
  {
   "cell_type": "code",
   "execution_count": 7,
   "id": "e011fc0e",
   "metadata": {},
   "outputs": [
    {
     "name": "stdout",
     "output_type": "stream",
     "text": [
      "28\n"
     ]
    },
    {
     "data": {
      "text/plain": [
       "28"
      ]
     },
     "execution_count": 7,
     "metadata": {},
     "output_type": "execute_result"
    }
   ],
   "source": [
    "def calculadora(num1, num2, operacao):\n",
    "    if operacao == '+':\n",
    "        resultado = num1 + num2\n",
    "    elif operacao == '-':\n",
    "        resultado = num1 - num2\n",
    "    elif operacao == '*':\n",
    "        resultado = num1 * num2\n",
    "    elif operacao == '/':\n",
    "        resultado = num1 / num2\n",
    "    print (resultado)\n",
    "    return resultado\n",
    "calculadora(7, 4, '*')"
   ]
  },
  {
   "cell_type": "markdown",
   "id": "1eb14da6",
   "metadata": {},
   "source": [
    "# BIBLIOTECAS\n"
   ]
  },
  {
   "cell_type": "code",
   "execution_count": 2,
   "id": "9e52150d",
   "metadata": {},
   "outputs": [
    {
     "ename": "ModuleNotFoundError",
     "evalue": "No module named 'pandas'",
     "output_type": "error",
     "traceback": [
      "\u001b[1;31m---------------------------------------------------------------------------\u001b[0m",
      "\u001b[1;31mModuleNotFoundError\u001b[0m                       Traceback (most recent call last)",
      "\u001b[1;32m~\\AppData\\Local\\Temp/ipykernel_5864/479678323.py\u001b[0m in \u001b[0;36m<module>\u001b[1;34m\u001b[0m\n\u001b[0;32m      1\u001b[0m \u001b[1;31m# o as dá um apelido a biblioteca\u001b[0m\u001b[1;33m\u001b[0m\u001b[1;33m\u001b[0m\u001b[0m\n\u001b[0;32m      2\u001b[0m \u001b[1;32mimport\u001b[0m \u001b[0mdatetime\u001b[0m \u001b[1;32mas\u001b[0m \u001b[0mdt\u001b[0m\u001b[1;33m\u001b[0m\u001b[1;33m\u001b[0m\u001b[0m\n\u001b[1;32m----> 3\u001b[1;33m \u001b[1;32mimport\u001b[0m \u001b[0mpandas\u001b[0m \u001b[1;32mas\u001b[0m \u001b[0mpd\u001b[0m\u001b[1;33m\u001b[0m\u001b[1;33m\u001b[0m\u001b[0m\n\u001b[0m\u001b[0;32m      4\u001b[0m \u001b[1;32mimport\u001b[0m \u001b[0mmatplotlib\u001b[0m\u001b[1;33m.\u001b[0m\u001b[0mpyplot\u001b[0m \u001b[1;32mas\u001b[0m \u001b[0mplt\u001b[0m\u001b[1;33m\u001b[0m\u001b[1;33m\u001b[0m\u001b[0m\n",
      "\u001b[1;31mModuleNotFoundError\u001b[0m: No module named 'pandas'"
     ]
    }
   ],
   "source": [
    "# o as dá um apelido a biblioteca\n",
    "import datetime as dt\n",
    "import pandas as pd\n",
    "import matplotlib.pyplot as plt\n"
   ]
  },
  {
   "cell_type": "markdown",
   "id": "8afb94f3",
   "metadata": {},
   "source": [
    "### EXERCICIO"
   ]
  },
  {
   "cell_type": "code",
   "execution_count": 10,
   "id": "c07d5f2a",
   "metadata": {},
   "outputs": [
    {
     "name": "stdout",
     "output_type": "stream",
     "text": [
      "97\n"
     ]
    }
   ],
   "source": [
    "import random\n",
    "\n",
    "def aleatorio():\n",
    "    lista = []\n",
    "    for i in range (10):\n",
    "        x = random.randint(0,100)\n",
    "        lista.append(x)\n",
    "    return max(lista)\n",
    "print (aleatorio())"
   ]
  },
  {
   "cell_type": "code",
   "execution_count": 8,
   "id": "a8292685",
   "metadata": {},
   "outputs": [
    {
     "name": "stdout",
     "output_type": "stream",
     "text": [
      "100\n"
     ]
    }
   ],
   "source": [
    "def num_ale_max():\n",
    "    num = []\n",
    "    for i in range(1, 11):\n",
    "        num.append(random.randint(1 ,100))\n",
    "    return max(num)\n",
    "print(num_ale_max())"
   ]
  },
  {
   "cell_type": "markdown",
   "id": "22de2790",
   "metadata": {},
   "source": [
    "### tuplas"
   ]
  },
  {
   "cell_type": "code",
   "execution_count": 14,
   "id": "23a12146",
   "metadata": {},
   "outputs": [
    {
     "name": "stdout",
     "output_type": "stream",
     "text": [
      "<class 'tuple'>\n",
      "(1, 2, 4, 5)\n"
     ]
    }
   ],
   "source": [
    "# tuplas são caracterizadas por parenteses () e são imutáveis!!\n",
    "tupla_inicial = (1, 3, 50, 'oi', ['oie',1, 2])\n",
    "print(type(tupla_inicial))\n",
    "lista = []\n",
    "\n",
    "# se fizer uma variavel com varios itens sem parenteses vira tupla automaticamente\n",
    "tupla_2 = 1, 2, 4, 5\n",
    "\n",
    "print (tupla_2)"
   ]
  },
  {
   "cell_type": "code",
   "execution_count": 15,
   "id": "9cf99b20",
   "metadata": {},
   "outputs": [],
   "source": [
    "# tem as mesmas funções da lista, para acessar os itens etc\n",
    "\n",
    "# para mudar ela tem q transformar em lista list() e depois voltar a para tupla com tuple()"
   ]
  },
  {
   "cell_type": "markdown",
   "id": "8a74314b",
   "metadata": {},
   "source": [
    "### dicionarios"
   ]
  },
  {
   "cell_type": "code",
   "execution_count": 23,
   "id": "0f3ed463",
   "metadata": {},
   "outputs": [
    {
     "name": "stdout",
     "output_type": "stream",
     "text": [
      "[1, 2, 3]\n"
     ]
    }
   ],
   "source": [
    "# são indicados entre chaves {} e funcionam quase iguais a listas, mas\n",
    "# dicionario = {'chave': valor}\n",
    "dicionario = {'valor_banana': [1,2,3], 'valor_maca': [4, 5, 6]}\n",
    "\n",
    "print(dicionario['valor_banana'])"
   ]
  },
  {
   "cell_type": "code",
   "execution_count": 25,
   "id": "2e9b641f",
   "metadata": {},
   "outputs": [
    {
     "data": {
      "text/plain": [
       "{'valor_banana': [1, 2, 3],\n",
       " 'valor_maca': [4, 5, 6],\n",
       " 'valor_laranja': [6, 7, 8]}"
      ]
     },
     "execution_count": 25,
     "metadata": {},
     "output_type": "execute_result"
    }
   ],
   "source": [
    "# para adicionar um item novo no dicionario faz assim:\n",
    "\n",
    "dicionario['valor_laranja'] = [6,7,8]\n",
    "dicionario"
   ]
  },
  {
   "cell_type": "code",
   "execution_count": 26,
   "id": "390631a6",
   "metadata": {},
   "outputs": [
    {
     "name": "stdout",
     "output_type": "stream",
     "text": [
      "valor_banana\n",
      "valor_maca\n",
      "valor_laranja\n"
     ]
    }
   ],
   "source": [
    "for i in dicionario:\n",
    "    print(i)"
   ]
  },
  {
   "cell_type": "code",
   "execution_count": 29,
   "id": "96670ce5",
   "metadata": {},
   "outputs": [
    {
     "name": "stdout",
     "output_type": "stream",
     "text": [
      "[1, 2, 3]\n",
      "[4, 5, 6]\n",
      "[6, 7, 8]\n"
     ]
    }
   ],
   "source": [
    "for i in dicionario:\n",
    "    print(dicionario[i])"
   ]
  },
  {
   "cell_type": "code",
   "execution_count": 31,
   "id": "6b84b472",
   "metadata": {},
   "outputs": [
    {
     "data": {
      "text/plain": [
       "dict_values([[1, 2, 3], [4, 5, 6], [6, 7, 8]])"
      ]
     },
     "execution_count": 31,
     "metadata": {},
     "output_type": "execute_result"
    }
   ],
   "source": [
    "dicionario.values()"
   ]
  },
  {
   "cell_type": "code",
   "execution_count": null,
   "id": "607c76a6",
   "metadata": {},
   "outputs": [],
   "source": []
  }
 ],
 "metadata": {
  "kernelspec": {
   "display_name": "Python 3 (ipykernel)",
   "language": "python",
   "name": "python3"
  },
  "language_info": {
   "codemirror_mode": {
    "name": "ipython",
    "version": 3
   },
   "file_extension": ".py",
   "mimetype": "text/x-python",
   "name": "python",
   "nbconvert_exporter": "python",
   "pygments_lexer": "ipython3",
   "version": "3.9.7"
  }
 },
 "nbformat": 4,
 "nbformat_minor": 5
}
