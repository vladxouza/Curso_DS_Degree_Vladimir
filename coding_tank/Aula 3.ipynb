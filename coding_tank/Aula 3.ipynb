{
 "cells": [
  {
   "cell_type": "markdown",
   "id": "3206fd46",
   "metadata": {},
   "source": [
    "# Loops"
   ]
  },
  {
   "cell_type": "code",
   "execution_count": 39,
   "id": "11ae4928",
   "metadata": {},
   "outputs": [
    {
     "name": "stdout",
     "output_type": "stream",
     "text": [
      "olá mundo\n",
      "olá mundo\n",
      "olá mundo\n",
      "olá mundo\n",
      "olá mundo\n"
     ]
    }
   ],
   "source": [
    "i = 1\n",
    "\n",
    "while i <=5:\n",
    "    print ('olá mundo')\n",
    "    i += 1\n",
    "    \n",
    "# tem que ter identação em tudo\n",
    "# para a variavel auxiliar, tem outra forma de adicionar 1: aux += 1"
   ]
  },
  {
   "cell_type": "code",
   "execution_count": 40,
   "id": "24199a15",
   "metadata": {},
   "outputs": [
    {
     "name": "stdout",
     "output_type": "stream",
     "text": [
      "numero9\n",
      "erro\n",
      "numero10\n",
      "erro\n",
      "numero11\n"
     ]
    }
   ],
   "source": [
    "numero = int(input('numero'))\n",
    "\n",
    "while numero <=10:\n",
    "    print('erro')\n",
    "    numero = int(input('numero'))"
   ]
  },
  {
   "cell_type": "markdown",
   "id": "b50ed22e",
   "metadata": {},
   "source": [
    "# exercicio"
   ]
  },
  {
   "cell_type": "code",
   "execution_count": 3,
   "id": "20ee96ac",
   "metadata": {},
   "outputs": [
    {
     "name": "stdout",
     "output_type": "stream",
     "text": [
      "Qual seu sexo? (M, F ou Outro)Outro\n",
      "ok\n"
     ]
    }
   ],
   "source": [
    "sexo = input('Qual seu sexo? (M, F ou Outro)')\n",
    "\n",
    "while (sexo != 'M' and sexo !='F' and sexo != 'Outro'):\n",
    "    print ('Erro')\n",
    "    input('Qual seu sexo? (M, F ou Outro)')\n",
    "    \n",
    "print ('ok')"
   ]
  },
  {
   "cell_type": "markdown",
   "id": "14bc8c5d",
   "metadata": {},
   "source": [
    "# LISTAS"
   ]
  },
  {
   "cell_type": "code",
   "execution_count": 13,
   "id": "723a1118",
   "metadata": {},
   "outputs": [],
   "source": [
    "# DÁ PRA ARMAZENAR VARIAS COISAS NUMA VARIAVEL SÓ\n",
    "\n",
    "notas = (7, 8, 3.6, 95, 88)\n"
   ]
  },
  {
   "cell_type": "code",
   "execution_count": 9,
   "id": "fcf921c4",
   "metadata": {},
   "outputs": [
    {
     "name": "stdout",
     "output_type": "stream",
     "text": [
      "7\n",
      "8\n"
     ]
    }
   ],
   "source": [
    "# para acessar algo na lista, escreve o nome da lista e seguido de colchetes e a posição (primeira posição é 0)\n",
    "print (notas [0])\n",
    "print (notas [1])"
   ]
  },
  {
   "cell_type": "code",
   "execution_count": 10,
   "id": "a9daf65d",
   "metadata": {},
   "outputs": [
    {
     "data": {
      "text/plain": [
       "3.6"
      ]
     },
     "execution_count": 10,
     "metadata": {},
     "output_type": "execute_result"
    }
   ],
   "source": [
    "# para achar o último, usa-se o índice -1. Penúltimo é -2\n",
    "notas [-1]"
   ]
  },
  {
   "cell_type": "code",
   "execution_count": 11,
   "id": "61604b73",
   "metadata": {},
   "outputs": [
    {
     "data": {
      "text/plain": [
       "3"
      ]
     },
     "execution_count": 11,
     "metadata": {},
     "output_type": "execute_result"
    }
   ],
   "source": [
    "# para descobrir o tamanha da lista usa-se len()\n",
    "len (notas)"
   ]
  },
  {
   "cell_type": "markdown",
   "id": "244a6dca",
   "metadata": {},
   "source": [
    "# exercicio"
   ]
  },
  {
   "cell_type": "code",
   "execution_count": 12,
   "id": "676078f1",
   "metadata": {},
   "outputs": [
    {
     "name": "stdout",
     "output_type": "stream",
     "text": [
      "sobrancelha\n"
     ]
    }
   ],
   "source": [
    "lista = [[1, 5, 6], ['banana', ['carro', 3.14, 'triangulo', ['sobrancelha']], True, 'caderno']]\n",
    "\n",
    "print (lista[1][1][3][0])\n",
    "\n"
   ]
  },
  {
   "cell_type": "code",
   "execution_count": 14,
   "id": "5d2f5f1d",
   "metadata": {},
   "outputs": [
    {
     "data": {
      "text/plain": [
       "(8, 3.6)"
      ]
     },
     "execution_count": 14,
     "metadata": {},
     "output_type": "execute_result"
    }
   ],
   "source": [
    "notas = (7, 8, 3.6, 95, 88)\n",
    "\n",
    "# para pegar uma seleção de valores\n",
    "\n",
    "notas[1:3]\n",
    "\n",
    "# ignora o 3, pega o 2 e o terceiro termo apenas"
   ]
  },
  {
   "cell_type": "code",
   "execution_count": 15,
   "id": "8c0a3aa2",
   "metadata": {},
   "outputs": [
    {
     "data": {
      "text/plain": [
       "(8, 3.6, 95, 88)"
      ]
     },
     "execution_count": 15,
     "metadata": {},
     "output_type": "execute_result"
    }
   ],
   "source": [
    "notas[1:]\n",
    "\n",
    "# pega tudo do termo 2 pra frente\n",
    "\n",
    "notas[:]\n",
    "\n",
    "# pega a lista inteira só os :"
   ]
  },
  {
   "cell_type": "code",
   "execution_count": 17,
   "id": "86c8cd83",
   "metadata": {},
   "outputs": [
    {
     "data": {
      "text/plain": [
       "(7, 8, 3.6, 95, 88, 7, 8, 3.6, 95, 88)"
      ]
     },
     "execution_count": 17,
     "metadata": {},
     "output_type": "execute_result"
    }
   ],
   "source": [
    "# somar listas concatena elas, na ordem que vc soma\n",
    "# multiplicar uma lista multiplica duplica os termos\n",
    "\n",
    "notas * 2"
   ]
  },
  {
   "cell_type": "code",
   "execution_count": 18,
   "id": "a507b15d",
   "metadata": {},
   "outputs": [
    {
     "data": {
      "text/plain": [
       "['u', 'h', 'u', 'l']"
      ]
     },
     "execution_count": 18,
     "metadata": {},
     "output_type": "execute_result"
    }
   ],
   "source": [
    "# dá para transformar um string numa lista com os caracteres\n",
    "string = 'uhul'\n",
    "list(string)"
   ]
  },
  {
   "cell_type": "code",
   "execution_count": 26,
   "id": "512b472c",
   "metadata": {},
   "outputs": [
    {
     "data": {
      "text/plain": [
       "[7, 95, 3.3]"
      ]
     },
     "execution_count": 26,
     "metadata": {},
     "output_type": "execute_result"
    }
   ],
   "source": [
    "# dá para ir adicionando itens numa lista usando .append\n",
    "\n",
    "nova_lista = []\n",
    "nova_lista.append (7)\n",
    "nova_lista.append (95)\n",
    "nova_lista.append (3.3)\n",
    "\n",
    "nova_lista"
   ]
  },
  {
   "cell_type": "code",
   "execution_count": 22,
   "id": "55c4ca8b",
   "metadata": {},
   "outputs": [
    {
     "data": {
      "text/plain": [
       "105.3"
      ]
     },
     "execution_count": 22,
     "metadata": {},
     "output_type": "execute_result"
    }
   ],
   "source": [
    "sum (nova_lista)"
   ]
  },
  {
   "cell_type": "code",
   "execution_count": 27,
   "id": "475d6dd5",
   "metadata": {},
   "outputs": [
    {
     "data": {
      "text/plain": [
       "[7, 77, 95, 3.3]"
      ]
     },
     "execution_count": 27,
     "metadata": {},
     "output_type": "execute_result"
    }
   ],
   "source": [
    "# para adicionar um valor numa posição especifica, usar .insert. Os outros valores são empurrados pra frente\n",
    "\n",
    "nova_lista.insert(1, 77)\n",
    "\n",
    "nova_lista"
   ]
  },
  {
   "cell_type": "code",
   "execution_count": 36,
   "id": "dd7b9b50",
   "metadata": {},
   "outputs": [
    {
     "data": {
      "text/plain": [
       "[7, 42, 95]"
      ]
     },
     "execution_count": 36,
     "metadata": {},
     "output_type": "execute_result"
    }
   ],
   "source": [
    "# para substituir um valor. É igual para ler o valor em determinada posição\n",
    "nova_lista[1] = 42\n",
    "\n",
    "nova_lista"
   ]
  },
  {
   "cell_type": "code",
   "execution_count": 38,
   "id": "a0723c4c",
   "metadata": {},
   "outputs": [
    {
     "data": {
      "text/plain": [
       "[7, 42]"
      ]
     },
     "execution_count": 38,
     "metadata": {},
     "output_type": "execute_result"
    }
   ],
   "source": [
    "# para remover um valor especifico, um elemento, usar .remove\n",
    "\n",
    "nova_lista.remove(95)\n",
    "nova_lista"
   ]
  },
  {
   "cell_type": "code",
   "execution_count": 39,
   "id": "6f4bfbad",
   "metadata": {},
   "outputs": [
    {
     "data": {
      "text/plain": [
       "[42]"
      ]
     },
     "execution_count": 39,
     "metadata": {},
     "output_type": "execute_result"
    }
   ],
   "source": [
    "# para retirar um item pela posição, usar .pop\n",
    "\n",
    "nova_lista.pop (0)\n",
    "\n",
    "nova_lista"
   ]
  },
  {
   "cell_type": "code",
   "execution_count": 42,
   "id": "ad67077c",
   "metadata": {},
   "outputs": [],
   "source": [
    "lista_desordenada = [3, 4, 9, 1, 7, 55]"
   ]
  },
  {
   "cell_type": "code",
   "execution_count": 43,
   "id": "f7acb606",
   "metadata": {},
   "outputs": [
    {
     "data": {
      "text/plain": [
       "[1, 3, 4, 7, 9, 55]"
      ]
     },
     "execution_count": 43,
     "metadata": {},
     "output_type": "execute_result"
    }
   ],
   "source": [
    "lista_ordenada = sorted(lista_desordenada)\n",
    "\n",
    "lista_ordenada"
   ]
  },
  {
   "cell_type": "code",
   "execution_count": null,
   "id": "8bcc5455",
   "metadata": {},
   "outputs": [],
   "source": []
  },
  {
   "cell_type": "code",
   "execution_count": null,
   "id": "48797264",
   "metadata": {},
   "outputs": [],
   "source": []
  },
  {
   "cell_type": "code",
   "execution_count": null,
   "id": "e7444985",
   "metadata": {},
   "outputs": [],
   "source": []
  },
  {
   "cell_type": "code",
   "execution_count": null,
   "id": "86639fd5",
   "metadata": {},
   "outputs": [],
   "source": []
  },
  {
   "cell_type": "code",
   "execution_count": null,
   "id": "5048d072",
   "metadata": {},
   "outputs": [],
   "source": []
  },
  {
   "cell_type": "markdown",
   "id": "9f2b14ae",
   "metadata": {},
   "source": []
  }
 ],
 "metadata": {
  "kernelspec": {
   "display_name": "Python 3 (ipykernel)",
   "language": "python",
   "name": "python3"
  },
  "language_info": {
   "codemirror_mode": {
    "name": "ipython",
    "version": 3
   },
   "file_extension": ".py",
   "mimetype": "text/x-python",
   "name": "python",
   "nbconvert_exporter": "python",
   "pygments_lexer": "ipython3",
   "version": "3.9.7"
  }
 },
 "nbformat": 4,
 "nbformat_minor": 5
}
