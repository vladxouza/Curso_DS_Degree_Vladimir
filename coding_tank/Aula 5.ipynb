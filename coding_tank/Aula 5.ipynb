{
 "cells": [
  {
   "cell_type": "markdown",
   "id": "8e226bfc",
   "metadata": {},
   "source": [
    "# STRINGS"
   ]
  },
  {
   "cell_type": "code",
   "execution_count": 1,
   "id": "e718e8b3",
   "metadata": {},
   "outputs": [
    {
     "ename": "TypeError",
     "evalue": "'str' object does not support item assignment",
     "output_type": "error",
     "traceback": [
      "\u001b[1;31m---------------------------------------------------------------------------\u001b[0m",
      "\u001b[1;31mTypeError\u001b[0m                                 Traceback (most recent call last)",
      "\u001b[1;32m~\\AppData\\Local\\Temp/ipykernel_3560/2342094098.py\u001b[0m in \u001b[0;36m<module>\u001b[1;34m\u001b[0m\n\u001b[0;32m      2\u001b[0m \u001b[1;33m\u001b[0m\u001b[0m\n\u001b[0;32m      3\u001b[0m \u001b[0mpalavra\u001b[0m \u001b[1;33m=\u001b[0m \u001b[1;34m'banana'\u001b[0m\u001b[1;33m\u001b[0m\u001b[1;33m\u001b[0m\u001b[0m\n\u001b[1;32m----> 4\u001b[1;33m \u001b[0mpalavra\u001b[0m\u001b[1;33m[\u001b[0m\u001b[1;36m0\u001b[0m\u001b[1;33m]\u001b[0m \u001b[1;33m=\u001b[0m \u001b[1;34m'b'\u001b[0m\u001b[1;33m\u001b[0m\u001b[1;33m\u001b[0m\u001b[0m\n\u001b[0m",
      "\u001b[1;31mTypeError\u001b[0m: 'str' object does not support item assignment"
     ]
    }
   ],
   "source": [
    "# str tem mts propriedades de listas, mas nao pode alterar caractere\n",
    "\n",
    "palavra = 'banana'\n",
    "palavra[0] = 'b'"
   ]
  },
  {
   "cell_type": "code",
   "execution_count": 2,
   "id": "bff2c60a",
   "metadata": {},
   "outputs": [
    {
     "data": {
      "text/plain": [
       "'gerrefe'"
      ]
     },
     "execution_count": 2,
     "metadata": {},
     "output_type": "execute_result"
    }
   ],
   "source": [
    "# para alterar o caractere pode usar o .replace, mas troca todos os caracteres iguais\n",
    "\n",
    "palavra_nova = 'garrafa'\n",
    "\n",
    "palavra_nova.replace('a', 'e')\n"
   ]
  },
  {
   "cell_type": "code",
   "execution_count": 6,
   "id": "6c6207d7",
   "metadata": {},
   "outputs": [
    {
     "name": "stdout",
     "output_type": "stream",
     "text": [
      "['w', 's', 'o', 'i', 'g', 'j', 'o', 'i', 's', 'j', 'g']\n"
     ]
    }
   ],
   "source": [
    "palavra2 = 'wsoigjoisjg'\n",
    "\n",
    "lista = list(palavra2)\n",
    "\n",
    "print (lista)\n",
    "\n"
   ]
  },
  {
   "cell_type": "code",
   "execution_count": 7,
   "id": "e8c6bd1f",
   "metadata": {},
   "outputs": [
    {
     "name": "stdout",
     "output_type": "stream",
     "text": [
      "wsoigjoisjg\n"
     ]
    }
   ],
   "source": [
    "# dá pra unir tudo em uma string de uma lista, usando ''.join() . Entre as aspas fica o separador\n",
    "\n",
    "str_da_palavra = ''.join(lista)\n",
    "\n",
    "print (str_da_palavra)"
   ]
  },
  {
   "cell_type": "markdown",
   "id": "7d433f5d",
   "metadata": {},
   "source": [
    "### EXERCICIO"
   ]
  },
  {
   "cell_type": "code",
   "execution_count": 9,
   "id": "300d3140",
   "metadata": {
    "scrolled": true
   },
   "outputs": [
    {
     "name": "stdout",
     "output_type": "stream",
     "text": [
      "12345\n"
     ]
    }
   ],
   "source": [
    "lista_int = [1, 2, 3, 4, 5]\n",
    "lista_char = []\n",
    "for numeros in lista_int:\n",
    "    lista_char.append(str(numeros))\n",
    "\n",
    "numero_todo = ''.join(lista_char)\n",
    "print (numero_todo)"
   ]
  },
  {
   "cell_type": "code",
   "execution_count": 10,
   "id": "206b59e2",
   "metadata": {},
   "outputs": [
    {
     "data": {
      "text/plain": [
       "123456"
      ]
     },
     "execution_count": 10,
     "metadata": {},
     "output_type": "execute_result"
    }
   ],
   "source": [
    "lista = [1, 2, 3, 4, 5, 6]\n",
    "lista2 = [str(x) for x in lista]\n",
    "lista3 = int(\"\".join(lista2))\n",
    "lista3"
   ]
  },
  {
   "cell_type": "code",
   "execution_count": 11,
   "id": "2cdd5d15",
   "metadata": {},
   "outputs": [
    {
     "data": {
      "text/plain": [
       "12345"
      ]
     },
     "execution_count": 11,
     "metadata": {},
     "output_type": "execute_result"
    }
   ],
   "source": [
    "# map serve pra achar uma coisa dentro de algo e fazer algo com ela\n",
    "lista = [1, 2, 3, 4, 5]\n",
    "int(''.join(map(str, lista)))"
   ]
  },
  {
   "cell_type": "markdown",
   "id": "8b83e2f0",
   "metadata": {},
   "source": [
    "-----------------------"
   ]
  },
  {
   "cell_type": "code",
   "execution_count": 13,
   "id": "4bdccdf2",
   "metadata": {},
   "outputs": [],
   "source": [
    "# multiplicar ou somar uma string concatena ela nela mesma"
   ]
  },
  {
   "cell_type": "markdown",
   "id": "b1c4fc43",
   "metadata": {},
   "source": [
    "# funcoes de strings"
   ]
  },
  {
   "cell_type": "code",
   "execution_count": 14,
   "id": "51934c5f",
   "metadata": {},
   "outputs": [
    {
     "data": {
      "text/plain": [
       "'VLADIMIR'"
      ]
     },
     "execution_count": 14,
     "metadata": {},
     "output_type": "execute_result"
    }
   ],
   "source": [
    "# .upper() tranforma td em maiuscula\n",
    "\n",
    "'Vladimir'.upper()"
   ]
  },
  {
   "cell_type": "code",
   "execution_count": 16,
   "id": "bac9ab64",
   "metadata": {},
   "outputs": [
    {
     "data": {
      "text/plain": [
       "'vladimir'"
      ]
     },
     "execution_count": 16,
     "metadata": {},
     "output_type": "execute_result"
    }
   ],
   "source": [
    "# .lower() faz td ficar minusculo\n",
    "\n",
    "'VLADIMIR'.lower()"
   ]
  },
  {
   "cell_type": "code",
   "execution_count": 17,
   "id": "f749a852",
   "metadata": {},
   "outputs": [],
   "source": [
    "# .title() deixa todas as primeiras em maiusculo"
   ]
  },
  {
   "cell_type": "code",
   "execution_count": 18,
   "id": "73bf5f84",
   "metadata": {},
   "outputs": [],
   "source": [
    "# .capitalize() deixa só a primeira palavra em maiuscula"
   ]
  },
  {
   "cell_type": "code",
   "execution_count": 19,
   "id": "2f2f13d5",
   "metadata": {},
   "outputs": [
    {
     "data": {
      "text/plain": [
       "True"
      ]
     },
     "execution_count": 19,
     "metadata": {},
     "output_type": "execute_result"
    }
   ],
   "source": [
    "lista = ['hugo', 'valeria', 'fernanda', 'paulo']\n",
    "'valeria' in lista"
   ]
  },
  {
   "cell_type": "code",
   "execution_count": 20,
   "id": "28b1a48a",
   "metadata": {},
   "outputs": [
    {
     "data": {
      "text/plain": [
       "True"
      ]
     },
     "execution_count": 20,
     "metadata": {},
     "output_type": "execute_result"
    }
   ],
   "source": [
    "# tem perguntas que podem ser feitas para strings\n",
    "\n",
    "\n",
    "# retorna T se tem só numeros\n",
    "'12345'.isdigit()"
   ]
  },
  {
   "cell_type": "code",
   "execution_count": 22,
   "id": "eb211991",
   "metadata": {},
   "outputs": [
    {
     "data": {
      "text/plain": [
       "False"
      ]
     },
     "execution_count": 22,
     "metadata": {},
     "output_type": "execute_result"
    }
   ],
   "source": [
    "# retorna se são letras apenas\n",
    "'iearg'.isalpha()"
   ]
  },
  {
   "cell_type": "code",
   "execution_count": 4,
   "id": "1e833154",
   "metadata": {},
   "outputs": [
    {
     "data": {
      "text/plain": [
       "True"
      ]
     },
     "execution_count": 4,
     "metadata": {},
     "output_type": "execute_result"
    }
   ],
   "source": [
    "# letra ou num volta T\n",
    "'sadfg45'.isalnum()"
   ]
  },
  {
   "cell_type": "code",
   "execution_count": 5,
   "id": "5f93ba4d",
   "metadata": {},
   "outputs": [
    {
     "data": {
      "text/plain": [
       "True"
      ]
     },
     "execution_count": 5,
     "metadata": {},
     "output_type": "execute_result"
    }
   ],
   "source": [
    "'esfgfeg'.islower()"
   ]
  },
  {
   "cell_type": "markdown",
   "id": "1da10452",
   "metadata": {},
   "source": [
    "### EXERCICIO"
   ]
  },
  {
   "cell_type": "code",
   "execution_count": 13,
   "id": "b4d150a4",
   "metadata": {},
   "outputs": [
    {
     "name": "stdout",
     "output_type": "stream",
     "text": [
      "['1', '3', '0', '0']\n",
      "['e', 'l', 'e', 'd', 'i', 's', 's', 'e', 'q', 'u', 'e', 'h', 'o', 'r', 'a', 's', 'e', 'l', 'a', 'v', 'o', 'l', 't', 'a']\n",
      "[' ', ' ', ' ', ' ', ' ', ':', ' ', ':']\n"
     ]
    }
   ],
   "source": [
    "frase = 'ele disse que horas ela volta: 13:00'\n",
    "num = []\n",
    "character = []\n",
    "outros = []\n",
    "for char in frase:\n",
    "    if char.isdigit():\n",
    "        num.append(char)\n",
    "    elif char.isalpha():\n",
    "        character.append(char)\n",
    "    else:\n",
    "        outros.append(char)\n",
    "        \n",
    "print (num)\n",
    "print (character)\n",
    "print (outros)"
   ]
  },
  {
   "cell_type": "code",
   "execution_count": null,
   "id": "d580432d",
   "metadata": {},
   "outputs": [],
   "source": []
  },
  {
   "cell_type": "code",
   "execution_count": 18,
   "id": "bcb027be",
   "metadata": {},
   "outputs": [
    {
     "name": "stdout",
     "output_type": "stream",
     "text": [
      "01/02/2020\n"
     ]
    }
   ],
   "source": [
    "# como formatar uma string. 02d: 0 é para completar caso falte o numero de caracteres. 2 é a quantidade de digitos e d faz\n",
    "# referencia ao int\n",
    "# dá pra usar o f de format em variaveis tbm\n",
    "dia = 1\n",
    "mes = 2\n",
    "ano = 2020\n",
    "\n",
    "data = f'{dia:02d}/{mes:02d}/{ano:04d}'\n",
    "\n",
    "print (data)"
   ]
  },
  {
   "cell_type": "code",
   "execution_count": 19,
   "id": "ee503abe",
   "metadata": {},
   "outputs": [
    {
     "name": "stdout",
     "output_type": "stream",
     "text": [
      "1500.5\n",
      "R$ 1500.50\n"
     ]
    }
   ],
   "source": [
    "# mesma coisa de cima. .2 é duas casas decimais e f é de float\n",
    "\n",
    "preco = 1500.5\n",
    "\n",
    "print (preco)\n",
    "\n",
    "precofinal = f'R$ {preco:.2f}'\n",
    "\n",
    "print (precofinal)"
   ]
  },
  {
   "cell_type": "markdown",
   "id": "3adbdef3",
   "metadata": {},
   "source": [
    "### EXERCICO\n"
   ]
  },
  {
   "cell_type": "code",
   "execution_count": 6,
   "id": "2432b4c4",
   "metadata": {},
   "outputs": [
    {
     "name": "stdout",
     "output_type": "stream",
     "text": [
      "fale uma fraseola cachorrada\n",
      "fale um numero para shift5\n",
      "tqf%hfhmtwwfif\n"
     ]
    }
   ],
   "source": [
    "frase = input('fale uma frase')\n",
    "shift = int(input('fale um numero para shift'))\n",
    "frase_cifrada = []\n",
    "for item in frase:\n",
    "    frase_cifrada.append(chr(ord(item) + shift))\n",
    "\n",
    "frase_cifrada_join = ''.join(frase_cifrada)\n",
    "    \n",
    "print (frase_cifrada_join)\n",
    "\n",
    "    \n",
    "    "
   ]
  }
 ],
 "metadata": {
  "kernelspec": {
   "display_name": "Python 3",
   "language": "python",
   "name": "python3"
  },
  "language_info": {
   "codemirror_mode": {
    "name": "ipython",
    "version": 3
   },
   "file_extension": ".py",
   "mimetype": "text/x-python",
   "name": "python",
   "nbconvert_exporter": "python",
   "pygments_lexer": "ipython3",
   "version": "3.8.8"
  }
 },
 "nbformat": 4,
 "nbformat_minor": 5
}
