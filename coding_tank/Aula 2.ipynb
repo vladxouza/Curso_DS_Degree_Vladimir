{
 "cells": [
  {
   "cell_type": "code",
   "execution_count": 1,
   "id": "7b13251b",
   "metadata": {},
   "outputs": [],
   "source": [
    "x =42"
   ]
  },
  {
   "cell_type": "code",
   "execution_count": 2,
   "id": "c813075a",
   "metadata": {},
   "outputs": [
    {
     "data": {
      "text/plain": [
       "42"
      ]
     },
     "execution_count": 2,
     "metadata": {},
     "output_type": "execute_result"
    }
   ],
   "source": [
    "x"
   ]
  },
  {
   "cell_type": "code",
   "execution_count": 9,
   "id": "3ac91e4a",
   "metadata": {},
   "outputs": [
    {
     "data": {
      "text/plain": [
       "int"
      ]
     },
     "execution_count": 9,
     "metadata": {},
     "output_type": "execute_result"
    }
   ],
   "source": [
    "type (42\n",
    "     \n",
    "    )"
   ]
  },
  {
   "cell_type": "code",
   "execution_count": 10,
   "id": "dc32ce9b",
   "metadata": {},
   "outputs": [
    {
     "data": {
      "text/plain": [
       "float"
      ]
     },
     "execution_count": 10,
     "metadata": {},
     "output_type": "execute_result"
    }
   ],
   "source": [
    "type (4.5\n",
    "     \n",
    "     )\n"
   ]
  },
  {
   "cell_type": "markdown",
   "id": "ba270857",
   "metadata": {},
   "source": [
    "float perde precisão ao longo do tempo, tomar cuidado quando operando muito com ele"
   ]
  },
  {
   "cell_type": "code",
   "execution_count": 11,
   "id": "fd63363e",
   "metadata": {},
   "outputs": [],
   "source": [
    "frase =\"oi\""
   ]
  },
  {
   "cell_type": "code",
   "execution_count": 12,
   "id": "df017d32",
   "metadata": {},
   "outputs": [
    {
     "data": {
      "text/plain": [
       "str"
      ]
     },
     "execution_count": 12,
     "metadata": {},
     "output_type": "execute_result"
    }
   ],
   "source": [
    "type (frase)\n"
   ]
  },
  {
   "cell_type": "code",
   "execution_count": 15,
   "id": "b064ea18",
   "metadata": {},
   "outputs": [],
   "source": [
    "verdadeiro = True\n",
    "falso = False"
   ]
  },
  {
   "cell_type": "code",
   "execution_count": 16,
   "id": "b96b0da2",
   "metadata": {},
   "outputs": [
    {
     "data": {
      "text/plain": [
       "bool"
      ]
     },
     "execution_count": 16,
     "metadata": {},
     "output_type": "execute_result"
    }
   ],
   "source": [
    "type (verdadeiro\n",
    "    )"
   ]
  },
  {
   "cell_type": "code",
   "execution_count": 17,
   "id": "11fa0dc1",
   "metadata": {},
   "outputs": [],
   "source": [
    "# para fazer comentário, comando ctrl + / (do pad numérico)"
   ]
  },
  {
   "cell_type": "code",
   "execution_count": 23,
   "id": "52ef14e1",
   "metadata": {},
   "outputs": [
    {
     "name": "stdout",
     "output_type": "stream",
     "text": [
      "O vladimir tem 1 anos\n"
     ]
    }
   ],
   "source": [
    "print (f\"O vladimir tem {variavel} anos\")\n",
    "\n",
    "# o 'f' antes da string possibilita citar uma variável no meio da string sem usar vírgulas, usando chaves. pode fazer conta etc\n"
   ]
  },
  {
   "cell_type": "code",
   "execution_count": 30,
   "id": "fb1e89de",
   "metadata": {},
   "outputs": [
    {
     "name": "stdout",
     "output_type": "stream",
     "text": [
      "oi \n",
      "tudo bem \n",
      "\n",
      "\n",
      "\n",
      "oi\n"
     ]
    }
   ],
   "source": [
    "print ('oi \\ntudo bem \\n\\n\\n')\n",
    "print ('oi')\n",
    "# '\\n' pula uma linha no print"
   ]
  },
  {
   "cell_type": "code",
   "execution_count": 32,
   "id": "39c5a218",
   "metadata": {},
   "outputs": [
    {
     "name": "stdout",
     "output_type": "stream",
     "text": [
      "Qual seu nomeVladimir\n",
      "Vladimir\n"
     ]
    }
   ],
   "source": [
    "entrada = input('Qual seu nome')\n",
    "\n",
    "print (entrada)\n",
    "\n",
    "# guarda apenas strings"
   ]
  },
  {
   "cell_type": "code",
   "execution_count": 38,
   "id": "9a2d1057",
   "metadata": {},
   "outputs": [
    {
     "name": "stdout",
     "output_type": "stream",
     "text": [
      "Qual sua idade20\n"
     ]
    },
    {
     "data": {
      "text/plain": [
       "int"
      ]
     },
     "execution_count": 38,
     "metadata": {},
     "output_type": "execute_result"
    }
   ],
   "source": [
    "idade = int(input('Qual sua idade'\n",
    "                 ))\n",
    "\n",
    "type (idade\n",
    "     )\n",
    "# para trocar de string para outro, como int e float, colocar antes do input"
   ]
  },
  {
   "cell_type": "code",
   "execution_count": 39,
   "id": "40db84af",
   "metadata": {},
   "outputs": [
    {
     "name": "stdout",
     "output_type": "stream",
     "text": [
      "114\n"
     ]
    }
   ],
   "source": [
    "multiplicacao = 2 * 57\n",
    "\n",
    "print(multiplicacao\n",
    "     )"
   ]
  },
  {
   "cell_type": "code",
   "execution_count": 40,
   "id": "648f48f9",
   "metadata": {},
   "outputs": [
    {
     "name": "stdout",
     "output_type": "stream",
     "text": [
      "28.5\n"
     ]
    }
   ],
   "source": [
    "div = 57/2\n",
    "\n",
    "print(div\n",
    "     )"
   ]
  },
  {
   "cell_type": "code",
   "execution_count": 41,
   "id": "64c4bdea",
   "metadata": {},
   "outputs": [
    {
     "name": "stdout",
     "output_type": "stream",
     "text": [
      "28\n"
     ]
    }
   ],
   "source": [
    "# para não virar float, a divisão retorna só o resto usando duas barras //\n",
    "\n",
    "div_int = 57//2 \n",
    "\n",
    "print (div_int\n",
    "      )"
   ]
  },
  {
   "cell_type": "code",
   "execution_count": 42,
   "id": "55250008",
   "metadata": {},
   "outputs": [
    {
     "name": "stdout",
     "output_type": "stream",
     "text": [
      "1\n"
     ]
    }
   ],
   "source": [
    "# para vir o resto, usa-se % útil para ver se um número é divisível pelo outro\n",
    "\n",
    "resto = 57%2\n",
    "\n",
    "print (resto)\n"
   ]
  },
  {
   "cell_type": "markdown",
   "id": "c0209472",
   "metadata": {},
   "source": [
    "# começa as lógicas"
   ]
  },
  {
   "cell_type": "code",
   "execution_count": 2,
   "id": "eb4c8983",
   "metadata": {},
   "outputs": [],
   "source": [
    "numero = 10"
   ]
  },
  {
   "cell_type": "code",
   "execution_count": 3,
   "id": "d225a96b",
   "metadata": {},
   "outputs": [
    {
     "data": {
      "text/plain": [
       "True"
      ]
     },
     "execution_count": 3,
     "metadata": {},
     "output_type": "execute_result"
    }
   ],
   "source": [
    "numero < 100"
   ]
  },
  {
   "cell_type": "code",
   "execution_count": 4,
   "id": "4bd9bfe4",
   "metadata": {},
   "outputs": [
    {
     "data": {
      "text/plain": [
       "False"
      ]
     },
     "execution_count": 4,
     "metadata": {},
     "output_type": "execute_result"
    }
   ],
   "source": [
    "numero >100\n"
   ]
  },
  {
   "cell_type": "code",
   "execution_count": 5,
   "id": "fc15333e",
   "metadata": {},
   "outputs": [
    {
     "data": {
      "text/plain": [
       "True"
      ]
     },
     "execution_count": 5,
     "metadata": {},
     "output_type": "execute_result"
    }
   ],
   "source": [
    "numero >=10\n"
   ]
  },
  {
   "cell_type": "code",
   "execution_count": 6,
   "id": "fbffb7b6",
   "metadata": {},
   "outputs": [
    {
     "data": {
      "text/plain": [
       "True"
      ]
     },
     "execution_count": 6,
     "metadata": {},
     "output_type": "execute_result"
    }
   ],
   "source": [
    "numero ==10"
   ]
  },
  {
   "cell_type": "code",
   "execution_count": 7,
   "id": "06539f97",
   "metadata": {},
   "outputs": [
    {
     "data": {
      "text/plain": [
       "True"
      ]
     },
     "execution_count": 7,
     "metadata": {},
     "output_type": "execute_result"
    }
   ],
   "source": [
    "# para ver se é diferente, usa-se !=\n",
    "\n",
    "numero != 11\n"
   ]
  },
  {
   "cell_type": "markdown",
   "id": "cd39ef89",
   "metadata": {},
   "source": [
    "### dá para comparar strings também"
   ]
  },
  {
   "cell_type": "code",
   "execution_count": 8,
   "id": "1714ffdf",
   "metadata": {},
   "outputs": [
    {
     "data": {
      "text/plain": [
       "True"
      ]
     },
     "execution_count": 8,
     "metadata": {},
     "output_type": "execute_result"
    }
   ],
   "source": [
    "'oi' == 'oi'"
   ]
  },
  {
   "cell_type": "code",
   "execution_count": null,
   "id": "ef4dc90f",
   "metadata": {},
   "outputs": [],
   "source": [
    "# dá para comparar strings também usando > < <= >=. Ele ve em ordem qual a ordem das letras pela tabela ASCII"
   ]
  },
  {
   "cell_type": "code",
   "execution_count": 9,
   "id": "fd4fe156",
   "metadata": {},
   "outputs": [
    {
     "data": {
      "text/plain": [
       "False"
      ]
     },
     "execution_count": 9,
     "metadata": {},
     "output_type": "execute_result"
    }
   ],
   "source": [
    "'?' > 'A'"
   ]
  },
  {
   "cell_type": "code",
   "execution_count": 15,
   "id": "926e5c65",
   "metadata": {},
   "outputs": [
    {
     "name": "stdout",
     "output_type": "stream",
     "text": [
      "<class 'str'>\n"
     ]
    },
    {
     "data": {
      "text/plain": [
       "int"
      ]
     },
     "execution_count": 15,
     "metadata": {},
     "output_type": "execute_result"
    }
   ],
   "source": [
    "# dá pra trocar as vaviáveis de tipo\n",
    "\n",
    "caracter = '100'\n",
    "print (type (caracter))\n",
    "\n",
    "type (int(caracter))"
   ]
  },
  {
   "cell_type": "code",
   "execution_count": 16,
   "id": "2b20d8dd",
   "metadata": {},
   "outputs": [
    {
     "data": {
      "text/plain": [
       "str"
      ]
     },
     "execution_count": 16,
     "metadata": {},
     "output_type": "execute_result"
    }
   ],
   "source": [
    "type (caracter)"
   ]
  },
  {
   "cell_type": "markdown",
   "id": "29e91998",
   "metadata": {},
   "source": [
    "# exercício\n"
   ]
  },
  {
   "cell_type": "code",
   "execution_count": 1,
   "id": "b7b479bf",
   "metadata": {
    "scrolled": true
   },
   "outputs": [
    {
     "name": "stdout",
     "output_type": "stream",
     "text": [
      "Qual seu user?admin\n",
      "Qual sua senha?senha123\n"
     ]
    }
   ],
   "source": [
    "user = 'admin'\n",
    "senha = 'senha123'\n",
    "\n",
    "user_input = input('Qual seu user?')\n",
    "senha_input = input('Qual sua senha?')\n"
   ]
  },
  {
   "cell_type": "code",
   "execution_count": 2,
   "id": "c4b3668d",
   "metadata": {},
   "outputs": [
    {
     "data": {
      "text/plain": [
       "True"
      ]
     },
     "execution_count": 2,
     "metadata": {},
     "output_type": "execute_result"
    }
   ],
   "source": [
    "user == user_input and senha == senha_input"
   ]
  },
  {
   "cell_type": "markdown",
   "id": "fbcb6886",
   "metadata": {},
   "source": [
    "# continuação aula"
   ]
  },
  {
   "cell_type": "code",
   "execution_count": 3,
   "id": "75926d77",
   "metadata": {},
   "outputs": [
    {
     "name": "stdout",
     "output_type": "stream",
     "text": [
      "usuario e senha corrretos\n"
     ]
    }
   ],
   "source": [
    "# if, else e elif. A identação importa demais\n",
    "if user_input == 'admin' and senha_input == 'senha123':\n",
    "    print('usuario e senha corrretos')\n",
    "else:\n",
    "    print('incorreto')\n",
    "    "
   ]
  },
  {
   "cell_type": "markdown",
   "id": "b20df036",
   "metadata": {},
   "source": [
    "   regra 1: se a média for maior ou igual a 9, o aluno é aprovado, independente da frequencia;\n",
    "    regra 2: se a média estiver entre 6 e 9, o aluno só é aprovado se a frequencia for maior ou igual a 75%\n",
    "    regra 3: se a média estiver entre 6 e 9, mas a frequencia for menor que 75%, ele vai pra recuperação\n",
    "    regra 4: se a média for menor que 6 e a frequencia do aluno for maior ou igual a 75%, ele pode fazer recuperação\n",
    "    regra 5: se a média for menor que 6 e a frequência do aluno for menor que a 75%, ele é automaticamente reprovado\n"
   ]
  },
  {
   "cell_type": "code",
   "execution_count": 8,
   "id": "2a0ab380",
   "metadata": {},
   "outputs": [
    {
     "name": "stdout",
     "output_type": "stream",
     "text": [
      "aprovado\n"
     ]
    }
   ],
   "source": [
    "media = 9\n",
    "freq = 0.74\n",
    "if media >= 9:\n",
    "    print('aprovado')\n",
    "elif 9 < media <= 6 and freq >= 0.75:\n",
    "    print ('aprovado')\n",
    "elif 9 < media <= 6 and freq < 0.75:\n",
    "    print('recuperação')\n",
    "elif media < 6 and freq >= 0.75:\n",
    "    print ('recuperação')\n",
    "elif media < 6 and freq < 0.75:\n",
    "    print ('reprovado')"
   ]
  },
  {
   "cell_type": "code",
   "execution_count": null,
   "id": "d07f3a36",
   "metadata": {},
   "outputs": [],
   "source": []
  }
 ],
 "metadata": {
  "kernelspec": {
   "display_name": "Python 3 (ipykernel)",
   "language": "python",
   "name": "python3"
  },
  "language_info": {
   "codemirror_mode": {
    "name": "ipython",
    "version": 3
   },
   "file_extension": ".py",
   "mimetype": "text/x-python",
   "name": "python",
   "nbconvert_exporter": "python",
   "pygments_lexer": "ipython3",
   "version": "3.9.7"
  }
 },
 "nbformat": 4,
 "nbformat_minor": 5
}
