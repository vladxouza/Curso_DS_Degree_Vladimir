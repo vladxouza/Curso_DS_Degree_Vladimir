{
 "cells": [
  {
   "cell_type": "markdown",
   "metadata": {
    "id": "xBlvi3vZfD3L"
   },
   "source": [
    "# Aula 6 - tuplas, dicionários\n",
    "\n",
    "Na aula de hoje, vamos explorar os seguintes tópicos em Python:\n",
    "\n",
    "- 1) Tuplas\n",
    "- 2) Dicionários\n",
    "\n",
    "_______\n",
    "\n",
    "### Objetivos\n",
    "\n",
    "Apresentar as estrturuas de dados tuplas e dicionários, explicando o conceito, importância e uso de cada uma delas, frisando as semelhanças e diferenças entre estas estruturas e listas. Mostrar funções e métodos aplicáveis a estas estruturas.\n",
    "### Habilidades a serem desenvolvidas\n",
    "\n",
    "Ao final da aula o aluno deve:\n",
    "\n",
    "- Saber o conceito de tuplas, sua importância, e como trabalhar com elas;\n",
    "- Saber o conceito de dicionários, sua importância, e como trabalhar com eles;\n",
    "- Conhecer os principais métodos aplicados a dicionários;"
   ]
  },
  {
   "cell_type": "markdown",
   "metadata": {
    "id": "b9I10BzefD3Q"
   },
   "source": [
    "____\n",
    "____\n",
    "____"
   ]
  },
  {
   "cell_type": "markdown",
   "metadata": {
    "id": "wbF2evgJfD3R"
   },
   "source": [
    "## 1) Tuplas\n",
    "\n",
    "Até o momento, temos utilizado **listas** pra armazenar uma coleção de dados.\n",
    "\n",
    "Aprenderemos agora sobre uma nova **estrutura de dados**: tuplas!\n",
    "\n",
    "Tuplas são estruturas bastante parecidas com listas:\n",
    "\n",
    "- Podem guardar **tipos diferentes de dados**.\n",
    "- São indexadas (podemos **acessar elementos por índices**).\n",
    "- São iteráveis (**podemos percorrer com o `for`**)."
   ]
  },
  {
   "cell_type": "markdown",
   "metadata": {
    "id": "tVfPui-7fD3S"
   },
   "source": [
    "A principal diferença é: tuplas são **imutáveis**!\n",
    "\n",
    "Para tuplas **não é possível**: alterar elementos individuais, adicionar elementos, remover elementos ou alterar a ordem dos elementos. Uma vez criada, não é possível alterar nada de uma tupla!\n",
    "\n",
    "Mas, então, pra que servem as tuplas?\n",
    "\n",
    "- É um jeito de **sinalizar que esses dados não deveriam ser alterados**. \n",
    "\n",
    "- É um meio de garantir que os elementos estarão **em uma ordem específica**.\n",
    "\n",
    "- O acesso a elementos de uma tupla **é bem mais rápido**."
   ]
  },
  {
   "cell_type": "markdown",
   "metadata": {
    "id": "6hv2c0zFfD3S"
   },
   "source": [
    "Tuplas são indicadas entre **parênteses ()**\n"
   ]
  },
  {
   "cell_type": "code",
   "execution_count": 1,
   "metadata": {
    "id": "9MGjHANMfD3T",
    "outputId": "e4241849-87d3-4c7e-cf39-a31372fc460d"
   },
   "outputs": [
    {
     "data": {
      "text/plain": [
       "tuple"
      ]
     },
     "execution_count": 1,
     "metadata": {},
     "output_type": "execute_result"
    }
   ],
   "source": [
    "tupla_inicial = (1, 3, 5, ['oi', 'tudo bem'], False)\n",
    "\n",
    "lista = [1, 3, 5]\n",
    "type(tupla_inicial)"
   ]
  },
  {
   "cell_type": "markdown",
   "metadata": {
    "id": "xlZYmQRHfD3W"
   },
   "source": [
    "No entanto, é possível definir tuplas sem a utilização de parênteses, apenas **listando os elementos, separados por vírgula**"
   ]
  },
  {
   "cell_type": "code",
   "execution_count": 2,
   "metadata": {
    "id": "pSG07AsGfD3X",
    "outputId": "fc6aa725-43bb-4d3a-cfec-12b7dba51365"
   },
   "outputs": [
    {
     "name": "stdout",
     "output_type": "stream",
     "text": [
      "(1, 2, 3)\n"
     ]
    },
    {
     "data": {
      "text/plain": [
       "tuple"
      ]
     },
     "execution_count": 2,
     "metadata": {},
     "output_type": "execute_result"
    }
   ],
   "source": [
    "segunda_tupla = 1, 2, 3\n",
    "print(segunda_tupla)\n",
    "\n",
    "type(segunda_tupla)"
   ]
  },
  {
   "cell_type": "markdown",
   "metadata": {
    "id": "1xOnnFIafD3X"
   },
   "source": [
    "Operações com tuplas"
   ]
  },
  {
   "cell_type": "code",
   "execution_count": 3,
   "metadata": {
    "id": "hF6ZIDB8fD3Y",
    "outputId": "62dc62e4-ab4e-4c13-9a83-26f12a906105"
   },
   "outputs": [
    {
     "data": {
      "text/plain": [
       "2"
      ]
     },
     "execution_count": 3,
     "metadata": {},
     "output_type": "execute_result"
    }
   ],
   "source": [
    "segunda_tupla[1]"
   ]
  },
  {
   "cell_type": "code",
   "execution_count": 4,
   "metadata": {
    "id": "LpQpgWnKfD3Z",
    "outputId": "6b12b7e9-b3fa-4bb1-bf2a-a15d34e4a60e"
   },
   "outputs": [
    {
     "data": {
      "text/plain": [
       "1"
      ]
     },
     "execution_count": 4,
     "metadata": {},
     "output_type": "execute_result"
    }
   ],
   "source": [
    "segunda_tupla[0]"
   ]
  },
  {
   "cell_type": "code",
   "execution_count": 5,
   "metadata": {
    "id": "TEA7YwaffD3Z",
    "outputId": "c9ede741-e855-43b1-e9aa-da245dcb054e"
   },
   "outputs": [
    {
     "data": {
      "text/plain": [
       "3"
      ]
     },
     "execution_count": 5,
     "metadata": {},
     "output_type": "execute_result"
    }
   ],
   "source": [
    "segunda_tupla[-1]"
   ]
  },
  {
   "cell_type": "markdown",
   "metadata": {
    "id": "86tjzn7zfD3a"
   },
   "source": [
    "Mas, como dissemos, a tupla é **imutável!** Assim, se tentarmos mudar algum dos seus elementos, teremos um erro:"
   ]
  },
  {
   "cell_type": "code",
   "execution_count": 6,
   "metadata": {
    "id": "sW0owGdCfD3a",
    "outputId": "f0634e6f-bdfb-483b-aeb6-0e9f36f377b7"
   },
   "outputs": [
    {
     "name": "stdout",
     "output_type": "stream",
     "text": [
      "[1000, 2, 3]\n"
     ]
    }
   ],
   "source": [
    "lista_nova = [1, 2, 3]\n",
    "lista_nova[0] = 1000\n",
    "print(lista_nova)"
   ]
  },
  {
   "cell_type": "code",
   "execution_count": 7,
   "metadata": {
    "id": "X-UYvn09fD3b",
    "outputId": "1f096323-1c87-4802-c706-38c74cf485b7"
   },
   "outputs": [
    {
     "ename": "TypeError",
     "evalue": "'tuple' object does not support item assignment",
     "output_type": "error",
     "traceback": [
      "\u001b[1;31m---------------------------------------------------------------------------\u001b[0m",
      "\u001b[1;31mTypeError\u001b[0m                                 Traceback (most recent call last)",
      "\u001b[1;32m~\\AppData\\Local\\Temp/ipykernel_9824/207175436.py\u001b[0m in \u001b[0;36m<module>\u001b[1;34m\u001b[0m\n\u001b[1;32m----> 1\u001b[1;33m \u001b[0mtupla_inicial\u001b[0m\u001b[1;33m[\u001b[0m\u001b[1;36m0\u001b[0m\u001b[1;33m]\u001b[0m \u001b[1;33m=\u001b[0m \u001b[1;36m5\u001b[0m\u001b[1;33m\u001b[0m\u001b[1;33m\u001b[0m\u001b[0m\n\u001b[0m",
      "\u001b[1;31mTypeError\u001b[0m: 'tuple' object does not support item assignment"
     ]
    }
   ],
   "source": [
    "tupla_inicial[0] = 5"
   ]
  },
  {
   "cell_type": "markdown",
   "metadata": {
    "id": "bTN0KjljfD3b"
   },
   "source": [
    "Para \"alterar uma tupla\", podemos fazer um procedimento bem forçado: primeiro, transformamos a tupla em lista; aí, alteramos a lista; depois, transformamos a lista de volta em tupla:"
   ]
  },
  {
   "cell_type": "code",
   "execution_count": null,
   "metadata": {
    "id": "iidqcNu_fD3b"
   },
   "outputs": [],
   "source": [
    "# criando uma lista com os elementos da tupla\n",
    "tupla_lista = (1, 2, 3)\n",
    "lista = list(tupla_lista)"
   ]
  },
  {
   "cell_type": "code",
   "execution_count": null,
   "metadata": {
    "id": "DiRctNZwfD3c",
    "outputId": "957ea3c5-572b-4216-ecf2-b8d66fb3d3ca"
   },
   "outputs": [],
   "source": [
    "# alterando um elemento da lista - ao contrário da tupla, a lista é mutável!\n",
    "lista[0] = 893\n",
    "print(lista)"
   ]
  },
  {
   "cell_type": "code",
   "execution_count": null,
   "metadata": {
    "id": "8Opdx43LfD3d"
   },
   "outputs": [],
   "source": [
    "# criando uma tupla a partir de uma lista:\n",
    "tupla_lista_nova = tuple(lista)"
   ]
  },
  {
   "cell_type": "markdown",
   "metadata": {
    "id": "H0mZ64SHfD3d"
   },
   "source": [
    "No entanto, note que a tupla original permaneceu inalterada:"
   ]
  },
  {
   "cell_type": "code",
   "execution_count": null,
   "metadata": {
    "id": "UVqMSo3hfD3d",
    "outputId": "69429c83-c0f4-45b5-dec5-88d1b0874170"
   },
   "outputs": [],
   "source": [
    "# a tupla original permanece a mesma!\n",
    "tupla_lista"
   ]
  },
  {
   "cell_type": "markdown",
   "metadata": {
    "id": "ZoQEc4JlfD3e"
   },
   "source": [
    "Outra utilidade de tuplas: fazer uma função **retornar mais de um valor**"
   ]
  },
  {
   "cell_type": "code",
   "execution_count": null,
   "metadata": {
    "id": "LzuBh6iqfD3e",
    "outputId": "080f479c-2e56-4486-c9b6-f23c14b61cad"
   },
   "outputs": [],
   "source": [
    "def retorna_multiplos_valores(a, b):\n",
    "    return a + b, a - b\n",
    "\n",
    "x, y = retorna_multiplos_valores(2, 1)\n",
    "print(x, y)"
   ]
  },
  {
   "cell_type": "markdown",
   "metadata": {
    "id": "Wc2o8O2lfD3f"
   },
   "source": [
    "____\n",
    "____\n",
    "____"
   ]
  },
  {
   "cell_type": "markdown",
   "metadata": {
    "id": "WSzs2aOQfD3f"
   },
   "source": [
    "## 2) Dicionários\n",
    "\n",
    "Uma outra estrutura de dados bem importante em Python são os **dicionários**.\n",
    "\n",
    "O dicionário também é uma **coleção de dados**. \n",
    "\n",
    "A diferença é que um dicionário é definido a partir de **dois elementos**: uma **chave** e um **valor**.\n",
    "\n",
    "- A **chave** é uma string ou int que é utilizada como se fosse um índice, identificando os respectivos valores.\n",
    "\n",
    "- O **valor** pode ser qualquer dado: um int, um float, uma str, um bool, uma lista, uma tupla, outro dicionário...\n",
    "\n"
   ]
  },
  {
   "cell_type": "markdown",
   "metadata": {
    "id": "fIyLTpAQfD3f"
   },
   "source": [
    "Dicionários são indicados **entre chaves{}**, segundo a estrutura:\n",
    "\n",
    "```python\n",
    "dicionario = {\"chave\": valor}\n",
    "```"
   ]
  },
  {
   "cell_type": "code",
   "execution_count": null,
   "metadata": {
    "id": "tZimMAXGfD3f"
   },
   "outputs": [],
   "source": [
    "lista = [1, 2, 3]"
   ]
  },
  {
   "cell_type": "code",
   "execution_count": null,
   "metadata": {
    "id": "h_ZHxchqfD3g"
   },
   "outputs": [],
   "source": [
    "dicionario = {'valor_banana': 1, 'valor_maca': 2}"
   ]
  },
  {
   "cell_type": "code",
   "execution_count": null,
   "metadata": {
    "id": "QzkaWe_efD3g",
    "outputId": "2cb33f65-0cba-4766-9a3e-cd6dcea096da"
   },
   "outputs": [],
   "source": [
    "lista[0]"
   ]
  },
  {
   "cell_type": "code",
   "execution_count": null,
   "metadata": {
    "id": "BsseiQa8fD3g",
    "outputId": "3b9eff13-a7f7-416d-a182-f611cac3bace"
   },
   "outputs": [],
   "source": [
    "dicionario['valor_banana']"
   ]
  },
  {
   "cell_type": "markdown",
   "metadata": {
    "id": "AGnInBVNfD3h"
   },
   "source": [
    "Poderíamos, ao invés de um dicionário, usar uma lista de listas, como abaixo. \n",
    "\n",
    "Porém, neste caso, fica bem menos intuitivo quando queremos selecionar os elementos que representam nomes ou cidades, porque somos obrigado a usar números para indexar, ao invés das chaves."
   ]
  },
  {
   "cell_type": "code",
   "execution_count": 9,
   "metadata": {
    "id": "Abr7F3bQfD3h",
    "scrolled": true
   },
   "outputs": [],
   "source": [
    "dicionario_listas = {'nome': ['Fernanda', 'Paulo', 'Marcelo'], 'genero': ['F', 'M', 'M']}"
   ]
  },
  {
   "cell_type": "markdown",
   "metadata": {
    "id": "hyDCADi8fD3h"
   },
   "source": [
    "Para adicionar elementos ao dicionário, não precisamos de uma função pronta (como o append das listas). \n",
    "\n",
    "Basta definir a nova chave como uma variável, e atribuir um novo valor a ela:\n"
   ]
  },
  {
   "cell_type": "code",
   "execution_count": null,
   "metadata": {
    "id": "4kcKwBTKfD3h",
    "outputId": "3c053072-849d-4edf-d08b-90aca23b4f0c"
   },
   "outputs": [],
   "source": [
    "lista_limitada = [1, 2, 3]\n",
    "lista_limitada[3] = 4"
   ]
  },
  {
   "cell_type": "code",
   "execution_count": 10,
   "metadata": {
    "id": "bokXmNeNfD3i",
    "outputId": "8734f982-71e7-438b-91a7-a96575567c0b"
   },
   "outputs": [
    {
     "name": "stdout",
     "output_type": "stream",
     "text": [
      "{'nome': ['Fernanda', 'Paulo', 'Marcelo'], 'genero': ['F', 'M', 'M'], 'idade': [20, 20, 25]}\n"
     ]
    }
   ],
   "source": [
    "dicionario_listas['idade'] = [20, 20, 25]\n",
    "\n",
    "print(dicionario_listas)"
   ]
  },
  {
   "cell_type": "markdown",
   "metadata": {
    "id": "mzFxURNLfD3i"
   },
   "source": [
    "Automaticamente, o elemento criado é adicionado ao fim!"
   ]
  },
  {
   "cell_type": "markdown",
   "metadata": {
    "id": "f-ltH1ZyfD3i"
   },
   "source": [
    "__Para apagar uma chave, utilize o \"pop\"__"
   ]
  },
  {
   "cell_type": "code",
   "execution_count": null,
   "metadata": {
    "id": "lglZ-1QefD3i",
    "outputId": "a284c5a8-a608-48ae-966b-7f7584891f1d"
   },
   "outputs": [],
   "source": [
    "dicionario_listas.pop('idade')\n",
    "dicionario_listas"
   ]
  },
  {
   "cell_type": "markdown",
   "metadata": {
    "id": "q2pZ_zgLfD3j"
   },
   "source": [
    "__Ou, utilize o \"del\"__"
   ]
  },
  {
   "cell_type": "code",
   "execution_count": null,
   "metadata": {
    "id": "xAJS-91qfD3j",
    "outputId": "3566157e-a32d-4853-f376-bee5d7db2096"
   },
   "outputs": [],
   "source": [
    "del(dicionario_listas['genero'])\n",
    "\n",
    "dicionario_listas"
   ]
  },
  {
   "cell_type": "markdown",
   "metadata": {
    "id": "4SM6Kg97fD3j"
   },
   "source": [
    "Alterar os valores também é possível:"
   ]
  },
  {
   "cell_type": "code",
   "execution_count": 11,
   "metadata": {
    "id": "W9FreD2xfD3j",
    "outputId": "4445c9b0-1b23-4517-8360-cc9e53ca68a5"
   },
   "outputs": [
    {
     "data": {
      "text/plain": [
       "{'nome': ['Fernanda', 'Paulo', 'Marcelo', 'João'],\n",
       " 'genero': ['F', 'M', 'M'],\n",
       " 'idade': [20, 20, 25]}"
      ]
     },
     "execution_count": 11,
     "metadata": {},
     "output_type": "execute_result"
    }
   ],
   "source": [
    "dicionario_listas['nome'].append('João')\n",
    "dicionario_listas"
   ]
  },
  {
   "cell_type": "code",
   "execution_count": null,
   "metadata": {
    "id": "goQ1_2pZfD3k"
   },
   "outputs": [],
   "source": [
    "dicionario_listas['quant_pessoas'] = 4"
   ]
  },
  {
   "cell_type": "code",
   "execution_count": null,
   "metadata": {
    "id": "_Y6c-P_QfD3k",
    "outputId": "493f2fe6-18a8-4dc1-8b9c-29922409d6ab"
   },
   "outputs": [],
   "source": [
    "dicionario_listas['quant_pessoas'] += 1\n",
    "\n",
    "dicionario_listas"
   ]
  },
  {
   "cell_type": "markdown",
   "metadata": {
    "id": "4w2lTib0fD3k"
   },
   "source": [
    "Posso também alterar elementos individuais dos valores, os indexando\n",
    "\n",
    "(Lembre-se que, neste caso, os valores são listas! Então, devo indexá-las para alterar seus elementos!)"
   ]
  },
  {
   "cell_type": "code",
   "execution_count": null,
   "metadata": {
    "id": "EjFJqNrrfD3k",
    "outputId": "0b260f47-2f56-424c-d123-adfb0857d150"
   },
   "outputs": [],
   "source": [
    "dicionario_listas['nome'][0] = 'Maya'\n",
    "\n",
    "dicionario_listas"
   ]
  },
  {
   "cell_type": "code",
   "execution_count": null,
   "metadata": {
    "id": "cc4a5LKzfD3l"
   },
   "outputs": [],
   "source": []
  },
  {
   "cell_type": "markdown",
   "metadata": {
    "id": "yWp-_30IfD3l"
   },
   "source": [
    "Para adicionar novos elementos aos valores (que são listas), usamos o append:"
   ]
  },
  {
   "cell_type": "code",
   "execution_count": null,
   "metadata": {
    "id": "FGOb8xi_fD3l"
   },
   "outputs": [],
   "source": [
    "dicionario_listas['nome'].append('João')\n",
    "dicionario_listas"
   ]
  },
  {
   "cell_type": "markdown",
   "metadata": {
    "id": "ou0W2WoGfD3l"
   },
   "source": [
    "Dicionários podem ser percorridos com um for. \n",
    "\n",
    "Ao fazer isso, **as chaves serão percorridas** \n",
    "\n",
    "Porém, a partir da chave obtém-se o valor:"
   ]
  },
  {
   "cell_type": "code",
   "execution_count": 14,
   "metadata": {
    "id": "Ct6wQmChfD3l"
   },
   "outputs": [],
   "source": [
    "dicionario_novo = {'nome': ['Fernanda', 'Maya'], 'idade': [20, 17], 'cor_favorita':['azul', 'vermelho']}"
   ]
  },
  {
   "cell_type": "code",
   "execution_count": null,
   "metadata": {
    "id": "-LD0pq0tfD3m",
    "outputId": "749d0b19-ee28-4a52-e2f0-f69887358352"
   },
   "outputs": [],
   "source": [
    "# percorrendo as chaves e accessando os valores\n",
    "for item in dicionario_novo:\n",
    "    print(item)"
   ]
  },
  {
   "cell_type": "markdown",
   "metadata": {
    "id": "mFojslXifD3m"
   },
   "source": [
    "Uma utilidade disso é para pegar os dados respectivos de cada elemento do cadastro:"
   ]
  },
  {
   "cell_type": "code",
   "execution_count": null,
   "metadata": {
    "id": "vNb-Q3D4fD3m",
    "outputId": "7373b5b9-8e02-4302-c8e5-5f17db58eb1f"
   },
   "outputs": [],
   "source": [
    "for item in dicionario_novo:\n",
    "    if item == 'nome':\n",
    "        print(dicionario_novo[item].index('Fernanda'))\n",
    "\n",
    "print(dicionario_novo)"
   ]
  },
  {
   "cell_type": "markdown",
   "metadata": {
    "id": "hDpf9ldBfD3m"
   },
   "source": [
    "Mas também é possível acessar apenas os valores do dicionário com o método `values()`"
   ]
  },
  {
   "cell_type": "code",
   "execution_count": null,
   "metadata": {
    "id": "KNG3l44ifD3n",
    "outputId": "ce5b41c5-66db-4b16-ae65-030318dc4a10"
   },
   "outputs": [],
   "source": [
    "for item in dicionario_novo.values():\n",
    "    print(item)"
   ]
  },
  {
   "cell_type": "code",
   "execution_count": null,
   "metadata": {
    "id": "SlLvYiljfD3n",
    "outputId": "6da9d131-00dd-49d2-999a-f43203decfc3"
   },
   "outputs": [],
   "source": [
    "dicionario_novo.values()"
   ]
  },
  {
   "cell_type": "markdown",
   "metadata": {
    "id": "vT_iPuqUfD3n"
   },
   "source": [
    "Usando compreensão de listas, fica ainda mais simples:"
   ]
  },
  {
   "cell_type": "code",
   "execution_count": null,
   "metadata": {
    "id": "XODNEXmIfD3n",
    "outputId": "6b0cfcdc-7cc0-4deb-beef-d2500a813c0f"
   },
   "outputs": [],
   "source": [
    "[valor for valor in dicionario_novo.values()]"
   ]
  },
  {
   "cell_type": "code",
   "execution_count": 12,
   "metadata": {
    "id": "K9VsTb2WfD3o",
    "outputId": "a2d8e0a5-26ca-4187-e4f6-59ccc1157a74"
   },
   "outputs": [
    {
     "name": "stdout",
     "output_type": "stream",
     "text": [
      "10\n",
      "0\n",
      "5\n"
     ]
    }
   ],
   "source": [
    "dicionario = {'chave1': 10, 'chave2': 0, 'chave3': 5}\n",
    "\n",
    "for valor in dicionario.values():\n",
    "    print(valor)"
   ]
  },
  {
   "cell_type": "code",
   "execution_count": null,
   "metadata": {
    "id": "w0tXh8mxfD3o"
   },
   "outputs": [],
   "source": [
    "dicionario = {\"nome\":[\"André\", \"Luiz\", \"Pereira\"], \"Idade\":[20, 30, 40]}\n",
    "\n",
    "for i in dicionario:\n",
    "    print(i, dicionario[i])"
   ]
  },
  {
   "cell_type": "markdown",
   "metadata": {
    "id": "Gh_bK9vdfD3o"
   },
   "source": [
    "É possível obter chaves e valores separadamente.\n",
    "\n",
    "Para isso, usamos os métodos `keys()` e `values()`. "
   ]
  },
  {
   "cell_type": "code",
   "execution_count": null,
   "metadata": {
    "id": "8sVb0bArfD3o",
    "outputId": "b0fce8b9-0f1e-4671-f9f6-92bfb1110e54"
   },
   "outputs": [],
   "source": [
    "# acessando chaves e valores\n",
    "dicionario_novo.values()"
   ]
  },
  {
   "cell_type": "code",
   "execution_count": 15,
   "metadata": {
    "id": "FCSp2sh_fD3p",
    "outputId": "89c87114-434e-416e-92d9-c2207c0ccbea"
   },
   "outputs": [
    {
     "data": {
      "text/plain": [
       "dict_keys(['nome', 'idade', 'cor_favorita'])"
      ]
     },
     "execution_count": 15,
     "metadata": {},
     "output_type": "execute_result"
    }
   ],
   "source": [
    "dicionario_novo.keys()"
   ]
  },
  {
   "cell_type": "markdown",
   "metadata": {
    "id": "rGFYhE6gfD3p"
   },
   "source": [
    "E esses valores podem ser transformados em listas com a função `list()`"
   ]
  },
  {
   "cell_type": "code",
   "execution_count": null,
   "metadata": {
    "id": "FiFasJ8YfD3p",
    "outputId": "91b11d77-13f5-465f-d016-f235fab15e0f"
   },
   "outputs": [],
   "source": [
    "# tomando uma lista com chaves\n",
    "list(dicionario_novo.keys())"
   ]
  },
  {
   "cell_type": "markdown",
   "metadata": {
    "id": "zEd7gR17fD3p"
   },
   "source": [
    "Deixando todos os valores em uma unica lista, a partir da lista de listas.\n",
    "\n",
    "Esta lista terá todos os valores dentro do dicionario"
   ]
  },
  {
   "cell_type": "code",
   "execution_count": null,
   "metadata": {
    "colab": {
     "base_uri": "https://localhost:8080/"
    },
    "executionInfo": {
     "elapsed": 493,
     "status": "ok",
     "timestamp": 1633043003984,
     "user": {
      "displayName": "Hugo Costa",
      "photoUrl": "https://lh3.googleusercontent.com/a-/AOh14GgUbQL2prPPRBSUniscEyziUBCcQhkMBwc7LlcSPg=s64",
      "userId": "16387175713482853429"
     },
     "user_tz": 180
    },
    "id": "HGJr7Wr-fD3p",
    "outputId": "06be79ba-ecc4-4565-a875-ba29c7666839"
   },
   "outputs": [],
   "source": [
    "dicionario_frutas = {'frutas': 0}\n",
    "\n",
    "banana = 0\n",
    "maca = 0\n",
    "\n",
    "banana += 1\n",
    "dicionario_frutas['frutas'] += 1\n",
    "\n",
    "print(dicionario_frutas)\n"
   ]
  },
  {
   "cell_type": "markdown",
   "metadata": {
    "id": "ZHO3OQBzfD3q"
   },
   "source": [
    "____\n",
    "____\n",
    "____\n",
    "___"
   ]
  }
 ],
 "metadata": {
  "colab": {
   "name": "Aula 6 - tuplas, dicionários.ipynb",
   "provenance": []
  },
  "interpreter": {
   "hash": "c671d076e68ac5b2199b2bf3c03b21b630ca6d638ab8449d4baa5ae69774884d"
  },
  "kernelspec": {
   "display_name": "Python 3 (ipykernel)",
   "language": "python",
   "name": "python3"
  },
  "language_info": {
   "codemirror_mode": {
    "name": "ipython",
    "version": 3
   },
   "file_extension": ".py",
   "mimetype": "text/x-python",
   "name": "python",
   "nbconvert_exporter": "python",
   "pygments_lexer": "ipython3",
   "version": "3.9.7"
  }
 },
 "nbformat": 4,
 "nbformat_minor": 1
}
