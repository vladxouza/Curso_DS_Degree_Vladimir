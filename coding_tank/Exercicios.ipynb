{
 "cells": [
  {
   "cell_type": "markdown",
   "id": "0f3d9c64",
   "metadata": {},
   "source": [
    "# EXERCICIOS"
   ]
  },
  {
   "cell_type": "markdown",
   "id": "6e0c98bc",
   "metadata": {},
   "source": [
    "### WHILE 812"
   ]
  },
  {
   "cell_type": "code",
   "execution_count": 2,
   "id": "29d5b22c",
   "metadata": {},
   "outputs": [
    {
     "name": "stdout",
     "output_type": "stream",
     "text": [
      "Escreva um número de maior que 011\n",
      "66\n"
     ]
    }
   ],
   "source": [
    "# perguntar pra professora se quando faz um while pra não ter um input errado ele imediatamente condiciona a resposta do input\n",
    "# para a variável condicional do while e porque\n",
    "numero = int(input('Escreva um número de maior que 0'))\n",
    "\n",
    "while numero <= 0:\n",
    "    print ('Erro')\n",
    "    numero = int(input('Escreva um número de maior que 0')) \n",
    "    \n",
    "#     como sabe que aqui o input dentro do while vai cair dentro da variavel numero? okkk\n",
    "    \n",
    "soma = 0\n",
    "i = 0\n",
    "\n",
    "while i <= numero:\n",
    "    soma += i\n",
    "    i += 1\n",
    "print (soma)"
   ]
  },
  {
   "cell_type": "code",
   "execution_count": 4,
   "id": "7628d908",
   "metadata": {},
   "outputs": [
    {
     "name": "stdout",
     "output_type": "stream",
     "text": [
      "Escreva um número entre 10 e -109\n",
      "Escreva um número entre 10 e -108\n",
      "Escreva um número entre 10 e -10\n"
     ]
    },
    {
     "ename": "ValueError",
     "evalue": "invalid literal for int() with base 10: ''",
     "output_type": "error",
     "traceback": [
      "\u001b[1;31m---------------------------------------------------------------------------\u001b[0m",
      "\u001b[1;31mValueError\u001b[0m                                Traceback (most recent call last)",
      "\u001b[1;32m~\\AppData\\Local\\Temp/ipykernel_12064/475053961.py\u001b[0m in \u001b[0;36m<module>\u001b[1;34m\u001b[0m\n\u001b[0;32m      6\u001b[0m \u001b[1;33m\u001b[0m\u001b[0m\n\u001b[0;32m      7\u001b[0m     \u001b[0msoma\u001b[0m \u001b[1;33m=\u001b[0m \u001b[0msoma\u001b[0m \u001b[1;33m+\u001b[0m \u001b[0mnumero2\u001b[0m\u001b[1;33m\u001b[0m\u001b[1;33m\u001b[0m\u001b[0m\n\u001b[1;32m----> 8\u001b[1;33m     \u001b[0mnumero2\u001b[0m \u001b[1;33m=\u001b[0m \u001b[0mint\u001b[0m\u001b[1;33m(\u001b[0m\u001b[0minput\u001b[0m\u001b[1;33m(\u001b[0m\u001b[1;34m'Escreva um número entre 10 e -10'\u001b[0m\u001b[1;33m)\u001b[0m\u001b[1;33m)\u001b[0m\u001b[1;33m\u001b[0m\u001b[1;33m\u001b[0m\u001b[0m\n\u001b[0m\u001b[0;32m      9\u001b[0m \u001b[0mprint\u001b[0m \u001b[1;33m(\u001b[0m\u001b[0msoma\u001b[0m\u001b[1;33m)\u001b[0m\u001b[1;33m\u001b[0m\u001b[1;33m\u001b[0m\u001b[0m\n",
      "\u001b[1;31mValueError\u001b[0m: invalid literal for int() with base 10: ''"
     ]
    }
   ],
   "source": [
    "# perguntar como limitar as respostas erradas. While dentro de while?\n",
    "soma = 0\n",
    "numero2 = int(input('Escreva um número entre 10 e -10'))\n",
    "\n",
    "while  -10 < numero2 < 10: \n",
    "\n",
    "    soma = soma + numero2\n",
    "    numero2 = int(input('Escreva um número entre 10 e -10'))\n",
    "print (soma)\n"
   ]
  },
  {
   "cell_type": "code",
   "execution_count": 5,
   "id": "c53ee24a",
   "metadata": {},
   "outputs": [
    {
     "name": "stdout",
     "output_type": "stream",
     "text": [
      "Escreva um número entre 10 e -1015\n",
      "Escreva um número entre 10 e -1010\n",
      "Escreva um número entre 10 e -100\n",
      "25\n"
     ]
    }
   ],
   "source": [
    "soma = 0\n",
    "numero2 = int(input('Escreva um número entre 10 e -10'))\n",
    "\n",
    "while numero2 != 0:\n",
    "    while numero2 >= 11 and numero2 <= -11:\n",
    "        print ('Erro')\n",
    "        int(input('Escreva um número entre 10 e -10'))    \n",
    "    soma = soma + numero2\n",
    "    numero2 = int(input('Escreva um número entre 10 e -10'))\n",
    "    \n",
    "print (soma)\n"
   ]
  },
  {
   "cell_type": "code",
   "execution_count": 14,
   "id": "f39509cd",
   "metadata": {},
   "outputs": [
    {
     "name": "stdout",
     "output_type": "stream",
     "text": [
      "Insira um número maior que 0747\n",
      "os divisores de 747 são [1, 3, 9, 83, 249]\n",
      "o total de divisores de 747 é 5\n"
     ]
    }
   ],
   "source": [
    "# perguntar prof pq no if tem que ser j == 0 e não j = 0\n",
    "numero = int(input('Insira um número maior que 0'))\n",
    "lista = []\n",
    "i= 1\n",
    "while i < numero:\n",
    "    j = numero % i\n",
    "    if (j == 0):\n",
    "        lista.append(i)\n",
    "    i += 1\n",
    "print (f'os divisores de {numero} são {lista}')\n",
    "print (f'o total de divisores de {numero} é {len(lista)}')"
   ]
  },
  {
   "cell_type": "code",
   "execution_count": null,
   "id": "8c149113",
   "metadata": {},
   "outputs": [],
   "source": []
  },
  {
   "cell_type": "code",
   "execution_count": null,
   "id": "7b1b9347",
   "metadata": {},
   "outputs": [],
   "source": []
  },
  {
   "cell_type": "markdown",
   "id": "6bcd5369",
   "metadata": {},
   "source": [
    "## controle de fluxo em python"
   ]
  },
  {
   "cell_type": "code",
   "execution_count": 17,
   "id": "6e0bb749",
   "metadata": {},
   "outputs": [
    {
     "name": "stdout",
     "output_type": "stream",
     "text": [
      "Escreva um número220\n",
      "Escreva outro número220\n",
      "Os números são iguais\n"
     ]
    }
   ],
   "source": [
    "numero_4 = int(input('Escreva um número'))\n",
    "numero_5 = int(input('Escreva outro número'))\n",
    "\n",
    "if numero_4 > numero_5:\n",
    "    print (f'{numero_4} é maior que {numero_5}')\n",
    "elif numero_5 > numero_4:\n",
    "    print (f'{numero_5} é maior que {numero_4}')\n",
    "else:\n",
    "    print ('Os números são iguais')"
   ]
  },
  {
   "cell_type": "code",
   "execution_count": 22,
   "id": "bfa41792",
   "metadata": {},
   "outputs": [
    {
     "ename": "SyntaxError",
     "evalue": "invalid syntax (Temp/ipykernel_5056/2481270835.py, line 3)",
     "output_type": "error",
     "traceback": [
      "\u001b[1;36m  File \u001b[1;32m\"C:\\Users\\Vladimir\\AppData\\Local\\Temp/ipykernel_5056/2481270835.py\"\u001b[1;36m, line \u001b[1;32m3\u001b[0m\n\u001b[1;33m    if numero_5 % 2 = 0:\u001b[0m\n\u001b[1;37m                    ^\u001b[0m\n\u001b[1;31mSyntaxError\u001b[0m\u001b[1;31m:\u001b[0m invalid syntax\n"
     ]
    }
   ],
   "source": [
    "numero_5 = int(input('Escreva um número'))\n",
    "\n",
    "if numero_5 % 2 == 0:\n",
    "    print (f'{numero_5} é par')\n",
    "else:\n",
    "    print (f'{numero_5} é ímpar')"
   ]
  },
  {
   "cell_type": "code",
   "execution_count": 25,
   "id": "063bb03e",
   "metadata": {},
   "outputs": [
    {
     "name": "stdout",
     "output_type": "stream",
     "text": [
      "Escreva a primeira nota5\n",
      "Escreva a segunda nota5\n",
      "Escreva a terceira nota5\n",
      "Reprovado\n"
     ]
    }
   ],
   "source": [
    "nota1 = int(input('Escreva a primeira nota'))\n",
    "nota2 = int(input('Escreva a segunda nota'))\n",
    "nota3 = int(input('Escreva a terceira nota'))\n",
    "\n",
    "media = (nota1 + nota2 +nota3)/3\n",
    "\n",
    "if media >= 6:\n",
    "    print ('Aprovado')\n",
    "else:\n",
    "    print ('Reprovado')"
   ]
  },
  {
   "cell_type": "code",
   "execution_count": 29,
   "id": "c8121a0b",
   "metadata": {},
   "outputs": [
    {
     "name": "stdout",
     "output_type": "stream",
     "text": [
      "Escreva o salário original19000\n",
      "Antes do reajuste era R$ 19000\n",
      "O salário foi incrementado em 5.000000000000004%\n",
      "O salário foi incrementado em 950.0\n",
      "O novo salário é 19950.0\n"
     ]
    }
   ],
   "source": [
    "salario_original = int(input('Escreva o salário original'))\n",
    "\n",
    "if salario_original <= 2800:\n",
    "    novo_salario = (salario_original * 1.2)\n",
    "elif 2800 < salario_original <= 7000:\n",
    "    novo_salario = (salario_original * 1.15)\n",
    "elif 7000 < salario_original <= 15000:\n",
    "    novo_salario = (salario_original * 1.10)\n",
    "else:\n",
    "    novo_salario = (salario_original * 1.05)\n",
    "print (f'Antes do reajuste era R$ {salario_original}')\n",
    "print (f'O salário foi incrementado em {((novo_salario/salario_original)-1)*100}%')\n",
    "print (f'O salário foi incrementado em {novo_salario - salario_original}')\n",
    "print (f'O novo salário é {novo_salario}')"
   ]
  },
  {
   "cell_type": "markdown",
   "id": "725169eb",
   "metadata": {},
   "source": [
    "### FOR LOOP 812"
   ]
  },
  {
   "cell_type": "code",
   "execution_count": 4,
   "id": "1afd6b86",
   "metadata": {},
   "outputs": [
    {
     "name": "stdout",
     "output_type": "stream",
     "text": [
      "Informe um número inteiro maior que 06\n",
      "720\n"
     ]
    }
   ],
   "source": [
    "x = int(input('Informe um número inteiro maior que 0'))\n",
    "y = 1\n",
    "for numero in range (1, (x + 1)):\n",
    "    y = y * numero\n",
    "\n",
    "print (y)"
   ]
  },
  {
   "cell_type": "code",
   "execution_count": 19,
   "id": "4ac006b3",
   "metadata": {},
   "outputs": [
    {
     "name": "stdout",
     "output_type": "stream",
     "text": [
      "Informe um número inteiro maior que 06\n",
      "[6, 4, 2, 0, -2, -4, -6]\n"
     ]
    }
   ],
   "source": [
    "numero_usuario = int(input('Informe um número inteiro maior que 0'))\n",
    "lista = list(range(-(numero_usuario), numero_usuario + 1))\n",
    "pares = []\n",
    "for numero in lista:\n",
    "    if numero % 2 == 0:\n",
    "        pares.append(numero)\n",
    "pares_decres = pares[::-1]\n",
    "\n",
    "print (pares_decres)"
   ]
  },
  {
   "cell_type": "code",
   "execution_count": 22,
   "id": "b8a65410",
   "metadata": {},
   "outputs": [
    {
     "name": "stdout",
     "output_type": "stream",
     "text": [
      "Informe um número inteiro maior que 06\n",
      "*\n",
      "**\n",
      "***\n",
      "****\n",
      "*****\n",
      "******\n"
     ]
    }
   ],
   "source": [
    "x = int(input('Informe um número inteiro maior que 0'))\n",
    "\n",
    "for caracter in range (1, x + 1):\n",
    "    print (caracter * '*')"
   ]
  },
  {
   "cell_type": "markdown",
   "id": "e16a9afb",
   "metadata": {},
   "source": [
    "### LISTAS 812"
   ]
  },
  {
   "cell_type": "code",
   "execution_count": 26,
   "id": "0fe05ab5",
   "metadata": {},
   "outputs": [
    {
     "name": "stdout",
     "output_type": "stream",
     "text": [
      "['Carlos', 'Carmen', 'Joana', 'Maria', 'Jorge']\n",
      "[21, 22, 33, 55, 33]\n"
     ]
    }
   ],
   "source": [
    "lista = ['Carlos', 21, 'Carmen', 22, 'Joana', 33, 'Maria', 55, 'Jorge', 33]\n",
    "nomes = []\n",
    "idades = []\n",
    "\n",
    "for item in lista:\n",
    "    if type(item) == str:\n",
    "        nomes.append(item)\n",
    "    elif type (item) == int:\n",
    "        idades.append(item)\n",
    "        \n",
    "print(nomes)\n",
    "print(idades)\n"
   ]
  },
  {
   "cell_type": "code",
   "execution_count": 2,
   "id": "d5824f5d",
   "metadata": {
    "scrolled": true
   },
   "outputs": [
    {
     "name": "stdout",
     "output_type": "stream",
     "text": [
      "Escreva 10 números inteiros separados por vírgula1,2,3,4,5,6,7,8,9,666\n",
      "10\n",
      "<class 'list'>\n",
      "['1', '2', '3', '4', '5', '6', '7', '8', '9', '666']\n",
      "<class 'str'>\n",
      "[2, 4, 6, 8, 666]\n",
      "[1, 3, 5, 7, 9]\n"
     ]
    }
   ],
   "source": [
    "lista = input('Escreva 10 números inteiros separados por vírgula').split(',')\n",
    "ints = []\n",
    "\n",
    "for item in lista:\n",
    "    ints.append(int(item))\n",
    "    \n",
    "pares = []\n",
    "impares = []\n",
    "\n",
    "for numero_lista in ints:\n",
    "    if numero_lista % 2 == 0:\n",
    "        pares.append (numero_lista)\n",
    "    elif numero_lista % 2 != 0:\n",
    "        impares.append (numero_lista)\n",
    "print(pares)\n",
    "print(impares)"
   ]
  },
  {
   "cell_type": "code",
   "execution_count": 5,
   "id": "ad927863",
   "metadata": {},
   "outputs": [
    {
     "name": "stdout",
     "output_type": "stream",
     "text": [
      "Digite um número1\n",
      "Digite um número2\n",
      "Digite um número666\n",
      "Digite um número354\n",
      "Digite um número0\n",
      "4\n",
      "666\n",
      "1\n"
     ]
    }
   ],
   "source": [
    "numero = int(input('Digite um número'))\n",
    "lista1 = []\n",
    "while numero != 0:\n",
    "    lista1.append(numero)\n",
    "    numero = int(input('Digite um número'))\n",
    "\n",
    "print (len(lista1))\n",
    "print (max(lista1))\n",
    "print (min(lista1))"
   ]
  },
  {
   "cell_type": "markdown",
   "id": "0fdbeac7",
   "metadata": {},
   "source": [
    "### FUNÇÕES 812"
   ]
  },
  {
   "cell_type": "code",
   "execution_count": 12,
   "id": "23bb12c2",
   "metadata": {},
   "outputs": [
    {
     "name": "stdout",
     "output_type": "stream",
     "text": [
      "informe um número123\n",
      "321\n"
     ]
    }
   ],
   "source": [
    "numero =(input('informe um número'))\n",
    "\n",
    "def numero_inverso(valor):\n",
    "    listanumero = list(numero)\n",
    "    listanumeroinvertido = listanumero [::-1]\n",
    "    numeroinvertido = ''.join(listanumeroinvertido)\n",
    "    return int(numeroinvertido)\n",
    "resultado = numero_inverso(numero)\n",
    "print (resultado)\n",
    "    \n",
    "    "
   ]
  },
  {
   "cell_type": "code",
   "execution_count": 20,
   "id": "5e8eb5d7",
   "metadata": {},
   "outputs": [
    {
     "name": "stdout",
     "output_type": "stream",
     "text": [
      "informe um numero8\n",
      "1   2   3   4   5   6   7   8\n"
     ]
    }
   ],
   "source": [
    "def funcaonova(valor):\n",
    "    lista = []\n",
    "    for i in range(1, valor + 1):\n",
    "        lista.append(str(i))\n",
    "        if i < valor:\n",
    "            lista.append(' ')\n",
    "            lista.append(' ')\n",
    "            lista.append(' ')\n",
    "    nova_lista = ''.join(lista)\n",
    "    return print((nova_lista))\n",
    "numero = int(input('informe um numero'))\n",
    "funcaonova(numero)"
   ]
  },
  {
   "cell_type": "code",
   "execution_count": null,
   "id": "e995141c",
   "metadata": {},
   "outputs": [],
   "source": []
  },
  {
   "cell_type": "code",
   "execution_count": 35,
   "id": "dca58b58",
   "metadata": {},
   "outputs": [
    {
     "name": "stdout",
     "output_type": "stream",
     "text": [
      "informe um número-28\n",
      "False\n"
     ]
    }
   ],
   "source": [
    "def perfeito(valor):\n",
    "    lista = []\n",
    "    i= 1\n",
    "    while i < valor:\n",
    "        j = valor % i\n",
    "        if (j == 0):\n",
    "            lista.append(i)\n",
    "        i += 1\n",
    "    booleano = sum(lista) == valor\n",
    "    return booleano\n",
    "numero = int(input('informe um número'))\n",
    "resultado = perfeito(numero)\n",
    "print (resultado)"
   ]
  },
  {
   "cell_type": "markdown",
   "id": "db4101c7",
   "metadata": {},
   "source": [
    "### dicionarios"
   ]
  },
  {
   "cell_type": "code",
   "execution_count": 46,
   "id": "0b8c8783",
   "metadata": {},
   "outputs": [
    {
     "name": "stdout",
     "output_type": "stream",
     "text": [
      "<class 'dict'>\n",
      "informe seu nomeVladimir\n",
      "informe sua idade25\n",
      "informe seu emaila@a.com\n",
      "{'nome': ['Vladimir'], 'idade': ['25'], 'email': ['a@a.com']}\n"
     ]
    }
   ],
   "source": [
    "dicionario = {'nome':[],'idade':[], 'email':[]}\n",
    "print (type(dicionario))\n",
    "dicionario['nome'].append(input('informe seu nome'))\n",
    "dicionario['idade'].append(input ('informe sua idade'))\n",
    "dicionario ['email'].append(input('informe seu email'))\n",
    "\n",
    "print(dicionario)"
   ]
  },
  {
   "cell_type": "code",
   "execution_count": 47,
   "id": "a13208d5",
   "metadata": {},
   "outputs": [
    {
     "name": "stdout",
     "output_type": "stream",
     "text": [
      "informe número maior que 05\n",
      "informe número maior que 04\n",
      "informe número maior que 032\n",
      "informe número maior que 044\n",
      "informe número maior que 023\n",
      "informe número maior que 018\n",
      "informe número maior que 01\n",
      "informe número maior que 08\n",
      "informe número maior que 07\n",
      "informe número maior que 05\n",
      "{'pares': [0, 2, 4, 6, 8], 'impares': [1, 3, 5, 7, 9]}\n"
     ]
    }
   ],
   "source": [
    "D = {'pares': [], 'impares':[]}\n",
    "\n",
    "for i in range(10):\n",
    "    num = int(input('informe número maior que 0'))\n",
    "    j = i % 2\n",
    "    if j == 0:\n",
    "        D['pares'].append(i)\n",
    "    elif j != 0:\n",
    "        D['impares'].append(i)\n",
    "print (D)"
   ]
  },
  {
   "cell_type": "code",
   "execution_count": 53,
   "id": "dd6162a2",
   "metadata": {},
   "outputs": [
    {
     "name": "stdout",
     "output_type": "stream",
     "text": [
      "fale uma frasebom dia dia bom bom cachorro\n",
      "{'bom': 3, 'dia': 2, 'cachorro': 1}\n"
     ]
    }
   ],
   "source": [
    "frase = (input('fale uma frase')).split()\n",
    "dicio = {}\n",
    "for item in frase:\n",
    "    if item not in dicio.keys():\n",
    "        dicio[item] = 1\n",
    "    else:\n",
    "        dicio[item] += 1\n",
    "print (dicio)"
   ]
  },
  {
   "cell_type": "code",
   "execution_count": null,
   "id": "e657ab23",
   "metadata": {},
   "outputs": [],
   "source": []
  }
 ],
 "metadata": {
  "kernelspec": {
   "display_name": "Python 3 (ipykernel)",
   "language": "python",
   "name": "python3"
  },
  "language_info": {
   "codemirror_mode": {
    "name": "ipython",
    "version": 3
   },
   "file_extension": ".py",
   "mimetype": "text/x-python",
   "name": "python",
   "nbconvert_exporter": "python",
   "pygments_lexer": "ipython3",
   "version": "3.9.7"
  }
 },
 "nbformat": 4,
 "nbformat_minor": 5
}
