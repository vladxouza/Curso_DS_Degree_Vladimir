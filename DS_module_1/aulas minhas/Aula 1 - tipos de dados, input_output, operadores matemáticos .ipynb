{
 "cells": [
  {
   "cell_type": "markdown",
   "metadata": {},
   "source": [
    "# Aula 1 - Tipos de dados, input/output, operadores matemáticos\n",
    "\n",
    "Na aula de hoje, vamos explorar os seguintes tópicos em Python:\n",
    "\n",
    "- 1) Tipos de variáveis;\n",
    "- 2) Comentários;\n",
    "- 3) Saída (output);\n",
    "- 4) Entrada (input);\n",
    "- 5) Operadores Matemáticos;\n",
    "\n",
    "_______\n"
   ]
  },
  {
   "cell_type": "markdown",
   "metadata": {},
   "source": [
    "____\n",
    "____\n",
    "____"
   ]
  },
  {
   "cell_type": "markdown",
   "metadata": {},
   "source": [
    "## 1) Tipos de variáveis\n",
    "\n",
    "Em python, temos 4 **tipos** principais de dados básicos"
   ]
  },
  {
   "cell_type": "markdown",
   "metadata": {},
   "source": [
    "~ Tipo **inteiros** (int): são números inteiros, isto é, sem casas decimais.\n",
    "\n",
    "- Ex:\n",
    "    - 1 \n",
    "    - 456\n",
    "    - 124023\n",
    "    - 0\n",
    "    - -2 (números to tipo int podem ser negativos!)\n",
    "\n",
    "No Jupyter, números inteiros são destacados em cor verde clara"
   ]
  },
  {
   "cell_type": "markdown",
   "metadata": {},
   "source": [
    "Exemplo: a idade de uma pessoa em anos, número de filhos de uma pessoa, etc."
   ]
  },
  {
   "cell_type": "code",
   "execution_count": null,
   "metadata": {},
   "outputs": [],
   "source": []
  },
  {
   "cell_type": "markdown",
   "metadata": {},
   "source": [
    "~ Tipo **float** (float): são números com casas decimais (**em python usamos ponto ao invés de vírgula para indicar cadas decimais!**)\n",
    "\n",
    "- Ex:\n",
    "    - 3.1415\n",
    "    - 1.78\n",
    "    - 10.0 (essa é a representação float de um número inteiro, 10) \n",
    "    - -42.73 (números do tipo float podem ser negativos!)\n",
    "\n",
    "No Jupyter, números float também são destacados em cor verde clara"
   ]
  },
  {
   "cell_type": "markdown",
   "metadata": {},
   "source": [
    "Exemplo: a altura de uma pessoa em metros"
   ]
  },
  {
   "cell_type": "code",
   "execution_count": null,
   "metadata": {},
   "outputs": [],
   "source": []
  },
  {
   "cell_type": "markdown",
   "metadata": {},
   "source": [
    "~ Tipo **string** (str): são textos, que devem ser indicados entre aspas duplas \" \" ou aspas simples ' ' \n",
    "\n",
    "- Ex:\n",
    "    - \"Olá, mundo!\" (para strings, podemos usar pontuação e acentuação sem problemas!)\n",
    "    - \"Nos encontramos às 9h30 amanhã?\" (strings podem conter numeros!)\n",
    "    - \"100\" (neste caso, é uma string que representa um numero inteiro)\n",
    "    - \"3.1415\" (neste caso, é uma string que representa um numero float)\n",
    "\n",
    "No Jupyter, strings são destacadas em cor vermelha"
   ]
  },
  {
   "cell_type": "markdown",
   "metadata": {},
   "source": [
    "Exemplo: uma frase de despedida e um encontro marcado"
   ]
  },
  {
   "cell_type": "code",
   "execution_count": null,
   "metadata": {},
   "outputs": [],
   "source": []
  },
  {
   "cell_type": "markdown",
   "metadata": {},
   "source": [
    "~ Tipo **booleanos** (bool): Verdadeiro (True) ou Falso (False)\n",
    "\n",
    "- Únicos dois valores possíveis: **True** ou **False**\n",
    "\n",
    "Vamos entender a enorme importância deste tipo de dado mais a frente no curso (operações lógicas, estruturas condicionais, etc.)\n",
    "\n",
    "No Jupyter, bools são destacados em cor verde escuro"
   ]
  },
  {
   "cell_type": "code",
   "execution_count": null,
   "metadata": {},
   "outputs": [],
   "source": []
  },
  {
   "cell_type": "markdown",
   "metadata": {},
   "source": [
    "____\n",
    "____\n",
    "____"
   ]
  },
  {
   "cell_type": "markdown",
   "metadata": {},
   "source": [
    "## 2) Comentários\n",
    "\n",
    "São utilizados para melhor explicar um trecho de código.\n",
    "\n",
    "Os comentários não são executados pelo Python. \n",
    "\n",
    "Tudo o que está comentado é ignorado, serve apenas para guiar o usuário.\n",
    "\n",
    "É indicado com o uso da #, e em cor azul marinho no Jupyter\n",
    "\n",
    "- Atalho: CTRL + / : A LINHA VIRA UM COMENTÁRIO"
   ]
  },
  {
   "cell_type": "code",
   "execution_count": null,
   "metadata": {},
   "outputs": [],
   "source": []
  },
  {
   "cell_type": "markdown",
   "metadata": {},
   "source": [
    "Embora você possa fazer comentários de várias linhas apenas colocando o # na frente de cada linha:"
   ]
  },
  {
   "cell_type": "code",
   "execution_count": null,
   "metadata": {},
   "outputs": [],
   "source": [
    "# esse é um comentário muito grande, e por isso pode ser interessante\n",
    "# quebrar ele em várias linhas, para ficar mais fácil de ler\n",
    "# um comentário grande e complexo como esse no meio do código\n"
   ]
  },
  {
   "cell_type": "markdown",
   "metadata": {},
   "source": [
    "Também é possível fazer comentários de várias linhas utilizando três aspas:"
   ]
  },
  {
   "cell_type": "code",
   "execution_count": null,
   "metadata": {},
   "outputs": [],
   "source": [
    "\"\"\"\n",
    "esse é um comentário muito grande, e por isso pode ser interessante\n",
    "quebrar ele em várias linhas, para ficar mais fácil de ler\n",
    "um comentário grande e complexo como esse no meio do código\n",
    "\n",
    "\"\"\""
   ]
  },
  {
   "cell_type": "markdown",
   "metadata": {},
   "source": [
    "Note que estes \"comentários\" feitos com 3 aspas na verdade são strings de muitas linhas: mas o Python irá ignorá-las caso elas não sejá atribuídas a uma variável, funcionando, assim, como comentário.\n",
    "\n",
    "De qualquer forma, o modo acima, com um # em cada linha, é preferível!"
   ]
  },
  {
   "cell_type": "markdown",
   "metadata": {},
   "source": [
    "____\n",
    "____\n",
    "____"
   ]
  },
  {
   "cell_type": "markdown",
   "metadata": {},
   "source": [
    "## 3) Saída (output)\n",
    "\n",
    "É como o computador **apresenta dados de saída** para um usuário.\n",
    "\n",
    "Utilizamos a função print() para exibir o conteúdo na tela"
   ]
  },
  {
   "cell_type": "code",
   "execution_count": null,
   "metadata": {},
   "outputs": [],
   "source": []
  },
  {
   "cell_type": "markdown",
   "metadata": {},
   "source": [
    "Podemos imprimir diversas strings ou diversas variáveis em sequência, utilizando vírgula para separá-las dentro do print:"
   ]
  },
  {
   "cell_type": "code",
   "execution_count": null,
   "metadata": {},
   "outputs": [],
   "source": []
  },
  {
   "cell_type": "markdown",
   "metadata": {},
   "source": [
    "Um caractere especial do print é o \"\\n\", que serve para fazer a quebra de linha:"
   ]
  },
  {
   "cell_type": "code",
   "execution_count": null,
   "metadata": {},
   "outputs": [],
   "source": []
  },
  {
   "cell_type": "markdown",
   "metadata": {},
   "source": [
    "____\n",
    "____\n",
    "___"
   ]
  },
  {
   "cell_type": "markdown",
   "metadata": {},
   "source": [
    "## 4) Entrada (input)\n",
    "\n",
    "É como o computador **coleta dados de entrada** de um usuário através do teclado.\n",
    "\n",
    "Utilizamos a função input() para receber os dados do usuário, que deve digitá-los\n",
    "\n",
    "Opcionalmente, podemos colocar uma frase de instrução ao usuário na função input, dentro dos parênteses"
   ]
  },
  {
   "cell_type": "code",
   "execution_count": null,
   "metadata": {},
   "outputs": [],
   "source": []
  },
  {
   "cell_type": "markdown",
   "metadata": {},
   "source": [
    "__IMPORTANTE: a função input() toma o que o usuário digitou como uma string! Se o usuário digitar algum número, e algum cálculo for feito com esse número, o número deve ser transformado em int ou float!__\n",
    "\n",
    "A melhor forma de fazer isso, é já transformar o resultado da função input em float.\n",
    "\n",
    "Fazemos isso com uma espécie de sanduíche, colocando a função input() dentro da função float(), que transforma uma string em um float!\n",
    "\n",
    "OBS: é melhor transformar o input em float ao invés de int, pois o float é um tipo numérico mais genérico, apesar de ocupar (um pouco) mais memória"
   ]
  },
  {
   "cell_type": "code",
   "execution_count": null,
   "metadata": {},
   "outputs": [],
   "source": []
  },
  {
   "cell_type": "markdown",
   "metadata": {},
   "source": [
    "____\n",
    "____\n",
    "____"
   ]
  },
  {
   "cell_type": "markdown",
   "metadata": {},
   "source": [
    "## 5) Operadores Matemáticos\n",
    "\n",
    "Em Python, temos as principais operações matemáticas, com os respectivos símbolos:\n",
    "\n",
    "- soma: (+)\n",
    "\n",
    "- subtração: (-)\n",
    "\n",
    "- multiplicação: (*)\n",
    "\n",
    "- divisão: (/)\n",
    "\n",
    "- potência: (**)\n",
    "\n",
    "Além disso, temos duas operações especiais:\n",
    "\n",
    "- divisão inteira: (//) retorna a parte inteira da divisão entre dois números\n",
    "\n",
    "- resto da divisão: (%) se lê \"mod\", e retorna o resto da divisão entre dois números"
   ]
  },
  {
   "cell_type": "code",
   "execution_count": null,
   "metadata": {},
   "outputs": [],
   "source": []
  },
  {
   "cell_type": "markdown",
   "metadata": {},
   "source": [
    "OBS: o principal uso do operador resto da divisão (%) é para avaliar se um número é par ou impar:\n",
    "\n",
    "- se o resto da divisão de um número por 2 **É ZERO**, ele é par;\n",
    "- se o resto da divisão de um número por 2 **É UM**, ele é ímpar;\n"
   ]
  }
 ],
 "metadata": {
  "kernelspec": {
   "display_name": "Python 3",
   "language": "python",
   "name": "python3"
  },
  "language_info": {
   "codemirror_mode": {
    "name": "ipython",
    "version": 3
   },
   "file_extension": ".py",
   "mimetype": "text/x-python",
   "name": "python",
   "nbconvert_exporter": "python",
   "pygments_lexer": "ipython3",
   "version": "3.8.3"
  }
 },
 "nbformat": 4,
 "nbformat_minor": 4
}
