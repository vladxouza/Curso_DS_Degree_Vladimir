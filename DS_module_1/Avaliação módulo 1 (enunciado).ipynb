{
 "cells": [
  {
   "cell_type": "markdown",
   "metadata": {},
   "source": [
    "# Avaliação módulo 1 - Degree Data Science\n",
    "\n",
    "Na empresa em que você trabalha foi solicitada a implementação de um sistema de cadastro dos fornecedores. As informações que devem ser cadastradas são:\n",
    "\n",
    "- Código do fornecedor;\n",
    "- Nome do fornecedor;\n",
    "- Telefone do fornecedor;\n",
    "- Email do fornecedor.\n",
    "\n",
    "Para isso, você deverá criar um script para armazenar essas informações em alguma estrutura de dados.\n",
    "\n",
    "Também como parte do sistema de cadastro, é necessário criar uma \"interface de navegação\" pelo sistema, que tenha as seguintes funcionalidades:\n",
    "\n",
    "- Permite a exibição (usando o `print`) de todas as informaçoes de contatos específicos, a partir da busca pelo código do fornecedor;\n",
    "- Permite a remoção e adição de fornecedores à estrutura de cadastro.\n",
    "\n",
    "Requisitos:\n",
    "\n",
    "- Requisito #1 - Não existe um limite para fornecedores cadastrados, portanto você deverá permitir que o usuário cadastre a quantidade que desejar.\n",
    "- Requisito #2 - Crie pelo menos uma função em seu script. Você deverá escolher pelo menos uma tarefa do seu script e implementar em uma função para chamá-la dentro da sua lógica de cadastro.\n",
    "- Requisito #3 - Crie pelo menos uma verificação em seu código, por exemplo: Se o dicionário estiver vazio, não permita a opção remover.\n",
    "\n",
    "Tópicos avaliados:\n",
    "\n",
    "- Variáveis;\n",
    "- Tipos de dados;\n",
    "- Operadores aritméticos;\n",
    "- I/O de dados;\n",
    "- Expressões lógicas e condicionais;\n",
    "- Laços de repetição;\n",
    "- Listas e dicionários;\n",
    "- Funções.\n"
   ]
  },
  {
   "cell_type": "code",
   "execution_count": 8,
   "metadata": {},
   "outputs": [],
   "source": [
    "# pede os dados para inserir na base de cadastro. Ela que inicia o cadastro e tem os loops de limitação\n",
    "def inserir():\n",
    "    a = int(input('Digite o código'))\n",
    "    while a in cadastro['codigo']:\n",
    "        print('código já cadastrado, escolha outro')\n",
    "        a = int(input('Digite o código'))\n",
    "        \n",
    "    b = str(input('Digite o nome'))\n",
    "    \n",
    "    c = int(input('digite o telefone')) \n",
    "    \n",
    "    d = str(input('digite o email'))\n",
    "    while '@' not in d:\n",
    "        print('email errado')\n",
    "        d = str(input('digite o email'))\n",
    "        \n",
    "    inserir_2(a,b,c,d)\n",
    "\n",
    "# é acionada ao final da inserir() e da append no dict\n",
    "def inserir_2(e,f,g,h):\n",
    "    cadastro['codigo'].append((e))\n",
    "    cadastro['nome'].append((f))\n",
    "    cadastro['telefone'].append((g))\n",
    "    cadastro['email'].append((h))\n",
    "    \n",
    "    print (cadastro)\n",
    "\n",
    "# responsavel por buscar os dados da pessoa a partir do código\n",
    "def buscar(codigo):\n",
    "    idx_codigo = cadastro['codigo'].index(codigo)\n",
    "        \n",
    "    dados = [v[idx_codigo] for v in cadastro.values()]\n",
    "    \n",
    "    print(dados)\n",
    "\n",
    "\n",
    "# remove um cadastro a partir do código de cliente\n",
    "def remover(codigo):\n",
    "\n",
    "    idx = cadastro['codigo'].index(codigo)\n",
    "\n",
    "    cadastro['codigo'].pop(idx)\n",
    "    cadastro['nome'].pop(idx)\n",
    "    cadastro['telefone'].pop(idx)\n",
    "    cadastro['email'].pop(idx)\n",
    "\n",
    "# cadastro inicial\n",
    "cadastro = {'codigo': [1, 2],\n",
    "            'nome': ['Vladimir', 'André'],\n",
    "            'telefone': [995525252, 985472258],\n",
    "            'email':['a@a.com.br', 'b@b.com.br']}\n",
    "\n",
    "\n",
    "        \n",
    "        \n",
    "        \n",
    "        \n",
    "        \n"
   ]
  },
  {
   "cell_type": "code",
   "execution_count": 9,
   "metadata": {},
   "outputs": [],
   "source": [
    "remover(2)"
   ]
  },
  {
   "cell_type": "code",
   "execution_count": 10,
   "metadata": {},
   "outputs": [
    {
     "name": "stdout",
     "output_type": "stream",
     "text": [
      "Digite o código2\n",
      "Digite o nomeSandra\n",
      "digite o telefone654654\n",
      "digite o emailc@c.com.br\n",
      "{'codigo': [1, 2], 'nome': ['Vladimir', 'Sandra'], 'telefone': [995525252, 654654], 'email': ['a@a.com.br', 'c@c.com.br']}\n"
     ]
    }
   ],
   "source": [
    "inserir()"
   ]
  },
  {
   "cell_type": "code",
   "execution_count": 14,
   "metadata": {},
   "outputs": [
    {
     "data": {
      "text/plain": [
       "{'codigo': [1, '2'],\n",
       " 'nome': ['Vladimir', 'Sandra'],\n",
       " 'telefone': ['995525252', '49845654'],\n",
       " 'email': ['a@a.com.br', 'd@d.com.br']}"
      ]
     },
     "execution_count": 14,
     "metadata": {},
     "output_type": "execute_result"
    }
   ],
   "source": [
    "cadastro"
   ]
  },
  {
   "cell_type": "code",
   "execution_count": 11,
   "metadata": {},
   "outputs": [
    {
     "name": "stdout",
     "output_type": "stream",
     "text": [
      "[2, 'Sandra', 654654, 'c@c.com.br']\n"
     ]
    }
   ],
   "source": [
    "buscar(2)"
   ]
  },
  {
   "cell_type": "code",
   "execution_count": null,
   "metadata": {},
   "outputs": [],
   "source": []
  }
 ],
 "metadata": {
  "kernelspec": {
   "display_name": "Python 3",
   "language": "python",
   "name": "python3"
  },
  "language_info": {
   "codemirror_mode": {
    "name": "ipython",
    "version": 3
   },
   "file_extension": ".py",
   "mimetype": "text/x-python",
   "name": "python",
   "nbconvert_exporter": "python",
   "pygments_lexer": "ipython3",
   "version": "3.8.8"
  }
 },
 "nbformat": 4,
 "nbformat_minor": 4
}
