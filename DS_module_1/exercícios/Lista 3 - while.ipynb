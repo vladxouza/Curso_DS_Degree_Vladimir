{
 "cells": [
  {
   "cell_type": "markdown",
   "metadata": {},
   "source": [
    "# Lista 3 - while"
   ]
  },
  {
   "cell_type": "markdown",
   "metadata": {},
   "source": [
    "1. Faça um programa que peça ao usuário um número e imprima todos os números de um até o número dado. Exemplo: digite: 5, imprime: 1 2 3 4 5"
   ]
  },
  {
   "cell_type": "code",
   "execution_count": 2,
   "metadata": {},
   "outputs": [
    {
     "name": "stdout",
     "output_type": "stream",
     "text": [
      "numero5\n",
      "[1, 2, 3, 4, 5]\n"
     ]
    }
   ],
   "source": [
    "x = int(input('numero'))\n",
    "j = []\n",
    "for i in range(x):\n",
    "    j.append(i + 1)\n",
    "\n",
    "print (j)"
   ]
  },
  {
   "cell_type": "markdown",
   "metadata": {},
   "source": [
    "2. Peça ao usuário para digitar um número n e some todos os números de 1 a n."
   ]
  },
  {
   "cell_type": "code",
   "execution_count": 6,
   "metadata": {},
   "outputs": [
    {
     "name": "stdout",
     "output_type": "stream",
     "text": [
      "numero4\n",
      "10\n"
     ]
    }
   ],
   "source": [
    "x = int(input('numero'))\n",
    "j = 0\n",
    "for i in range(x+1):\n",
    "    j = i + j\n",
    "    \n",
    "print(j)"
   ]
  },
  {
   "cell_type": "markdown",
   "metadata": {},
   "source": [
    "3. Peça ao usuário para digitar um número e imprima o fatorial de n."
   ]
  },
  {
   "cell_type": "code",
   "execution_count": 3,
   "metadata": {},
   "outputs": [
    {
     "name": "stdout",
     "output_type": "stream",
     "text": [
      "numero6\n",
      "720\n"
     ]
    }
   ],
   "source": [
    "x = int(input('numero'))\n",
    "i = 1\n",
    "k = 1\n",
    "while i <= x:\n",
    "    k = i * k\n",
    "    i += 1\n",
    "\n",
    "print (k)\n",
    "    "
   ]
  },
  {
   "cell_type": "markdown",
   "metadata": {},
   "source": [
    "4. Faça um programa que imprima a tabuada do 9 (de 9\\*1 a 9\\*10) usando loops."
   ]
  },
  {
   "cell_type": "code",
   "execution_count": 4,
   "metadata": {},
   "outputs": [
    {
     "name": "stdout",
     "output_type": "stream",
     "text": [
      "9\n",
      "18\n",
      "27\n",
      "36\n",
      "45\n",
      "54\n",
      "63\n",
      "72\n",
      "81\n",
      "90\n"
     ]
    }
   ],
   "source": [
    "i = 1\n",
    "while i <= 10:\n",
    "    print(9 * i)\n",
    "    i += 1"
   ]
  },
  {
   "cell_type": "markdown",
   "metadata": {},
   "source": [
    "5. Faça um programa que recebe um número inteiro do usuário e imprime na tela a quantidade de divisores desse número e quais são eles.\n",
    "\n"
   ]
  },
  {
   "cell_type": "code",
   "execution_count": 17,
   "metadata": {},
   "outputs": [
    {
     "name": "stdout",
     "output_type": "stream",
     "text": [
      "numero5\n",
      "[1, 5, 'é primo']\n"
     ]
    }
   ],
   "source": [
    "x = int(input('numero'))\n",
    "i = 1\n",
    "divisores = []\n",
    "while i <= x:\n",
    "    if x % i == 0:\n",
    "        divisores.append(i)\n",
    "    i += 1\n",
    "if len(divisores) == 2:\n",
    "    divisores.append('é primo')\n",
    "print(divisores)\n",
    "        "
   ]
  },
  {
   "cell_type": "markdown",
   "metadata": {},
   "source": [
    "6. Faça um programa, usando loops, que peça para um usuário digitar um número e que só finaliza quando o usuário digitar 0. Ao final imprima a soma de todos os números digitados."
   ]
  },
  {
   "cell_type": "code",
   "execution_count": 20,
   "metadata": {},
   "outputs": [
    {
     "name": "stdout",
     "output_type": "stream",
     "text": [
      "numero5\n",
      "numero6\n",
      "numero4\n",
      "numero0\n",
      "15\n"
     ]
    }
   ],
   "source": [
    "x = int(input('numero'))\n",
    "i = 0\n",
    "while x != 0:\n",
    "    i += x\n",
    "    x = int(input('numero'))\n",
    "print (i)"
   ]
  },
  {
   "cell_type": "markdown",
   "metadata": {},
   "source": [
    "7. Faça um programa que sorteia um número N e peça para o usuário adivinhar o número sorteado. A cada resposta errada, o seu programa deve imprimir um aviso dizendo que a resposta está errada e pedir novamente uma resposta ao usuário."
   ]
  },
  {
   "cell_type": "code",
   "execution_count": 30,
   "metadata": {},
   "outputs": [
    {
     "name": "stdout",
     "output_type": "stream",
     "text": [
      "numero1\n",
      "vc errou\n",
      "numero2\n",
      "vc adivinhou o numero 2\n"
     ]
    }
   ],
   "source": [
    "import random\n",
    "\n",
    "y = random.randint(1,10)\n",
    "x = int(input('numero'))\n",
    "while True:\n",
    "    if x == y:\n",
    "        print (f'vc adivinhou o numero {y}')\n",
    "        break\n",
    "    else:\n",
    "        print('vc errou')\n",
    "        x = int(input('numero'))\n",
    "\n"
   ]
  },
  {
   "cell_type": "markdown",
   "metadata": {},
   "source": [
    "8. Faça um programa que peça para o usuário digitar a idade, o salário e o sexo de uma pessoa até que as entradas digitadas sejam válidas.\n",
    "    a. Idade: entre 0 e 150;\n",
    "    b. Salário: maior que 0;\n",
    "    c. Sexo: M, F ou Outro."
   ]
  },
  {
   "cell_type": "code",
   "execution_count": null,
   "metadata": {},
   "outputs": [],
   "source": []
  },
  {
   "cell_type": "markdown",
   "metadata": {},
   "source": [
    "__________________\n",
    "__________________\n",
    "\n",
    "__________________\n",
    "__________________\n"
   ]
  },
  {
   "cell_type": "markdown",
   "metadata": {},
   "source": [
    "# DESAFIOS"
   ]
  },
  {
   "cell_type": "markdown",
   "metadata": {},
   "source": [
    "1. Calcule a soma de até mil termos da série 1 + 1/2 + 1/4 + 1/8 + 1/16 + ...\n",
    "Dica: Use três variáveis:\n",
    "um contador, que começa em zero;\n",
    "uma variável para a soma de todos os termos, que também começa em zero;\n",
    "uma variável para cada termo, que começa em 1 e a cada loop é dividida por 2.\n",
    "A repetição da soma de mil termos pode ser feita com a função while contador < 1000.\n"
   ]
  },
  {
   "cell_type": "code",
   "execution_count": 37,
   "metadata": {},
   "outputs": [
    {
     "name": "stdout",
     "output_type": "stream",
     "text": [
      "2.0\n"
     ]
    }
   ],
   "source": [
    "i = 1\n",
    "j = 0\n",
    "n = 1\n",
    "\n",
    "\n",
    "while i < 1000:\n",
    "    j = j + 1/n\n",
    "    n = n * 2\n",
    "    i += 1\n",
    "    \n",
    "print(j)"
   ]
  },
  {
   "cell_type": "markdown",
   "metadata": {},
   "source": [
    "\n",
    "\n",
    "2. Super Desafio! - Calcule a soma de mil termos dos inversos dos fatoriais: 1/(1!) + 1/(2!) + 1/(3!) + 1/(4!) + ...\n",
    "Dica: Assim como no exercício anterior use três variáveis: um contador; uma variável para a soma; e uma variável para os termos.\n",
    "Lembre-se de que 4! = 4\\*3\\*2\\*1 que também é igual a 4\\*3!."
   ]
  },
  {
   "cell_type": "code",
   "execution_count": 41,
   "metadata": {},
   "outputs": [
    {
     "name": "stdout",
     "output_type": "stream",
     "text": [
      "1.7182818284590455\n"
     ]
    }
   ],
   "source": [
    "i = 1\n",
    "j = 0\n",
    "n = 1\n",
    "\n",
    "\n",
    "while i < 1000:\n",
    "    n = n * i\n",
    "    j = j + 1/(n)\n",
    "    i += 1\n",
    "    \n",
    "print(j)"
   ]
  },
  {
   "cell_type": "code",
   "execution_count": null,
   "metadata": {},
   "outputs": [],
   "source": []
  }
 ],
 "metadata": {
  "kernelspec": {
   "display_name": "Python 3",
   "language": "python",
   "name": "python3"
  },
  "language_info": {
   "codemirror_mode": {
    "name": "ipython",
    "version": 3
   },
   "file_extension": ".py",
   "mimetype": "text/x-python",
   "name": "python",
   "nbconvert_exporter": "python",
   "pygments_lexer": "ipython3",
   "version": "3.8.8"
  }
 },
 "nbformat": 4,
 "nbformat_minor": 4
}
