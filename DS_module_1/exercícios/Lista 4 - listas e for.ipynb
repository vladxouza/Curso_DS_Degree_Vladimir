{
 "cells": [
  {
   "cell_type": "markdown",
   "metadata": {},
   "source": [
    "# Lista 4 - listas e for"
   ]
  },
  {
   "cell_type": "markdown",
   "metadata": {},
   "source": [
    "1.Crie uma lista qualquer e faça um programa que imprima cada elemento da lista usando o for."
   ]
  },
  {
   "cell_type": "code",
   "execution_count": 2,
   "metadata": {},
   "outputs": [
    {
     "name": "stdout",
     "output_type": "stream",
     "text": [
      "1\n",
      "2\n",
      "3\n",
      "4\n"
     ]
    }
   ],
   "source": [
    "lista = [1,2,3,4]\n",
    "\n",
    "for item in lista:\n",
    "    print(item)"
   ]
  },
  {
   "cell_type": "markdown",
   "metadata": {},
   "source": [
    "2.Faça um programa que imprima todos os itens de uma lista usando while e compare com o exercício 1. \n"
   ]
  },
  {
   "cell_type": "code",
   "execution_count": 3,
   "metadata": {},
   "outputs": [
    {
     "name": "stdout",
     "output_type": "stream",
     "text": [
      "1\n",
      "2\n",
      "3\n",
      "4\n"
     ]
    }
   ],
   "source": [
    "i = 0\n",
    "while i < len(lista):\n",
    "    print(lista[i])\n",
    "    i += 1"
   ]
  },
  {
   "cell_type": "markdown",
   "metadata": {},
   "source": [
    "\n",
    "3.Faça um programa que peça para o usuário digitar um número n e imprima uma lista com todos os números de 0 a n-1. Exemplo: se o usuário digitar 5, o programa deve imprimir [0, 1, 2, 3, 4] \n",
    "\n"
   ]
  },
  {
   "cell_type": "code",
   "execution_count": 9,
   "metadata": {
    "scrolled": true
   },
   "outputs": [
    {
     "name": "stdout",
     "output_type": "stream",
     "text": [
      "numero5\n",
      "[0, 1, 2, 3, 4]\n"
     ]
    }
   ],
   "source": [
    "num = int(input('numero'))\n",
    "lista = []\n",
    "\n",
    "for i in range(0,num):\n",
    "    lista.append(i)\n",
    "\n",
    "print(lista)\n",
    "\n",
    "\n",
    "# perguntar prof\n",
    "\n",
    "lista = [i for i in range(0, num)]"
   ]
  },
  {
   "cell_type": "markdown",
   "metadata": {},
   "source": [
    "4.Faça um programa que olhe todos os itens de uma lista e diga quantos deles são pares. \n",
    "\n"
   ]
  },
  {
   "cell_type": "code",
   "execution_count": 54,
   "metadata": {},
   "outputs": [
    {
     "data": {
      "text/plain": [
       "[2, 4, 6]"
      ]
     },
     "execution_count": 54,
     "metadata": {},
     "output_type": "execute_result"
    }
   ],
   "source": [
    "# se tem um if só ele vai ao fim. Com mais if e else eles vão no começo\n",
    "\n",
    "lista = [1,2,3,4,5,6,7]\n",
    "\n",
    "par = 0\n",
    "\n",
    "lista1 = [i for i in lista if i % 2 == 0 ]\n",
    "\n",
    "lista1"
   ]
  },
  {
   "cell_type": "markdown",
   "metadata": {},
   "source": [
    "5.Faça um programa que imprima o maior número de uma lista, sem usar o método max().\n"
   ]
  },
  {
   "cell_type": "code",
   "execution_count": 14,
   "metadata": {},
   "outputs": [
    {
     "name": "stdout",
     "output_type": "stream",
     "text": [
      "9\n"
     ]
    }
   ],
   "source": [
    "lista = [1,2,9,3,4,5,6,7]\n",
    "x = 0\n",
    "\n",
    "for i in lista:\n",
    "    if i > x:\n",
    "        x = i\n",
    "print (x)\n"
   ]
  },
  {
   "cell_type": "markdown",
   "metadata": {},
   "source": [
    "\n",
    "6.Agora usando o método max() faça um programa que imprima os três maiores números de uma lista.  Dica: Use o método próprio de listas .remove(). \n",
    "\n"
   ]
  },
  {
   "cell_type": "code",
   "execution_count": 16,
   "metadata": {},
   "outputs": [
    {
     "name": "stdout",
     "output_type": "stream",
     "text": [
      "[7, 6, 5]\n"
     ]
    }
   ],
   "source": [
    "lista = [1,2,3,4,5,6,7]\n",
    "maxi = []\n",
    "for i in range(3):\n",
    "    max(lista)\n",
    "    maxi.append(max(lista))\n",
    "    lista.remove(max(lista))\n",
    "\n",
    "print(maxi)\n",
    "    "
   ]
  },
  {
   "cell_type": "markdown",
   "metadata": {},
   "source": [
    "7.Faça um programa que, dadas duas listas de mesmo tamanho, crie uma nova lista com cada elemento igual a soma dos elementos da lista 1 com os da lista 2, na mesma posição.  Exemplo: dadas lista1 = [1, 4, 5] e lista2 = [2, 2, 3], então lista3 = [1+2, 4+2, 5+3] = [3, 6, 8] \n",
    "\n"
   ]
  },
  {
   "cell_type": "code",
   "execution_count": 17,
   "metadata": {},
   "outputs": [
    {
     "name": "stdout",
     "output_type": "stream",
     "text": [
      "[2, 4, 6, 8, 10, 12, 14]\n"
     ]
    }
   ],
   "source": [
    "lista = [1,2,3,4,5,6,7]\n",
    "lista1 = [1,2,3,4,5,6,7]\n",
    "nova_lista = []\n",
    "for i in range(len(lista)):\n",
    "    x = (lista[i]) + (lista1[i])\n",
    "    nova_lista.append(x)\n",
    "    \n",
    "print (nova_lista)"
   ]
  },
  {
   "cell_type": "markdown",
   "metadata": {},
   "source": [
    "8.Faça  um  programa  que  dadas  duas  listas  de  mesmo  tamanho, imprima o produto escalar entre elas.  OBS: produto escalar é a soma do resultado da multiplicação entre o número na posição i da lista1 pelo número na posição i da lista2, com i variando de 0 ao tamanho da lista. \n"
   ]
  },
  {
   "cell_type": "code",
   "execution_count": 18,
   "metadata": {},
   "outputs": [
    {
     "name": "stdout",
     "output_type": "stream",
     "text": [
      "[1, 4, 9, 16, 25, 36, 49]\n"
     ]
    }
   ],
   "source": [
    "lista = [1,2,3,4,5,6,7]\n",
    "lista1 = [1,2,3,4,5,6,7]\n",
    "nova_lista = []\n",
    "for i in range(len(lista)):\n",
    "    x = (lista[i]) * (lista1[i])\n",
    "    nova_lista.append(x)\n",
    "    \n",
    "print (nova_lista)"
   ]
  },
  {
   "cell_type": "markdown",
   "metadata": {},
   "source": [
    "\n",
    "9.Faça um programa que pede para o usuário digitar 5 números e, ao final, imprime uma lista com os 5 números digitados pelo usuário (sem converter os números para int ou float).  Exemplo: Se o usuário digitar 1, 5, 2, 3, 6, o programa deve imprimir a lista ['1','5','2','3','6']  \n"
   ]
  },
  {
   "cell_type": "code",
   "execution_count": 19,
   "metadata": {},
   "outputs": [
    {
     "name": "stdout",
     "output_type": "stream",
     "text": [
      "numero1\n",
      "numero2\n",
      "numero3\n",
      "numero4\n",
      "numero5\n",
      "['1', '2', '3', '4', '5']\n"
     ]
    }
   ],
   "source": [
    "lista = []\n",
    "for i in range(5):\n",
    "    lista.append(input('numero'))\n",
    "    \n",
    "print (lista)"
   ]
  },
  {
   "cell_type": "markdown",
   "metadata": {},
   "source": [
    "\n",
    "10.Pegue a lista gerada no exercício anterior e transforme cada um dos itens dessa lista em um float.  OBS: Não é para alterar o programa anterior, mas sim a lista gerada por ele. \n",
    "\n"
   ]
  },
  {
   "cell_type": "code",
   "execution_count": 21,
   "metadata": {},
   "outputs": [
    {
     "name": "stdout",
     "output_type": "stream",
     "text": [
      "numero1\n",
      "numero2\n",
      "numero3\n",
      "numero4\n",
      "numero5\n",
      "[1.0, 2.0, 3.0, 4.0, 5.0]\n"
     ]
    }
   ],
   "source": [
    "lista = []\n",
    "for i in range(5):\n",
    "    lista.append(input('numero'))\n",
    "    \n",
    "nova_lista = [float(j) for j in lista]\n",
    "\n",
    "print(nova_lista)\n",
    "\n",
    "# perguntar pq essa list comprehension adiciona itens a nova lista"
   ]
  },
  {
   "cell_type": "markdown",
   "metadata": {},
   "source": [
    "11.Faça um Programa que peça as 4 notas bimestrais e mostre a média aritmética delas, usando listas.  \n",
    "\n"
   ]
  },
  {
   "cell_type": "code",
   "execution_count": 24,
   "metadata": {},
   "outputs": [
    {
     "name": "stdout",
     "output_type": "stream",
     "text": [
      "notas4\n",
      "notas5\n",
      "notas7\n",
      "notas7.7\n",
      "5.925\n"
     ]
    }
   ],
   "source": [
    "lista = [float(input('notas')) for i in range(4)]\n",
    "\n",
    "media = sum(lista)/len(lista)\n",
    "\n",
    "print(media)"
   ]
  },
  {
   "cell_type": "markdown",
   "metadata": {},
   "source": [
    "12.Sorteie uma lista de 10 números e imprima: \n",
    "\n",
    "- a.uma lista com os 4 primeiros números; \n",
    "- b.uma lista com os 5 últimos números; \n",
    "- c.uma lista contendo apenas os elementos das posições pares; \n",
    "- d.uma lista contendo apenas os elementos das posições ímpares; \n",
    "- e.a lista inversa da lista sorteada (isto é, uma lista que começa com o último elemento da lista sorteada e termina com o primeiro); \n",
    "- f.uma lista inversa dos 5 primeiros números; \n",
    "- g.uma lista inversa dos 5 últimos números. \n",
    "\n"
   ]
  },
  {
   "cell_type": "code",
   "execution_count": 37,
   "metadata": {},
   "outputs": [
    {
     "name": "stdout",
     "output_type": "stream",
     "text": [
      "[16, 19, 13, 4, 7, 1, 17, 7, 4, 16]\n",
      "[16, 19, 13, 4]\n",
      "[16, 4, 7, 17, 1]\n",
      "[16, 13, 7, 17, 4]\n",
      "[19, 4, 1, 7, 16]\n",
      "[16, 4, 7, 17, 1, 7, 4, 13, 19, 16]\n",
      "[4, 13, 19, 16]\n",
      "[16, 4, 7, 17, 1]\n"
     ]
    }
   ],
   "source": [
    "import random\n",
    "\n",
    "lista = [random.randint(1, 20) for i in range (10)]\n",
    "print (lista)\n",
    "\n",
    "lista1 = [lista[i] for i in range(4)]\n",
    "print (lista1)\n",
    "\n",
    "lista2 = [lista[j] for j in range(-1,-6,-1)]\n",
    "print(lista2)\n",
    "\n",
    "lista3 = [lista[t] for t in range(0,10,2)]\n",
    "print(lista3)\n",
    "\n",
    "lista4 = [lista[t] for t in range(1,10,2)]\n",
    "print(lista4)\n",
    "\n",
    "lista5 = lista[::-1]\n",
    "print(lista5)\n",
    "\n",
    "lista6 = lista1[::-1]\n",
    "print(lista6)\n",
    "\n",
    "lista7 = lista2\n",
    "print(lista7)"
   ]
  },
  {
   "cell_type": "markdown",
   "metadata": {},
   "source": [
    "13.Faça  um programa que sorteia 10 números entre 0 e 100 e conte quantos números sorteados são maiores que 50. \n"
   ]
  },
  {
   "cell_type": "code",
   "execution_count": 38,
   "metadata": {},
   "outputs": [
    {
     "name": "stdout",
     "output_type": "stream",
     "text": [
      "[33, 95, 30, 33, 10, 14, 75, 18, 57, 65]\n",
      "4\n"
     ]
    }
   ],
   "source": [
    "lista = [random.randint(1, 100) for i in range (10)]\n",
    "print(lista)\n",
    "x = 0\n",
    "for i in lista:\n",
    "    if i > 50:\n",
    "        x += 1\n",
    "        \n",
    "print(x)"
   ]
  },
  {
   "cell_type": "markdown",
   "metadata": {},
   "source": [
    "\n",
    "14.Faça um programa que sorteie 10 números entre 0 e 100 e imprima: \n",
    "\n",
    "- a.o maior número sorteado;\n",
    "- b.o menor número sorteado; \n",
    "- c.a média dos números sorteados; \n",
    "- d.a soma dos números sorteados."
   ]
  },
  {
   "cell_type": "code",
   "execution_count": 43,
   "metadata": {},
   "outputs": [
    {
     "name": "stdout",
     "output_type": "stream",
     "text": [
      "[31, 12, 99, 12, 38, 56, 36, 82, 75, 40]\n",
      "99\n",
      "12\n",
      "48.1\n",
      "481\n"
     ]
    }
   ],
   "source": [
    "lista = [random.randint(1, 100) for i in range (10)]\n",
    "\n",
    "print(lista)\n",
    "\n",
    "print(max(lista))\n",
    "\n",
    "print(min(lista))\n",
    "\n",
    "print(sum(lista)/len(lista))\n",
    "\n",
    "print(sum(lista))"
   ]
  },
  {
   "cell_type": "markdown",
   "metadata": {},
   "source": [
    "_____\n",
    "____\n",
    "_____\n",
    "____"
   ]
  },
  {
   "cell_type": "markdown",
   "metadata": {},
   "source": [
    "# DESAFIOS"
   ]
  },
  {
   "cell_type": "markdown",
   "metadata": {},
   "source": [
    "1.Faça um programa que peça para o usuário digitar o nome e a idade de um aluno e o número de provas que esse aluno fez. Depois, o programa deve pedir para o usuário digitar as notas de cada prova do aluno. Ao final o programa deve imprimir uma lista contendo: \n",
    "\n",
    "- a.Nome do aluno na posição 0 \n",
    "- b.Idade do aluno na posição 1 \n",
    "- c.Uma lista com todas as notas na posição 2  \n",
    "- d.A média do aluno na posição 3 \n",
    "- e.True ou False, caso a média seja maior que 5 ou não, na posição 4\n",
    "\n",
    "Dica: Use o que você fez nos exercícios anteriores para criar esse programa. "
   ]
  },
  {
   "cell_type": "code",
   "execution_count": 44,
   "metadata": {},
   "outputs": [
    {
     "name": "stdout",
     "output_type": "stream",
     "text": [
      "nomeVladimir\n",
      "idade25\n",
      "qtdd provas3\n",
      "notas4\n",
      "notas9\n",
      "notas7.5\n",
      "['Vladimir', '25', [4.0, 9.0, 7.5], 6.833333333333333, True]\n"
     ]
    }
   ],
   "source": [
    "tudo = []\n",
    "\n",
    "nome = input('nome')\n",
    "idade = input('idade')\n",
    "provas = int(input('qtdd provas'))\n",
    "\n",
    "notas = [float(input('notas')) for i in range(provas)]\n",
    "\n",
    "media = (sum(notas)/provas)\n",
    "\n",
    "if media >=5:\n",
    "    passou = True\n",
    "else:\n",
    "    passou = False\n",
    "\n",
    "tudo = [nome,idade,notas,media,passou]\n",
    "\n",
    "print(tudo)"
   ]
  },
  {
   "cell_type": "markdown",
   "metadata": {},
   "source": [
    "\n",
    "2.Faça um programa como o do item anterior, porém que imprima a média sem considerar a maior e menor nota do aluno (nesse caso o número de provas precisa ser obrigatoriamente maior que dois).  Dica: crie uma cópia com a lista de todas as notas antes de fazer a média. \n",
    "\n"
   ]
  },
  {
   "cell_type": "code",
   "execution_count": 48,
   "metadata": {},
   "outputs": [
    {
     "name": "stdout",
     "output_type": "stream",
     "text": [
      "nomeVladimir\n",
      "idade25\n",
      "qtdd provas3\n",
      "notas1\n",
      "notas4\n",
      "notas10\n",
      "['Vladimir', '25', [1.0, 4.0, 10.0], 4.0, False]\n"
     ]
    }
   ],
   "source": [
    "tudo = []\n",
    "\n",
    "nome = input('nome')\n",
    "idade = input('idade')\n",
    "provas = int(input('qtdd provas'))\n",
    "\n",
    "notas = [float(input('notas')) for i in range(provas)]\n",
    "\n",
    "notasmedia = notas.copy()\n",
    "notasmedia.remove(max(notasmedia))\n",
    "notasmedia.remove(min(notasmedia))\n",
    "\n",
    "\n",
    "media = (sum(notasmedia)/(provas-2))\n",
    "\n",
    "if media >=5:\n",
    "    passou = True\n",
    "else:\n",
    "    passou = False\n",
    "\n",
    "tudo = [nome,idade,notas,media,passou]\n",
    "\n",
    "print(tudo)"
   ]
  },
  {
   "cell_type": "markdown",
   "metadata": {},
   "source": [
    "\n",
    "3.Faça um programa que pede para o usuário digitar o CPF e verifica se ele é válido. Para isso, primeiramente o programa deve multiplicar cada um dos 9 primeiros dígitos do CPF pelos números de 10 a 2 e somar todas as respostas. O resultado deve ser multiplicado por 10 e dividido por 11. O resto dessa divisão deve ser igual ao primeiro dígito verificador (10º dígito). Em seguida, o programa deve multiplicar cada \n",
    "um dos 10 primeiros dígitos do CPF pelos números de 11 a 2 e repetir o procedimento anterior para verificar o segundo dígito verificador. \n",
    "\n",
    "Exemplo:Se o CPF for 286.255.878-87 o programa deve fazer primeiro:\n",
    "\n",
    "- x = (2\\*10 + 8\\*9 + 6\\*8 + 2\\*7 + 5\\*6 + 5\\*5 + 8\\*4 + 7\\*3 + 8\\*2).  \n",
    "\n",
    "Em seguida o programa deve testar se x\\*10%11 == 8 (o décimo número do CPF).  \n",
    "\n",
    "Se sim, o programa deve calcular  \n",
    "\n",
    "- x = (2\\*11 + 8\\*10 + 6\\*9 + 2\\*8 + 5\\*7 + 5\\*6 + 8\\*5 + 7\\*4 + 8\\*3 + 8\\*2)\n",
    "\n",
    "e verificar se x\\*10%11 == 7 (o décimo primeiro número do CPF)\n",
    "\n",
    "**Observação Importante: Se o resto da divisão for igual a 10, nós o consideramos como 0**"
   ]
  },
  {
   "cell_type": "code",
   "execution_count": null,
   "metadata": {},
   "outputs": [],
   "source": []
  },
  {
   "cell_type": "markdown",
   "metadata": {},
   "source": [
    "__ELABORAÇÃO: como resolver esse exercício sabendo de strings?__"
   ]
  },
  {
   "cell_type": "code",
   "execution_count": null,
   "metadata": {},
   "outputs": [],
   "source": []
  }
 ],
 "metadata": {
  "kernelspec": {
   "display_name": "Python 3",
   "language": "python",
   "name": "python3"
  },
  "language_info": {
   "codemirror_mode": {
    "name": "ipython",
    "version": 3
   },
   "file_extension": ".py",
   "mimetype": "text/x-python",
   "name": "python",
   "nbconvert_exporter": "python",
   "pygments_lexer": "ipython3",
   "version": "3.8.8"
  }
 },
 "nbformat": 4,
 "nbformat_minor": 4
}
