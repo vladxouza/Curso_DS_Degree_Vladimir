{
 "cells": [
  {
   "cell_type": "markdown",
   "metadata": {},
   "source": [
    "# Lista 2 - estruturas condicionais"
   ]
  },
  {
   "cell_type": "markdown",
   "metadata": {},
   "source": [
    "1. Faça um programa que peça a idade do usuário e imprima se ele é\n",
    "maior ou menor de 18 anos.\n"
   ]
  },
  {
   "cell_type": "code",
   "execution_count": null,
   "metadata": {},
   "outputs": [],
   "source": [
    "idade = int(input('idade'))\n",
    "\n",
    "if idade >= 18:\n",
    "    print('Maior')\n",
    "else:\n",
    "    print('menor')"
   ]
  },
  {
   "cell_type": "markdown",
   "metadata": {},
   "source": [
    "\n",
    "\n",
    "2. Faça um programa que peça um número e mostre se ele é positivo\n",
    "ou negativo.\n"
   ]
  },
  {
   "cell_type": "code",
   "execution_count": null,
   "metadata": {},
   "outputs": [],
   "source": [
    "numero = int(input('idade'))\n",
    "\n",
    "if numero > 0:\n",
    "    print('positivo')\n",
    "elif numero < 0:\n",
    "    print('negativo')\n",
    "else:\n",
    "    print('neutro')"
   ]
  },
  {
   "cell_type": "markdown",
   "metadata": {},
   "source": [
    "\n",
    "\n",
    "3. Faça um programa que dado um número digitado, mostre se ele é\n",
    "Par ou Ímpar.\n",
    "\n"
   ]
  },
  {
   "cell_type": "code",
   "execution_count": null,
   "metadata": {},
   "outputs": [],
   "source": [
    "numero = int(input('idade'))\n",
    "\n",
    "if numero % 2 == 0:\n",
    "    print('par')\n",
    "else:\n",
    "    print('impar')"
   ]
  },
  {
   "cell_type": "markdown",
   "metadata": {},
   "source": [
    "\n",
    "4. Faça um programa que peça dois números e mostre o maior deles.\n",
    "\n"
   ]
  },
  {
   "cell_type": "code",
   "execution_count": null,
   "metadata": {},
   "outputs": [],
   "source": [
    "numero = int(input('idade'))\n",
    "numero2 = int(input('idade'))\n",
    "\n",
    "lista = [numero, numero2]\n",
    "\n",
    "print(max(lista))\n"
   ]
  },
  {
   "cell_type": "markdown",
   "metadata": {},
   "source": [
    "\n",
    "5. Faça um programa que leia a validade das informações:\n",
    "\n",
    "a. Idade: entre 0 e 150;\n",
    "\n",
    "b. Salário: maior que 0;\n",
    "\n",
    "c. Sexo: M, F ou Outro;\n",
    "\n",
    "O programa deve imprimir uma mensagem de erro para cada\n",
    "informação inválida.\n"
   ]
  },
  {
   "cell_type": "code",
   "execution_count": 3,
   "metadata": {},
   "outputs": [
    {
     "name": "stdout",
     "output_type": "stream",
     "text": [
      "idade151\n",
      "idade18\n",
      "idadeM\n",
      "erro\n",
      "idade1\n"
     ]
    }
   ],
   "source": [
    "idade = int(input('idade'))\n",
    "salario= int(input('idade'))\n",
    "sexo = (input('idade'))\n",
    "flag = True\n",
    "flag2 = True\n",
    "flag3 = True\n",
    "while flag:\n",
    "    if idade < 0 or idade > 150:\n",
    "        print ('erro')\n",
    "        idade = int(input('idade'))\n",
    "    else:\n",
    "        flag = False\n",
    "        \n",
    "        \n",
    "while flag2:\n",
    "    if salario < 0:\n",
    "        print ('erro')\n",
    "        salario = int(input('idade'))\n",
    "    else:\n",
    "        flag2 = False\n",
    "        \n",
    "        \n",
    "while flag3:\n",
    "    if sexo != 'M' and sexo != 'F' and sexo != 'Outro':\n",
    "        print ('erro')\n",
    "        sexo = (input('idade'))\n",
    "    else:\n",
    "        flag3 = False"
   ]
  },
  {
   "cell_type": "markdown",
   "metadata": {},
   "source": [
    "\n",
    "\n",
    "6. Escreva um programa que peça a nota de 3 provas de um aluno e\n",
    "verifique se ele passou o não de ano.\n",
    "Obs.: O aluno irá passar de ano se sua média for maior que 6.\n"
   ]
  },
  {
   "cell_type": "code",
   "execution_count": 5,
   "metadata": {},
   "outputs": [
    {
     "name": "stdout",
     "output_type": "stream",
     "text": [
      "idade5\n",
      "idade5\n",
      "idade5\n",
      "reprovado\n"
     ]
    }
   ],
   "source": [
    "nota = float(input('idade'))\n",
    "nota1= float(input('idade'))\n",
    "nota2 = float(input('idade'))\n",
    "\n",
    "media = (nota + nota1 + nota2)/3\n",
    "\n",
    "if media >= 6:\n",
    "    print('aprovado')\n",
    "else:\n",
    "    print ('reprovado')"
   ]
  },
  {
   "cell_type": "markdown",
   "metadata": {},
   "source": [
    "\n",
    "7. Faça um programa que mostre uma questão de múltipla escolha com\n",
    "5 opções (letras a, b, c, d, e e). Sabendo a resposta certa, o programa\n",
    "deve receber a opção do usuário e informar a letra que o usuário\n",
    "marcou e se a resposta está certa ou errada.\n"
   ]
  },
  {
   "cell_type": "code",
   "execution_count": 7,
   "metadata": {},
   "outputs": [
    {
     "name": "stdout",
     "output_type": "stream",
     "text": [
      "a questão tem as letras a, b, c, d, e\n",
      "respostab\n",
      " Sua resposta é b e você foi Aprovado\n"
     ]
    }
   ],
   "source": [
    "print ('a questão tem as letras a, b, c, d, e')\n",
    "\n",
    "resp = input('resposta')\n",
    "\n",
    "certa = 'b'\n",
    "\n",
    "if resp == certa:\n",
    "    result = 'Aprovado'\n",
    "else:\n",
    "    result = 'Reprovado'\n",
    "\n",
    "print(f' Sua resposta é {resp} e você foi {result}')"
   ]
  },
  {
   "cell_type": "markdown",
   "metadata": {},
   "source": [
    "\n",
    "\n",
    "8. Vamos fazer um programa para verificar quem é o assassino de um\n",
    "crime. Para descobrir o assassino, a polícia faz um pequeno\n",
    "questionário com 5 perguntas onde a resposta só pode ser sim ou não:\n",
    "a. Mora perto da vítima?\n",
    "b. Já trabalhou com a vítima?\n",
    "c. Telefonou para a vítima?\n",
    "d. Esteve no local do crime?\n",
    "e. Devia para a vítima?\n",
    "Cada resposta sim dá um ponto para o suspeito. A polícia considera\n",
    "que os suspeitos com 5 pontos são os assassinos, com 4 a 3 pontos são\n",
    "cúmplices e 2 pontos são apenas suspeitos, necessitando outras\n",
    "investigações. Valores abaixo de 1 são liberados.\n"
   ]
  },
  {
   "cell_type": "code",
   "execution_count": 13,
   "metadata": {},
   "outputs": [
    {
     "name": "stdout",
     "output_type": "stream",
     "text": [
      "s ou nn\n",
      "s ou nn\n",
      "s ou nn\n",
      "s ou nn\n",
      "s ou nn\n",
      "['n', 'n', 'n', 'n', 'n']\n",
      "0\n",
      "liberado\n"
     ]
    }
   ],
   "source": [
    "p1 = input('s ou n')\n",
    "p2 = input('s ou n')\n",
    "p3 = input('s ou n')\n",
    "p4 = input('s ou n')\n",
    "p5 = input('s ou n')\n",
    "pontos = 0\n",
    "lista = [p1,p2,p3,p4,p5]\n",
    "print (lista)\n",
    "for i in lista:\n",
    "    if i == 's':\n",
    "        pontos += 1\n",
    "print (pontos)\n",
    "if pontos == 5:\n",
    "    print('Assassino')\n",
    "elif pontos == 3 or pontos == 4:\n",
    "    print ('cúmplice')\n",
    "elif pontos == 2:\n",
    "    print ('suspeito')\n",
    "else:\n",
    "    print ('liberado')"
   ]
  },
  {
   "cell_type": "markdown",
   "metadata": {},
   "source": [
    "\n",
    "9. Um produto vai sofrer aumento de acordo com a Tabela 1 abaixo. Faça\n",
    "um programa que peça para o usuário digitar o valor do produto de\n",
    "acordo com o preço antigo e escreva uma das mensagens da Tabela\n",
    "2, de acordo com o preço reajustado:\n",
    "\n",
    "REAJUSTE: \n",
    "\n",
    "- Até 50 : 5\\%\n",
    "\n",
    "- Entre 50 e 100 : 10\\%\n",
    "\n",
    "- Entre 100 e 150 : 13\\%\n",
    "\n",
    "- Acima de 150 : 15\\%\n",
    "\n",
    "MENSAGENS: \n",
    "\n",
    "- Até 80 : Barato\n",
    "\n",
    "- Entre 80 e 115 : Razoável\n",
    "\n",
    "- Entre 115 e 150 : Normal\n",
    "\n",
    "- Entre 150 e 170 : Caro\n",
    "\n",
    "- Acima de 170 : Muito caro"
   ]
  },
  {
   "cell_type": "code",
   "execution_count": 16,
   "metadata": {},
   "outputs": [
    {
     "name": "stdout",
     "output_type": "stream",
     "text": [
      "preço85\n",
      "93.50000000000001\n",
      "razoavel\n"
     ]
    }
   ],
   "source": [
    "preco = float(input('preço'))\n",
    "novo_preco = 0\n",
    "if preco <= 50:\n",
    "    novo_preco = preco * 1.05\n",
    "elif preco > 50 and preco <= 100:\n",
    "    novo_preco = preco * 1.1\n",
    "elif preco > 100 and preco <= 150:\n",
    "    novo_preco = preco * 1.13\n",
    "else:\n",
    "    novo_preco = preco * 1.15\n",
    "print (novo_preco)\n",
    "if novo_preco <= 80:\n",
    "    print('Barato')\n",
    "elif novo_preco > 80 and novo_preco <= 115:\n",
    "    print('razoavel')\n",
    "elif novo_preco > 115 and novo_preco <= 150:\n",
    "    print('normal')\n",
    "elif novo_preco > 150 and novo_preco <= 170:\n",
    "    print ('caro')\n",
    "else:\n",
    "    print('muito caro')\n",
    "    \n"
   ]
  },
  {
   "cell_type": "markdown",
   "metadata": {},
   "source": [
    "__________________\n",
    "__________________\n",
    "\n",
    "__________________\n",
    "__________________"
   ]
  },
  {
   "cell_type": "markdown",
   "metadata": {},
   "source": [
    "# DESAFIOS"
   ]
  },
  {
   "cell_type": "markdown",
   "metadata": {},
   "source": [
    "\n",
    "1. Faça um programa que leia 3 números e informe o maior deles.\n",
    "\n"
   ]
  },
  {
   "cell_type": "code",
   "execution_count": null,
   "metadata": {},
   "outputs": [],
   "source": []
  },
  {
   "cell_type": "markdown",
   "metadata": {},
   "source": [
    "2. Faça o mesmo programa do exercício anterior, porém com 4\n",
    "números.\n",
    "\n"
   ]
  },
  {
   "cell_type": "code",
   "execution_count": null,
   "metadata": {},
   "outputs": [],
   "source": []
  },
  {
   "cell_type": "markdown",
   "metadata": {},
   "source": [
    "3. Um hospital quer fazer o diagnóstico de gripe ou dengue a partir de\n",
    "um questionário de sintomas, tendo as perguntas abaixo, faça um\n",
    "programa que faça o diagnóstico deste hospital:\n",
    "a. Sente dor no corpo?\n",
    "b. Você tem febre?\n",
    "c. Você tem tosse?\n",
    "d. Está com congestão nasal?\n",
    "e. Tem manchas pelo corpo?\n",
    "Para o diagnóstico ele tem a seguinte tabela (**ver na lista**)"
   ]
  },
  {
   "cell_type": "code",
   "execution_count": null,
   "metadata": {},
   "outputs": [],
   "source": []
  }
 ],
 "metadata": {
  "kernelspec": {
   "display_name": "Python 3",
   "language": "python",
   "name": "python3"
  },
  "language_info": {
   "codemirror_mode": {
    "name": "ipython",
    "version": 3
   },
   "file_extension": ".py",
   "mimetype": "text/x-python",
   "name": "python",
   "nbconvert_exporter": "python",
   "pygments_lexer": "ipython3",
   "version": "3.8.8"
  }
 },
 "nbformat": 4,
 "nbformat_minor": 4
}
