{
 "cells": [
  {
   "cell_type": "markdown",
   "metadata": {},
   "source": [
    "# Lista 1 - variáveis, input, output"
   ]
  },
  {
   "cell_type": "markdown",
   "metadata": {},
   "source": [
    "\n",
    "1. Faça um programa que mostre a mensagem \"Olá, mundo!\" na tela.\n"
   ]
  },
  {
   "cell_type": "code",
   "execution_count": 1,
   "metadata": {},
   "outputs": [
    {
     "name": "stdout",
     "output_type": "stream",
     "text": [
      "olá, mundo!\n"
     ]
    }
   ],
   "source": [
    "print('olá, mundo!')"
   ]
  },
  {
   "cell_type": "markdown",
   "metadata": {},
   "source": [
    "2. Faça um programa que peça um número e mostre a mensagem \"O número informado foi [número]\".\n"
   ]
  },
  {
   "cell_type": "code",
   "execution_count": 3,
   "metadata": {},
   "outputs": [
    {
     "name": "stdout",
     "output_type": "stream",
     "text": [
      "numero5\n",
      "o número informado foi 5\n"
     ]
    }
   ],
   "source": [
    "x = input('numero')\n",
    "\n",
    "print(f'o número informado foi {x}')"
   ]
  },
  {
   "cell_type": "markdown",
   "metadata": {},
   "source": [
    "\n",
    "3. Faça um programa que peça um número para o usuário (string), converta-o para float e depois imprima-o na tela. Você consegue fazer a mesma coisa, porém convertendo para int?\n",
    "\n"
   ]
  },
  {
   "cell_type": "code",
   "execution_count": 4,
   "metadata": {},
   "outputs": [
    {
     "name": "stdout",
     "output_type": "stream",
     "text": [
      "numero7\n",
      "<class 'float'>\n",
      "7.0\n"
     ]
    }
   ],
   "source": [
    "x = input('numero')\n",
    "\n",
    "y = float(x)\n",
    "\n",
    "print(type(y))\n",
    "print(y)"
   ]
  },
  {
   "cell_type": "markdown",
   "metadata": {},
   "source": [
    "4. Faça um programa que peça dois números e imprima a soma deles.\n",
    "\n"
   ]
  },
  {
   "cell_type": "code",
   "execution_count": 6,
   "metadata": {},
   "outputs": [
    {
     "name": "stdout",
     "output_type": "stream",
     "text": [
      "numero5\n",
      "numero7\n",
      "12.0\n"
     ]
    }
   ],
   "source": [
    "x = float(input('numero'))\n",
    "y = float(input('numero'))\n",
    "\n",
    "print(x + y)\n"
   ]
  },
  {
   "cell_type": "markdown",
   "metadata": {},
   "source": [
    "5. Faça um programa que peça as 4 notas bimestrais de um aluno e mostre a média aritmética delas.\n"
   ]
  },
  {
   "cell_type": "code",
   "execution_count": 13,
   "metadata": {},
   "outputs": [
    {
     "name": "stdout",
     "output_type": "stream",
     "text": [
      "informe as médias4,5,6,7\n",
      "5.5\n"
     ]
    }
   ],
   "source": [
    "notas = input('informe as médias').split(',')\n",
    "\n",
    "notas_int = []\n",
    "\n",
    "for i in notas:\n",
    "    notas_int.append(float(i))\n",
    "    \n",
    "media = sum(notas_int)/4\n",
    "\n",
    "print(media)"
   ]
  },
  {
   "cell_type": "markdown",
   "metadata": {},
   "source": [
    "\n",
    "6. Faça um programa que converta um valor em metros para centímetros.\n",
    "\n"
   ]
  },
  {
   "cell_type": "code",
   "execution_count": null,
   "metadata": {},
   "outputs": [],
   "source": [
    "x = float(input('numero'))\n",
    "\n",
    "y = x /100"
   ]
  },
  {
   "cell_type": "markdown",
   "metadata": {},
   "source": [
    "7. Faça um programa que peça o raio de um círculo, calcule e mostre sua área. Obs: Fórmula da área de um círculo: A = 3,14*r2, onde r é o raio.\n"
   ]
  },
  {
   "cell_type": "code",
   "execution_count": 16,
   "metadata": {},
   "outputs": [
    {
     "name": "stdout",
     "output_type": "stream",
     "text": [
      "raio3\n",
      "28.26\n"
     ]
    }
   ],
   "source": [
    "raio = float(input('raio'))\n",
    "\n",
    "area = 3.14 * (raio**2)\n",
    "\n",
    "print (area)"
   ]
  },
  {
   "cell_type": "markdown",
   "metadata": {},
   "source": [
    "\n",
    "8. Faça um programa que pergunte quanto você ganha por hora e o número de horas trabalhadas no mês e depois, calcule e mostre o total do seu salário no referido mês.\n",
    "\n"
   ]
  },
  {
   "cell_type": "code",
   "execution_count": 18,
   "metadata": {},
   "outputs": [
    {
     "name": "stdout",
     "output_type": "stream",
     "text": [
      "valor7\n",
      "valor50\n",
      "350.0\n"
     ]
    }
   ],
   "source": [
    "valor = float(input('valor'))\n",
    "\n",
    "horas = float(input('valor'))\n",
    "\n",
    "salario = valor * horas\n",
    "\n",
    "print (salario)"
   ]
  },
  {
   "cell_type": "markdown",
   "metadata": {},
   "source": [
    "9. Faça um programa que peça a temperatura em graus Fahrenheit (F), transforme e mostre a temperatura em graus Celsius (°C). °C = (5 * (F-32) / 9) Obs: Tente também fazer um programa que faça o inverso: peça a temperatura em graus Celsius e a transforme em graus Fahrenheit.\n"
   ]
  },
  {
   "cell_type": "code",
   "execution_count": 20,
   "metadata": {},
   "outputs": [
    {
     "name": "stdout",
     "output_type": "stream",
     "text": [
      "fahr59\n",
      "15.0\n"
     ]
    }
   ],
   "source": [
    "fahr = float(input('fahr'))\n",
    "\n",
    "celsius = (fahr - 32)/9 * 5\n",
    "\n",
    "print (celsius)"
   ]
  },
  {
   "cell_type": "markdown",
   "metadata": {},
   "source": [
    "\n",
    "10. Faça um programa que peça o dia, o mês e o ano para o usuário e imprima a data completa no formato dd/mm/aaaa.\n",
    "\n"
   ]
  },
  {
   "cell_type": "code",
   "execution_count": 23,
   "metadata": {},
   "outputs": [
    {
     "name": "stdout",
     "output_type": "stream",
     "text": [
      "fahr02\n",
      "fahr02\n",
      "fahr2020\n",
      "02/02/2020\n"
     ]
    }
   ],
   "source": [
    "dia = int(input('fahr'))\n",
    "mes = int(input('fahr'))\n",
    "ano = int(input('fahr'))\n",
    "\n",
    "data = f'{dia:02d}/{mes:02d}/{ano:04d}'\n",
    "\n",
    "print(data)"
   ]
  },
  {
   "cell_type": "markdown",
   "metadata": {},
   "source": [
    "11. Faça um programa que peça 2 números inteiros e um número real, calcule e mostre:\n",
    "a) o produto do dobro do primeiro com metade do segundo.\n",
    "b) a soma do triplo do primeiro com o terceiro.\n",
    "c) o terceiro elevado ao cubo.\n",
    "\n"
   ]
  },
  {
   "cell_type": "code",
   "execution_count": 26,
   "metadata": {},
   "outputs": [
    {
     "name": "stdout",
     "output_type": "stream",
     "text": [
      "fahr5\n",
      "fahr4\n",
      "fahr7\n",
      "20.0 22 343\n"
     ]
    }
   ],
   "source": [
    "numero1 = int(input('fahr'))\n",
    "numero2 = int(input('fahr'))\n",
    "numero3 = int(input('fahr'))\n",
    "\n",
    "a = (numero1 * 2) * (numero2 / 2)\n",
    "b = (numero1 * 3) + numero3\n",
    "c = numero3 ** 3\n",
    "\n",
    "print(a,b,c)\n",
    "\n"
   ]
  },
  {
   "cell_type": "markdown",
   "metadata": {},
   "source": [
    "12. Faça um programa que peça o peso e altura de uma pessoa e calcule seu IMC (Índice de Massa Corporal).\n",
    "Obs: IMC = Peso/Altura2\n",
    "\n"
   ]
  },
  {
   "cell_type": "code",
   "execution_count": 27,
   "metadata": {},
   "outputs": [
    {
     "name": "stdout",
     "output_type": "stream",
     "text": [
      "a12\n",
      "a2\n",
      "0.013888888888888888\n"
     ]
    }
   ],
   "source": [
    "altura = float(input('a'))\n",
    "peso = float(input('a'))\n",
    "\n",
    "imc = peso/(altura ** 2)\n",
    "\n",
    "print(imc)"
   ]
  },
  {
   "cell_type": "markdown",
   "metadata": {},
   "source": [
    "13. Faça um programa que peça um valor monetário e aumente-o em\n",
    "15%. Seu programa deve imprimir a mensagem “O novo valor é\n",
    "R$[valor]”.\n"
   ]
  },
  {
   "cell_type": "code",
   "execution_count": 30,
   "metadata": {},
   "outputs": [
    {
     "name": "stdout",
     "output_type": "stream",
     "text": [
      "s100\n",
      "O novo valor é R$114.99999999999999\n"
     ]
    }
   ],
   "source": [
    "a = float(input('s'))\n",
    "\n",
    "b = a * 1.15\n",
    "\n",
    "print(f'O novo valor é R${b}')"
   ]
  },
  {
   "cell_type": "markdown",
   "metadata": {},
   "source": [
    "\n",
    "14. Faça um programa que peça um valor monetário e diminua-o em 15%.\n",
    "Seu programa deve imprimir a mensagem “O novo valor é R$[valor]”.\n"
   ]
  },
  {
   "cell_type": "code",
   "execution_count": null,
   "metadata": {},
   "outputs": [],
   "source": [
    "a = float(input('s'))\n",
    "\n",
    "b = a * 0.85\n",
    "\n",
    "print(f'O novo valor é R${b}')"
   ]
  },
  {
   "cell_type": "markdown",
   "metadata": {},
   "source": [
    "__________________\n",
    "__________________\n",
    "\n",
    "__________________\n",
    "__________________\n"
   ]
  },
  {
   "cell_type": "markdown",
   "metadata": {},
   "source": [
    "# DESAFIOS"
   ]
  },
  {
   "cell_type": "markdown",
   "metadata": {},
   "source": [
    "\n",
    "1. Peça para o usuário digitar uma velocidade inicial (em m/s), uma posição inicial (em m) e um instante de tempo (em s) e imprima a posição de um projétil nesse instante de tempo. Dica: use a fórmula matemática:\n",
    "yt = y0 + v0*t + (1/2)*gt^2\n",
    "Onde, g é a aceleração da gravidade (-10m/s²), y(t) é a posição\n",
    "final, y(0) é a posição inicial, v(0) é a velocidade inicial e t é o\n",
    "instante de tempo.\n"
   ]
  },
  {
   "cell_type": "code",
   "execution_count": 2,
   "metadata": {},
   "outputs": [
    {
     "name": "stdout",
     "output_type": "stream",
     "text": [
      "v00\n",
      "y010\n",
      "t em segundos3\n",
      "-35.0\n"
     ]
    }
   ],
   "source": [
    "v0 = float(input('v0'))\n",
    "y0 = float(input('y0'))\n",
    "t = int(input('t em segundos'))\n",
    "\n",
    "yt = y0 + (v0 * t) + (1/2 * (-10) * (t**2))\n",
    "\n",
    "print (yt)"
   ]
  },
  {
   "cell_type": "markdown",
   "metadata": {},
   "source": [
    "\n",
    "2. Faça um programa que informe a data e a hora para o usuário. Para\n",
    "isso use a função datetime.now() do módulo datetime"
   ]
  },
  {
   "cell_type": "code",
   "execution_count": 4,
   "metadata": {},
   "outputs": [
    {
     "name": "stdout",
     "output_type": "stream",
     "text": [
      "2021-10-20 19:14:52.896744\n"
     ]
    }
   ],
   "source": [
    "import datetime\n",
    "print(datetime.datetime.now())"
   ]
  },
  {
   "cell_type": "code",
   "execution_count": null,
   "metadata": {},
   "outputs": [],
   "source": []
  }
 ],
 "metadata": {
  "kernelspec": {
   "display_name": "Python 3",
   "language": "python",
   "name": "python3"
  },
  "language_info": {
   "codemirror_mode": {
    "name": "ipython",
    "version": 3
   },
   "file_extension": ".py",
   "mimetype": "text/x-python",
   "name": "python",
   "nbconvert_exporter": "python",
   "pygments_lexer": "ipython3",
   "version": "3.8.8"
  }
 },
 "nbformat": 4,
 "nbformat_minor": 4
}
